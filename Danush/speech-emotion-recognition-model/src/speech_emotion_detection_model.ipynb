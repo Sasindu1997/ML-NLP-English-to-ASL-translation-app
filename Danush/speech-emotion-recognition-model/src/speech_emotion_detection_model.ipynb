{
 "cells": [
  {
   "cell_type": "code",
   "execution_count": null,
   "metadata": {
    "colab": {
     "base_uri": "https://localhost:8080/"
    },
    "id": "GyZGxlYFKEXf",
    "outputId": "d8cfdb54-0f01-4f96-81f7-8dd4cced68f9",
    "pycharm": {
     "name": "#%%\n"
    }
   },
   "outputs": [
    {
     "name": "stdout",
     "output_type": "stream",
     "text": [
      "Collecting np_utils\n",
      "  Downloading np_utils-0.6.0.tar.gz (61 kB)\n",
      "\u001B[?25l\r\u001B[K     |█████▎                          | 10 kB 23.7 MB/s eta 0:00:01\r\u001B[K     |██████████▋                     | 20 kB 11.3 MB/s eta 0:00:01\r\u001B[K     |███████████████▉                | 30 kB 7.4 MB/s eta 0:00:01\r\u001B[K     |█████████████████████▏          | 40 kB 7.5 MB/s eta 0:00:01\r\u001B[K     |██████████████████████████▍     | 51 kB 6.0 MB/s eta 0:00:01\r\u001B[K     |███████████████████████████████▊| 61 kB 7.0 MB/s eta 0:00:01\r\u001B[K     |████████████████████████████████| 61 kB 642 kB/s \n",
      "\u001B[?25hCollecting opendatasets\n",
      "  Downloading opendatasets-0.1.20-py3-none-any.whl (14 kB)\n",
      "Requirement already satisfied: numpy>=1.0 in /usr/local/lib/python3.7/dist-packages (from np_utils) (1.19.5)\n",
      "Requirement already satisfied: kaggle in /usr/local/lib/python3.7/dist-packages (from opendatasets) (1.5.12)\n",
      "Requirement already satisfied: tqdm in /usr/local/lib/python3.7/dist-packages (from opendatasets) (4.62.3)\n",
      "Requirement already satisfied: click in /usr/local/lib/python3.7/dist-packages (from opendatasets) (7.1.2)\n",
      "Requirement already satisfied: six>=1.10 in /usr/local/lib/python3.7/dist-packages (from kaggle->opendatasets) (1.15.0)\n",
      "Requirement already satisfied: requests in /usr/local/lib/python3.7/dist-packages (from kaggle->opendatasets) (2.23.0)\n",
      "Requirement already satisfied: urllib3 in /usr/local/lib/python3.7/dist-packages (from kaggle->opendatasets) (1.24.3)\n",
      "Requirement already satisfied: python-slugify in /usr/local/lib/python3.7/dist-packages (from kaggle->opendatasets) (5.0.2)\n",
      "Requirement already satisfied: python-dateutil in /usr/local/lib/python3.7/dist-packages (from kaggle->opendatasets) (2.8.2)\n",
      "Requirement already satisfied: certifi in /usr/local/lib/python3.7/dist-packages (from kaggle->opendatasets) (2021.10.8)\n",
      "Requirement already satisfied: text-unidecode>=1.3 in /usr/local/lib/python3.7/dist-packages (from python-slugify->kaggle->opendatasets) (1.3)\n",
      "Requirement already satisfied: chardet<4,>=3.0.2 in /usr/local/lib/python3.7/dist-packages (from requests->kaggle->opendatasets) (3.0.4)\n",
      "Requirement already satisfied: idna<3,>=2.5 in /usr/local/lib/python3.7/dist-packages (from requests->kaggle->opendatasets) (2.10)\n",
      "Building wheels for collected packages: np-utils\n",
      "  Building wheel for np-utils (setup.py) ... \u001B[?25l\u001B[?25hdone\n",
      "  Created wheel for np-utils: filename=np_utils-0.6.0-py3-none-any.whl size=56459 sha256=7d6e96a1da025f9a8b6fcf474042657a7b1eb5d6ab8b68deb42e4fc34508974f\n",
      "  Stored in directory: /root/.cache/pip/wheels/d2/83/71/a781667865955ae7dc18e5a4038401deb56d96eb85d3a5f1c0\n",
      "Successfully built np-utils\n",
      "Installing collected packages: opendatasets, np-utils\n",
      "Successfully installed np-utils-0.6.0 opendatasets-0.1.20\n"
     ]
    }
   ],
   "source": [
    "!pip install np_utils opendatasets"
   ]
  },
  {
   "cell_type": "code",
   "execution_count": null,
   "metadata": {
    "colab": {
     "base_uri": "https://localhost:8080/"
    },
    "id": "_9X3OKtJIYS7",
    "outputId": "7b84206b-94c5-4163-9aad-7e03214ce40c",
    "pycharm": {
     "name": "#%%\n"
    }
   },
   "outputs": [
    {
     "name": "stdout",
     "output_type": "stream",
     "text": [
      "2.7.0\n"
     ]
    }
   ],
   "source": [
    "import tensorflow as tf\n",
    "\n",
    "print(tf.__version__)"
   ]
  },
  {
   "cell_type": "code",
   "execution_count": null,
   "metadata": {
    "id": "ZOJpCmVqqB2I",
    "pycharm": {
     "name": "#%%\n"
    }
   },
   "outputs": [],
   "source": [
    "import pandas as pd\n",
    "import numpy as np\n",
    "\n",
    "import opendatasets as od\n",
    "import os\n",
    "import sys\n",
    "\n",
    "# librosa is a Python library for analyzing audio and music. It can be used to extract the data from the audio files we will see it later.\n",
    "import librosa\n",
    "import librosa.display\n",
    "import seaborn as sns\n",
    "import matplotlib.pyplot as plt\n",
    "import pathlib\n",
    "\n",
    "from sklearn.preprocessing import StandardScaler, OneHotEncoder\n",
    "from sklearn.metrics import confusion_matrix, classification_report\n",
    "from sklearn.model_selection import train_test_split\n",
    "\n",
    "# to play the audio files\n",
    "from IPython.display import Audio\n",
    "\n",
    "# from tensorflow import keras\n",
    "from tensorflow.keras.callbacks import ReduceLROnPlateau\n",
    "from tensorflow.keras.models import Sequential\n",
    "from tensorflow.keras.layers import Dense, Conv1D, MaxPooling1D, Flatten, Dropout, BatchNormalization\n",
    "from tensorflow.keras.utils import to_categorical\n",
    "from keras.utils import np_utils\n",
    "from tensorflow.keras.callbacks import ModelCheckpoint\n",
    "\n",
    "# import warnings\n",
    "# if not sys.warnoptions:\n",
    "#     warnings.simplefilter(\"ignore\")\n",
    "# warnings.filterwarnings(\"ignore\", category=DeprecationWarning)"
   ]
  },
  {
   "cell_type": "code",
   "execution_count": null,
   "metadata": {
    "colab": {
     "base_uri": "https://localhost:8080/"
    },
    "id": "9iW3Uc22R_43",
    "outputId": "86021d56-a732-4834-ffa0-f880c50419dd",
    "pycharm": {
     "name": "#%%\n"
    }
   },
   "outputs": [
    {
     "name": "stdout",
     "output_type": "stream",
     "text": [
      "ravdess-emotional-speech-audio\n",
      "/content/ravdess-emotional-speech-audio\n",
      "Please provide your Kaggle credentials to download this dataset. Learn more: http://bit.ly/kaggle-creds\n",
      "Your Kaggle username: dhanushaperera07\n",
      "Your Kaggle Key: ··········\n",
      "Downloading ravdess-emotional-speech-audio.zip to ./ravdess-emotional-speech-audio\n"
     ]
    },
    {
     "name": "stderr",
     "output_type": "stream",
     "text": [
      "100%|██████████| 429M/429M [00:03<00:00, 133MB/s]\n"
     ]
    },
    {
     "name": "stdout",
     "output_type": "stream",
     "text": [
      "\n"
     ]
    }
   ],
   "source": [
    "def download(url):\n",
    "  #preventing multiple downloads and unziping\n",
    "  folder_name = url.split(\"/\")[-1]\n",
    "  print(folder_name)\n",
    "  data_dir = os.path.join('/content',folder_name)\n",
    "  print(data_dir)\n",
    "  if os.path.isdir(data_dir):\n",
    "    print(\"Already Exists !\")\n",
    "    return\n",
    "  od.download(url)\n",
    "\n",
    "dataset_url = 'https://www.kaggle.com/uwrfkaggler/ravdess-emotional-speech-audio'\n",
    "download(dataset_url)"
   ]
  },
  {
   "cell_type": "code",
   "execution_count": null,
   "metadata": {
    "colab": {
     "base_uri": "https://localhost:8080/"
    },
    "id": "d7Uq41UfNPTQ",
    "outputId": "9f564b97-ee48-416c-f3ff-c613e09cd7d5",
    "pycharm": {
     "name": "#%%\n"
    }
   },
   "outputs": [
    {
     "name": "stdout",
     "output_type": "stream",
     "text": [
      "ravdess-emotional-speech-audio\tsample_data\n",
      "/content\n"
     ]
    }
   ],
   "source": [
    "!ls\n",
    "!pwd"
   ]
  },
  {
   "cell_type": "code",
   "execution_count": null,
   "metadata": {
    "id": "-uDNYKD0bRxA",
    "pycharm": {
     "name": "#%%\n"
    }
   },
   "outputs": [],
   "source": [
    "!cd /content"
   ]
  },
  {
   "cell_type": "code",
   "execution_count": null,
   "metadata": {
    "colab": {
     "base_uri": "https://localhost:8080/"
    },
    "id": "MetCXdD3bV26",
    "outputId": "79c4cd30-142e-4f3d-fa46-43709d75334d",
    "pycharm": {
     "name": "#%%\n"
    }
   },
   "outputs": [
    {
     "name": "stdout",
     "output_type": "stream",
     "text": [
      "ravdess-emotional-speech-audio\tsample_data\n",
      "/content\n"
     ]
    }
   ],
   "source": [
    "!ls\n",
    "!pwd"
   ]
  },
  {
   "cell_type": "code",
   "execution_count": null,
   "metadata": {
    "id": "Oqclz7_VaeWW",
    "pycharm": {
     "name": "#%%\n"
    }
   },
   "outputs": [],
   "source": [
    "!cd /content/ravdess-emotional-speech-audio"
   ]
  },
  {
   "cell_type": "code",
   "execution_count": null,
   "metadata": {
    "colab": {
     "base_uri": "https://localhost:8080/"
    },
    "id": "C2C5i4NYarUH",
    "outputId": "5673068f-1cad-4cb7-9069-93abb2e70339",
    "pycharm": {
     "name": "#%%\n"
    }
   },
   "outputs": [
    {
     "name": "stdout",
     "output_type": "stream",
     "text": [
      "ravdess-emotional-speech-audio\tsample_data\n",
      "/content\n"
     ]
    }
   ],
   "source": [
    "!ls\n",
    "!pwd"
   ]
  },
  {
   "cell_type": "code",
   "execution_count": null,
   "metadata": {
    "id": "FA4VRn7iTMK3",
    "pycharm": {
     "name": "#%%\n"
    }
   },
   "outputs": [],
   "source": [
    "# Paths for data.\n",
    "Ravdess = \"/content/ravdess-emotional-speech-audio/audio_speech_actors_01-24/\"\n"
   ]
  },
  {
   "cell_type": "code",
   "execution_count": null,
   "metadata": {
    "id": "xxurY5vKTbiH",
    "pycharm": {
     "name": "#%%\n"
    }
   },
   "outputs": [],
   "source": [
    "!cd /content/ravdess-emotional-speech-audio/audio_speech_actors_01-24"
   ]
  },
  {
   "cell_type": "code",
   "execution_count": null,
   "metadata": {
    "colab": {
     "base_uri": "https://localhost:8080/"
    },
    "id": "FntqkWyBTleA",
    "outputId": "18aa34af-ddf8-42fc-c7d2-3785cf00ee9b",
    "pycharm": {
     "name": "#%%\n"
    }
   },
   "outputs": [
    {
     "name": "stdout",
     "output_type": "stream",
     "text": [
      "ravdess-emotional-speech-audio\tsample_data\n",
      "/content\n"
     ]
    }
   ],
   "source": [
    "!ls\n",
    "!pwd"
   ]
  },
  {
   "cell_type": "markdown",
   "metadata": {
    "id": "lLsiggu7UCle",
    "pycharm": {
     "name": "#%% md\n"
    }
   },
   "source": [
    "## Revdess Dataset"
   ]
  },
  {
   "cell_type": "code",
   "execution_count": null,
   "metadata": {
    "colab": {
     "base_uri": "https://localhost:8080/"
    },
    "id": "iD0DTBB5WQJ3",
    "outputId": "9ae8960e-99b1-45a0-f7b2-30fff464c595",
    "pycharm": {
     "name": "#%%\n"
    }
   },
   "outputs": [
    {
     "name": "stdout",
     "output_type": "stream",
     "text": [
      "['Actor_20', 'Actor_11', 'Actor_13', 'Actor_10', 'Actor_12', 'Actor_07', 'Actor_16', 'Actor_03', 'Actor_18', 'Actor_05', 'Actor_24', 'Actor_02', 'Actor_04', 'Actor_19', 'Actor_01', 'Actor_14', 'Actor_09', 'Actor_22', 'Actor_23', 'Actor_15', 'Actor_06', 'Actor_17', 'Actor_21', 'Actor_08']\n"
     ]
    }
   ],
   "source": [
    "ravdess_directory_list = os.listdir(Ravdess)\n",
    "\n",
    "print(ravdess_directory_list)"
   ]
  },
  {
   "cell_type": "code",
   "execution_count": null,
   "metadata": {
    "colab": {
     "base_uri": "https://localhost:8080/",
     "height": 206
    },
    "id": "Hq4wRRuHUGEX",
    "outputId": "8490e99a-4597-4dd0-82c7-67749ad632ec",
    "pycharm": {
     "name": "#%%\n"
    }
   },
   "outputs": [
    {
     "data": {
      "text/html": [
       "\n",
       "  <div id=\"df-c0167775-2b04-473b-9285-b15f29a279fa\">\n",
       "    <div class=\"colab-df-container\">\n",
       "      <div>\n",
       "<style scoped>\n",
       "    .dataframe tbody tr th:only-of-type {\n",
       "        vertical-align: middle;\n",
       "    }\n",
       "\n",
       "    .dataframe tbody tr th {\n",
       "        vertical-align: top;\n",
       "    }\n",
       "\n",
       "    .dataframe thead th {\n",
       "        text-align: right;\n",
       "    }\n",
       "</style>\n",
       "<table border=\"1\" class=\"dataframe\">\n",
       "  <thead>\n",
       "    <tr style=\"text-align: right;\">\n",
       "      <th></th>\n",
       "      <th>Emotions</th>\n",
       "      <th>Path</th>\n",
       "    </tr>\n",
       "  </thead>\n",
       "  <tbody>\n",
       "    <tr>\n",
       "      <th>0</th>\n",
       "      <td>calm</td>\n",
       "      <td>/content/ravdess-emotional-speech-audio/audio_...</td>\n",
       "    </tr>\n",
       "    <tr>\n",
       "      <th>1</th>\n",
       "      <td>happy</td>\n",
       "      <td>/content/ravdess-emotional-speech-audio/audio_...</td>\n",
       "    </tr>\n",
       "    <tr>\n",
       "      <th>2</th>\n",
       "      <td>angry</td>\n",
       "      <td>/content/ravdess-emotional-speech-audio/audio_...</td>\n",
       "    </tr>\n",
       "    <tr>\n",
       "      <th>3</th>\n",
       "      <td>happy</td>\n",
       "      <td>/content/ravdess-emotional-speech-audio/audio_...</td>\n",
       "    </tr>\n",
       "    <tr>\n",
       "      <th>4</th>\n",
       "      <td>disgust</td>\n",
       "      <td>/content/ravdess-emotional-speech-audio/audio_...</td>\n",
       "    </tr>\n",
       "  </tbody>\n",
       "</table>\n",
       "</div>\n",
       "      <button class=\"colab-df-convert\" onclick=\"convertToInteractive('df-c0167775-2b04-473b-9285-b15f29a279fa')\"\n",
       "              title=\"Convert this dataframe to an interactive table.\"\n",
       "              style=\"display:none;\">\n",
       "        \n",
       "  <svg xmlns=\"http://www.w3.org/2000/svg\" height=\"24px\"viewBox=\"0 0 24 24\"\n",
       "       width=\"24px\">\n",
       "    <path d=\"M0 0h24v24H0V0z\" fill=\"none\"/>\n",
       "    <path d=\"M18.56 5.44l.94 2.06.94-2.06 2.06-.94-2.06-.94-.94-2.06-.94 2.06-2.06.94zm-11 1L8.5 8.5l.94-2.06 2.06-.94-2.06-.94L8.5 2.5l-.94 2.06-2.06.94zm10 10l.94 2.06.94-2.06 2.06-.94-2.06-.94-.94-2.06-.94 2.06-2.06.94z\"/><path d=\"M17.41 7.96l-1.37-1.37c-.4-.4-.92-.59-1.43-.59-.52 0-1.04.2-1.43.59L10.3 9.45l-7.72 7.72c-.78.78-.78 2.05 0 2.83L4 21.41c.39.39.9.59 1.41.59.51 0 1.02-.2 1.41-.59l7.78-7.78 2.81-2.81c.8-.78.8-2.07 0-2.86zM5.41 20L4 18.59l7.72-7.72 1.47 1.35L5.41 20z\"/>\n",
       "  </svg>\n",
       "      </button>\n",
       "      \n",
       "  <style>\n",
       "    .colab-df-container {\n",
       "      display:flex;\n",
       "      flex-wrap:wrap;\n",
       "      gap: 12px;\n",
       "    }\n",
       "\n",
       "    .colab-df-convert {\n",
       "      background-color: #E8F0FE;\n",
       "      border: none;\n",
       "      border-radius: 50%;\n",
       "      cursor: pointer;\n",
       "      display: none;\n",
       "      fill: #1967D2;\n",
       "      height: 32px;\n",
       "      padding: 0 0 0 0;\n",
       "      width: 32px;\n",
       "    }\n",
       "\n",
       "    .colab-df-convert:hover {\n",
       "      background-color: #E2EBFA;\n",
       "      box-shadow: 0px 1px 2px rgba(60, 64, 67, 0.3), 0px 1px 3px 1px rgba(60, 64, 67, 0.15);\n",
       "      fill: #174EA6;\n",
       "    }\n",
       "\n",
       "    [theme=dark] .colab-df-convert {\n",
       "      background-color: #3B4455;\n",
       "      fill: #D2E3FC;\n",
       "    }\n",
       "\n",
       "    [theme=dark] .colab-df-convert:hover {\n",
       "      background-color: #434B5C;\n",
       "      box-shadow: 0px 1px 3px 1px rgba(0, 0, 0, 0.15);\n",
       "      filter: drop-shadow(0px 1px 2px rgba(0, 0, 0, 0.3));\n",
       "      fill: #FFFFFF;\n",
       "    }\n",
       "  </style>\n",
       "\n",
       "      <script>\n",
       "        const buttonEl =\n",
       "          document.querySelector('#df-c0167775-2b04-473b-9285-b15f29a279fa button.colab-df-convert');\n",
       "        buttonEl.style.display =\n",
       "          google.colab.kernel.accessAllowed ? 'block' : 'none';\n",
       "\n",
       "        async function convertToInteractive(key) {\n",
       "          const element = document.querySelector('#df-c0167775-2b04-473b-9285-b15f29a279fa');\n",
       "          const dataTable =\n",
       "            await google.colab.kernel.invokeFunction('convertToInteractive',\n",
       "                                                     [key], {});\n",
       "          if (!dataTable) return;\n",
       "\n",
       "          const docLinkHtml = 'Like what you see? Visit the ' +\n",
       "            '<a target=\"_blank\" href=https://colab.research.google.com/notebooks/data_table.ipynb>data table notebook</a>'\n",
       "            + ' to learn more about interactive tables.';\n",
       "          element.innerHTML = '';\n",
       "          dataTable['output_type'] = 'display_data';\n",
       "          await google.colab.output.renderOutput(dataTable, element);\n",
       "          const docLink = document.createElement('div');\n",
       "          docLink.innerHTML = docLinkHtml;\n",
       "          element.appendChild(docLink);\n",
       "        }\n",
       "      </script>\n",
       "    </div>\n",
       "  </div>\n",
       "  "
      ],
      "text/plain": [
       "  Emotions                                               Path\n",
       "0     calm  /content/ravdess-emotional-speech-audio/audio_...\n",
       "1    happy  /content/ravdess-emotional-speech-audio/audio_...\n",
       "2    angry  /content/ravdess-emotional-speech-audio/audio_...\n",
       "3    happy  /content/ravdess-emotional-speech-audio/audio_...\n",
       "4  disgust  /content/ravdess-emotional-speech-audio/audio_..."
      ]
     },
     "execution_count": 14,
     "metadata": {},
     "output_type": "execute_result"
    }
   ],
   "source": [
    "ravdess_directory_list = os.listdir(Ravdess)\n",
    "\n",
    "file_emotion = []\n",
    "file_path = []\n",
    "for dir in ravdess_directory_list:\n",
    "    # as their are 20 different actors in our previous directory we need to extract files for each actor.\n",
    "    actor = os.listdir(os.path.join(Ravdess,dir))\n",
    "    for file in actor:\n",
    "        part = file.split('.')[0]\n",
    "        part = part.split('-')\n",
    "        # third part in each file represents the emotion associated to that file.\n",
    "        file_emotion.append(int(part[2]))\n",
    "        file_path.append(Ravdess + dir + '/' + file)\n",
    "        \n",
    "# dataframe for emotion of files\n",
    "emotion_df = pd.DataFrame(file_emotion, columns=['Emotions'])\n",
    "\n",
    "# dataframe for path of files.\n",
    "path_df = pd.DataFrame(file_path, columns=['Path'])\n",
    "Ravdess_df = pd.concat([emotion_df, path_df], axis=1)\n",
    "\n",
    "# changing integers to actual emotions.\n",
    "Ravdess_df.Emotions.replace({1:'neutral', 2:'calm', 3:'happy', 4:'sad', 5:'angry', 6:'fear', 7:'disgust', 8:'surprise'}, inplace=True)\n",
    "Ravdess_df.head()"
   ]
  },
  {
   "cell_type": "markdown",
   "metadata": {
    "id": "OSO6cgV_gOpJ",
    "pycharm": {
     "name": "#%% md\n"
    }
   },
   "source": [
    "## Crema Dataset"
   ]
  },
  {
   "cell_type": "code",
   "execution_count": null,
   "metadata": {
    "colab": {
     "base_uri": "https://localhost:8080/"
    },
    "id": "zt2j7hqTi4C_",
    "outputId": "56cbfe13-e373-48a1-82dc-2cd969d4f2e0",
    "pycharm": {
     "name": "#%%\n"
    }
   },
   "outputs": [
    {
     "name": "stdout",
     "output_type": "stream",
     "text": [
      "cremad\n",
      "/content/cremad\n",
      "Please provide your Kaggle credentials to download this dataset. Learn more: http://bit.ly/kaggle-creds\n",
      "Your Kaggle username: dhanushaperera07\n",
      "Your Kaggle Key: ··········\n",
      "Downloading cremad.zip to ./cremad\n"
     ]
    },
    {
     "name": "stderr",
     "output_type": "stream",
     "text": [
      "100%|██████████| 451M/451M [00:03<00:00, 156MB/s]\n"
     ]
    },
    {
     "name": "stdout",
     "output_type": "stream",
     "text": [
      "\n"
     ]
    }
   ],
   "source": [
    "dataset_url = 'https://www.kaggle.com/ejlok1/cremad'\n",
    "download(dataset_url)"
   ]
  },
  {
   "cell_type": "code",
   "execution_count": null,
   "metadata": {
    "id": "AjzUy8U2g5IY",
    "pycharm": {
     "name": "#%%\n"
    }
   },
   "outputs": [],
   "source": [
    "# Paths for data.\n",
    "Crema = \"/content/cremad/AudioWAV/\""
   ]
  },
  {
   "cell_type": "code",
   "execution_count": null,
   "metadata": {
    "colab": {
     "base_uri": "https://localhost:8080/"
    },
    "id": "4dthVzZ3hJc_",
    "outputId": "94ef725e-06ad-483d-ece3-1574b0216866",
    "pycharm": {
     "name": "#%%\n"
    }
   },
   "outputs": [
    {
     "name": "stdout",
     "output_type": "stream",
     "text": [
      "['1010_MTI_SAD_XX.wav', '1012_TIE_HAP_XX.wav', '1067_MTI_HAP_XX.wav', '1002_WSI_SAD_XX.wav', '1027_TAI_DIS_XX.wav', '1049_TSI_ANG_XX.wav', '1091_IOM_FEA_XX.wav', '1042_ITH_FEA_XX.wav', '1021_IEO_DIS_HI.wav', '1047_WSI_FEA_XX.wav', '1041_IOM_SAD_XX.wav', '1024_DFA_HAP_XX.wav', '1058_IWL_SAD_XX.wav', '1050_IWL_HAP_XX.wav', '1044_MTI_HAP_XX.wav', '1053_TAI_DIS_XX.wav', '1029_DFA_DIS_XX.wav', '1044_IWL_SAD_XX.wav', '1081_TAI_FEA_XX.wav', '1050_ITH_ANG_XX.wav', '1073_IEO_FEA_MD.wav', '1011_IEO_SAD_MD.wav', '1087_TAI_SAD_XX.wav', '1035_DFA_DIS_XX.wav', '1074_WSI_NEU_XX.wav', '1008_IOM_NEU_XX.wav', '1003_TIE_HAP_XX.wav', '1071_ITS_ANG_XX.wav', '1041_TAI_NEU_XX.wav', '1001_TSI_FEA_XX.wav', '1032_TAI_NEU_XX.wav', '1012_WSI_SAD_XX.wav', '1040_IEO_SAD_LO.wav', '1064_DFA_FEA_XX.wav', '1026_ITH_ANG_XX.wav', '1042_ITS_ANG_XX.wav', '1041_WSI_FEA_XX.wav', '1069_IWL_HAP_XX.wav', '1010_TSI_ANG_XX.wav', '1036_IEO_DIS_LO.wav', '1089_ITH_ANG_XX.wav', '1009_TIE_ANG_XX.wav', '1022_IWL_SAD_XX.wav', '1060_IEO_HAP_LO.wav', '1005_MTI_NEU_XX.wav', '1083_TAI_ANG_XX.wav', '1023_TAI_NEU_XX.wav', '1026_IEO_HAP_HI.wav', '1062_IOM_FEA_XX.wav', '1091_TAI_NEU_XX.wav', '1033_IOM_DIS_XX.wav', '1036_ITH_FEA_XX.wav', '1002_IWL_NEU_XX.wav', '1025_IEO_SAD_HI.wav', '1070_ITH_DIS_XX.wav', '1013_IWW_ANG_XX.wav', '1079_WSI_SAD_XX.wav', '1056_MTI_ANG_XX.wav', '1014_DFA_FEA_XX.wav', '1018_MTI_NEU_XX.wav', '1078_IEO_NEU_XX.wav', '1015_IEO_SAD_HI.wav', '1076_IWW_ANG_XX.wav', '1029_MTI_ANG_XX.wav', '1042_IWW_FEA_XX.wav', '1007_WSI_DIS_XX.wav', '1066_ITS_FEA_XX.wav', '1029_MTI_DIS_XX.wav', '1074_WSI_FEA_XX.wav', '1085_WSI_SAD_XX.wav', '1044_DFA_NEU_XX.wav', '1088_IOM_NEU_XX.wav', '1064_IEO_DIS_MD.wav', '1012_IEO_HAP_MD.wav', '1045_TIE_DIS_XX.wav', '1076_ITH_DIS_XX.wav', '1042_IEO_DIS_LO.wav', '1078_WSI_NEU_XX.wav', '1046_TIE_SAD_XX.wav', '1006_WSI_ANG_XX.wav', '1016_WSI_FEA_XX.wav', '1052_TSI_HAP_XX.wav', '1021_ITH_ANG_XX.wav', '1089_ITS_SAD_XX.wav', '1033_MTI_HAP_XX.wav', '1021_DFA_NEU_XX.wav', '1069_IWW_NEU_XX.wav', '1033_IWW_ANG_XX.wav', '1001_IWL_FEA_XX.wav', '1089_IEO_NEU_XX.wav', '1064_IWW_ANG_XX.wav', '1019_ITS_DIS_XX.wav', '1024_TSI_NEU_XX.wav', '1024_IWW_HAP_XX.wav', '1084_TIE_HAP_XX.wav', '1058_WSI_SAD_XX.wav', '1074_IEO_ANG_LO.wav', '1041_ITS_FEA_XX.wav', '1084_TAI_ANG_XX.wav', '1018_IEO_SAD_HI.wav', '1049_IOM_NEU_XX.wav', '1033_IEO_ANG_LO.wav', '1084_TIE_DIS_XX.wav', '1012_TIE_SAD_XX.wav', '1082_DFA_FEA_XX.wav', '1056_ITH_HAP_XX.wav', '1082_IEO_FEA_LO.wav', '1028_IWW_DIS_XX.wav', '1016_TSI_SAD_XX.wav', '1003_IWL_NEU_XX.wav', '1021_TSI_FEA_XX.wav', '1059_IEO_HAP_LO.wav', '1084_DFA_FEA_XX.wav', '1061_WSI_DIS_XX.wav', '1046_DFA_ANG_XX.wav', '1014_IEO_SAD_LO.wav', '1073_IOM_DIS_XX.wav', '1012_IEO_HAP_HI.wav', '1017_IEO_HAP_LO.wav', '1088_DFA_DIS_XX.wav', '1037_IEO_HAP_MD.wav', '1071_IWL_HAP_XX.wav', '1044_ITS_DIS_XX.wav', '1047_IEO_DIS_LO.wav', '1021_TIE_DIS_XX.wav', '1050_TSI_HAP_XX.wav', '1065_ITH_SAD_XX.wav', '1065_IWL_SAD_XX.wav', '1006_ITS_NEU_XX.wav', '1011_IEO_SAD_HI.wav', '1015_IEO_NEU_XX.wav', '1009_IWL_ANG_XX.wav', '1016_ITS_NEU_XX.wav', '1026_ITH_HAP_XX.wav', '1061_ITS_HAP_XX.wav', '1058_IEO_HAP_LO.wav', '1039_IEO_ANG_MD.wav', '1028_IWW_NEU_XX.wav', '1024_WSI_ANG_XX.wav', '1029_TSI_SAD_XX.wav', '1031_ITH_FEA_XX.wav', '1042_IEO_SAD_HI.wav', '1008_TAI_SAD_XX.wav', '1083_WSI_DIS_XX.wav', '1084_ITH_NEU_XX.wav', '1019_IEO_DIS_MD.wav', '1059_TSI_NEU_XX.wav', '1082_WSI_FEA_XX.wav', '1055_IOM_NEU_XX.wav', '1091_IWL_DIS_XX.wav', '1068_IEO_DIS_MD.wav', '1037_IEO_DIS_MD.wav', '1057_ITH_NEU_XX.wav', '1086_ITH_NEU_XX.wav', '1051_TIE_HAP_XX.wav', '1078_TIE_DIS_XX.wav', '1018_IEO_NEU_XX.wav', '1078_IWW_FEA_XX.wav', '1012_IEO_DIS_HI.wav', '1010_IWL_FEA_XX.wav', '1045_IEO_NEU_XX.wav', '1018_IWW_ANG_XX.wav', '1003_DFA_DIS_XX.wav', '1009_WSI_HAP_XX.wav', '1016_WSI_HAP_XX.wav', '1032_TSI_HAP_XX.wav', '1029_IEO_HAP_LO.wav', '1014_IOM_ANG_XX.wav', '1044_TSI_FEA_XX.wav', '1079_IOM_ANG_XX.wav', '1010_ITS_SAD_XX.wav', '1021_TIE_HAP_XX.wav', '1053_IEO_DIS_LO.wav', '1040_IEO_FEA_LO.wav', '1032_TIE_ANG_XX.wav', '1055_TIE_FEA_XX.wav', '1039_WSI_HAP_XX.wav', '1068_DFA_NEU_XX.wav', '1026_ITS_ANG_XX.wav', '1087_WSI_HAP_XX.wav', '1049_MTI_SAD_XX.wav', '1016_IEO_DIS_LO.wav', '1030_IEO_DIS_LO.wav', '1054_ITS_HAP_XX.wav', '1089_IWL_HAP_XX.wav', '1001_TSI_HAP_XX.wav', '1046_IOM_HAP_XX.wav', '1024_IEO_DIS_HI.wav', '1053_TIE_FEA_XX.wav', '1056_ITS_SAD_XX.wav', '1069_TSI_NEU_XX.wav', '1075_TSI_FEA_XX.wav', '1038_TIE_SAD_XX.wav', '1077_ITS_HAP_XX.wav', '1054_TAI_NEU_XX.wav', '1077_TAI_HAP_XX.wav', '1065_DFA_DIS_XX.wav', '1058_MTI_ANG_XX.wav', '1069_IEO_FEA_LO.wav', '1008_ITH_HAP_XX.wav', '1045_DFA_ANG_XX.wav', '1091_TIE_DIS_XX.wav', '1081_ITH_SAD_XX.wav', '1090_TAI_ANG_XX.wav', '1082_IWL_ANG_XX.wav', '1064_IEO_SAD_HI.wav', '1040_TIE_HAP_XX.wav', '1001_ITH_ANG_XX.wav', '1055_IWW_HAP_XX.wav', '1053_IEO_NEU_XX.wav', '1061_IOM_FEA_XX.wav', '1017_ITS_HAP_XX.wav', '1088_TAI_NEU_XX.wav', '1049_DFA_SAD_XX.wav', '1021_IWW_HAP_XX.wav', '1051_IWL_DIS_XX.wav', '1084_DFA_ANG_XX.wav', '1047_WSI_SAD_XX.wav', '1078_DFA_HAP_XX.wav', '1014_IWL_FEA_XX.wav', '1021_IEO_FEA_HI.wav', '1084_MTI_FEA_XX.wav', '1089_TIE_DIS_XX.wav', '1019_ITS_ANG_XX.wav', '1061_TIE_DIS_XX.wav', '1021_TAI_NEU_XX.wav', '1013_WSI_FEA_XX.wav', '1066_DFA_HAP_XX.wav', '1008_IEO_HAP_MD.wav', '1015_IEO_HAP_HI.wav', '1004_DFA_DIS_XX.wav', '1033_TSI_FEA_XX.wav', '1037_TSI_NEU_XX.wav', '1001_IWW_HAP_XX.wav', '1053_IWL_DIS_XX.wav', '1028_MTI_FEA_XX.wav', '1052_TAI_DIS_XX.wav', '1061_IWL_SAD_XX.wav', '1076_ITH_FEA_XX.wav', '1088_WSI_HAP_XX.wav', '1049_TSI_DIS_XX.wav', '1013_IWL_SAD_XX.wav', '1091_IEO_FEA_LO.wav', '1031_MTI_SAD_XX.wav', '1010_DFA_NEU_XX.wav', '1081_ITH_ANG_XX.wav', '1083_WSI_HAP_XX.wav', '1063_DFA_NEU_XX.wav', '1031_IOM_ANG_XX.wav', '1035_IOM_SAD_XX.wav', '1037_IEO_NEU_XX.wav', '1038_DFA_HAP_XX.wav', '1068_MTI_NEU_XX.wav', '1068_IOM_NEU_XX.wav', '1014_IEO_FEA_LO.wav', '1006_IEO_SAD_MD.wav', '1034_IOM_DIS_XX.wav', '1030_IEO_SAD_MD.wav', '1074_MTI_NEU_XX.wav', '1042_TSI_SAD_XX.wav', '1081_TSI_HAP_XX.wav', '1075_ITS_NEU_XX.wav', '1052_TIE_SAD_XX.wav', '1091_ITH_SAD_XX.wav', '1070_ITH_FEA_XX.wav', '1085_IEO_DIS_LO.wav', '1057_DFA_SAD_XX.wav', '1067_TIE_NEU_XX.wav', '1053_IEO_DIS_HI.wav', '1066_TIE_NEU_XX.wav', '1087_TAI_FEA_XX.wav', '1006_IEO_ANG_HI.wav', '1019_TIE_HAP_XX.wav', '1034_IOM_ANG_XX.wav', '1056_IEO_FEA_HI.wav', '1026_IWL_DIS_XX.wav', '1008_TIE_HAP_XX.wav', '1040_MTI_ANG_XX.wav', '1086_IEO_HAP_LO.wav', '1091_WSI_HAP_XX.wav', '1028_ITH_HAP_XX.wav', '1003_TAI_SAD_XX.wav', '1003_IEO_ANG_HI.wav', '1018_TSI_HAP_XX.wav', '1091_IWW_ANG_XX.wav', '1014_DFA_ANG_XX.wav', '1054_IWW_ANG_XX.wav', '1021_IEO_ANG_LO.wav', '1043_IEO_NEU_XX.wav', '1009_DFA_SAD_XX.wav', '1077_IWW_HAP_XX.wav', '1083_IEO_HAP_HI.wav', '1033_MTI_FEA_XX.wav', '1036_TAI_SAD_XX.wav', '1041_DFA_SAD_XX.wav', '1015_DFA_FEA_XX.wav', '1076_DFA_ANG_XX.wav', '1031_IWW_NEU_XX.wav', '1067_IWL_FEA_XX.wav', '1065_IWW_DIS_XX.wav', '1052_WSI_SAD_XX.wav', '1036_IOM_FEA_XX.wav', '1082_IEO_HAP_MD.wav', '1015_TIE_DIS_XX.wav', '1037_IEO_FEA_HI.wav', '1088_TAI_HAP_XX.wav', '1028_MTI_SAD_XX.wav', '1050_TAI_ANG_XX.wav', '1010_WSI_ANG_XX.wav', '1078_TIE_SAD_XX.wav', '1057_TIE_HAP_XX.wav', '1030_DFA_HAP_XX.wav', '1020_MTI_FEA_XX.wav', '1052_ITH_NEU_XX.wav', '1013_TIE_ANG_XX.wav', '1085_WSI_ANG_XX.wav', '1078_ITS_DIS_XX.wav', '1005_ITS_NEU_XX.wav', '1085_WSI_DIS_XX.wav', '1062_IOM_NEU_XX.wav', '1076_ITH_ANG_XX.wav', '1061_ITH_HAP_XX.wav', '1046_MTI_HAP_XX.wav', '1023_IWW_NEU_XX.wav', '1002_DFA_NEU_XX.wav', '1069_MTI_DIS_XX.wav', '1056_IEO_FEA_LO.wav', '1056_IEO_DIS_LO.wav', '1014_ITS_SAD_XX.wav', '1001_TIE_SAD_XX.wav', '1073_ITS_DIS_XX.wav', '1044_IOM_HAP_XX.wav', '1076_IEO_ANG_MD.wav', '1053_IWL_FEA_XX.wav', '1014_TSI_NEU_XX.wav', '1043_IOM_FEA_XX.wav', '1086_IWW_SAD_XX.wav', '1090_TAI_DIS_XX.wav', '1046_ITS_SAD_XX.wav', '1057_MTI_HAP_XX.wav', '1069_DFA_SAD_XX.wav', '1005_ITH_HAP_XX.wav', '1088_IEO_ANG_HI.wav', '1010_IOM_ANG_XX.wav', '1065_ITH_FEA_XX.wav', '1082_ITS_ANG_XX.wav', '1051_IEO_NEU_XX.wav', '1001_IEO_SAD_HI.wav', '1023_IEO_FEA_LO.wav', '1060_IEO_SAD_LO.wav', '1057_IEO_SAD_HI.wav', '1035_IWL_SAD_XX.wav', '1025_TSI_FEA_XX.wav', '1021_ITS_HAP_XX.wav', '1035_TSI_NEU_XX.wav', '1059_DFA_FEA_XX.wav', '1073_IEO_FEA_LO.wav', '1061_ITS_DIS_XX.wav', '1023_TAI_ANG_XX.wav', '1055_WSI_HAP_XX.wav', '1005_ITH_FEA_XX.wav', '1033_IEO_SAD_MD.wav', '1022_IOM_HAP_XX.wav', '1067_IOM_DIS_XX.wav', '1011_IEO_DIS_LO.wav', '1040_TIE_ANG_XX.wav', '1014_WSI_NEU_XX.wav', '1044_IWW_FEA_XX.wav', '1010_TIE_SAD_XX.wav', '1043_WSI_SAD_XX.wav', '1059_TIE_FEA_XX.wav', '1083_WSI_FEA_XX.wav', '1044_IWL_DIS_XX.wav', '1089_TAI_HAP_XX.wav', '1042_IWW_DIS_XX.wav', '1072_ITH_SAD_XX.wav', '1061_IEO_NEU_XX.wav', '1078_DFA_FEA_XX.wav', '1067_TAI_FEA_XX.wav', '1011_ITS_DIS_XX.wav', '1045_IEO_HAP_LO.wav', '1090_ITH_HAP_XX.wav', '1003_IWL_FEA_XX.wav', '1070_IWW_ANG_XX.wav', '1005_ITH_SAD_XX.wav', '1044_IEO_ANG_LO.wav', '1055_DFA_ANG_XX.wav', '1054_TAI_HAP_XX.wav', '1010_IWW_FEA_XX.wav', '1038_TAI_FEA_XX.wav', '1013_DFA_NEU_XX.wav', '1091_WSI_NEU_XX.wav', '1043_ITS_SAD_XX.wav', '1046_TSI_HAP_XX.wav', '1018_ITH_DIS_XX.wav', '1076_ITH_NEU_XX.wav', '1060_ITH_DIS_XX.wav', '1073_IEO_DIS_HI.wav', '1062_IEO_DIS_MD.wav', '1031_WSI_ANG_XX.wav', '1088_TSI_NEU_XX.wav', '1070_TAI_FEA_XX.wav', '1033_IWL_ANG_XX.wav', '1042_ITS_HAP_XX.wav', '1082_TIE_DIS_XX.wav', '1030_ITS_HAP_XX.wav', '1001_DFA_DIS_XX.wav', '1050_ITS_HAP_XX.wav', '1018_IOM_DIS_XX.wav', '1039_IWL_NEU_XX.wav', '1063_IEO_ANG_MD.wav', '1079_IWW_SAD_XX.wav', '1080_IWW_NEU_XX.wav', '1088_IWL_NEU_XX.wav', '1083_TSI_HAP_XX.wav', '1040_TIE_SAD_XX.wav', '1012_DFA_HAP_XX.wav', '1058_IOM_ANG_XX.wav', '1072_TIE_ANG_XX.wav', '1031_ITH_NEU_XX.wav', '1055_MTI_FEA_XX.wav', '1026_IOM_ANG_XX.wav', '1043_IEO_HAP_LO.wav', '1061_WSI_ANG_XX.wav', '1004_IEO_ANG_LO.wav', '1058_IWL_ANG_XX.wav', '1066_DFA_DIS_XX.wav', '1046_TSI_FEA_XX.wav', '1012_TSI_DIS_XX.wav', '1076_TSI_SAD_XX.wav', '1012_IWW_FEA_XX.wav', '1014_IEO_DIS_MD.wav', '1011_DFA_SAD_XX.wav', '1039_MTI_HAP_XX.wav', '1058_MTI_SAD_XX.wav', '1057_IEO_HAP_MD.wav', '1021_MTI_DIS_XX.wav', '1085_IEO_SAD_MD.wav', '1052_IEO_DIS_MD.wav', '1088_TIE_NEU_XX.wav', '1087_IEO_DIS_HI.wav', '1038_IOM_HAP_XX.wav', '1037_TAI_ANG_XX.wav', '1056_TAI_DIS_XX.wav', '1070_ITS_FEA_XX.wav', '1023_TAI_DIS_XX.wav', '1020_IEO_SAD_LO.wav', '1079_IEO_FEA_HI.wav', '1060_ITH_ANG_XX.wav', '1046_IEO_FEA_LO.wav', '1073_TSI_SAD_XX.wav', '1090_TSI_NEU_XX.wav', '1025_IEO_ANG_HI.wav', '1022_IOM_DIS_XX.wav', '1057_TIE_DIS_XX.wav', '1068_IOM_ANG_XX.wav', '1024_DFA_NEU_XX.wav', '1045_IEO_HAP_MD.wav', '1081_ITH_DIS_XX.wav', '1084_DFA_DIS_XX.wav', '1066_ITH_FEA_XX.wav', '1034_IEO_HAP_LO.wav', '1039_TAI_FEA_XX.wav', '1085_TIE_HAP_XX.wav', '1071_MTI_FEA_XX.wav', '1077_IEO_SAD_HI.wav', '1008_ITS_SAD_XX.wav', '1080_IEO_FEA_LO.wav', '1037_IEO_SAD_LO.wav', '1001_IWL_ANG_XX.wav', '1054_TIE_DIS_XX.wav', '1001_TAI_SAD_XX.wav', '1070_IOM_NEU_XX.wav', '1024_IEO_FEA_HI.wav', '1007_IWL_ANG_XX.wav', '1008_DFA_NEU_XX.wav', '1058_ITS_DIS_XX.wav', '1032_IWL_FEA_XX.wav', '1022_IWL_NEU_XX.wav', '1014_WSI_ANG_XX.wav', '1084_TSI_SAD_XX.wav', '1014_TSI_HAP_XX.wav', '1084_TSI_FEA_XX.wav', '1084_WSI_ANG_XX.wav', '1009_IEO_HAP_LO.wav', '1001_TSI_DIS_XX.wav', '1052_WSI_DIS_XX.wav', '1035_TAI_SAD_XX.wav', '1082_TAI_ANG_XX.wav', '1059_WSI_HAP_XX.wav', '1037_TSI_ANG_XX.wav', '1065_TIE_NEU_XX.wav', '1032_IEO_SAD_LO.wav', '1029_IEO_ANG_LO.wav', '1061_ITH_DIS_XX.wav', '1063_IWW_DIS_XX.wav', '1022_TAI_NEU_XX.wav', '1069_IOM_FEA_XX.wav', '1076_MTI_ANG_XX.wav', '1085_IWL_HAP_XX.wav', '1017_IWW_SAD_XX.wav', '1047_ITH_DIS_XX.wav', '1045_TSI_ANG_XX.wav', '1065_TSI_SAD_XX.wav', '1021_TIE_NEU_XX.wav', '1043_IEO_SAD_HI.wav', '1001_ITH_HAP_XX.wav', '1040_IWL_DIS_XX.wav', '1009_ITH_NEU_XX.wav', '1047_TSI_SAD_XX.wav', '1026_IEO_HAP_MD.wav', '1019_IWW_ANG_XX.wav', '1020_TIE_FEA_XX.wav', '1044_IEO_DIS_MD.wav', '1006_IEO_NEU_XX.wav', '1042_WSI_ANG_XX.wav', '1067_IEO_FEA_HI.wav', '1051_IOM_NEU_XX.wav', '1087_MTI_FEA_XX.wav', '1085_TAI_DIS_XX.wav', '1058_IEO_NEU_XX.wav', '1070_DFA_DIS_XX.wav', '1035_ITH_ANG_XX.wav', '1024_TIE_SAD_XX.wav', '1086_ITH_HAP_XX.wav', '1083_IEO_NEU_XX.wav', '1008_TAI_HAP_XX.wav', '1068_TIE_SAD_XX.wav', '1073_WSI_SAD_XX.wav', '1061_IWW_HAP_XX.wav', '1073_ITS_ANG_XX.wav', '1019_DFA_FEA_XX.wav', '1025_IOM_NEU_XX.wav', '1043_IEO_ANG_LO.wav', '1043_TSI_SAD_XX.wav', '1053_ITH_SAD_XX.wav', '1056_WSI_NEU_XX.wav', '1086_TSI_DIS_XX.wav', '1032_TIE_FEA_XX.wav', '1071_ITH_HAP_XX.wav', '1029_IEO_HAP_MD.wav', '1005_IWL_SAD_XX.wav', '1027_ITS_NEU_XX.wav', '1074_IWW_FEA_XX.wav', '1029_WSI_HAP_XX.wav', '1032_MTI_DIS_XX.wav', '1028_IOM_SAD_XX.wav', '1085_IWW_NEU_XX.wav', '1010_ITS_ANG_XX.wav', '1060_IEO_ANG_LO.wav', '1069_MTI_NEU_XX.wav', '1045_IWL_ANG_XX.wav', '1045_TIE_HAP_XX.wav', '1086_ITS_HAP_XX.wav', '1015_TAI_SAD_XX.wav', '1081_ITH_HAP_XX.wav', '1035_TSI_FEA_XX.wav', '1091_IEO_ANG_HI.wav', '1083_TIE_FEA_XX.wav', '1090_IOM_HAP_XX.wav', '1071_IWW_SAD_XX.wav', '1084_IWW_ANG_XX.wav', '1043_IOM_ANG_XX.wav', '1026_TSI_NEU_XX.wav', '1041_IOM_HAP_XX.wav', '1056_IEO_SAD_MD.wav', '1002_TSI_FEA_XX.wav', '1084_ITH_ANG_XX.wav', '1038_IEO_DIS_MD.wav', '1003_ITS_ANG_XX.wav', '1055_IWW_NEU_XX.wav', '1074_DFA_NEU_XX.wav', '1041_IWW_FEA_XX.wav', '1081_DFA_ANG_XX.wav', '1025_IEO_FEA_HI.wav', '1069_ITS_SAD_XX.wav', '1068_IWL_FEA_XX.wav', '1019_IWW_HAP_XX.wav', '1072_IEO_HAP_MD.wav', '1021_IEO_ANG_MD.wav', '1091_ITS_ANG_XX.wav', '1020_IOM_NEU_XX.wav', '1017_IOM_SAD_XX.wav', '1054_IOM_NEU_XX.wav', '1054_TIE_FEA_XX.wav', '1035_IEO_ANG_LO.wav', '1020_IWL_DIS_XX.wav', '1055_IOM_SAD_XX.wav', '1056_IEO_ANG_MD.wav', '1066_IOM_ANG_XX.wav', '1046_ITH_DIS_XX.wav', '1028_TIE_NEU_XX.wav', '1081_IOM_DIS_XX.wav', '1033_ITS_SAD_XX.wav', '1068_IEO_SAD_MD.wav', '1041_ITS_ANG_XX.wav', '1015_WSI_HAP_XX.wav', '1031_TIE_ANG_XX.wav', '1017_IEO_SAD_HI.wav', '1010_IEO_ANG_HI.wav', '1006_MTI_FEA_XX.wav', '1065_TIE_FEA_XX.wav', '1071_IEO_ANG_HI.wav', '1035_WSI_NEU_XX.wav', '1078_IEO_HAP_LO.wav', '1078_IEO_DIS_MD.wav', '1011_IWW_HAP_XX.wav', '1039_IEO_HAP_LO.wav', '1045_ITH_FEA_XX.wav', '1089_IEO_SAD_LO.wav', '1017_WSI_FEA_XX.wav', '1004_DFA_ANG_XX.wav', '1012_IEO_FEA_LO.wav', '1023_ITH_DIS_XX.wav', '1065_TAI_NEU_XX.wav', '1017_TIE_DIS_XX.wav', '1029_TSI_ANG_XX.wav', '1067_ITH_FEA_XX.wav', '1073_IOM_ANG_XX.wav', '1086_ITS_DIS_XX.wav', '1018_TAI_SAD_XX.wav', '1042_IOM_DIS_XX.wav', '1011_ITS_HAP_XX.wav', '1081_IEO_DIS_LO.wav', '1017_ITH_FEA_XX.wav', '1051_IEO_DIS_HI.wav', '1020_WSI_SAD_XX.wav', '1009_IEO_HAP_HI.wav', '1019_IWL_ANG_XX.wav', '1015_ITH_FEA_XX.wav', '1015_IEO_FEA_HI.wav', '1006_IEO_ANG_LO.wav', '1025_IWW_FEA_XX.wav', '1025_IOM_DIS_XX.wav', '1080_ITS_NEU_XX.wav', '1002_DFA_SAD_XX.wav', '1078_IOM_SAD_XX.wav', '1081_IWL_FEA_XX.wav', '1035_IOM_FEA_XX.wav', '1013_DFA_FEA_XX.wav', '1013_IOM_ANG_XX.wav', '1027_TSI_ANG_XX.wav', '1035_IEO_DIS_HI.wav', '1048_TSI_SAD_XX.wav', '1038_IWL_FEA_XX.wav', '1089_TSI_NEU_XX.wav', '1071_DFA_NEU_XX.wav', '1026_DFA_NEU_XX.wav', '1061_TAI_HAP_XX.wav', '1001_IOM_FEA_XX.wav', '1043_TAI_ANG_XX.wav', '1004_ITS_FEA_XX.wav', '1088_IWW_HAP_XX.wav', '1068_ITH_ANG_XX.wav', '1079_TIE_NEU_XX.wav', '1023_DFA_HAP_XX.wav', '1036_ITS_ANG_XX.wav', '1075_TIE_SAD_XX.wav', '1057_IEO_ANG_MD.wav', '1007_DFA_SAD_XX.wav', '1061_MTI_DIS_XX.wav', '1080_ITS_DIS_XX.wav', '1013_DFA_HAP_XX.wav', '1020_MTI_DIS_XX.wav', '1068_WSI_ANG_XX.wav', '1054_IWL_SAD_XX.wav', '1052_IEO_ANG_HI.wav', '1003_IWW_FEA_XX.wav', '1006_DFA_SAD_XX.wav', '1089_IEO_ANG_LO.wav', '1079_IEO_DIS_HI.wav', '1051_WSI_FEA_XX.wav', '1004_MTI_ANG_XX.wav', '1049_IEO_DIS_LO.wav', '1044_TSI_ANG_XX.wav', '1016_IWL_HAP_XX.wav', '1077_WSI_FEA_XX.wav', '1087_IOM_NEU_XX.wav', '1025_TAI_FEA_XX.wav', '1042_IOM_SAD_XX.wav', '1083_IEO_DIS_MD.wav', '1014_ITS_DIS_XX.wav', '1078_TSI_ANG_XX.wav', '1032_WSI_SAD_XX.wav', '1039_TIE_SAD_XX.wav', '1030_IWL_HAP_XX.wav', '1080_IEO_DIS_HI.wav', '1029_TAI_HAP_XX.wav', '1045_DFA_NEU_XX.wav', '1015_IWL_HAP_XX.wav', '1042_DFA_NEU_XX.wav', '1057_IEO_FEA_LO.wav', '1044_IOM_FEA_XX.wav', '1022_WSI_DIS_XX.wav', '1030_MTI_SAD_XX.wav', '1075_IEO_NEU_XX.wav', '1029_ITH_DIS_XX.wav', '1066_IEO_SAD_MD.wav', '1008_TIE_DIS_XX.wav', '1005_TAI_FEA_XX.wav', '1007_IWL_FEA_XX.wav', '1089_IEO_FEA_HI.wav', '1026_MTI_NEU_XX.wav', '1079_ITH_ANG_XX.wav', '1006_ITH_SAD_XX.wav', '1020_TAI_FEA_XX.wav', '1026_IEO_DIS_HI.wav', '1013_TIE_FEA_XX.wav', '1011_TAI_SAD_XX.wav', '1025_WSI_ANG_XX.wav', '1042_IWL_HAP_XX.wav', '1042_TAI_FEA_XX.wav', '1034_MTI_HAP_XX.wav', '1088_IEO_DIS_HI.wav', '1037_DFA_SAD_XX.wav', '1073_TIE_NEU_XX.wav', '1066_ITH_SAD_XX.wav', '1074_IWL_HAP_XX.wav', '1090_ITH_SAD_XX.wav', '1074_IWW_NEU_XX.wav', '1036_IEO_SAD_HI.wav', '1063_IEO_FEA_MD.wav', '1086_IWL_FEA_XX.wav', '1060_ITS_DIS_XX.wav', '1011_IOM_HAP_XX.wav', '1085_IWW_HAP_XX.wav', '1067_IEO_SAD_HI.wav', '1052_IWL_FEA_XX.wav', '1066_WSI_DIS_XX.wav', '1044_IEO_ANG_HI.wav', '1024_IOM_DIS_XX.wav', '1027_MTI_SAD_XX.wav', '1015_IEO_HAP_MD.wav', '1078_ITS_NEU_XX.wav', '1001_MTI_DIS_XX.wav', '1049_DFA_NEU_XX.wav', '1009_WSI_NEU_XX.wav', '1072_ITS_ANG_XX.wav', '1005_TIE_FEA_XX.wav', '1054_TIE_HAP_XX.wav', '1086_IEO_ANG_MD.wav', '1030_IEO_SAD_HI.wav', '1020_IWW_NEU_XX.wav', '1041_IWW_SAD_XX.wav', '1050_TSI_ANG_XX.wav', '1012_IEO_ANG_HI.wav', '1061_IEO_FEA_MD.wav', '1007_IEO_SAD_MD.wav', '1086_MTI_FEA_XX.wav', '1033_ITH_HAP_XX.wav', '1023_IWW_FEA_XX.wav', '1072_DFA_NEU_XX.wav', '1024_IWL_HAP_XX.wav', '1025_TSI_DIS_XX.wav', '1079_ITS_NEU_XX.wav', '1043_DFA_HAP_XX.wav', '1032_ITH_SAD_XX.wav', '1006_DFA_HAP_XX.wav', '1077_MTI_DIS_XX.wav', '1030_TSI_DIS_XX.wav', '1058_IOM_HAP_XX.wav', '1091_IWL_FEA_XX.wav', '1047_TSI_HAP_XX.wav', '1042_ITS_NEU_XX.wav', '1044_IWL_ANG_XX.wav', '1017_IEO_DIS_LO.wav', '1026_TIE_NEU_XX.wav', '1039_IOM_HAP_XX.wav', '1002_IEO_HAP_MD.wav', '1030_IEO_DIS_HI.wav', '1029_IEO_FEA_HI.wav', '1025_MTI_HAP_XX.wav', '1057_IWL_NEU_XX.wav', '1018_TIE_FEA_XX.wav', '1085_IEO_ANG_HI.wav', '1033_IWW_HAP_XX.wav', '1038_IEO_HAP_HI.wav', '1044_WSI_FEA_XX.wav', '1008_MTI_NEU_XX.wav', '1015_IWW_NEU_XX.wav', '1022_DFA_HAP_XX.wav', '1043_WSI_NEU_XX.wav', '1039_ITS_DIS_XX.wav', '1024_IEO_ANG_HI.wav', '1062_IWL_HAP_XX.wav', '1084_DFA_NEU_XX.wav', '1020_ITH_ANG_XX.wav', '1060_IWL_NEU_XX.wav', '1036_ITS_NEU_XX.wav', '1001_IOM_NEU_XX.wav', '1067_ITH_DIS_XX.wav', '1030_IOM_ANG_XX.wav', '1062_TAI_HAP_XX.wav', '1032_IEO_ANG_LO.wav', '1080_IEO_DIS_MD.wav', '1030_IEO_ANG_LO.wav', '1064_TIE_NEU_XX.wav', '1023_IEO_FEA_HI.wav', '1045_ITS_SAD_XX.wav', '1007_MTI_NEU_XX.wav', '1057_DFA_ANG_XX.wav', '1057_TAI_SAD_XX.wav', '1052_IEO_DIS_LO.wav', '1066_TAI_NEU_XX.wav', '1055_TIE_ANG_XX.wav', '1060_TIE_DIS_XX.wav', '1004_ITH_HAP_XX.wav', '1026_IEO_NEU_XX.wav', '1050_WSI_NEU_XX.wav', '1024_IWL_NEU_XX.wav', '1013_TAI_ANG_XX.wav', '1042_TIE_SAD_XX.wav', '1055_ITH_FEA_XX.wav', '1033_IWW_FEA_XX.wav', '1022_IEO_ANG_LO.wav', '1005_IWW_HAP_XX.wav', '1070_TSI_DIS_XX.wav', '1036_IEO_ANG_MD.wav', '1032_ITH_HAP_XX.wav', '1023_ITH_NEU_XX.wav', '1028_IEO_ANG_LO.wav', '1052_IEO_NEU_XX.wav', '1056_IEO_DIS_HI.wav', '1059_IEO_FEA_MD.wav', '1058_DFA_ANG_XX.wav', '1003_IEO_DIS_HI.wav', '1056_IEO_HAP_HI.wav', '1048_IOM_ANG_XX.wav', '1032_ITS_FEA_XX.wav', '1012_TIE_DIS_XX.wav', '1045_IWW_HAP_XX.wav', '1086_TAI_HAP_XX.wav', '1005_IEO_NEU_XX.wav', '1011_IOM_SAD_XX.wav', '1023_ITH_SAD_XX.wav', '1058_ITH_DIS_XX.wav', '1074_IOM_HAP_XX.wav', '1085_TSI_HAP_XX.wav', '1063_ITS_FEA_XX.wav', '1040_ITS_DIS_XX.wav', '1089_IEO_FEA_MD.wav', '1059_TSI_ANG_XX.wav', '1005_IEO_DIS_MD.wav', '1044_IEO_FEA_HI.wav', '1011_IEO_HAP_HI.wav', '1004_IEO_FEA_HI.wav', '1046_MTI_SAD_XX.wav', '1002_IEO_FEA_LO.wav', '1013_WSI_SAD_XX.wav', '1029_WSI_ANG_XX.wav', '1077_TAI_FEA_XX.wav', '1028_IWW_HAP_XX.wav', '1006_IWL_DIS_XX.wav', '1084_ITS_DIS_XX.wav', '1049_IOM_ANG_XX.wav', '1046_ITH_NEU_XX.wav', '1006_IEO_ANG_MD.wav', '1045_WSI_FEA_XX.wav', '1046_MTI_FEA_XX.wav', '1083_TSI_NEU_XX.wav', '1047_TIE_ANG_XX.wav', '1050_IWL_FEA_XX.wav', '1082_IEO_SAD_MD.wav', '1068_IOM_DIS_XX.wav', '1076_IEO_FEA_HI.wav', '1039_IWL_FEA_XX.wav', '1016_IWW_HAP_XX.wav', '1056_IWW_SAD_XX.wav', '1008_IWL_FEA_XX.wav', '1074_IEO_ANG_MD.wav', '1037_IEO_ANG_MD.wav', '1044_TIE_HAP_XX.wav', '1053_MTI_FEA_XX.wav', '1039_IEO_DIS_LO.wav', '1025_IOM_HAP_XX.wav', '1089_IWL_NEU_XX.wav', '1041_ITS_DIS_XX.wav', '1023_IWL_FEA_XX.wav', '1048_IEO_HAP_MD.wav', '1017_IWL_NEU_XX.wav', '1028_IWW_FEA_XX.wav', '1049_TSI_SAD_XX.wav', '1017_IEO_FEA_HI.wav', '1025_IWW_SAD_XX.wav', '1037_MTI_FEA_XX.wav', '1033_IEO_NEU_XX.wav', '1046_TAI_ANG_XX.wav', '1090_IOM_ANG_XX.wav', '1059_TIE_HAP_XX.wav', '1068_IEO_FEA_MD.wav', '1079_TIE_ANG_XX.wav', '1031_ITS_DIS_XX.wav', '1002_TIE_HAP_XX.wav', '1049_WSI_HAP_XX.wav', '1076_IOM_DIS_XX.wav', '1049_TIE_ANG_XX.wav', '1018_ITS_SAD_XX.wav', '1034_IOM_NEU_XX.wav', '1065_WSI_NEU_XX.wav', '1015_IEO_FEA_LO.wav', '1005_DFA_NEU_XX.wav', '1002_IWL_HAP_XX.wav', '1008_IEO_DIS_HI.wav', '1012_TSI_NEU_XX.wav', '1025_TAI_HAP_XX.wav', '1063_IOM_HAP_XX.wav', '1027_IEO_SAD_LO.wav', '1088_ITS_FEA_XX.wav', '1055_DFA_SAD_XX.wav', '1019_TAI_HAP_XX.wav', '1062_WSI_NEU_XX.wav', '1017_WSI_HAP_XX.wav', '1021_TSI_NEU_XX.wav', '1036_ITS_DIS_XX.wav', '1010_IWL_ANG_XX.wav', '1067_IWL_DIS_XX.wav', '1053_DFA_ANG_XX.wav', '1033_IEO_FEA_LO.wav', '1061_DFA_ANG_XX.wav', '1054_TIE_ANG_XX.wav', '1014_WSI_SAD_XX.wav', '1067_TAI_SAD_XX.wav', '1079_IWW_ANG_XX.wav', '1023_WSI_HAP_XX.wav', '1074_ITH_FEA_XX.wav', '1090_IEO_FEA_HI.wav', '1084_MTI_ANG_XX.wav', '1052_MTI_DIS_XX.wav', '1048_ITS_NEU_XX.wav', '1022_DFA_ANG_XX.wav', '1052_TIE_DIS_XX.wav', '1031_TSI_DIS_XX.wav', '1009_ITS_DIS_XX.wav', '1080_IWL_SAD_XX.wav', '1086_DFA_ANG_XX.wav', '1033_IEO_DIS_LO.wav', '1004_IEO_HAP_HI.wav', '1034_TAI_FEA_XX.wav', '1067_TAI_NEU_XX.wav', '1031_WSI_FEA_XX.wav', '1075_DFA_NEU_XX.wav', '1070_TIE_SAD_XX.wav', '1017_IEO_FEA_LO.wav', '1016_TIE_ANG_XX.wav', '1001_MTI_FEA_XX.wav', '1069_IWW_FEA_XX.wav', '1048_WSI_FEA_XX.wav', '1032_TSI_ANG_XX.wav', '1057_TAI_HAP_XX.wav', '1075_IEO_DIS_LO.wav', '1047_TIE_SAD_XX.wav', '1032_IEO_HAP_LO.wav', '1024_IWL_ANG_XX.wav', '1006_IWL_SAD_XX.wav', '1078_TIE_ANG_XX.wav', '1057_TSI_SAD_XX.wav', '1003_IOM_FEA_XX.wav', '1020_IOM_SAD_XX.wav', '1044_IOM_DIS_XX.wav', '1004_TSI_ANG_XX.wav', '1033_IEO_DIS_MD.wav', '1074_IEO_ANG_HI.wav', '1042_TIE_DIS_XX.wav', '1013_IEO_ANG_MD.wav', '1007_IOM_FEA_XX.wav', '1008_TSI_FEA_XX.wav', '1048_IOM_SAD_XX.wav', '1067_ITS_FEA_XX.wav', '1059_IOM_FEA_XX.wav', '1063_IOM_NEU_XX.wav', '1015_DFA_DIS_XX.wav', '1040_IWW_ANG_XX.wav', '1041_DFA_DIS_XX.wav', '1065_IWW_FEA_XX.wav', '1067_IWW_NEU_XX.wav', '1035_MTI_ANG_XX.wav', '1054_IEO_HAP_MD.wav', '1008_IEO_DIS_MD.wav', '1006_IWL_ANG_XX.wav', '1035_TAI_HAP_XX.wav', '1024_ITS_FEA_XX.wav', '1018_IEO_ANG_MD.wav', '1075_IEO_DIS_MD.wav', '1051_IEO_ANG_LO.wav', '1082_IEO_HAP_HI.wav', '1036_IWW_ANG_XX.wav', '1060_IEO_HAP_HI.wav', '1005_IEO_HAP_HI.wav', '1006_ITS_SAD_XX.wav', '1089_IOM_NEU_XX.wav', '1023_ITS_ANG_XX.wav', '1003_IWW_ANG_XX.wav', '1061_IWL_HAP_XX.wav', '1087_IEO_HAP_LO.wav', '1070_IEO_SAD_LO.wav', '1066_ITH_DIS_XX.wav', '1087_MTI_SAD_XX.wav', '1080_DFA_NEU_XX.wav', '1038_TIE_FEA_XX.wav', '1009_IEO_DIS_LO.wav', '1012_ITS_SAD_XX.wav', '1060_TAI_ANG_XX.wav', '1053_MTI_HAP_XX.wav', '1071_ITS_SAD_XX.wav', '1030_DFA_NEU_XX.wav', '1087_TIE_FEA_XX.wav', '1020_TAI_NEU_XX.wav', '1020_IWL_ANG_XX.wav', '1047_IEO_DIS_MD.wav', '1021_IEO_DIS_MD.wav', '1027_MTI_NEU_XX.wav', '1064_IEO_FEA_LO.wav', '1056_IEO_SAD_HI.wav', '1076_TIE_DIS_XX.wav', '1006_ITH_NEU_XX.wav', '1061_IEO_SAD_HI.wav', '1018_IOM_ANG_XX.wav', '1075_DFA_SAD_XX.wav', '1001_IWW_FEA_XX.wav', '1078_ITS_ANG_XX.wav', '1004_DFA_SAD_XX.wav', '1056_IWL_NEU_XX.wav', '1044_IEO_HAP_MD.wav', '1020_DFA_DIS_XX.wav', '1047_IEO_NEU_XX.wav', '1002_IWW_DIS_XX.wav', '1030_IWW_DIS_XX.wav', '1003_TIE_DIS_XX.wav', '1038_IWL_HAP_XX.wav', '1080_TIE_DIS_XX.wav', '1010_DFA_DIS_XX.wav', '1043_ITS_ANG_XX.wav', '1072_IWL_HAP_XX.wav', '1037_IWW_ANG_XX.wav', '1070_IEO_DIS_LO.wav', '1027_DFA_FEA_XX.wav', '1055_WSI_NEU_XX.wav', '1023_ITS_NEU_XX.wav', '1053_WSI_NEU_XX.wav', '1058_TIE_ANG_XX.wav', '1069_TIE_ANG_XX.wav', '1012_ITS_HAP_XX.wav', '1008_IEO_SAD_LO.wav', '1009_TIE_SAD_XX.wav', '1043_ITH_HAP_XX.wav', '1035_IEO_HAP_LO.wav', '1090_IWW_NEU_XX.wav', '1045_IEO_HAP_HI.wav', '1036_TSI_SAD_XX.wav', '1087_WSI_ANG_XX.wav', '1029_DFA_SAD_XX.wav', '1019_DFA_ANG_XX.wav', '1018_ITH_ANG_XX.wav', '1083_ITS_ANG_XX.wav', '1028_IOM_FEA_XX.wav', '1004_IWW_SAD_XX.wav', '1052_MTI_SAD_XX.wav', '1032_IWL_SAD_XX.wav', '1005_MTI_FEA_XX.wav', '1088_IOM_FEA_XX.wav', '1052_IWW_NEU_XX.wav', '1030_TSI_SAD_XX.wav', '1087_IWL_ANG_XX.wav', '1091_ITH_ANG_XX.wav', '1043_ITH_SAD_XX.wav', '1088_IEO_DIS_LO.wav', '1043_IWW_SAD_XX.wav', '1011_TIE_DIS_XX.wav', '1073_IEO_FEA_HI.wav', '1037_TAI_SAD_XX.wav', '1034_WSI_ANG_XX.wav', '1039_MTI_ANG_XX.wav', '1023_IEO_HAP_HI.wav', '1035_IEO_DIS_LO.wav', '1018_ITH_NEU_XX.wav', '1039_MTI_FEA_XX.wav', '1077_IEO_DIS_MD.wav', '1056_IOM_ANG_XX.wav', '1009_IWW_ANG_XX.wav', '1090_IWL_DIS_XX.wav', '1009_IEO_ANG_HI.wav', '1038_TAI_DIS_XX.wav', '1022_ITS_ANG_XX.wav', '1068_TAI_NEU_XX.wav', '1061_IWW_SAD_XX.wav', '1031_DFA_DIS_XX.wav', '1026_TAI_DIS_XX.wav', '1087_IEO_HAP_MD.wav', '1028_TAI_HAP_XX.wav', '1087_TIE_ANG_XX.wav', '1028_ITH_SAD_XX.wav', '1017_DFA_NEU_XX.wav', '1069_IEO_DIS_HI.wav', '1030_IEO_FEA_HI.wav', '1057_ITH_ANG_XX.wav', '1062_IWW_DIS_XX.wav', '1065_MTI_DIS_XX.wav', '1031_TSI_ANG_XX.wav', '1043_TIE_SAD_XX.wav', '1047_ITH_ANG_XX.wav', '1055_TSI_FEA_XX.wav', '1080_ITH_SAD_XX.wav', '1031_IOM_HAP_XX.wav', '1078_ITH_ANG_XX.wav', '1067_TIE_HAP_XX.wav', '1038_IEO_ANG_HI.wav', '1040_IEO_HAP_HI.wav', '1083_TAI_DIS_XX.wav', '1048_IEO_ANG_LO.wav', '1044_IWW_SAD_XX.wav', '1028_IEO_DIS_LO.wav', '1013_WSI_DIS_XX.wav', '1020_IEO_DIS_HI.wav', '1039_TIE_HAP_XX.wav', '1065_TAI_DIS_XX.wav', '1004_IOM_DIS_XX.wav', '1036_TSI_FEA_XX.wav', '1059_ITS_SAD_XX.wav', '1016_TSI_DIS_XX.wav', '1004_ITS_HAP_XX.wav', '1074_ITS_HAP_XX.wav', '1068_IWL_HAP_XX.wav', '1018_MTI_ANG_XX.wav', '1040_IOM_DIS_XX.wav', '1070_IEO_HAP_MD.wav', '1065_IOM_HAP_XX.wav', '1027_TSI_FEA_XX.wav', '1020_ITS_DIS_XX.wav', '1020_ITH_FEA_XX.wav', '1039_IOM_SAD_XX.wav', '1044_TSI_NEU_XX.wav', '1091_TAI_ANG_XX.wav', '1082_IWW_NEU_XX.wav', '1023_IOM_SAD_XX.wav', '1016_TAI_DIS_XX.wav', '1035_IEO_FEA_MD.wav', '1035_IEO_SAD_HI.wav', '1029_IWW_FEA_XX.wav', '1044_WSI_NEU_XX.wav', '1083_IWL_FEA_XX.wav', '1013_IEO_SAD_LO.wav', '1068_IEO_DIS_LO.wav', '1040_DFA_DIS_XX.wav', '1088_IWL_DIS_XX.wav', '1007_TSI_ANG_XX.wav', '1029_ITS_NEU_XX.wav', '1019_WSI_ANG_XX.wav', '1061_IEO_DIS_HI.wav', '1056_IEO_DIS_MD.wav', '1075_TAI_HAP_XX.wav', '1040_IEO_NEU_XX.wav', '1027_IWL_NEU_XX.wav', '1042_IWL_ANG_XX.wav', '1083_IEO_FEA_HI.wav', '1025_IWL_DIS_XX.wav', '1039_ITH_FEA_XX.wav', '1051_TSI_FEA_XX.wav', '1032_IEO_HAP_HI.wav', '1042_TSI_NEU_XX.wav', '1063_DFA_ANG_XX.wav', '1011_IEO_FEA_MD.wav', '1067_IWW_FEA_XX.wav', '1019_ITS_NEU_XX.wav', '1090_TSI_ANG_XX.wav', '1004_TIE_DIS_XX.wav', '1014_ITH_FEA_XX.wav', '1046_IWL_NEU_XX.wav', '1037_TAI_DIS_XX.wav', '1051_TIE_ANG_XX.wav', '1076_IEO_DIS_HI.wav', '1030_DFA_FEA_XX.wav', '1049_WSI_DIS_XX.wav', '1021_TIE_FEA_XX.wav', '1046_IEO_SAD_MD.wav', '1011_MTI_ANG_XX.wav', '1013_ITH_FEA_XX.wav', '1038_TAI_HAP_XX.wav', '1013_IWL_ANG_XX.wav', '1071_ITH_DIS_XX.wav', '1018_WSI_HAP_XX.wav', '1031_DFA_SAD_XX.wav', '1060_MTI_SAD_XX.wav', '1055_IEO_ANG_MD.wav', '1087_ITH_DIS_XX.wav', '1039_IEO_DIS_MD.wav', '1087_ITS_HAP_XX.wav', '1006_TIE_SAD_XX.wav', '1049_TAI_ANG_XX.wav', '1080_IEO_DIS_LO.wav', '1002_DFA_HAP_XX.wav', '1091_MTI_NEU_XX.wav', '1082_DFA_DIS_XX.wav', '1086_IEO_FEA_LO.wav', '1037_IOM_NEU_XX.wav', '1023_IWW_ANG_XX.wav', '1067_DFA_ANG_XX.wav', '1084_IWW_SAD_XX.wav', '1091_IEO_SAD_HI.wav', '1045_IEO_DIS_LO.wav', '1049_TSI_HAP_XX.wav', '1082_IEO_ANG_LO.wav', '1011_TAI_HAP_XX.wav', '1007_IEO_HAP_MD.wav', '1069_IWL_SAD_XX.wav', '1023_IEO_SAD_HI.wav', '1090_ITH_NEU_XX.wav', '1065_IWW_HAP_XX.wav', '1046_IEO_SAD_LO.wav', '1002_IEO_ANG_MD.wav', '1022_IWW_NEU_XX.wav', '1060_TIE_HAP_XX.wav', '1002_WSI_ANG_XX.wav', '1072_TAI_DIS_XX.wav', '1063_MTI_DIS_XX.wav', '1071_TSI_DIS_XX.wav', '1036_IWW_FEA_XX.wav', '1090_IEO_ANG_LO.wav', '1020_IOM_DIS_XX.wav', '1071_ITS_DIS_XX.wav', '1024_IOM_ANG_XX.wav', '1032_IWW_ANG_XX.wav', '1037_TAI_HAP_XX.wav', '1066_WSI_SAD_XX.wav', '1091_TSI_ANG_XX.wav', '1051_DFA_SAD_XX.wav', '1048_DFA_HAP_XX.wav', '1035_ITH_NEU_XX.wav', '1011_IEO_NEU_XX.wav', '1050_ITS_ANG_XX.wav', '1042_IWW_NEU_XX.wav', '1010_MTI_HAP_XX.wav', '1034_ITH_SAD_XX.wav', '1064_ITS_FEA_XX.wav', '1072_IWL_NEU_XX.wav', '1091_IWW_HAP_XX.wav', '1089_TAI_DIS_XX.wav', '1054_TAI_FEA_XX.wav', '1050_ITS_NEU_XX.wav', '1048_ITH_ANG_XX.wav', '1034_IEO_DIS_MD.wav', '1068_ITH_NEU_XX.wav', '1026_IWW_ANG_XX.wav', '1015_ITH_DIS_XX.wav', '1028_DFA_ANG_XX.wav', '1056_IOM_SAD_XX.wav', '1016_IEO_FEA_HI.wav', '1066_IWL_DIS_XX.wav', '1026_IOM_HAP_XX.wav', '1027_ITS_ANG_XX.wav', '1091_DFA_SAD_XX.wav', '1086_IEO_DIS_LO.wav', '1064_IOM_NEU_XX.wav', '1014_IWL_SAD_XX.wav', '1003_DFA_NEU_XX.wav', '1084_ITS_ANG_XX.wav', '1021_WSI_NEU_XX.wav', '1071_MTI_HAP_XX.wav', '1012_IEO_FEA_HI.wav', '1078_IEO_FEA_MD.wav', '1078_IWL_HAP_XX.wav', '1034_ITS_DIS_XX.wav', '1019_ITS_HAP_XX.wav', '1032_IWW_HAP_XX.wav', '1087_WSI_NEU_XX.wav', '1057_IOM_NEU_XX.wav', '1079_MTI_DIS_XX.wav', '1040_IEO_DIS_LO.wav', '1018_TSI_ANG_XX.wav', '1064_WSI_NEU_XX.wav', '1006_IEO_HAP_LO.wav', '1080_IWW_HAP_XX.wav', '1010_MTI_ANG_XX.wav', '1008_IEO_ANG_LO.wav', '1017_DFA_SAD_XX.wav', '1013_ITH_NEU_XX.wav', '1089_IWL_ANG_XX.wav', '1050_TIE_FEA_XX.wav', '1044_MTI_SAD_XX.wav', '1044_IEO_HAP_HI.wav', '1041_ITS_NEU_XX.wav', '1045_IWL_HAP_XX.wav', '1050_ITS_SAD_XX.wav', '1043_IOM_HAP_XX.wav', '1012_IEO_DIS_MD.wav', '1073_WSI_HAP_XX.wav', '1065_ITS_SAD_XX.wav', '1086_WSI_NEU_XX.wav', '1017_ITH_DIS_XX.wav', '1070_IOM_HAP_XX.wav', '1040_IWL_NEU_XX.wav', '1040_MTI_SAD_XX.wav', '1022_IEO_ANG_MD.wav', '1005_IEO_ANG_HI.wav', '1049_WSI_ANG_XX.wav', '1035_IEO_ANG_HI.wav', '1055_IEO_SAD_LO.wav', '1029_TIE_NEU_XX.wav', '1004_IEO_SAD_LO.wav', '1009_ITH_ANG_XX.wav', '1036_IEO_HAP_LO.wav', '1081_IOM_FEA_XX.wav', '1003_TAI_DIS_XX.wav', '1033_IOM_HAP_XX.wav', '1034_IWL_DIS_XX.wav', '1007_MTI_DIS_XX.wav', '1006_IEO_HAP_HI.wav', '1007_IOM_HAP_XX.wav', '1043_MTI_ANG_XX.wav', '1082_MTI_NEU_XX.wav', '1011_TAI_ANG_XX.wav', '1017_TSI_HAP_XX.wav', '1013_IEO_DIS_MD.wav', '1003_IWL_ANG_XX.wav', '1086_TSI_HAP_XX.wav', '1039_ITS_SAD_XX.wav', '1030_MTI_DIS_XX.wav', '1003_TIE_SAD_XX.wav', '1016_WSI_ANG_XX.wav', '1044_ITS_NEU_XX.wav', '1086_TIE_DIS_XX.wav', '1006_IEO_HAP_MD.wav', '1087_TIE_NEU_XX.wav', '1067_IEO_DIS_MD.wav', '1064_IEO_ANG_LO.wav', '1033_ITS_ANG_XX.wav', '1018_TAI_DIS_XX.wav', '1001_ITH_FEA_XX.wav', '1090_IWL_FEA_XX.wav', '1049_IEO_ANG_HI.wav', '1077_IWL_HAP_XX.wav', '1038_TIE_ANG_XX.wav', '1007_DFA_DIS_XX.wav', '1036_IOM_NEU_XX.wav', '1046_IOM_FEA_XX.wav', '1053_TAI_HAP_XX.wav', '1049_TIE_NEU_XX.wav', '1001_TIE_FEA_XX.wav', '1042_IEO_SAD_MD.wav', '1036_IWL_DIS_XX.wav', '1027_IEO_ANG_LO.wav', '1046_IWW_ANG_XX.wav', '1077_ITH_DIS_XX.wav', '1006_IWW_ANG_XX.wav', '1041_TIE_DIS_XX.wav', '1055_IEO_DIS_MD.wav', '1046_TAI_SAD_XX.wav', '1015_TIE_NEU_XX.wav', '1077_IOM_SAD_XX.wav', '1024_TIE_FEA_XX.wav', '1009_TSI_ANG_XX.wav', '1022_TIE_ANG_XX.wav', '1022_WSI_FEA_XX.wav', '1079_ITH_DIS_XX.wav', '1005_DFA_HAP_XX.wav', '1015_IEO_DIS_LO.wav', '1041_WSI_ANG_XX.wav', '1084_IEO_NEU_XX.wav', '1035_IWL_HAP_XX.wav', '1067_ITS_HAP_XX.wav', '1088_TAI_SAD_XX.wav', '1018_MTI_SAD_XX.wav', '1071_TSI_ANG_XX.wav', '1069_WSI_SAD_XX.wav', '1001_IWW_DIS_XX.wav', '1038_IEO_SAD_LO.wav', '1034_TAI_HAP_XX.wav', '1072_ITH_ANG_XX.wav', '1063_TIE_FEA_XX.wav', '1052_ITH_SAD_XX.wav', '1042_IEO_FEA_HI.wav', '1054_WSI_SAD_XX.wav', '1016_MTI_NEU_XX.wav', '1010_ITS_DIS_XX.wav', '1038_ITH_DIS_XX.wav', '1049_TAI_SAD_XX.wav', '1075_TSI_SAD_XX.wav', '1065_IEO_DIS_LO.wav', '1016_IEO_HAP_MD.wav', '1040_WSI_DIS_XX.wav', '1089_IEO_HAP_LO.wav', '1030_TSI_HAP_XX.wav', '1028_TSI_FEA_XX.wav', '1050_DFA_FEA_XX.wav', '1091_IEO_DIS_HI.wav', '1028_ITS_ANG_XX.wav', '1019_IEO_FEA_MD.wav', '1049_ITH_NEU_XX.wav', '1090_WSI_HAP_XX.wav', '1040_IEO_FEA_HI.wav', '1005_TAI_DIS_XX.wav', '1041_TIE_NEU_XX.wav', '1054_ITH_SAD_XX.wav', '1062_IEO_FEA_MD.wav', '1058_IOM_SAD_XX.wav', '1059_TIE_ANG_XX.wav', '1016_ITH_ANG_XX.wav', '1030_TSI_FEA_XX.wav', '1035_IEO_DIS_MD.wav', '1029_IOM_SAD_XX.wav', '1013_TIE_HAP_XX.wav', '1001_TIE_ANG_XX.wav', '1080_IOM_DIS_XX.wav', '1008_TSI_HAP_XX.wav', '1066_TSI_ANG_XX.wav', '1053_DFA_FEA_XX.wav', '1062_IWL_DIS_XX.wav', '1040_TSI_HAP_XX.wav', '1034_TIE_SAD_XX.wav', '1039_IWL_HAP_XX.wav', '1088_IWW_DIS_XX.wav', '1088_WSI_NEU_XX.wav', '1040_ITH_NEU_XX.wav', '1017_TIE_FEA_XX.wav', '1041_IEO_ANG_HI.wav', '1019_IOM_HAP_XX.wav', '1062_WSI_ANG_XX.wav', '1055_IEO_HAP_LO.wav', '1066_MTI_NEU_XX.wav', '1016_TAI_FEA_XX.wav', '1039_MTI_NEU_XX.wav', '1060_IWW_NEU_XX.wav', '1008_ITS_HAP_XX.wav', '1005_IWW_SAD_XX.wav', '1085_IOM_DIS_XX.wav', '1046_ITS_DIS_XX.wav', '1071_TAI_NEU_XX.wav', '1088_IWW_FEA_XX.wav', '1008_IOM_FEA_XX.wav', '1032_IEO_FEA_LO.wav', '1040_ITH_DIS_XX.wav', '1066_IOM_SAD_XX.wav', '1025_TIE_FEA_XX.wav', '1014_MTI_ANG_XX.wav', '1033_IWL_FEA_XX.wav', '1063_IEO_SAD_LO.wav', '1071_IEO_HAP_HI.wav', '1082_ITH_SAD_XX.wav', '1032_TIE_NEU_XX.wav', '1077_IEO_SAD_LO.wav', '1063_TAI_ANG_XX.wav', '1073_IWL_NEU_XX.wav', '1036_MTI_FEA_XX.wav', '1063_TIE_SAD_XX.wav', '1085_IEO_FEA_HI.wav', '1004_WSI_FEA_XX.wav', '1011_IEO_ANG_MD.wav', '1008_DFA_ANG_XX.wav', '1002_IWL_SAD_XX.wav', '1053_TIE_DIS_XX.wav', '1070_TAI_SAD_XX.wav', '1055_ITS_SAD_XX.wav', '1047_IEO_SAD_HI.wav', '1072_TSI_FEA_XX.wav', '1011_WSI_NEU_XX.wav', '1059_DFA_SAD_XX.wav', '1072_DFA_ANG_XX.wav', '1064_IEO_ANG_HI.wav', '1087_IEO_SAD_HI.wav', '1004_MTI_DIS_XX.wav', '1081_IEO_FEA_LO.wav', '1056_TIE_FEA_XX.wav', '1006_WSI_DIS_XX.wav', '1031_TSI_HAP_XX.wav', '1076_TIE_HAP_XX.wav', '1068_IEO_SAD_LO.wav', '1080_TSI_HAP_XX.wav', '1029_IWL_HAP_XX.wav', '1005_WSI_SAD_XX.wav', '1089_IWW_SAD_XX.wav', '1026_TAI_HAP_XX.wav', '1082_TSI_NEU_XX.wav', '1057_TIE_ANG_XX.wav', '1015_ITH_NEU_XX.wav', '1067_ITH_SAD_XX.wav', '1076_IEO_HAP_LO.wav', '1075_TAI_SAD_XX.wav', '1046_ITS_NEU_XX.wav', '1075_WSI_NEU_XX.wav', '1022_MTI_NEU_XX.wav', '1057_TSI_FEA_XX.wav', '1068_IEO_HAP_HI.wav', '1087_TIE_SAD_XX.wav', '1030_ITH_SAD_XX.wav', '1018_IEO_FEA_LO.wav', '1060_IEO_HAP_MD.wav', '1059_ITS_NEU_XX.wav', '1059_IEO_HAP_HI.wav', '1012_DFA_FEA_XX.wav', '1067_IEO_SAD_MD.wav', '1027_DFA_SAD_XX.wav', '1011_DFA_DIS_XX.wav', '1090_IOM_DIS_XX.wav', '1039_IWW_DIS_XX.wav', '1055_ITH_DIS_XX.wav', '1041_TIE_HAP_XX.wav', '1001_IOM_SAD_XX.wav', '1010_IEO_SAD_MD.wav', '1024_IEO_ANG_LO.wav', '1038_ITS_ANG_XX.wav', '1016_IOM_NEU_XX.wav', '1084_ITS_HAP_XX.wav', '1003_TAI_NEU_XX.wav', '1020_ITS_SAD_XX.wav', '1051_TSI_HAP_XX.wav', '1040_IWL_HAP_XX.wav', '1074_TIE_DIS_XX.wav', '1089_TSI_SAD_XX.wav', '1090_TIE_HAP_XX.wav', '1030_DFA_ANG_XX.wav', '1050_ITH_NEU_XX.wav', '1010_TAI_NEU_XX.wav', '1042_ITS_DIS_XX.wav', '1003_IOM_ANG_XX.wav', '1084_IEO_ANG_HI.wav', '1078_TAI_HAP_XX.wav', '1071_TSI_HAP_XX.wav', '1088_ITS_NEU_XX.wav', '1006_TSI_ANG_XX.wav', '1081_IEO_FEA_HI.wav', '1044_IEO_FEA_LO.wav', '1077_ITH_ANG_XX.wav', '1037_IWL_FEA_XX.wav', '1032_IEO_DIS_MD.wav', '1058_IEO_ANG_MD.wav', '1057_IEO_ANG_HI.wav', '1055_IEO_FEA_LO.wav', '1050_MTI_ANG_XX.wav', '1083_TIE_SAD_XX.wav', '1075_IEO_SAD_LO.wav', '1082_MTI_HAP_XX.wav', '1063_ITS_SAD_XX.wav', '1043_TSI_DIS_XX.wav', '1068_ITS_FEA_XX.wav', '1005_TIE_DIS_XX.wav', '1059_MTI_FEA_XX.wav', '1061_WSI_NEU_XX.wav', '1070_IWL_DIS_XX.wav', '1082_DFA_SAD_XX.wav', '1058_IOM_FEA_XX.wav', '1079_ITS_SAD_XX.wav', '1022_TSI_FEA_XX.wav', '1074_WSI_ANG_XX.wav', '1090_ITS_HAP_XX.wav', '1030_ITH_DIS_XX.wav', '1039_TAI_ANG_XX.wav', '1024_IWL_DIS_XX.wav', '1036_IWL_SAD_XX.wav', '1024_WSI_SAD_XX.wav', '1053_IWW_DIS_XX.wav', '1031_TSI_SAD_XX.wav', '1030_ITH_FEA_XX.wav', '1050_DFA_DIS_XX.wav', '1081_TAI_NEU_XX.wav', '1090_IWW_HAP_XX.wav', '1047_TIE_DIS_XX.wav', '1017_ITH_HAP_XX.wav', '1082_IEO_SAD_LO.wav', '1070_WSI_NEU_XX.wav', '1005_IWW_FEA_XX.wav', '1056_TIE_SAD_XX.wav', '1073_TSI_NEU_XX.wav', '1041_MTI_FEA_XX.wav', '1040_TAI_ANG_XX.wav', '1077_ITH_SAD_XX.wav', '1005_TIE_NEU_XX.wav', '1041_TAI_HAP_XX.wav', '1064_MTI_SAD_XX.wav', '1054_WSI_NEU_XX.wav', '1078_DFA_DIS_XX.wav', '1089_ITS_DIS_XX.wav', '1025_IWL_SAD_XX.wav', '1019_MTI_SAD_XX.wav', '1058_IWL_FEA_XX.wav', '1038_IWL_ANG_XX.wav', '1034_IEO_SAD_LO.wav', '1024_ITS_SAD_XX.wav', '1062_TSI_FEA_XX.wav', '1010_TSI_HAP_XX.wav', '1080_IOM_ANG_XX.wav', '1025_IEO_DIS_LO.wav', '1021_TIE_ANG_XX.wav', '1032_IEO_FEA_HI.wav', '1007_IOM_NEU_XX.wav', '1042_IEO_HAP_LO.wav', '1084_IEO_ANG_LO.wav', '1004_IWW_FEA_XX.wav', '1064_IEO_DIS_HI.wav', '1077_IEO_HAP_LO.wav', '1033_WSI_HAP_XX.wav', '1005_IWL_HAP_XX.wav', '1022_TAI_HAP_XX.wav', '1048_ITH_FEA_XX.wav', '1024_ITH_ANG_XX.wav', '1029_TSI_DIS_XX.wav', '1090_IEO_FEA_LO.wav', '1029_ITH_HAP_XX.wav', '1079_ITH_SAD_XX.wav', '1008_ITS_ANG_XX.wav', '1085_ITS_DIS_XX.wav', '1044_IEO_SAD_HI.wav', '1001_IEO_SAD_LO.wav', '1022_ITH_FEA_XX.wav', '1051_TAI_ANG_XX.wav', '1037_TSI_SAD_XX.wav', '1032_DFA_NEU_XX.wav', '1062_IEO_FEA_LO.wav', '1065_WSI_SAD_XX.wav', '1020_DFA_FEA_XX.wav', '1091_IEO_DIS_MD.wav', '1038_IEO_FEA_LO.wav', '1028_IEO_FEA_HI.wav', '1065_ITS_HAP_XX.wav', '1028_TSI_ANG_XX.wav', '1055_DFA_FEA_XX.wav', '1069_TAI_SAD_XX.wav', '1072_IEO_FEA_LO.wav', '1021_TIE_SAD_XX.wav', '1089_IOM_ANG_XX.wav', '1011_ITS_FEA_XX.wav', '1055_IWW_ANG_XX.wav', '1053_TAI_FEA_XX.wav', '1062_IEO_ANG_HI.wav', '1076_ITH_SAD_XX.wav', '1012_IWW_ANG_XX.wav', '1043_WSI_DIS_XX.wav', '1057_TIE_NEU_XX.wav', '1086_DFA_HAP_XX.wav', '1035_TIE_DIS_XX.wav', '1076_IWL_SAD_XX.wav', '1008_TIE_SAD_XX.wav', '1001_IEO_HAP_HI.wav', '1064_IWL_DIS_XX.wav', '1083_TAI_HAP_XX.wav', '1064_IEO_FEA_MD.wav', '1085_IOM_SAD_XX.wav', '1054_ITH_HAP_XX.wav', '1051_ITS_FEA_XX.wav', '1052_IWL_NEU_XX.wav', '1047_WSI_DIS_XX.wav', '1031_IEO_SAD_MD.wav', '1031_IEO_FEA_MD.wav', '1027_IEO_ANG_HI.wav', '1075_IOM_ANG_XX.wav', '1034_ITH_HAP_XX.wav', '1016_IEO_ANG_MD.wav', '1026_IWW_DIS_XX.wav', '1004_ITS_SAD_XX.wav', '1026_DFA_ANG_XX.wav', '1055_MTI_NEU_XX.wav', '1090_ITS_FEA_XX.wav', '1039_WSI_SAD_XX.wav', '1065_IOM_NEU_XX.wav', '1040_TSI_FEA_XX.wav', '1065_TIE_SAD_XX.wav', '1081_TIE_FEA_XX.wav', '1084_IOM_FEA_XX.wav', '1071_DFA_DIS_XX.wav', '1070_IWL_ANG_XX.wav', '1071_IEO_HAP_LO.wav', '1028_MTI_DIS_XX.wav', '1085_ITH_SAD_XX.wav', '1078_ITS_SAD_XX.wav', '1091_TAI_DIS_XX.wav', '1032_IWL_HAP_XX.wav', '1053_IEO_FEA_LO.wav', '1079_TAI_FEA_XX.wav', '1011_IEO_SAD_LO.wav', '1030_DFA_SAD_XX.wav', '1043_TIE_HAP_XX.wav', '1087_DFA_FEA_XX.wav', '1073_TIE_SAD_XX.wav', '1067_TIE_ANG_XX.wav', '1065_TSI_FEA_XX.wav', '1088_WSI_ANG_XX.wav', '1029_IWL_DIS_XX.wav', '1054_DFA_DIS_XX.wav', '1088_IEO_ANG_MD.wav', '1023_IEO_SAD_MD.wav', '1079_IOM_FEA_XX.wav', '1014_TAI_FEA_XX.wav', '1004_WSI_ANG_XX.wav', '1090_TIE_SAD_XX.wav', '1060_IEO_NEU_XX.wav', '1027_IEO_SAD_MD.wav', '1042_ITH_NEU_XX.wav', '1068_TSI_SAD_XX.wav', '1070_IWL_SAD_XX.wav', '1042_DFA_FEA_XX.wav', '1040_TIE_NEU_XX.wav', '1016_IWW_ANG_XX.wav', '1072_MTI_SAD_XX.wav', '1085_IEO_SAD_LO.wav', '1014_TIE_HAP_XX.wav', '1063_IWL_SAD_XX.wav', '1032_MTI_ANG_XX.wav', '1090_MTI_NEU_XX.wav', '1088_IEO_SAD_MD.wav', '1062_DFA_HAP_XX.wav', '1089_IEO_FEA_LO.wav', '1064_TAI_SAD_XX.wav', '1036_TAI_DIS_XX.wav', '1054_IWW_SAD_XX.wav', '1047_TSI_FEA_XX.wav', '1086_IEO_DIS_HI.wav', '1075_IOM_DIS_XX.wav', '1044_ITH_SAD_XX.wav', '1010_ITH_HAP_XX.wav', '1033_ITH_NEU_XX.wav', '1040_TAI_FEA_XX.wav', '1031_MTI_NEU_XX.wav', '1090_IWL_SAD_XX.wav', '1068_TAI_SAD_XX.wav', '1005_IWW_NEU_XX.wav', '1058_ITH_ANG_XX.wav', '1080_IOM_NEU_XX.wav', '1008_TAI_DIS_XX.wav', '1075_ITH_ANG_XX.wav', '1090_IOM_NEU_XX.wav', '1058_ITS_SAD_XX.wav', '1081_TSI_ANG_XX.wav', '1045_ITH_SAD_XX.wav', '1066_IEO_HAP_LO.wav', '1005_TIE_ANG_XX.wav', '1088_WSI_DIS_XX.wav', '1003_DFA_ANG_XX.wav', '1046_ITS_FEA_XX.wav', '1006_TAI_NEU_XX.wav', '1066_MTI_FEA_XX.wav', '1048_MTI_DIS_XX.wav', '1061_IEO_SAD_LO.wav', '1030_TSI_NEU_XX.wav', '1069_DFA_DIS_XX.wav', '1061_DFA_DIS_XX.wav', '1071_IEO_ANG_MD.wav', '1062_IEO_ANG_LO.wav', '1060_IOM_NEU_XX.wav', '1017_IWW_ANG_XX.wav', '1018_WSI_SAD_XX.wav', '1068_WSI_HAP_XX.wav', '1075_DFA_HAP_XX.wav', '1034_TIE_DIS_XX.wav', '1063_MTI_HAP_XX.wav', '1007_IWW_ANG_XX.wav', '1021_IEO_SAD_LO.wav', '1008_MTI_FEA_XX.wav', '1002_IEO_HAP_LO.wav', '1040_IOM_HAP_XX.wav', '1028_IWL_DIS_XX.wav', '1050_IOM_HAP_XX.wav', '1027_IOM_ANG_XX.wav', '1005_IOM_FEA_XX.wav', '1017_TAI_SAD_XX.wav', '1011_MTI_SAD_XX.wav', '1052_IEO_SAD_HI.wav', '1016_IEO_HAP_HI.wav', '1058_IWW_HAP_XX.wav', '1037_ITS_NEU_XX.wav', '1033_ITS_NEU_XX.wav', '1015_IEO_ANG_HI.wav', '1050_MTI_NEU_XX.wav', '1043_TIE_DIS_XX.wav', '1005_IOM_NEU_XX.wav', '1054_DFA_FEA_XX.wav', '1058_IEO_SAD_MD.wav', '1043_ITH_DIS_XX.wav', '1057_TAI_NEU_XX.wav', '1081_TAI_ANG_XX.wav', '1048_DFA_SAD_XX.wav', '1085_TSI_NEU_XX.wav', '1020_TAI_DIS_XX.wav', '1077_ITH_HAP_XX.wav', '1016_TAI_NEU_XX.wav', '1042_IEO_SAD_LO.wav', '1006_MTI_SAD_XX.wav', '1051_DFA_NEU_XX.wav', '1064_IOM_DIS_XX.wav', '1001_ITH_SAD_XX.wav', '1067_MTI_DIS_XX.wav', '1040_IWL_ANG_XX.wav', '1036_TSI_NEU_XX.wav', '1051_IEO_HAP_HI.wav', '1009_IWL_HAP_XX.wav', '1070_IEO_HAP_HI.wav', '1015_IWL_NEU_XX.wav', '1048_IEO_FEA_LO.wav', '1043_IWL_SAD_XX.wav', '1072_IWW_HAP_XX.wav', '1050_TSI_DIS_XX.wav', '1016_IEO_FEA_MD.wav', '1001_DFA_NEU_XX.wav', '1057_WSI_SAD_XX.wav', '1006_IEO_DIS_HI.wav', '1027_TAI_SAD_XX.wav', '1071_WSI_ANG_XX.wav', '1015_IEO_FEA_MD.wav', '1037_TSI_DIS_XX.wav', '1015_TAI_HAP_XX.wav', '1063_TAI_SAD_XX.wav', '1076_IEO_SAD_MD.wav', '1018_MTI_DIS_XX.wav', '1040_TAI_DIS_XX.wav', '1084_TIE_SAD_XX.wav', '1072_MTI_NEU_XX.wav', '1076_IEO_ANG_HI.wav', '1055_TAI_DIS_XX.wav', '1084_WSI_HAP_XX.wav', '1024_IOM_HAP_XX.wav', '1035_IWL_NEU_XX.wav', '1076_IEO_SAD_HI.wav', '1085_ITS_ANG_XX.wav', '1016_IOM_FEA_XX.wav', '1090_IWL_ANG_XX.wav', '1028_IEO_FEA_MD.wav', '1058_TSI_SAD_XX.wav', '1033_IEO_FEA_HI.wav', '1056_ITH_FEA_XX.wav', '1068_IEO_HAP_LO.wav', '1084_IEO_SAD_HI.wav', '1058_IWL_NEU_XX.wav', '1031_IWW_HAP_XX.wav', '1082_ITH_HAP_XX.wav', '1028_ITH_NEU_XX.wav', '1063_WSI_HAP_XX.wav', '1043_ITS_HAP_XX.wav', '1055_MTI_SAD_XX.wav', '1007_ITS_DIS_XX.wav', '1022_WSI_NEU_XX.wav', '1021_ITH_HAP_XX.wav', '1052_MTI_ANG_XX.wav', '1022_IEO_ANG_HI.wav', '1013_IWL_FEA_XX.wav', '1016_ITH_DIS_XX.wav', '1025_TAI_NEU_XX.wav', '1058_DFA_HAP_XX.wav', '1024_TSI_HAP_XX.wav', '1032_DFA_ANG_XX.wav', '1066_IWL_SAD_XX.wav', '1004_IEO_ANG_HI.wav', '1001_IWW_ANG_XX.wav', '1038_IWW_SAD_XX.wav', '1027_TIE_NEU_XX.wav', '1061_IEO_ANG_MD.wav', '1067_DFA_NEU_XX.wav', '1017_IWW_NEU_XX.wav', '1022_WSI_HAP_XX.wav', '1035_TIE_FEA_XX.wav', '1022_IEO_FEA_LO.wav', '1028_TSI_NEU_XX.wav', '1060_IWW_DIS_XX.wav', '1015_IWL_SAD_XX.wav', '1044_ITS_ANG_XX.wav', '1039_WSI_NEU_XX.wav', '1091_TSI_HAP_XX.wav', '1042_WSI_HAP_XX.wav', '1076_IEO_FEA_LO.wav', '1061_TIE_FEA_XX.wav', '1089_IEO_ANG_HI.wav', '1011_TSI_DIS_XX.wav', '1010_IWL_DIS_XX.wav', '1057_ITS_SAD_XX.wav', '1049_IOM_DIS_XX.wav', '1054_IOM_FEA_XX.wav', '1055_IEO_ANG_HI.wav', '1070_ITS_NEU_XX.wav', '1071_TAI_FEA_XX.wav', '1021_IWW_DIS_XX.wav', '1057_ITS_HAP_XX.wav', '1064_IWL_SAD_XX.wav', '1065_IWW_SAD_XX.wav', '1006_TIE_ANG_XX.wav', '1035_DFA_SAD_XX.wav', '1070_IOM_FEA_XX.wav', '1088_IEO_HAP_MD.wav', '1079_IWW_NEU_XX.wav', '1009_IEO_FEA_LO.wav', '1069_ITH_DIS_XX.wav', '1084_WSI_DIS_XX.wav', '1026_IWL_ANG_XX.wav', '1036_ITS_SAD_XX.wav', '1069_IOM_ANG_XX.wav', '1002_DFA_ANG_XX.wav', '1072_TSI_HAP_XX.wav', '1018_TIE_SAD_XX.wav', '1062_TIE_HAP_XX.wav', '1086_IWW_NEU_XX.wav', '1075_IWL_SAD_XX.wav', '1046_IWL_HAP_XX.wav', '1055_DFA_HAP_XX.wav', '1048_TAI_ANG_XX.wav', '1058_DFA_DIS_XX.wav', '1052_DFA_DIS_XX.wav', '1071_TIE_DIS_XX.wav', '1071_IOM_HAP_XX.wav', '1056_WSI_ANG_XX.wav', '1001_MTI_NEU_XX.wav', '1027_IEO_FEA_MD.wav', '1083_IOM_FEA_XX.wav', '1074_ITS_ANG_XX.wav', '1065_IWL_FEA_XX.wav', '1030_IOM_SAD_XX.wav', '1012_MTI_ANG_XX.wav', '1034_TAI_ANG_XX.wav', '1015_WSI_SAD_XX.wav', '1025_IEO_DIS_MD.wav', '1035_IEO_ANG_MD.wav', '1041_TSI_ANG_XX.wav', '1011_ITH_ANG_XX.wav', '1047_DFA_HAP_XX.wav', '1039_DFA_NEU_XX.wav', '1089_IOM_HAP_XX.wav', '1061_ITH_NEU_XX.wav', '1048_IEO_NEU_XX.wav', '1010_ITH_ANG_XX.wav', '1050_IEO_FEA_HI.wav', '1073_ITS_SAD_XX.wav', '1002_IWL_DIS_XX.wav', '1082_IEO_DIS_HI.wav', '1034_IEO_SAD_HI.wav', '1065_WSI_DIS_XX.wav', '1003_ITS_FEA_XX.wav', '1075_MTI_DIS_XX.wav', '1029_ITH_NEU_XX.wav', '1023_MTI_SAD_XX.wav', '1021_IEO_ANG_HI.wav', '1014_ITH_ANG_XX.wav', '1036_IWW_NEU_XX.wav', '1043_WSI_ANG_XX.wav', '1063_TAI_FEA_XX.wav', '1033_ITH_SAD_XX.wav', '1020_ITH_SAD_XX.wav', '1032_TIE_DIS_XX.wav', '1084_ITH_HAP_XX.wav', '1014_IEO_ANG_HI.wav', '1006_IEO_SAD_LO.wav', '1052_TSI_DIS_XX.wav', '1047_MTI_SAD_XX.wav', '1008_IEO_SAD_MD.wav', '1033_WSI_DIS_XX.wav', '1030_TIE_NEU_XX.wav', '1045_DFA_DIS_XX.wav', '1014_IOM_DIS_XX.wav', '1012_IEO_SAD_MD.wav', '1073_ITH_NEU_XX.wav', '1075_IEO_FEA_LO.wav', '1034_ITS_NEU_XX.wav', '1014_WSI_DIS_XX.wav', '1008_TAI_FEA_XX.wav', '1048_TIE_ANG_XX.wav', '1079_TAI_NEU_XX.wav', '1082_IOM_DIS_XX.wav', '1040_IWW_SAD_XX.wav', '1056_DFA_DIS_XX.wav', '1047_ITS_HAP_XX.wav', '1066_IWL_NEU_XX.wav', '1007_ITH_SAD_XX.wav', '1020_TSI_SAD_XX.wav', '1085_ITS_NEU_XX.wav', '1074_TAI_ANG_XX.wav', '1075_IWL_DIS_XX.wav', '1035_DFA_FEA_XX.wav', '1025_IWW_ANG_XX.wav', '1029_IOM_DIS_XX.wav', '1029_DFA_ANG_XX.wav', '1073_DFA_DIS_XX.wav', '1033_IEO_HAP_HI.wav', '1080_IEO_SAD_LO.wav', '1002_IEO_FEA_HI.wav', '1018_IEO_ANG_HI.wav', '1074_TAI_FEA_XX.wav', '1047_IEO_HAP_LO.wav', '1058_DFA_NEU_XX.wav', '1010_IWL_NEU_XX.wav', '1021_WSI_ANG_XX.wav', '1090_TIE_DIS_XX.wav', '1044_TIE_FEA_XX.wav', '1066_TIE_SAD_XX.wav', '1048_ITS_HAP_XX.wav', '1083_WSI_ANG_XX.wav', '1050_TAI_SAD_XX.wav', '1064_TAI_DIS_XX.wav', '1070_IEO_SAD_MD.wav', '1081_IWW_ANG_XX.wav', '1036_IWL_HAP_XX.wav', '1090_TAI_SAD_XX.wav', '1053_DFA_SAD_XX.wav', '1019_IWW_NEU_XX.wav', '1021_TSI_SAD_XX.wav', '1063_IWW_HAP_XX.wav', '1027_IWW_DIS_XX.wav', '1073_IOM_HAP_XX.wav', '1074_IWL_SAD_XX.wav', '1019_IEO_FEA_HI.wav', '1009_WSI_DIS_XX.wav', '1041_WSI_HAP_XX.wav', '1063_IWW_SAD_XX.wav', '1025_IWL_NEU_XX.wav', '1008_MTI_SAD_XX.wav', '1089_IWW_HAP_XX.wav', '1004_IWW_NEU_XX.wav', '1046_IOM_ANG_XX.wav', '1047_IOM_FEA_XX.wav', '1034_TIE_HAP_XX.wav', '1062_TIE_SAD_XX.wav', '1037_DFA_HAP_XX.wav', '1047_TIE_FEA_XX.wav', '1075_TIE_NEU_XX.wav', '1037_ITH_DIS_XX.wav', '1068_TSI_NEU_XX.wav', '1038_TIE_DIS_XX.wav', '1011_IEO_HAP_MD.wav', '1033_IWW_NEU_XX.wav', '1072_ITS_FEA_XX.wav', '1060_TAI_FEA_XX.wav', '1086_IEO_FEA_MD.wav', '1052_ITS_ANG_XX.wav', '1007_MTI_SAD_XX.wav', '1070_MTI_HAP_XX.wav', '1021_IEO_FEA_LO.wav', '1006_IWL_HAP_XX.wav', '1072_IWL_DIS_XX.wav', '1074_MTI_DIS_XX.wav', '1025_IEO_HAP_HI.wav', '1054_IWW_HAP_XX.wav', '1044_ITH_NEU_XX.wav', '1076_IEO_DIS_MD.wav', '1024_ITS_NEU_XX.wav', '1026_TIE_HAP_XX.wav', '1062_ITH_SAD_XX.wav', '1065_WSI_FEA_XX.wav', '1020_ITH_HAP_XX.wav', '1004_IWW_DIS_XX.wav', '1069_IWL_DIS_XX.wav', '1019_MTI_HAP_XX.wav', '1063_IWW_FEA_XX.wav', '1084_IEO_FEA_LO.wav', '1023_MTI_NEU_XX.wav', '1076_IEO_HAP_MD.wav', '1064_ITS_ANG_XX.wav', '1088_MTI_SAD_XX.wav', '1066_MTI_ANG_XX.wav', '1052_ITH_DIS_XX.wav', '1077_ITS_DIS_XX.wav', '1019_TIE_DIS_XX.wav', '1068_TIE_ANG_XX.wav', '1084_IEO_HAP_HI.wav', '1091_MTI_HAP_XX.wav', '1072_DFA_DIS_XX.wav', '1064_MTI_ANG_XX.wav', '1059_TIE_DIS_XX.wav', '1036_IOM_SAD_XX.wav', '1027_IWL_FEA_XX.wav', '1084_TSI_HAP_XX.wav', '1032_IEO_SAD_MD.wav', '1036_MTI_SAD_XX.wav', '1032_MTI_SAD_XX.wav', '1054_IWL_ANG_XX.wav', '1028_IWL_NEU_XX.wav', '1086_IWW_DIS_XX.wav', '1013_IEO_SAD_HI.wav', '1012_ITS_DIS_XX.wav', '1081_MTI_ANG_XX.wav', '1056_TSI_SAD_XX.wav', '1076_ITS_FEA_XX.wav', '1032_ITH_DIS_XX.wav', '1030_TAI_DIS_XX.wav', '1072_DFA_FEA_XX.wav', '1066_TAI_ANG_XX.wav', '1028_ITS_DIS_XX.wav', '1080_WSI_DIS_XX.wav', '1063_IWL_ANG_XX.wav', '1088_TSI_SAD_XX.wav', '1060_DFA_SAD_XX.wav', '1044_ITS_FEA_XX.wav', '1047_DFA_NEU_XX.wav', '1076_DFA_NEU_XX.wav', '1011_MTI_FEA_XX.wav', '1035_IOM_NEU_XX.wav', '1078_IOM_DIS_XX.wav', '1032_TSI_DIS_XX.wav', '1013_MTI_FEA_XX.wav', '1033_IWL_SAD_XX.wav', '1056_MTI_NEU_XX.wav', '1039_IEO_SAD_MD.wav', '1056_TAI_FEA_XX.wav', '1035_TSI_DIS_XX.wav', '1057_TSI_HAP_XX.wav', '1069_TIE_NEU_XX.wav', '1028_TIE_FEA_XX.wav', '1047_TIE_NEU_XX.wav', '1012_MTI_SAD_XX.wav', '1072_ITS_HAP_XX.wav', '1085_IWL_SAD_XX.wav', '1009_IEO_SAD_HI.wav', '1037_WSI_DIS_XX.wav', '1052_IEO_ANG_LO.wav', '1054_DFA_NEU_XX.wav', '1057_ITS_FEA_XX.wav', '1037_TIE_NEU_XX.wav', '1024_IWW_DIS_XX.wav', '1083_DFA_ANG_XX.wav', '1010_ITH_FEA_XX.wav', '1026_MTI_SAD_XX.wav', '1063_WSI_NEU_XX.wav', '1062_IEO_HAP_HI.wav', '1018_TIE_DIS_XX.wav', '1079_WSI_ANG_XX.wav', '1023_DFA_SAD_XX.wav', '1068_TSI_DIS_XX.wav', '1089_IWW_FEA_XX.wav', '1086_IEO_DIS_MD.wav', '1007_TAI_SAD_XX.wav', '1025_IEO_SAD_MD.wav', '1085_TSI_DIS_XX.wav', '1066_DFA_SAD_XX.wav', '1040_IWL_FEA_XX.wav', '1005_TAI_NEU_XX.wav', '1086_IEO_FEA_HI.wav', '1016_DFA_FEA_XX.wav', '1008_TIE_FEA_XX.wav', '1077_IOM_NEU_XX.wav', '1076_ITS_DIS_XX.wav', '1020_TSI_NEU_XX.wav', '1004_TSI_FEA_XX.wav', '1053_TAI_ANG_XX.wav', '1074_IEO_DIS_LO.wav', '1029_ITH_SAD_XX.wav', '1085_ITH_FEA_XX.wav', '1048_MTI_NEU_XX.wav', '1077_IEO_DIS_HI.wav', '1001_TIE_HAP_XX.wav', '1054_IEO_SAD_LO.wav', '1066_IOM_FEA_XX.wav', '1025_ITH_HAP_XX.wav', '1012_DFA_SAD_XX.wav', '1027_MTI_FEA_XX.wav', '1027_IEO_ANG_MD.wav', '1009_ITH_DIS_XX.wav', '1087_IEO_NEU_XX.wav', '1012_ITS_NEU_XX.wav', '1051_ITH_FEA_XX.wav', '1087_IEO_ANG_LO.wav', '1050_IEO_HAP_MD.wav', '1089_WSI_SAD_XX.wav', '1036_ITH_NEU_XX.wav', '1080_MTI_ANG_XX.wav', '1088_DFA_FEA_XX.wav', '1066_TAI_SAD_XX.wav', '1016_ITH_HAP_XX.wav', '1043_IWW_NEU_XX.wav', '1009_IEO_DIS_MD.wav', '1014_IEO_SAD_MD.wav', '1031_IWL_FEA_XX.wav', '1068_IWW_NEU_XX.wav', '1069_TAI_HAP_XX.wav', '1039_DFA_HAP_XX.wav', '1064_TIE_DIS_XX.wav', '1047_IEO_HAP_HI.wav', '1075_ITH_DIS_XX.wav', '1044_IOM_SAD_XX.wav', '1065_IEO_NEU_XX.wav', '1062_TSI_DIS_XX.wav', '1080_DFA_HAP_XX.wav', '1086_IWW_FEA_XX.wav', '1055_IEO_HAP_HI.wav', '1090_IWW_FEA_XX.wav', '1055_IOM_DIS_XX.wav', '1037_MTI_SAD_XX.wav', '1081_WSI_DIS_XX.wav', '1009_TIE_HAP_XX.wav', '1088_TAI_ANG_XX.wav', '1064_IWW_DIS_XX.wav', '1048_DFA_NEU_XX.wav', '1067_MTI_NEU_XX.wav', '1007_ITH_HAP_XX.wav', '1086_IWL_NEU_XX.wav', '1049_MTI_NEU_XX.wav', '1057_MTI_SAD_XX.wav', '1056_WSI_HAP_XX.wav', '1030_MTI_FEA_XX.wav', '1076_ITS_ANG_XX.wav', '1007_ITH_FEA_XX.wav', '1014_ITH_HAP_XX.wav', '1065_IEO_DIS_HI.wav', '1027_TSI_DIS_XX.wav', '1021_WSI_SAD_XX.wav', '1071_TIE_SAD_XX.wav', '1045_ITH_NEU_XX.wav', '1011_TSI_NEU_XX.wav', '1007_IEO_DIS_LO.wav', '1007_IEO_ANG_LO.wav', '1065_IOM_SAD_XX.wav', '1082_IEO_DIS_MD.wav', '1009_IEO_SAD_LO.wav', '1010_ITH_NEU_XX.wav', '1080_WSI_ANG_XX.wav', '1005_IEO_ANG_LO.wav', '1080_ITS_FEA_XX.wav', '1046_IEO_ANG_MD.wav', '1026_IEO_DIS_MD.wav', '1045_TSI_FEA_XX.wav', '1031_TIE_SAD_XX.wav', '1075_MTI_FEA_XX.wav', '1011_TSI_SAD_XX.wav', '1048_TAI_DIS_XX.wav', '1007_TSI_DIS_XX.wav', '1026_DFA_DIS_XX.wav', '1039_IEO_FEA_MD.wav', '1007_WSI_SAD_XX.wav', '1050_WSI_SAD_XX.wav', '1043_DFA_ANG_XX.wav', '1052_IWW_DIS_XX.wav', '1062_IWL_FEA_XX.wav', '1048_IEO_SAD_HI.wav', '1019_IWW_SAD_XX.wav', '1010_TIE_FEA_XX.wav', '1068_IEO_SAD_HI.wav', '1054_IWL_HAP_XX.wav', '1010_DFA_FEA_XX.wav', '1034_TSI_FEA_XX.wav', '1078_TSI_HAP_XX.wav', '1007_IEO_HAP_HI.wav', '1049_ITS_FEA_XX.wav', '1042_IWL_SAD_XX.wav', '1015_ITS_ANG_XX.wav', '1036_IWW_HAP_XX.wav', '1070_WSI_HAP_XX.wav', '1063_ITS_HAP_XX.wav', '1082_ITH_FEA_XX.wav', '1081_TSI_FEA_XX.wav', '1053_IOM_SAD_XX.wav', '1048_IWL_DIS_XX.wav', '1080_WSI_SAD_XX.wav', '1046_IOM_NEU_XX.wav', '1076_TAI_ANG_XX.wav', '1077_TIE_SAD_XX.wav', '1083_IEO_FEA_MD.wav', '1051_IWW_ANG_XX.wav', '1039_TSI_FEA_XX.wav', '1079_IEO_SAD_MD.wav', '1087_ITH_SAD_XX.wav', '1059_WSI_SAD_XX.wav', '1037_IEO_SAD_HI.wav', '1032_IEO_DIS_HI.wav', '1062_IOM_HAP_XX.wav', '1040_IOM_NEU_XX.wav', '1078_IWW_HAP_XX.wav', '1007_IEO_FEA_LO.wav', '1005_IWW_DIS_XX.wav', '1028_IEO_ANG_MD.wav', '1050_IEO_FEA_LO.wav', '1050_ITS_DIS_XX.wav', '1084_MTI_HAP_XX.wav', '1048_TSI_ANG_XX.wav', '1030_IWL_DIS_XX.wav', '1035_IEO_FEA_LO.wav', '1055_IWW_DIS_XX.wav', '1044_IEO_DIS_HI.wav', '1029_WSI_NEU_XX.wav', '1015_IEO_SAD_MD.wav', '1070_IWW_SAD_XX.wav', '1036_WSI_DIS_XX.wav', '1043_MTI_NEU_XX.wav', '1008_IEO_FEA_HI.wav', '1009_TIE_NEU_XX.wav', '1017_ITS_DIS_XX.wav', '1052_TIE_ANG_XX.wav', '1030_IOM_DIS_XX.wav', '1015_TSI_DIS_XX.wav', '1069_IOM_DIS_XX.wav', '1051_ITS_HAP_XX.wav', '1072_IEO_NEU_XX.wav', '1034_IEO_DIS_LO.wav', '1003_IOM_DIS_XX.wav', '1057_TSI_DIS_XX.wav', '1012_IWL_FEA_XX.wav', '1073_TSI_HAP_XX.wav', '1038_ITS_FEA_XX.wav', '1070_IWL_FEA_XX.wav', '1090_IEO_NEU_XX.wav', '1079_IEO_HAP_HI.wav', '1085_IEO_HAP_LO.wav', '1059_IWL_NEU_XX.wav', '1062_TIE_ANG_XX.wav', '1050_WSI_HAP_XX.wav', '1037_DFA_FEA_XX.wav', '1020_WSI_DIS_XX.wav', '1085_IEO_HAP_MD.wav', '1041_IEO_HAP_HI.wav', '1046_IEO_FEA_HI.wav', '1034_MTI_DIS_XX.wav', '1074_MTI_ANG_XX.wav', '1031_TAI_SAD_XX.wav', '1013_DFA_SAD_XX.wav', '1025_IWW_NEU_XX.wav', '1054_IWW_NEU_XX.wav', '1083_DFA_NEU_XX.wav', '1011_DFA_ANG_XX.wav', '1068_ITH_DIS_XX.wav', '1073_MTI_FEA_XX.wav', '1003_WSI_DIS_XX.wav', '1081_IWL_DIS_XX.wav', '1068_MTI_HAP_XX.wav', '1026_IWW_FEA_XX.wav', '1066_IOM_DIS_XX.wav', '1044_ITH_ANG_XX.wav', '1045_MTI_SAD_XX.wav', '1028_ITS_NEU_XX.wav', '1027_TSI_NEU_XX.wav', '1045_MTI_FEA_XX.wav', '1072_IEO_DIS_LO.wav', '1040_TSI_SAD_XX.wav', '1074_TSI_DIS_XX.wav', '1013_TAI_SAD_XX.wav', '1011_TIE_ANG_XX.wav', '1081_TIE_NEU_XX.wav', '1080_TIE_SAD_XX.wav', '1060_IWL_SAD_XX.wav', '1040_TAI_NEU_XX.wav', '1019_IWL_HAP_XX.wav', '1052_ITS_SAD_XX.wav', '1024_TAI_ANG_XX.wav', '1075_IWW_SAD_XX.wav', '1083_IWW_SAD_XX.wav', '1010_IWW_HAP_XX.wav', '1018_IEO_FEA_HI.wav', '1029_IEO_DIS_HI.wav', '1071_IWW_FEA_XX.wav', '1003_IWL_DIS_XX.wav', '1063_TSI_ANG_XX.wav', '1081_IEO_SAD_MD.wav', '1036_WSI_ANG_XX.wav', '1054_TSI_SAD_XX.wav', '1020_ITS_ANG_XX.wav', '1013_WSI_ANG_XX.wav', '1052_TAI_SAD_XX.wav', '1058_MTI_DIS_XX.wav', '1055_ITS_HAP_XX.wav', '1035_MTI_FEA_XX.wav', '1018_ITH_FEA_XX.wav', '1034_IWW_HAP_XX.wav', '1051_ITS_ANG_XX.wav', '1058_IEO_HAP_MD.wav', '1033_TSI_NEU_XX.wav', '1041_IEO_SAD_LO.wav', '1076_IEO_NEU_XX.wav', '1017_TIE_SAD_XX.wav', '1091_TIE_SAD_XX.wav', '1040_ITH_FEA_XX.wav', '1018_DFA_FEA_XX.wav', '1091_TSI_SAD_XX.wav', '1086_IOM_NEU_XX.wav', '1047_MTI_DIS_XX.wav', '1022_WSI_SAD_XX.wav', '1001_IEO_FEA_LO.wav', '1024_DFA_SAD_XX.wav', '1048_IEO_SAD_LO.wav', '1083_IEO_ANG_MD.wav', '1060_WSI_NEU_XX.wav', '1083_IEO_ANG_LO.wav', '1013_IEO_FEA_HI.wav', '1027_IEO_DIS_LO.wav', '1041_IEO_FEA_MD.wav', '1059_TIE_NEU_XX.wav', '1084_ITS_NEU_XX.wav', '1071_WSI_FEA_XX.wav', '1023_WSI_DIS_XX.wav', '1035_TAI_DIS_XX.wav', '1077_TIE_DIS_XX.wav', '1013_ITH_ANG_XX.wav', '1026_ITS_SAD_XX.wav', '1062_IEO_HAP_LO.wav', '1053_IEO_DIS_MD.wav', '1055_IWW_FEA_XX.wav', '1017_MTI_HAP_XX.wav', '1014_IOM_FEA_XX.wav', '1025_IWW_DIS_XX.wav', '1017_IWL_FEA_XX.wav', '1067_IEO_FEA_LO.wav', '1034_DFA_FEA_XX.wav', '1070_TSI_NEU_XX.wav', '1084_TSI_DIS_XX.wav', '1066_TAI_HAP_XX.wav', '1057_IOM_ANG_XX.wav', '1014_IOM_NEU_XX.wav', '1042_ITH_DIS_XX.wav', '1070_TIE_DIS_XX.wav', '1005_TSI_FEA_XX.wav', '1091_MTI_SAD_XX.wav', '1071_MTI_NEU_XX.wav', '1055_TAI_HAP_XX.wav', '1072_TSI_DIS_XX.wav', '1014_MTI_SAD_XX.wav', '1038_ITH_SAD_XX.wav', '1033_IEO_HAP_LO.wav', '1035_IOM_DIS_XX.wav', '1014_IEO_DIS_HI.wav', '1003_ITS_HAP_XX.wav', '1031_WSI_NEU_XX.wav', '1004_IEO_SAD_MD.wav', '1002_IEO_FEA_MD.wav', '1031_TIE_FEA_XX.wav', '1080_ITS_ANG_XX.wav', '1038_ITH_NEU_XX.wav', '1024_WSI_HAP_XX.wav', '1005_TSI_HAP_XX.wav', '1056_TIE_DIS_XX.wav', '1068_MTI_ANG_XX.wav', '1080_DFA_FEA_XX.wav', '1059_MTI_NEU_XX.wav', '1068_WSI_SAD_XX.wav', '1067_DFA_HAP_XX.wav', '1001_IEO_ANG_HI.wav', '1018_IOM_SAD_XX.wav', '1086_IWL_HAP_XX.wav', '1036_WSI_HAP_XX.wav', '1010_TSI_SAD_XX.wav', '1075_IEO_HAP_MD.wav', '1048_TSI_DIS_XX.wav', '1037_IEO_FEA_MD.wav', '1013_MTI_NEU_XX.wav', '1083_WSI_NEU_XX.wav', '1072_IEO_DIS_MD.wav', '1003_WSI_HAP_XX.wav', '1004_TIE_FEA_XX.wav', '1076_IWW_FEA_XX.wav', '1045_ITS_ANG_XX.wav', '1024_IEO_FEA_MD.wav', '1023_ITH_ANG_XX.wav', '1004_IOM_FEA_XX.wav', '1054_IEO_SAD_HI.wav', '1044_TIE_ANG_XX.wav', '1030_IEO_HAP_MD.wav', '1046_IEO_HAP_HI.wav', '1016_DFA_HAP_XX.wav', '1030_IEO_NEU_XX.wav', '1003_MTI_HAP_XX.wav', '1075_IEO_FEA_MD.wav', '1065_ITS_NEU_XX.wav', '1027_WSI_HAP_XX.wav', '1062_TIE_DIS_XX.wav', '1013_IWW_DIS_XX.wav', '1051_IOM_DIS_XX.wav', '1011_WSI_SAD_XX.wav', '1079_TSI_FEA_XX.wav', '1088_WSI_FEA_XX.wav', '1086_TIE_NEU_XX.wav', '1016_IEO_SAD_HI.wav', '1079_IEO_SAD_HI.wav', '1034_DFA_HAP_XX.wav', '1044_IWL_NEU_XX.wav', '1082_IEO_DIS_LO.wav', '1083_ITH_SAD_XX.wav', '1037_ITS_ANG_XX.wav', '1006_TIE_FEA_XX.wav', '1065_IEO_HAP_HI.wav', '1017_TIE_HAP_XX.wav', '1042_IWL_NEU_XX.wav', '1030_ITS_FEA_XX.wav', '1006_IWW_SAD_XX.wav', '1033_ITH_FEA_XX.wav', '1021_ITS_SAD_XX.wav', '1082_DFA_HAP_XX.wav', '1040_IOM_SAD_XX.wav', '1025_ITS_HAP_XX.wav', '1050_IWW_DIS_XX.wav', '1033_ITH_ANG_XX.wav', '1023_MTI_FEA_XX.wav', '1050_WSI_FEA_XX.wav', '1066_ITH_HAP_XX.wav', '1087_IEO_DIS_MD.wav', '1078_IWL_ANG_XX.wav', '1031_ITH_DIS_XX.wav', '1064_IOM_HAP_XX.wav', '1048_TIE_HAP_XX.wav', '1032_TAI_FEA_XX.wav', '1008_IEO_DIS_LO.wav', '1055_TIE_HAP_XX.wav', '1007_DFA_NEU_XX.wav', '1004_MTI_SAD_XX.wav', '1012_IEO_SAD_LO.wav', '1080_IEO_ANG_MD.wav', '1007_IOM_ANG_XX.wav', '1074_IWL_NEU_XX.wav', '1019_WSI_DIS_XX.wav', '1068_DFA_ANG_XX.wav', '1077_WSI_SAD_XX.wav', '1062_IEO_NEU_XX.wav', '1037_WSI_ANG_XX.wav', '1075_TIE_FEA_XX.wav', '1051_IEO_FEA_MD.wav', '1006_DFA_FEA_XX.wav', '1076_TIE_SAD_XX.wav', '1079_MTI_SAD_XX.wav', '1025_IEO_SAD_LO.wav', '1081_IOM_ANG_XX.wav', '1029_MTI_SAD_XX.wav', '1071_DFA_SAD_XX.wav', '1027_WSI_NEU_XX.wav', '1062_IEO_SAD_LO.wav', '1062_IEO_ANG_MD.wav', '1066_TIE_FEA_XX.wav', '1033_MTI_NEU_XX.wav', '1020_IOM_HAP_XX.wav', '1015_TAI_NEU_XX.wav', '1028_IEO_SAD_MD.wav', '1050_IWL_NEU_XX.wav', '1025_DFA_HAP_XX.wav', '1056_IOM_DIS_XX.wav', '1080_ITH_ANG_XX.wav', '1005_ITS_HAP_XX.wav', '1082_IOM_SAD_XX.wav', '1088_DFA_HAP_XX.wav', '1076_TAI_DIS_XX.wav', '1058_MTI_FEA_XX.wav', '1046_IWW_NEU_XX.wav', '1074_TAI_HAP_XX.wav', '1041_TSI_FEA_XX.wav', '1007_WSI_NEU_XX.wav', '1005_ITH_ANG_XX.wav', '1083_TAI_NEU_XX.wav', '1037_TSI_FEA_XX.wav', '1037_ITH_SAD_XX.wav', '1020_IEO_NEU_XX.wav', '1032_ITS_ANG_XX.wav', '1026_IOM_SAD_XX.wav', '1087_TIE_DIS_XX.wav', '1064_DFA_NEU_XX.wav', '1042_ITH_HAP_XX.wav', '1039_ITS_ANG_XX.wav', '1070_WSI_DIS_XX.wav', '1011_IWW_DIS_XX.wav', '1061_WSI_HAP_XX.wav', '1039_IEO_HAP_HI.wav', '1059_IWW_SAD_XX.wav', '1073_WSI_ANG_XX.wav', '1088_IEO_SAD_LO.wav', '1055_ITS_ANG_XX.wav', '1048_TAI_HAP_XX.wav', '1069_WSI_DIS_XX.wav', '1048_DFA_FEA_XX.wav', '1034_WSI_SAD_XX.wav', '1017_DFA_ANG_XX.wav', '1001_WSI_DIS_XX.wav', '1055_TSI_HAP_XX.wav', '1080_IEO_SAD_MD.wav', '1059_IEO_SAD_HI.wav', '1061_ITH_FEA_XX.wav', '1008_TSI_SAD_XX.wav', '1009_TSI_FEA_XX.wav', '1089_TAI_SAD_XX.wav', '1020_IEO_HAP_LO.wav', '1049_IEO_HAP_LO.wav', '1071_IWW_DIS_XX.wav', '1071_DFA_ANG_XX.wav', '1087_IWW_DIS_XX.wav', '1068_WSI_FEA_XX.wav', '1016_IWL_DIS_XX.wav', '1042_TAI_HAP_XX.wav', '1061_TIE_NEU_XX.wav', '1072_ITS_SAD_XX.wav', '1029_IWL_NEU_XX.wav', '1022_IEO_FEA_HI.wav', '1044_DFA_HAP_XX.wav', '1018_IEO_DIS_MD.wav', '1031_IOM_FEA_XX.wav', '1073_IEO_HAP_LO.wav', '1065_ITS_DIS_XX.wav', '1037_TIE_ANG_XX.wav', '1060_ITH_SAD_XX.wav', '1011_WSI_HAP_XX.wav', '1039_ITH_DIS_XX.wav', '1045_IEO_FEA_MD.wav', '1073_MTI_NEU_XX.wav', '1015_IOM_SAD_XX.wav', '1045_DFA_SAD_XX.wav', '1083_TAI_SAD_XX.wav', '1041_DFA_HAP_XX.wav', '1063_IEO_DIS_MD.wav', '1006_TSI_DIS_XX.wav', '1004_TAI_DIS_XX.wav', '1025_DFA_ANG_XX.wav', '1009_WSI_ANG_XX.wav', '1053_IWW_FEA_XX.wav', '1022_DFA_FEA_XX.wav', '1045_IEO_ANG_HI.wav', '1073_IOM_FEA_XX.wav', '1090_MTI_DIS_XX.wav', '1087_WSI_FEA_XX.wav', '1055_IEO_DIS_HI.wav', '1019_IOM_ANG_XX.wav', '1053_IEO_HAP_LO.wav', '1062_ITH_ANG_XX.wav', '1019_WSI_FEA_XX.wav', '1064_TIE_FEA_XX.wav', '1042_IOM_FEA_XX.wav', '1063_IWL_HAP_XX.wav', '1012_TIE_NEU_XX.wav', '1074_IEO_SAD_HI.wav', '1049_DFA_HAP_XX.wav', '1060_TSI_SAD_XX.wav', '1024_ITH_DIS_XX.wav', '1020_WSI_FEA_XX.wav', '1076_TAI_FEA_XX.wav', '1016_IEO_HAP_LO.wav', '1020_IEO_DIS_LO.wav', '1040_TIE_DIS_XX.wav', '1078_ITH_NEU_XX.wav', '1044_TAI_HAP_XX.wav', '1051_MTI_NEU_XX.wav', '1015_TSI_ANG_XX.wav', '1053_IWW_ANG_XX.wav', '1038_IOM_DIS_XX.wav', '1035_IWW_HAP_XX.wav', '1047_WSI_NEU_XX.wav', '1013_IEO_FEA_LO.wav', '1080_TIE_ANG_XX.wav', '1049_WSI_NEU_XX.wav', '1032_DFA_DIS_XX.wav', '1014_MTI_HAP_XX.wav', '1043_DFA_NEU_XX.wav', '1043_IEO_HAP_HI.wav', '1001_DFA_FEA_XX.wav', '1072_TSI_NEU_XX.wav', '1060_IEO_ANG_HI.wav', '1020_IEO_FEA_LO.wav', '1071_TIE_NEU_XX.wav', '1078_TAI_FEA_XX.wav', '1079_DFA_FEA_XX.wav', '1083_DFA_SAD_XX.wav', '1005_WSI_DIS_XX.wav', '1063_MTI_SAD_XX.wav', '1066_MTI_DIS_XX.wav', '1086_TAI_FEA_XX.wav', '1004_IOM_HAP_XX.wav', '1031_IWL_SAD_XX.wav', '1071_ITH_FEA_XX.wav', '1003_IWW_DIS_XX.wav', '1085_TIE_NEU_XX.wav', '1016_IOM_HAP_XX.wav', '1027_WSI_DIS_XX.wav', '1003_ITH_FEA_XX.wav', '1007_IWL_NEU_XX.wav', '1027_IEO_HAP_MD.wav', '1080_ITH_DIS_XX.wav', '1077_IWW_SAD_XX.wav', '1021_MTI_FEA_XX.wav', '1060_TIE_FEA_XX.wav', '1088_ITS_ANG_XX.wav', '1091_ITH_HAP_XX.wav', '1036_DFA_HAP_XX.wav', '1035_ITS_HAP_XX.wav', '1026_TSI_FEA_XX.wav', '1039_ITH_NEU_XX.wav', '1084_TAI_SAD_XX.wav', '1011_IWL_DIS_XX.wav', '1035_ITH_SAD_XX.wav', '1091_MTI_FEA_XX.wav', '1006_IEO_DIS_MD.wav', '1056_WSI_SAD_XX.wav', '1027_IWW_FEA_XX.wav', '1032_TSI_FEA_XX.wav', '1085_MTI_DIS_XX.wav', '1014_IEO_ANG_MD.wav', '1039_ITS_HAP_XX.wav', '1043_IOM_DIS_XX.wav', '1041_ITH_NEU_XX.wav', '1044_IEO_FEA_MD.wav', '1060_TSI_NEU_XX.wav', '1066_IEO_NEU_XX.wav', '1064_TAI_ANG_XX.wav', '1084_IWL_SAD_XX.wav', '1026_WSI_FEA_XX.wav', '1002_IEO_DIS_LO.wav', '1054_MTI_HAP_XX.wav', '1055_ITS_NEU_XX.wav', '1009_DFA_ANG_XX.wav', '1003_WSI_ANG_XX.wav', '1024_MTI_ANG_XX.wav', '1016_IOM_ANG_XX.wav', '1046_TIE_HAP_XX.wav', '1085_TIE_DIS_XX.wav', '1085_IWL_DIS_XX.wav', '1028_TIE_SAD_XX.wav', '1003_MTI_ANG_XX.wav', '1024_TIE_HAP_XX.wav', '1077_DFA_SAD_XX.wav', '1016_TAI_HAP_XX.wav', '1018_WSI_FEA_XX.wav', '1085_TSI_FEA_XX.wav', '1029_TIE_FEA_XX.wav', '1045_TSI_HAP_XX.wav', '1014_ITS_NEU_XX.wav', '1061_TSI_HAP_XX.wav', '1009_TIE_DIS_XX.wav', '1075_MTI_NEU_XX.wav', '1074_DFA_ANG_XX.wav', '1032_IEO_NEU_XX.wav', '1033_TIE_SAD_XX.wav', '1006_MTI_DIS_XX.wav', '1045_ITH_ANG_XX.wav', '1077_DFA_FEA_XX.wav', '1082_IWL_NEU_XX.wav', '1004_ITH_NEU_XX.wav', '1032_WSI_NEU_XX.wav', '1034_ITH_NEU_XX.wav', '1010_IEO_HAP_MD.wav', '1084_IWW_NEU_XX.wav', '1072_TIE_HAP_XX.wav', '1088_IEO_FEA_LO.wav', '1017_IWL_HAP_XX.wav', '1069_IEO_FEA_HI.wav', '1022_TIE_FEA_XX.wav', '1036_IEO_NEU_XX.wav', '1005_TAI_SAD_XX.wav', '1044_MTI_NEU_XX.wav', '1038_ITS_DIS_XX.wav', '1006_WSI_SAD_XX.wav', '1046_IEO_DIS_MD.wav', '1031_IEO_SAD_HI.wav', '1060_ITH_FEA_XX.wav', '1086_TSI_ANG_XX.wav', '1031_IEO_HAP_LO.wav', '1073_IWW_NEU_XX.wav', '1045_IEO_SAD_MD.wav', '1078_TIE_FEA_XX.wav', '1016_IWW_SAD_XX.wav', '1018_ITS_NEU_XX.wav', '1049_IEO_ANG_LO.wav', '1012_WSI_NEU_XX.wav', '1042_MTI_FEA_XX.wav', '1077_ITS_FEA_XX.wav', '1027_TIE_ANG_XX.wav', '1051_TIE_DIS_XX.wav', '1047_ITS_DIS_XX.wav', '1002_ITH_NEU_XX.wav', '1026_DFA_FEA_XX.wav', '1055_WSI_SAD_XX.wav', '1065_IWL_NEU_XX.wav', '1043_IEO_DIS_LO.wav', '1061_TIE_HAP_XX.wav', '1050_ITH_HAP_XX.wav', '1078_ITH_DIS_XX.wav', '1003_DFA_FEA_XX.wav', '1025_WSI_HAP_XX.wav', '1087_IEO_ANG_MD.wav', '1019_IEO_HAP_MD.wav', '1048_TIE_FEA_XX.wav', '1043_ITH_ANG_XX.wav', '1052_WSI_HAP_XX.wav', '1011_IWW_FEA_XX.wav', '1036_TAI_FEA_XX.wav', '1082_TAI_DIS_XX.wav', '1003_WSI_FEA_XX.wav', '1074_IEO_FEA_MD.wav', '1080_WSI_NEU_XX.wav', '1045_MTI_ANG_XX.wav', '1055_ITS_FEA_XX.wav', '1003_ITH_ANG_XX.wav', '1069_WSI_NEU_XX.wav', '1087_IOM_DIS_XX.wav', '1090_ITS_NEU_XX.wav', '1059_TAI_DIS_XX.wav', '1002_IOM_FEA_XX.wav', '1021_IWL_DIS_XX.wav', '1017_ITH_ANG_XX.wav', '1041_ITH_DIS_XX.wav', '1079_IEO_ANG_LO.wav', '1069_IOM_HAP_XX.wav', '1067_IWL_NEU_XX.wav', '1089_IEO_ANG_MD.wav', '1075_MTI_SAD_XX.wav', '1059_IWL_DIS_XX.wav', '1071_IEO_FEA_HI.wav', '1069_ITS_HAP_XX.wav', '1086_TAI_DIS_XX.wav', '1051_IEO_DIS_LO.wav', '1087_TSI_HAP_XX.wav', '1077_ITS_NEU_XX.wav', '1059_IEO_SAD_LO.wav', '1019_MTI_FEA_XX.wav', '1070_ITS_DIS_XX.wav', '1061_TIE_SAD_XX.wav', '1001_IWW_SAD_XX.wav', '1069_TAI_DIS_XX.wav', '1037_TIE_HAP_XX.wav', '1062_MTI_SAD_XX.wav', '1005_IEO_SAD_LO.wav', '1028_TSI_SAD_XX.wav', '1090_ITS_DIS_XX.wav', '1014_IEO_HAP_LO.wav', '1040_ITS_NEU_XX.wav', '1062_MTI_FEA_XX.wav', '1083_TIE_DIS_XX.wav', '1075_IWW_HAP_XX.wav', '1016_MTI_DIS_XX.wav', '1021_ITS_DIS_XX.wav', '1088_MTI_HAP_XX.wav', '1060_WSI_HAP_XX.wav', '1034_IEO_ANG_LO.wav', '1027_TAI_FEA_XX.wav', '1025_TIE_ANG_XX.wav', '1053_IEO_SAD_MD.wav', '1027_IWW_SAD_XX.wav', '1089_MTI_NEU_XX.wav', '1014_DFA_DIS_XX.wav', '1045_TAI_ANG_XX.wav', '1030_IEO_HAP_LO.wav', '1010_TIE_HAP_XX.wav', '1074_IOM_ANG_XX.wav', '1054_TIE_SAD_XX.wav', '1024_MTI_HAP_XX.wav', '1014_IWW_DIS_XX.wav', '1077_IEO_FEA_LO.wav', '1035_IWW_NEU_XX.wav', '1014_TIE_NEU_XX.wav', '1048_IWW_FEA_XX.wav', '1090_WSI_SAD_XX.wav', '1070_IWW_DIS_XX.wav', '1025_ITH_ANG_XX.wav', '1075_ITH_HAP_XX.wav', '1085_IEO_SAD_HI.wav', '1079_TAI_SAD_XX.wav', '1019_IWL_DIS_XX.wav', '1073_ITS_FEA_XX.wav', '1012_TSI_ANG_XX.wav', '1020_TSI_HAP_XX.wav', '1056_IEO_ANG_HI.wav', '1048_ITH_DIS_XX.wav', '1016_TSI_ANG_XX.wav', '1082_TSI_SAD_XX.wav', '1002_ITH_DIS_XX.wav', '1072_IEO_SAD_HI.wav', '1008_IWL_NEU_XX.wav', '1028_TAI_FEA_XX.wav', '1071_IOM_SAD_XX.wav', '1052_IEO_FEA_MD.wav', '1050_IEO_DIS_HI.wav', '1036_WSI_NEU_XX.wav', '1052_WSI_FEA_XX.wav', '1018_IWW_HAP_XX.wav', '1068_TAI_FEA_XX.wav', '1088_ITH_HAP_XX.wav', '1012_TAI_DIS_XX.wav', '1035_TIE_HAP_XX.wav', '1070_TAI_ANG_XX.wav', '1018_TAI_FEA_XX.wav', '1037_MTI_NEU_XX.wav', '1052_IEO_FEA_LO.wav', '1025_TAI_ANG_XX.wav', '1086_TSI_SAD_XX.wav', '1067_IEO_ANG_LO.wav', '1086_WSI_ANG_XX.wav', '1002_TSI_SAD_XX.wav', '1088_TIE_FEA_XX.wav', '1064_DFA_DIS_XX.wav', '1025_IEO_HAP_MD.wav', '1037_IEO_DIS_HI.wav', '1077_IEO_FEA_HI.wav', '1039_IWL_SAD_XX.wav', '1054_MTI_ANG_XX.wav', '1065_IEO_FEA_MD.wav', '1020_WSI_HAP_XX.wav', '1053_IWL_SAD_XX.wav', '1004_TIE_SAD_XX.wav', '1079_TIE_FEA_XX.wav', '1085_TIE_SAD_XX.wav', '1091_ITH_DIS_XX.wav', '1043_MTI_SAD_XX.wav', '1018_IOM_NEU_XX.wav', '1089_IWW_ANG_XX.wav', '1022_ITS_DIS_XX.wav', '1018_IWW_DIS_XX.wav', '1043_IEO_FEA_HI.wav', '1081_TSI_DIS_XX.wav', '1090_TSI_FEA_XX.wav', '1003_TSI_SAD_XX.wav', '1014_DFA_HAP_XX.wav', '1018_ITS_DIS_XX.wav', '1005_MTI_SAD_XX.wav', '1020_IWL_HAP_XX.wav', '1053_IWW_SAD_XX.wav', '1026_IOM_NEU_XX.wav', '1033_DFA_FEA_XX.wav', '1059_IEO_ANG_MD.wav', '1005_IEO_DIS_HI.wav', '1072_WSI_SAD_XX.wav', '1013_IWW_NEU_XX.wav', '1085_TIE_ANG_XX.wav', '1003_ITH_NEU_XX.wav', '1070_TAI_NEU_XX.wav', '1085_IEO_FEA_MD.wav', '1071_IWL_FEA_XX.wav', '1065_IEO_ANG_HI.wav', '1034_IEO_NEU_XX.wav', '1073_IOM_SAD_XX.wav', '1006_TIE_DIS_XX.wav', '1062_IOM_ANG_XX.wav', '1064_WSI_DIS_XX.wav', '1042_WSI_DIS_XX.wav', '1088_DFA_SAD_XX.wav', '1060_IOM_FEA_XX.wav', '1052_IWL_DIS_XX.wav', '1016_ITS_SAD_XX.wav', '1031_TIE_HAP_XX.wav', '1023_TIE_SAD_XX.wav', '1087_IEO_FEA_MD.wav', '1013_IOM_DIS_XX.wav', '1069_TSI_HAP_XX.wav', '1070_TIE_HAP_XX.wav', '1044_TIE_SAD_XX.wav', '1052_TAI_NEU_XX.wav', '1049_WSI_SAD_XX.wav', '1021_ITH_SAD_XX.wav', '1086_MTI_DIS_XX.wav', '1052_ITH_ANG_XX.wav', '1087_IEO_SAD_MD.wav', '1064_ITH_NEU_XX.wav', '1018_WSI_NEU_XX.wav', '1002_MTI_SAD_XX.wav', '1021_WSI_FEA_XX.wav', '1084_IEO_SAD_MD.wav', '1048_TSI_NEU_XX.wav', '1026_MTI_DIS_XX.wav', '1054_WSI_FEA_XX.wav', '1053_ITS_FEA_XX.wav', '1055_TIE_DIS_XX.wav', '1023_IEO_SAD_LO.wav', '1027_TAI_NEU_XX.wav', '1068_DFA_DIS_XX.wav', '1051_IWW_DIS_XX.wav', '1045_IEO_DIS_MD.wav', '1002_ITS_HAP_XX.wav', '1051_IEO_SAD_HI.wav', '1039_ITS_FEA_XX.wav', '1091_TAI_SAD_XX.wav', '1062_MTI_HAP_XX.wav', '1087_IWW_ANG_XX.wav', '1058_TAI_ANG_XX.wav', '1005_ITS_ANG_XX.wav', '1067_IOM_NEU_XX.wav', '1026_ITH_SAD_XX.wav', '1050_ITH_SAD_XX.wav', '1056_TSI_ANG_XX.wav', '1070_ITH_ANG_XX.wav', '1075_TAI_NEU_XX.wav', '1040_WSI_HAP_XX.wav', '1002_IEO_SAD_LO.wav', '1037_IWL_NEU_XX.wav', '1083_IWL_HAP_XX.wav', '1082_TAI_HAP_XX.wav', '1014_TIE_SAD_XX.wav', '1073_IWW_HAP_XX.wav', '1085_IEO_FEA_LO.wav', '1076_IOM_ANG_XX.wav', '1022_MTI_FEA_XX.wav', '1091_WSI_ANG_XX.wav', '1039_WSI_FEA_XX.wav', '1076_IOM_NEU_XX.wav', '1052_IWL_HAP_XX.wav', '1068_ITH_SAD_XX.wav', '1045_TSI_NEU_XX.wav', '1048_TIE_DIS_XX.wav', '1037_TIE_SAD_XX.wav', '1049_IWW_SAD_XX.wav', '1040_ITS_FEA_XX.wav', '1068_ITS_DIS_XX.wav', '1015_IEO_ANG_LO.wav', '1001_TIE_NEU_XX.wav', '1090_TAI_HAP_XX.wav', '1022_IWL_DIS_XX.wav', '1040_IWW_FEA_XX.wav', '1025_ITS_DIS_XX.wav', '1003_ITS_SAD_XX.wav', '1034_IWW_FEA_XX.wav', '1068_IWL_NEU_XX.wav', '1037_IWL_ANG_XX.wav', '1021_IOM_SAD_XX.wav', '1055_MTI_ANG_XX.wav', '1047_ITS_FEA_XX.wav', '1050_TAI_HAP_XX.wav', '1045_IOM_ANG_XX.wav', '1014_TSI_SAD_XX.wav', '1041_IWW_ANG_XX.wav', '1002_ITH_FEA_XX.wav', '1025_MTI_ANG_XX.wav', '1038_MTI_NEU_XX.wav', '1067_WSI_NEU_XX.wav', '1072_TIE_FEA_XX.wav', '1032_IOM_DIS_XX.wav', '1039_IEO_FEA_LO.wav', '1009_IWL_NEU_XX.wav', '1007_ITS_HAP_XX.wav', '1050_TIE_ANG_XX.wav', '1052_IEO_SAD_LO.wav', '1006_IEO_SAD_HI.wav', '1069_DFA_FEA_XX.wav', '1083_IEO_HAP_MD.wav', '1031_TSI_NEU_XX.wav', '1038_TSI_NEU_XX.wav', '1001_TIE_DIS_XX.wav', '1065_IEO_FEA_LO.wav', '1028_TIE_ANG_XX.wav', '1002_IWW_SAD_XX.wav', '1011_IEO_FEA_HI.wav', '1045_IWW_SAD_XX.wav', '1085_ITH_NEU_XX.wav', '1070_IEO_DIS_HI.wav', '1011_IEO_ANG_HI.wav', '1044_ITS_SAD_XX.wav', '1008_IEO_FEA_LO.wav', '1047_IEO_HAP_MD.wav', '1016_ITH_SAD_XX.wav', '1053_IEO_ANG_HI.wav', '1029_ITS_SAD_XX.wav', '1019_TAI_ANG_XX.wav', '1055_TAI_NEU_XX.wav', '1006_IEO_FEA_LO.wav', '1068_IOM_FEA_XX.wav', '1002_WSI_HAP_XX.wav', '1044_TAI_DIS_XX.wav', '1085_IOM_FEA_XX.wav', '1064_DFA_SAD_XX.wav', '1018_DFA_DIS_XX.wav', '1064_IEO_FEA_HI.wav', '1032_ITS_SAD_XX.wav', '1044_IWL_FEA_XX.wav', '1036_TAI_HAP_XX.wav', '1064_TAI_FEA_XX.wav', '1061_IWL_FEA_XX.wav', '1069_IEO_FEA_MD.wav', '1026_ITH_DIS_XX.wav', '1079_IEO_DIS_LO.wav', '1025_IOM_FEA_XX.wav', '1042_WSI_NEU_XX.wav', '1061_ITS_NEU_XX.wav', '1068_IOM_SAD_XX.wav', '1003_ITS_NEU_XX.wav', '1075_TIE_ANG_XX.wav', '1020_TSI_DIS_XX.wav', '1036_TIE_DIS_XX.wav', '1080_IWL_FEA_XX.wav', '1079_DFA_HAP_XX.wav', '1071_DFA_HAP_XX.wav', '1033_WSI_FEA_XX.wav', '1047_TAI_ANG_XX.wav', '1003_IEO_FEA_HI.wav', '1074_TIE_HAP_XX.wav', '1017_IOM_ANG_XX.wav', '1059_WSI_FEA_XX.wav', '1060_MTI_FEA_XX.wav', '1009_IOM_HAP_XX.wav', '1073_IEO_SAD_LO.wav', '1054_IOM_ANG_XX.wav', '1080_IEO_HAP_LO.wav', '1068_TIE_FEA_XX.wav', '1057_IWW_NEU_XX.wav', '1081_MTI_HAP_XX.wav', '1078_MTI_NEU_XX.wav', '1048_TAI_SAD_XX.wav', '1047_IWL_ANG_XX.wav', '1043_TAI_NEU_XX.wav', '1086_TSI_NEU_XX.wav', '1089_MTI_DIS_XX.wav', '1078_IWW_DIS_XX.wav', '1048_IWL_SAD_XX.wav', '1048_IWL_FEA_XX.wav', '1089_TSI_HAP_XX.wav', '1026_TSI_HAP_XX.wav', '1058_ITS_ANG_XX.wav', '1074_MTI_HAP_XX.wav', '1023_IEO_HAP_MD.wav', '1063_ITH_NEU_XX.wav', '1069_IEO_DIS_MD.wav', '1078_IEO_SAD_HI.wav', '1031_TIE_NEU_XX.wav', '1067_IEO_ANG_MD.wav', '1050_TIE_DIS_XX.wav', '1025_ITS_NEU_XX.wav', '1010_IEO_DIS_MD.wav', '1042_IEO_DIS_HI.wav', '1086_ITS_SAD_XX.wav', '1012_ITH_FEA_XX.wav', '1067_TIE_DIS_XX.wav', '1056_IEO_ANG_LO.wav', '1024_IEO_SAD_HI.wav', '1032_DFA_HAP_XX.wav', '1044_DFA_ANG_XX.wav', '1089_WSI_NEU_XX.wav', '1071_MTI_ANG_XX.wav', '1034_TAI_NEU_XX.wav', '1075_WSI_FEA_XX.wav', '1001_ITH_DIS_XX.wav', '1063_IWW_NEU_XX.wav', '1089_WSI_HAP_XX.wav', '1002_ITH_HAP_XX.wav', '1029_TIE_ANG_XX.wav', '1053_ITS_SAD_XX.wav', '1079_TAI_ANG_XX.wav', '1005_IOM_DIS_XX.wav', '1069_IEO_ANG_HI.wav', '1063_IEO_ANG_HI.wav', '1069_IWW_SAD_XX.wav', '1063_IEO_SAD_HI.wav', '1080_TSI_ANG_XX.wav', '1023_ITS_DIS_XX.wav', '1048_WSI_HAP_XX.wav', '1002_IOM_SAD_XX.wav', '1080_ITS_HAP_XX.wav', '1004_ITH_FEA_XX.wav', '1062_IWW_SAD_XX.wav', '1043_IOM_SAD_XX.wav', '1045_TSI_SAD_XX.wav', '1063_TIE_NEU_XX.wav', '1072_ITS_NEU_XX.wav', '1010_MTI_FEA_XX.wav', '1065_IEO_SAD_HI.wav', '1006_IWL_FEA_XX.wav', '1007_IWW_SAD_XX.wav', '1059_TAI_ANG_XX.wav', '1013_MTI_HAP_XX.wav', '1044_WSI_HAP_XX.wav', '1069_TIE_DIS_XX.wav', '1017_IEO_ANG_MD.wav', '1049_DFA_DIS_XX.wav', '1088_ITH_FEA_XX.wav', '1077_MTI_ANG_XX.wav', '1032_MTI_FEA_XX.wav', '1054_IEO_ANG_MD.wav', '1032_IWL_ANG_XX.wav', '1081_TAI_HAP_XX.wav', '1070_IOM_ANG_XX.wav', '1021_IEO_SAD_MD.wav', '1016_WSI_NEU_XX.wav', '1002_IWL_FEA_XX.wav', '1052_IEO_HAP_LO.wav', '1065_MTI_FEA_XX.wav', '1052_DFA_SAD_XX.wav', '1016_TAI_ANG_XX.wav', '1091_TIE_NEU_XX.wav', '1048_IOM_DIS_XX.wav', '1036_IEO_ANG_HI.wav', '1090_MTI_ANG_XX.wav', '1089_IOM_FEA_XX.wav', '1018_WSI_ANG_XX.wav', '1011_ITS_SAD_XX.wav', '1090_IWW_DIS_XX.wav', '1034_IWW_SAD_XX.wav', '1051_TAI_HAP_XX.wav', '1042_MTI_DIS_XX.wav', '1002_IWL_ANG_XX.wav', '1008_IEO_HAP_LO.wav', '1030_TSI_ANG_XX.wav', '1063_IWL_NEU_XX.wav', '1072_ITH_HAP_XX.wav', '1081_WSI_ANG_XX.wav', '1065_DFA_NEU_XX.wav', '1009_IOM_FEA_XX.wav', '1034_IWL_NEU_XX.wav', '1021_IOM_ANG_XX.wav', '1063_WSI_FEA_XX.wav', '1019_TSI_FEA_XX.wav', '1015_DFA_HAP_XX.wav', '1010_IOM_NEU_XX.wav', '1059_TSI_SAD_XX.wav', '1049_TAI_DIS_XX.wav', '1028_IEO_FEA_LO.wav', '1014_ITS_HAP_XX.wav', '1084_IOM_NEU_XX.wav', '1021_IWL_HAP_XX.wav', '1062_IWL_SAD_XX.wav', '1051_MTI_DIS_XX.wav', '1075_ITH_SAD_XX.wav', '1031_IEO_ANG_MD.wav', '1023_TAI_FEA_XX.wav', '1001_TSI_ANG_XX.wav', '1084_IWL_HAP_XX.wav', '1004_ITS_ANG_XX.wav', '1042_TAI_ANG_XX.wav', '1013_IEO_DIS_LO.wav', '1020_TIE_DIS_XX.wav', '1017_TAI_HAP_XX.wav', '1008_IOM_SAD_XX.wav', '1020_IEO_FEA_MD.wav', '1024_ITH_SAD_XX.wav', '1071_IEO_DIS_LO.wav', '1086_TIE_HAP_XX.wav', '1026_WSI_NEU_XX.wav', '1013_TSI_DIS_XX.wav', '1072_DFA_SAD_XX.wav', '1037_IEO_HAP_HI.wav', '1051_IWW_SAD_XX.wav', '1011_DFA_FEA_XX.wav', '1019_TIE_ANG_XX.wav', '1076_MTI_FEA_XX.wav', '1020_MTI_ANG_XX.wav', '1080_ITH_HAP_XX.wav', '1052_IWW_HAP_XX.wav', '1040_IEO_ANG_HI.wav', '1089_ITH_SAD_XX.wav', '1040_IEO_FEA_MD.wav', '1065_TSI_DIS_XX.wav', '1024_IEO_HAP_MD.wav', '1008_ITH_FEA_XX.wav', '1078_IEO_ANG_MD.wav', '1035_TSI_ANG_XX.wav', '1039_TAI_HAP_XX.wav', '1009_TSI_SAD_XX.wav', '1037_DFA_NEU_XX.wav', '1063_IWW_ANG_XX.wav', '1004_TIE_NEU_XX.wav', '1042_IOM_HAP_XX.wav', '1026_TIE_SAD_XX.wav', '1068_TSI_ANG_XX.wav', '1004_IWL_NEU_XX.wav', '1055_DFA_NEU_XX.wav', '1010_IEO_ANG_LO.wav', '1046_DFA_FEA_XX.wav', '1047_TSI_DIS_XX.wav', '1060_MTI_DIS_XX.wav', '1046_TSI_SAD_XX.wav', '1038_IEO_NEU_XX.wav', '1082_TSI_HAP_XX.wav', '1063_ITH_DIS_XX.wav', '1041_IWW_NEU_XX.wav', '1011_TIE_SAD_XX.wav', '1017_IOM_HAP_XX.wav', '1027_IEO_FEA_HI.wav', '1041_ITS_SAD_XX.wav', '1061_IWW_NEU_XX.wav', '1051_IWL_ANG_XX.wav', '1065_IEO_SAD_MD.wav', '1050_TSI_NEU_XX.wav', '1033_MTI_ANG_XX.wav', '1017_WSI_NEU_XX.wav', '1069_IWL_NEU_XX.wav', '1007_TIE_FEA_XX.wav', '1072_MTI_FEA_XX.wav', '1078_IWW_SAD_XX.wav', '1059_IWW_HAP_XX.wav', '1035_TIE_SAD_XX.wav', '1051_WSI_NEU_XX.wav', '1010_TAI_DIS_XX.wav', '1009_ITS_ANG_XX.wav', '1031_MTI_HAP_XX.wav', '1053_MTI_SAD_XX.wav', '1022_TAI_DIS_XX.wav', '1083_IOM_NEU_XX.wav', '1047_MTI_HAP_XX.wav', '1066_IWW_ANG_XX.wav', '1051_IEO_HAP_MD.wav', '1021_DFA_DIS_XX.wav', '1067_TSI_NEU_XX.wav', '1022_IWW_DIS_XX.wav', '1014_ITH_NEU_XX.wav', '1018_IEO_HAP_HI.wav', '1025_IEO_HAP_LO.wav', '1080_TAI_ANG_XX.wav', '1090_IWW_ANG_XX.wav', '1072_IEO_HAP_HI.wav', '1053_TSI_ANG_XX.wav', '1028_IOM_ANG_XX.wav', '1027_TAI_ANG_XX.wav', '1052_TIE_FEA_XX.wav', '1047_ITH_SAD_XX.wav', '1060_WSI_ANG_XX.wav', '1063_MTI_FEA_XX.wav', '1062_WSI_HAP_XX.wav', '1042_TSI_DIS_XX.wav', '1002_ITS_NEU_XX.wav', '1009_ITH_FEA_XX.wav', '1029_ITS_ANG_XX.wav', '1081_IWW_SAD_XX.wav', '1026_TIE_ANG_XX.wav', '1019_IWL_NEU_XX.wav', '1011_IEO_DIS_MD.wav', '1024_IWW_SAD_XX.wav', '1070_IEO_FEA_LO.wav', '1056_MTI_SAD_XX.wav', '1078_WSI_SAD_XX.wav', '1059_IEO_DIS_HI.wav', '1063_IEO_HAP_MD.wav', '1081_IEO_HAP_LO.wav', '1009_IEO_NEU_XX.wav', '1062_IEO_FEA_HI.wav', '1075_MTI_ANG_XX.wav', '1090_WSI_NEU_XX.wav', '1067_TAI_ANG_XX.wav', '1054_TSI_FEA_XX.wav', '1074_ITH_ANG_XX.wav', '1086_IEO_HAP_MD.wav', '1085_DFA_ANG_XX.wav', '1034_IWL_ANG_XX.wav', '1002_TSI_ANG_XX.wav', '1053_TSI_HAP_XX.wav', '1012_DFA_ANG_XX.wav', '1040_DFA_NEU_XX.wav', '1075_IEO_ANG_HI.wav', '1049_IWL_SAD_XX.wav', '1008_TSI_NEU_XX.wav', '1068_ITH_FEA_XX.wav', '1024_TIE_NEU_XX.wav', '1059_DFA_ANG_XX.wav', '1040_TSI_DIS_XX.wav', '1052_IOM_ANG_XX.wav', '1075_TAI_DIS_XX.wav', '1036_IOM_HAP_XX.wav', '1006_TAI_HAP_XX.wav', '1021_WSI_HAP_XX.wav', '1015_MTI_SAD_XX.wav', '1060_TIE_SAD_XX.wav', '1005_WSI_HAP_XX.wav', '1023_TSI_SAD_XX.wav', '1037_IEO_FEA_LO.wav', '1017_WSI_SAD_XX.wav', '1065_TAI_ANG_XX.wav', '1002_DFA_DIS_XX.wav', '1036_IOM_ANG_XX.wav', '1028_TSI_HAP_XX.wav', '1007_IOM_SAD_XX.wav', '1081_IEO_DIS_HI.wav', '1083_IEO_SAD_LO.wav', '1002_IOM_NEU_XX.wav', '1049_TIE_SAD_XX.wav', '1059_DFA_NEU_XX.wav', '1090_IEO_SAD_LO.wav', '1004_TSI_SAD_XX.wav', '1091_ITS_NEU_XX.wav', '1065_DFA_SAD_XX.wav', '1024_ITS_DIS_XX.wav', '1079_TIE_HAP_XX.wav', '1079_IWL_HAP_XX.wav', '1051_ITS_DIS_XX.wav', '1042_TSI_ANG_XX.wav', '1011_ITS_NEU_XX.wav', '1001_TAI_NEU_XX.wav', '1016_IWW_NEU_XX.wav', '1007_DFA_ANG_XX.wav', '1060_MTI_NEU_XX.wav', '1015_IWL_DIS_XX.wav', '1069_ITH_NEU_XX.wav', '1045_TSI_DIS_XX.wav', '1084_WSI_FEA_XX.wav', '1084_IEO_DIS_LO.wav', '1070_TSI_SAD_XX.wav', '1044_TAI_ANG_XX.wav', '1066_TSI_NEU_XX.wav', '1038_TSI_SAD_XX.wav', '1059_IOM_DIS_XX.wav', '1047_TSI_ANG_XX.wav', '1020_IWL_NEU_XX.wav', '1028_IEO_ANG_HI.wav', '1053_TSI_SAD_XX.wav', '1064_IWW_HAP_XX.wav', '1002_IEO_NEU_XX.wav', '1015_IOM_DIS_XX.wav', '1069_IOM_SAD_XX.wav', '1045_WSI_DIS_XX.wav', '1054_ITS_ANG_XX.wav', '1012_IWW_NEU_XX.wav', '1036_ITH_SAD_XX.wav', '1057_TIE_SAD_XX.wav', '1070_IEO_SAD_HI.wav', '1061_MTI_FEA_XX.wav', '1038_IWW_NEU_XX.wav', '1022_TSI_DIS_XX.wav', '1019_IEO_ANG_LO.wav', '1022_IEO_DIS_LO.wav', '1033_TAI_FEA_XX.wav', '1002_ITS_FEA_XX.wav', '1040_TIE_FEA_XX.wav', '1053_ITS_NEU_XX.wav', '1061_ITH_ANG_XX.wav', '1004_TAI_ANG_XX.wav', '1086_WSI_SAD_XX.wav', '1037_TIE_DIS_XX.wav', '1022_IEO_FEA_MD.wav', '1015_TIE_ANG_XX.wav', '1050_IWL_ANG_XX.wav', '1033_WSI_NEU_XX.wav', '1038_IEO_ANG_MD.wav', '1087_IEO_FEA_LO.wav', '1032_TAI_ANG_XX.wav', '1006_IWW_NEU_XX.wav', '1076_MTI_SAD_XX.wav', '1085_DFA_HAP_XX.wav', '1030_IEO_ANG_HI.wav', '1022_ITS_SAD_XX.wav', '1005_WSI_FEA_XX.wav', '1034_ITS_HAP_XX.wav', '1053_MTI_DIS_XX.wav', '1042_TSI_HAP_XX.wav', '1016_IOM_DIS_XX.wav', '1022_TIE_NEU_XX.wav', '1054_IOM_DIS_XX.wav', '1063_IEO_SAD_MD.wav', '1072_IWL_ANG_XX.wav', '1042_MTI_HAP_XX.wav', '1013_IWW_FEA_XX.wav', '1021_IWW_SAD_XX.wav', '1031_IOM_SAD_XX.wav', '1089_ITS_NEU_XX.wav', '1034_DFA_SAD_XX.wav', '1080_TAI_DIS_XX.wav', '1058_WSI_FEA_XX.wav', '1055_IOM_HAP_XX.wav', '1010_IWW_ANG_XX.wav', '1001_IEO_HAP_MD.wav', '1037_IEO_DIS_LO.wav', '1039_IWL_ANG_XX.wav', '1036_MTI_HAP_XX.wav', '1046_IWL_FEA_XX.wav', '1066_ITH_NEU_XX.wav', '1038_WSI_SAD_XX.wav', '1039_IEO_FEA_HI.wav', '1045_IEO_SAD_LO.wav', '1060_MTI_HAP_XX.wav', '1008_ITH_ANG_XX.wav', '1031_IWW_FEA_XX.wav', '1018_IEO_DIS_HI.wav', '1085_MTI_SAD_XX.wav', '1015_ITS_DIS_XX.wav', '1009_IEO_FEA_HI.wav', '1041_TAI_FEA_XX.wav', '1006_TAI_ANG_XX.wav', '1067_IEO_NEU_XX.wav', '1077_TIE_ANG_XX.wav', '1036_IEO_SAD_MD.wav', '1090_IEO_ANG_MD.wav', '1036_DFA_DIS_XX.wav', '1062_IEO_SAD_HI.wav', '1053_IWW_HAP_XX.wav', '1078_IWL_DIS_XX.wav', '1053_WSI_FEA_XX.wav', '1030_IOM_FEA_XX.wav', '1054_DFA_HAP_XX.wav', '1019_MTI_NEU_XX.wav', '1015_IEO_DIS_MD.wav', '1055_IEO_HAP_MD.wav', '1033_DFA_ANG_XX.wav', '1066_IEO_SAD_LO.wav', '1016_ITS_ANG_XX.wav', '1032_MTI_NEU_XX.wav', '1022_ITS_FEA_XX.wav', '1059_MTI_DIS_XX.wav', '1074_IEO_SAD_LO.wav', '1050_TIE_NEU_XX.wav', '1074_TAI_SAD_XX.wav', '1035_IWW_DIS_XX.wav', '1050_IEO_ANG_LO.wav', '1069_IWW_DIS_XX.wav', '1010_ITS_FEA_XX.wav', '1020_IWW_HAP_XX.wav', '1070_ITS_ANG_XX.wav', '1033_IWL_HAP_XX.wav', '1049_IEO_HAP_MD.wav', '1057_IWL_HAP_XX.wav', '1015_ITS_HAP_XX.wav', '1043_IEO_ANG_MD.wav', '1043_IWW_HAP_XX.wav', '1010_TAI_ANG_XX.wav', '1082_IWL_DIS_XX.wav', '1074_IEO_HAP_HI.wav', '1068_IEO_ANG_LO.wav', '1054_IWL_DIS_XX.wav', '1069_TIE_HAP_XX.wav', '1086_DFA_DIS_XX.wav', '1012_IOM_DIS_XX.wav', '1038_MTI_ANG_XX.wav', '1028_IOM_NEU_XX.wav', '1031_IOM_NEU_XX.wav', '1043_TIE_NEU_XX.wav', '1017_TAI_ANG_XX.wav', '1073_TAI_ANG_XX.wav', '1027_TIE_FEA_XX.wav', '1069_ITH_ANG_XX.wav', '1017_IEO_SAD_MD.wav', '1023_IWW_SAD_XX.wav', '1006_IOM_HAP_XX.wav', '1072_WSI_DIS_XX.wav', '1072_IEO_SAD_MD.wav', '1018_DFA_NEU_XX.wav', '1059_WSI_NEU_XX.wav', '1026_TSI_DIS_XX.wav', '1071_TAI_DIS_XX.wav', '1077_TSI_HAP_XX.wav', '1084_IWW_HAP_XX.wav', '1028_TSI_DIS_XX.wav', '1022_ITH_NEU_XX.wav', '1045_IEO_ANG_LO.wav', '1050_TIE_SAD_XX.wav', '1008_MTI_DIS_XX.wav', '1031_IWW_DIS_XX.wav', '1057_MTI_ANG_XX.wav', '1052_TSI_SAD_XX.wav', '1084_ITH_FEA_XX.wav', '1089_IWL_SAD_XX.wav', '1047_IEO_ANG_LO.wav', '1018_ITH_SAD_XX.wav', '1070_ITH_HAP_XX.wav', '1085_TAI_NEU_XX.wav', '1001_IEO_DIS_HI.wav', '1024_IEO_DIS_MD.wav', '1047_ITS_ANG_XX.wav', '1039_ITS_NEU_XX.wav', '1050_IWL_DIS_XX.wav', '1007_IEO_ANG_HI.wav', '1037_WSI_SAD_XX.wav', '1052_DFA_FEA_XX.wav', '1027_IWL_HAP_XX.wav', '1025_IWW_HAP_XX.wav', '1010_TSI_FEA_XX.wav', '1030_WSI_ANG_XX.wav', '1080_TAI_HAP_XX.wav', '1076_IOM_SAD_XX.wav', '1048_IEO_DIS_HI.wav', '1085_ITH_HAP_XX.wav', '1061_WSI_SAD_XX.wav', '1069_MTI_ANG_XX.wav', '1019_TSI_DIS_XX.wav', '1023_MTI_ANG_XX.wav', '1065_ITS_ANG_XX.wav', '1006_TAI_DIS_XX.wav', '1072_ITH_FEA_XX.wav', '1054_MTI_NEU_XX.wav', '1074_DFA_FEA_XX.wav', '1072_IEO_SAD_LO.wav', '1080_IEO_HAP_MD.wav', '1021_IEO_HAP_MD.wav', '1068_DFA_FEA_XX.wav', '1056_MTI_FEA_XX.wav', '1031_IEO_HAP_MD.wav', '1001_ITS_HAP_XX.wav', '1027_ITS_HAP_XX.wav', '1020_IWL_SAD_XX.wav', '1025_ITH_DIS_XX.wav', '1062_DFA_NEU_XX.wav', '1008_IWW_FEA_XX.wav', '1003_IOM_HAP_XX.wav', '1023_IEO_DIS_LO.wav', '1017_TSI_FEA_XX.wav', '1062_IWW_FEA_XX.wav', '1023_IOM_DIS_XX.wav', '1068_IWW_FEA_XX.wav', '1063_IEO_HAP_HI.wav', '1052_ITS_HAP_XX.wav', '1079_TSI_SAD_XX.wav', '1076_WSI_FEA_XX.wav', '1080_MTI_SAD_XX.wav', '1057_ITH_FEA_XX.wav', '1073_TIE_ANG_XX.wav', '1018_TIE_HAP_XX.wav', '1079_DFA_NEU_XX.wav', '1067_TSI_SAD_XX.wav', '1029_MTI_NEU_XX.wav', '1029_IOM_FEA_XX.wav', '1089_TIE_FEA_XX.wav', '1007_ITH_NEU_XX.wav', '1088_DFA_NEU_XX.wav', '1056_IWL_ANG_XX.wav', '1055_ITH_HAP_XX.wav', '1006_IOM_ANG_XX.wav', '1068_WSI_DIS_XX.wav', '1042_IEO_ANG_HI.wav', '1070_TIE_ANG_XX.wav', '1002_MTI_NEU_XX.wav', '1074_IEO_NEU_XX.wav', '1036_IEO_HAP_MD.wav', '1024_IEO_SAD_MD.wav', '1067_ITS_ANG_XX.wav', '1068_IWL_ANG_XX.wav', '1060_ITS_SAD_XX.wav', '1086_IEO_SAD_MD.wav', '1005_IEO_FEA_MD.wav', '1023_ITS_FEA_XX.wav', '1043_IWW_FEA_XX.wav', '1064_IOM_SAD_XX.wav', '1082_TAI_SAD_XX.wav', '1019_IEO_FEA_LO.wav', '1022_TSI_NEU_XX.wav', '1010_IWW_SAD_XX.wav', '1061_IOM_DIS_XX.wav', '1057_IEO_HAP_HI.wav', '1035_MTI_DIS_XX.wav', '1003_IEO_ANG_LO.wav', '1067_IWL_HAP_XX.wav', '1012_MTI_DIS_XX.wav', '1014_MTI_DIS_XX.wav', '1005_IWL_FEA_XX.wav', '1037_IEO_HAP_LO.wav', '1026_IEO_ANG_HI.wav', '1088_IEO_ANG_LO.wav', '1015_WSI_FEA_XX.wav', '1011_IEO_FEA_LO.wav', '1027_ITH_NEU_XX.wav', '1033_IEO_SAD_LO.wav', '1064_IEO_ANG_MD.wav', '1042_IWW_SAD_XX.wav', '1072_WSI_HAP_XX.wav', '1045_DFA_HAP_XX.wav', '1086_ITS_FEA_XX.wav', '1045_IWL_DIS_XX.wav', '1069_IEO_HAP_LO.wav', '1042_TAI_DIS_XX.wav', '1066_IEO_HAP_MD.wav', '1013_IEO_HAP_MD.wav', '1075_ITS_DIS_XX.wav', '1047_TAI_DIS_XX.wav', '1050_DFA_NEU_XX.wav', '1017_TSI_SAD_XX.wav', '1049_TSI_NEU_XX.wav', '1054_ITH_NEU_XX.wav', '1043_IEO_SAD_LO.wav', '1062_ITS_HAP_XX.wav', '1019_IEO_ANG_HI.wav', '1077_IWL_FEA_XX.wav', '1054_DFA_SAD_XX.wav', '1034_MTI_NEU_XX.wav', '1040_IEO_DIS_MD.wav', '1013_IEO_ANG_HI.wav', '1080_IEO_HAP_HI.wav', '1038_WSI_FEA_XX.wav', '1062_DFA_ANG_XX.wav', '1013_ITS_ANG_XX.wav', '1041_MTI_HAP_XX.wav', '1005_IEO_HAP_LO.wav', '1028_WSI_NEU_XX.wav', '1030_IWW_NEU_XX.wav', '1068_TSI_FEA_XX.wav', '1031_ITS_FEA_XX.wav', '1087_ITH_NEU_XX.wav', '1058_TIE_HAP_XX.wav', '1014_ITH_SAD_XX.wav', '1061_IEO_FEA_HI.wav', '1055_WSI_DIS_XX.wav', '1086_TIE_FEA_XX.wav', '1052_WSI_ANG_XX.wav', '1075_TIE_HAP_XX.wav', '1040_MTI_FEA_XX.wav', '1044_IEO_SAD_LO.wav', '1006_WSI_FEA_XX.wav', '1014_ITS_ANG_XX.wav', '1004_IEO_FEA_LO.wav', '1067_ITH_HAP_XX.wav', '1046_TSI_DIS_XX.wav', '1006_TSI_FEA_XX.wav', '1071_ITS_FEA_XX.wav', '1083_IOM_HAP_XX.wav', '1019_IOM_FEA_XX.wav', '1083_ITS_DIS_XX.wav', '1066_IEO_ANG_MD.wav', '1069_TIE_FEA_XX.wav', '1058_ITH_HAP_XX.wav', '1016_ITS_FEA_XX.wav', '1010_IEO_SAD_HI.wav', '1019_IEO_NEU_XX.wav', '1043_IEO_ANG_HI.wav', '1071_MTI_SAD_XX.wav', '1088_IEO_HAP_HI.wav', '1015_TSI_NEU_XX.wav', '1055_TSI_ANG_XX.wav', '1038_IOM_NEU_XX.wav', '1036_ITS_HAP_XX.wav', '1084_TIE_ANG_XX.wav', '1027_TIE_DIS_XX.wav', '1032_WSI_HAP_XX.wav', '1073_TAI_HAP_XX.wav', '1035_ITH_FEA_XX.wav', '1054_IEO_HAP_LO.wav', '1078_IWL_NEU_XX.wav', '1087_IEO_SAD_LO.wav', '1022_IWL_FEA_XX.wav', '1052_MTI_FEA_XX.wav', '1060_WSI_DIS_XX.wav', '1072_ITH_DIS_XX.wav', '1059_IOM_HAP_XX.wav', '1063_IOM_SAD_XX.wav', '1005_MTI_DIS_XX.wav', '1056_WSI_FEA_XX.wav', '1011_IWL_NEU_XX.wav', '1058_TSI_DIS_XX.wav', '1033_TAI_NEU_XX.wav', '1084_TIE_NEU_XX.wav', '1007_IEO_ANG_MD.wav', '1080_IWL_NEU_XX.wav', '1024_TAI_NEU_XX.wav', '1032_IWW_FEA_XX.wav', '1090_IEO_ANG_HI.wav', '1083_IWW_HAP_XX.wav', '1090_IEO_HAP_MD.wav', '1089_TIE_HAP_XX.wav', '1039_TAI_DIS_XX.wav', '1006_WSI_NEU_XX.wav', '1044_IOM_ANG_XX.wav', '1023_TAI_SAD_XX.wav', '1030_WSI_FEA_XX.wav', '1056_IOM_HAP_XX.wav', '1053_IEO_HAP_MD.wav', '1043_IEO_DIS_MD.wav', '1087_IWL_HAP_XX.wav', '1088_IOM_SAD_XX.wav', '1087_TIE_HAP_XX.wav', '1076_MTI_DIS_XX.wav', '1018_ITS_FEA_XX.wav', '1004_DFA_FEA_XX.wav', '1044_IOM_NEU_XX.wav', '1002_IEO_SAD_MD.wav', '1041_IOM_DIS_XX.wav', '1031_IWL_NEU_XX.wav', '1088_TAI_FEA_XX.wav', '1066_TAI_FEA_XX.wav', '1026_IWW_NEU_XX.wav', '1044_ITS_HAP_XX.wav', '1029_TAI_NEU_XX.wav', '1024_DFA_FEA_XX.wav', '1046_IWL_SAD_XX.wav', '1091_DFA_DIS_XX.wav', '1014_IEO_DIS_LO.wav', '1088_MTI_FEA_XX.wav', '1025_TSI_ANG_XX.wav', '1078_IWW_ANG_XX.wav', '1047_IEO_FEA_LO.wav', '1039_WSI_DIS_XX.wav', '1056_TAI_ANG_XX.wav', '1026_IWL_NEU_XX.wav', '1009_IOM_NEU_XX.wav', '1023_MTI_DIS_XX.wav', '1076_WSI_SAD_XX.wav', '1028_ITS_SAD_XX.wav', '1076_IEO_SAD_LO.wav', '1013_ITS_FEA_XX.wav', '1011_MTI_DIS_XX.wav', '1049_IWL_FEA_XX.wav', '1003_IWL_HAP_XX.wav', '1079_TSI_HAP_XX.wav', '1029_IWL_SAD_XX.wav', '1042_MTI_SAD_XX.wav', '1086_ITH_ANG_XX.wav', '1006_TSI_SAD_XX.wav', '1029_TAI_FEA_XX.wav', '1022_TSI_ANG_XX.wav', '1053_IEO_FEA_HI.wav', '1071_ITS_NEU_XX.wav', '1085_ITS_FEA_XX.wav', '1089_IEO_DIS_MD.wav', '1081_IWW_HAP_XX.wav', '1005_IOM_HAP_XX.wav', '1072_DFA_HAP_XX.wav', '1060_TSI_ANG_XX.wav', '1018_MTI_FEA_XX.wav', '1019_TSI_ANG_XX.wav', '1012_IWL_ANG_XX.wav', '1020_TIE_NEU_XX.wav', '1033_TAI_DIS_XX.wav', '1091_IWL_ANG_XX.wav', '1022_TSI_HAP_XX.wav', '1042_DFA_HAP_XX.wav', '1077_ITS_ANG_XX.wav', '1072_TAI_ANG_XX.wav', '1020_TAI_HAP_XX.wav', '1069_TSI_ANG_XX.wav', '1040_MTI_DIS_XX.wav', '1056_TSI_DIS_XX.wav', '1011_ITH_FEA_XX.wav', '1007_MTI_ANG_XX.wav', '1050_TSI_SAD_XX.wav', '1034_IEO_FEA_MD.wav', '1048_DFA_ANG_XX.wav', '1079_IWL_NEU_XX.wav', '1074_IWW_DIS_XX.wav', '1043_MTI_DIS_XX.wav', '1031_IEO_ANG_HI.wav', '1007_IWL_SAD_XX.wav', '1071_WSI_SAD_XX.wav', '1069_TAI_FEA_XX.wav', '1090_ITH_FEA_XX.wav', '1017_IOM_NEU_XX.wav', '1066_IEO_HAP_HI.wav', '1047_DFA_FEA_XX.wav', '1039_TIE_ANG_XX.wav', '1003_TSI_FEA_XX.wav', '1083_MTI_FEA_XX.wav', '1082_TIE_SAD_XX.wav', '1080_IEO_NEU_XX.wav', '1046_IOM_SAD_XX.wav', '1077_IEO_ANG_HI.wav', '1051_IOM_HAP_XX.wav', '1045_MTI_HAP_XX.wav', '1048_WSI_ANG_XX.wav', '1023_TSI_NEU_XX.wav', '1042_TIE_ANG_XX.wav', '1022_MTI_HAP_XX.wav', '1002_IWW_FEA_XX.wav', '1050_IEO_HAP_LO.wav', '1069_TSI_DIS_XX.wav', '1038_IWW_ANG_XX.wav', '1048_IEO_HAP_HI.wav', '1043_MTI_HAP_XX.wav', '1045_IEO_FEA_LO.wav', '1083_IOM_ANG_XX.wav', '1027_IEO_NEU_XX.wav', '1087_TSI_ANG_XX.wav', '1052_IOM_HAP_XX.wav', '1028_IWL_SAD_XX.wav', '1039_TIE_DIS_XX.wav', '1065_DFA_ANG_XX.wav', '1026_ITH_NEU_XX.wav', '1074_IOM_NEU_XX.wav', '1049_IEO_FEA_HI.wav', '1090_IWL_HAP_XX.wav', '1072_IOM_HAP_XX.wav', '1033_ITS_DIS_XX.wav', '1032_IWW_DIS_XX.wav', '1029_TSI_HAP_XX.wav', '1080_IWL_DIS_XX.wav', '1049_IEO_DIS_HI.wav', '1029_WSI_SAD_XX.wav', '1026_ITS_NEU_XX.wav', '1018_TAI_NEU_XX.wav', '1091_TSI_FEA_XX.wav', '1074_TSI_HAP_XX.wav', '1043_TAI_DIS_XX.wav', '1057_ITS_DIS_XX.wav', '1006_IWL_NEU_XX.wav', '1017_IEO_FEA_MD.wav', '1091_DFA_ANG_XX.wav', '1076_TSI_DIS_XX.wav', '1068_IWL_DIS_XX.wav', '1011_DFA_HAP_XX.wav', '1082_MTI_FEA_XX.wav', '1019_TIE_NEU_XX.wav', '1036_TIE_ANG_XX.wav', '1034_ITS_ANG_XX.wav', '1024_IEO_DIS_LO.wav', '1002_TAI_NEU_XX.wav', '1084_IOM_DIS_XX.wav', '1061_TAI_ANG_XX.wav', '1067_ITH_ANG_XX.wav', '1054_IEO_NEU_XX.wav', '1048_ITH_NEU_XX.wav', '1007_WSI_ANG_XX.wav', '1077_IEO_ANG_LO.wav', '1002_IEO_DIS_MD.wav', '1029_ITH_ANG_XX.wav', '1057_IEO_ANG_LO.wav', '1066_IWW_HAP_XX.wav', '1027_DFA_NEU_XX.wav', '1056_IEO_HAP_MD.wav', '1062_TIE_FEA_XX.wav', '1027_IWL_ANG_XX.wav', '1015_MTI_HAP_XX.wav', '1035_IOM_HAP_XX.wav', '1057_IOM_SAD_XX.wav', '1031_IEO_HAP_HI.wav', '1070_WSI_ANG_XX.wav', '1042_ITH_SAD_XX.wav', '1033_TAI_SAD_XX.wav', '1075_IEO_DIS_HI.wav', '1065_ITH_NEU_XX.wav', '1066_IOM_HAP_XX.wav', '1061_TSI_NEU_XX.wav', '1004_TAI_NEU_XX.wav', '1075_IEO_SAD_HI.wav', '1049_IEO_SAD_LO.wav', '1034_TSI_NEU_XX.wav', '1083_ITS_NEU_XX.wav', '1058_IEO_SAD_LO.wav', '1047_MTI_ANG_XX.wav', '1083_TSI_SAD_XX.wav', '1033_IWW_SAD_XX.wav', '1043_TIE_FEA_XX.wav', '1074_ITS_FEA_XX.wav', '1062_ITH_DIS_XX.wav', '1021_IEO_FEA_MD.wav', '1087_DFA_NEU_XX.wav', '1070_MTI_DIS_XX.wav', '1031_TAI_HAP_XX.wav', '1020_IOM_FEA_XX.wav', '1056_TSI_FEA_XX.wav', '1049_ITS_HAP_XX.wav', '1065_ITH_ANG_XX.wav', '1066_MTI_HAP_XX.wav', '1037_WSI_HAP_XX.wav', '1071_TIE_HAP_XX.wav', '1040_ITH_HAP_XX.wav', '1064_ITS_DIS_XX.wav', '1049_TAI_NEU_XX.wav', '1076_IEO_DIS_LO.wav', '1043_TSI_HAP_XX.wav', '1039_IWW_SAD_XX.wav', '1011_IWW_NEU_XX.wav', '1061_DFA_HAP_XX.wav', '1088_TAI_DIS_XX.wav', '1030_TAI_NEU_XX.wav', '1029_ITS_FEA_XX.wav', '1021_IOM_DIS_XX.wav', '1067_WSI_HAP_XX.wav', '1016_MTI_FEA_XX.wav', '1059_TAI_FEA_XX.wav', '1023_IWL_ANG_XX.wav', '1018_IWL_NEU_XX.wav', '1041_TSI_SAD_XX.wav', '1059_IEO_ANG_LO.wav', '1041_IWL_ANG_XX.wav', '1033_IOM_NEU_XX.wav', '1011_IWW_SAD_XX.wav', '1082_TIE_FEA_XX.wav', '1081_MTI_FEA_XX.wav', '1016_WSI_SAD_XX.wav', '1016_IWL_NEU_XX.wav', '1053_MTI_ANG_XX.wav', '1043_IOM_NEU_XX.wav', '1006_MTI_NEU_XX.wav', '1078_WSI_DIS_XX.wav', '1081_ITH_NEU_XX.wav', '1075_DFA_DIS_XX.wav', '1026_TAI_ANG_XX.wav', '1040_IWW_DIS_XX.wav', '1001_WSI_ANG_XX.wav', '1080_WSI_FEA_XX.wav', '1015_IEO_SAD_LO.wav', '1006_IOM_DIS_XX.wav', '1047_IWL_NEU_XX.wav', '1035_IWL_FEA_XX.wav', '1089_IWL_FEA_XX.wav', '1087_IEO_ANG_HI.wav', '1023_IEO_NEU_XX.wav', '1069_MTI_HAP_XX.wav', '1008_DFA_SAD_XX.wav', '1012_IEO_NEU_XX.wav', '1043_DFA_SAD_XX.wav', '1063_MTI_ANG_XX.wav', '1055_TAI_FEA_XX.wav', '1011_ITH_HAP_XX.wav', '1038_IOM_ANG_XX.wav', '1011_TAI_NEU_XX.wav', '1080_IEO_FEA_HI.wav', '1041_MTI_SAD_XX.wav', '1021_ITS_NEU_XX.wav', '1043_WSI_FEA_XX.wav', '1088_ITH_ANG_XX.wav', '1087_IEO_DIS_LO.wav', '1065_WSI_ANG_XX.wav', '1064_ITH_SAD_XX.wav', '1034_WSI_FEA_XX.wav', '1072_IWW_NEU_XX.wav', '1003_MTI_FEA_XX.wav', '1056_IWL_HAP_XX.wav', '1018_TSI_NEU_XX.wav', '1010_IEO_FEA_HI.wav', '1048_TIE_SAD_XX.wav', '1066_TSI_DIS_XX.wav', '1083_IWL_ANG_XX.wav', '1088_IOM_ANG_XX.wav', '1019_TSI_NEU_XX.wav', '1076_IEO_ANG_LO.wav', '1009_ITS_NEU_XX.wav', '1051_TIE_FEA_XX.wav', '1016_TIE_HAP_XX.wav', '1050_IWW_FEA_XX.wav', '1091_WSI_SAD_XX.wav', '1080_IWW_DIS_XX.wav', '1082_ITH_DIS_XX.wav', '1058_IEO_DIS_HI.wav', '1079_IWW_HAP_XX.wav', '1046_IWL_ANG_XX.wav', '1012_IWL_NEU_XX.wav', '1072_TAI_HAP_XX.wav', '1025_DFA_NEU_XX.wav', '1016_WSI_DIS_XX.wav', '1064_TSI_NEU_XX.wav', '1053_IOM_HAP_XX.wav', '1057_ITH_DIS_XX.wav', '1033_TSI_DIS_XX.wav', '1041_IEO_DIS_LO.wav', '1005_MTI_ANG_XX.wav', '1018_IOM_FEA_XX.wav', '1032_ITH_FEA_XX.wav', '1036_TIE_FEA_XX.wav', '1071_IWL_DIS_XX.wav', '1023_IOM_NEU_XX.wav', '1078_IEO_ANG_LO.wav', '1073_TIE_FEA_XX.wav', '1018_IWW_SAD_XX.wav', '1048_ITS_DIS_XX.wav', '1058_ITS_NEU_XX.wav', '1004_DFA_NEU_XX.wav', '1028_IEO_HAP_HI.wav', '1034_IWL_SAD_XX.wav', '1073_IEO_ANG_MD.wav', '1016_TIE_DIS_XX.wav', '1056_TSI_NEU_XX.wav', '1059_IWL_SAD_XX.wav', '1035_IOM_ANG_XX.wav', '1018_IWL_FEA_XX.wav', '1061_IEO_HAP_MD.wav', '1065_TSI_ANG_XX.wav', '1068_WSI_NEU_XX.wav', '1084_ITS_SAD_XX.wav', '1021_IWW_NEU_XX.wav', '1077_DFA_HAP_XX.wav', '1007_TSI_SAD_XX.wav', '1083_MTI_ANG_XX.wav', '1047_MTI_FEA_XX.wav', '1075_TSI_HAP_XX.wav', '1069_IEO_ANG_MD.wav', '1073_IEO_ANG_LO.wav', '1012_TAI_HAP_XX.wav', '1039_DFA_DIS_XX.wav', '1012_TSI_SAD_XX.wav', '1041_TIE_SAD_XX.wav', '1057_IEO_FEA_MD.wav', '1079_IWL_ANG_XX.wav', '1015_IWW_ANG_XX.wav', '1044_TIE_DIS_XX.wav', '1023_DFA_FEA_XX.wav', '1023_TAI_HAP_XX.wav', '1076_IWL_ANG_XX.wav', '1065_IOM_FEA_XX.wav', '1037_IEO_SAD_MD.wav', '1016_TAI_SAD_XX.wav', '1086_IWW_HAP_XX.wav', '1083_TIE_ANG_XX.wav', '1041_IEO_ANG_MD.wav', '1034_IOM_SAD_XX.wav', '1048_MTI_FEA_XX.wav', '1044_TAI_SAD_XX.wav', '1059_TAI_NEU_XX.wav', '1053_IEO_HAP_HI.wav', '1014_IWW_HAP_XX.wav', '1061_IWL_DIS_XX.wav', '1048_IOM_NEU_XX.wav', '1035_TIE_NEU_XX.wav', '1072_ITS_DIS_XX.wav', '1091_ITS_HAP_XX.wav', '1054_ITS_SAD_XX.wav', '1064_ITS_NEU_XX.wav', '1060_TSI_FEA_XX.wav', '1044_DFA_SAD_XX.wav', '1054_IWW_DIS_XX.wav', '1084_MTI_DIS_XX.wav', '1070_IWW_HAP_XX.wav', '1030_ITS_NEU_XX.wav', '1078_TIE_NEU_XX.wav', '1063_TSI_FEA_XX.wav', '1046_MTI_ANG_XX.wav', '1071_IWW_ANG_XX.wav', '1038_IOM_SAD_XX.wav', '1029_TSI_FEA_XX.wav', '1076_WSI_HAP_XX.wav', '1073_IEO_ANG_HI.wav', '1091_IWL_NEU_XX.wav', '1082_WSI_ANG_XX.wav', '1062_ITS_NEU_XX.wav', '1056_TAI_SAD_XX.wav', '1033_TSI_HAP_XX.wav', '1004_ITS_NEU_XX.wav', '1082_ITH_NEU_XX.wav', '1091_MTI_DIS_XX.wav', '1013_IOM_NEU_XX.wav', '1036_MTI_DIS_XX.wav', '1002_TAI_ANG_XX.wav', '1087_IWL_DIS_XX.wav', '1024_TSI_DIS_XX.wav', '1046_IEO_HAP_LO.wav', '1023_IEO_ANG_MD.wav', '1054_MTI_DIS_XX.wav', '1082_ITS_NEU_XX.wav', '1062_TSI_SAD_XX.wav', '1037_IOM_FEA_XX.wav', '1020_IEO_ANG_HI.wav', '1069_WSI_HAP_XX.wav', '1071_WSI_NEU_XX.wav', '1057_TSI_NEU_XX.wav', '1090_DFA_NEU_XX.wav', '1016_TIE_SAD_XX.wav', '1031_ITS_HAP_XX.wav', '1020_IEO_HAP_MD.wav', '1056_MTI_HAP_XX.wav', '1068_IWW_SAD_XX.wav', '1048_WSI_DIS_XX.wav', '1050_ITS_FEA_XX.wav', '1064_WSI_SAD_XX.wav', '1008_ITS_FEA_XX.wav', '1024_TSI_ANG_XX.wav', '1047_ITH_HAP_XX.wav', '1046_TAI_NEU_XX.wav', '1084_ITH_DIS_XX.wav', '1063_ITH_SAD_XX.wav', '1029_IEO_NEU_XX.wav', '1063_IEO_DIS_LO.wav', '1014_TIE_ANG_XX.wav', '1076_IWL_NEU_XX.wav', '1070_IEO_ANG_HI.wav', '1056_IWL_DIS_XX.wav', '1056_WSI_DIS_XX.wav', '1004_WSI_SAD_XX.wav', '1060_IWW_HAP_XX.wav', '1011_TSI_HAP_XX.wav', '1029_IEO_SAD_LO.wav', '1030_IOM_HAP_XX.wav', '1017_IWL_DIS_XX.wav', '1067_WSI_DIS_XX.wav', '1021_MTI_ANG_XX.wav', '1067_IOM_HAP_XX.wav', '1032_WSI_ANG_XX.wav', '1076_ITH_HAP_XX.wav', '1021_ITH_FEA_XX.wav', '1057_WSI_ANG_XX.wav', '1047_ITH_FEA_XX.wav', '1034_IWW_DIS_XX.wav', '1003_WSI_SAD_XX.wav', '1030_IEO_FEA_LO.wav', '1063_TSI_NEU_XX.wav', '1075_ITS_HAP_XX.wav', '1018_IEO_HAP_LO.wav', '1031_IWL_HAP_XX.wav', '1055_TSI_NEU_XX.wav', '1076_IWL_FEA_XX.wav', '1024_TSI_SAD_XX.wav', '1012_IOM_HAP_XX.wav', '1089_TSI_DIS_XX.wav', '1051_TAI_NEU_XX.wav', '1065_IWW_NEU_XX.wav', '1046_IWW_FEA_XX.wav', '1065_IEO_DIS_MD.wav', '1046_IEO_FEA_MD.wav', '1071_IEO_SAD_HI.wav', '1037_ITS_FEA_XX.wav', '1029_IEO_DIS_MD.wav', '1043_DFA_FEA_XX.wav', '1028_DFA_HAP_XX.wav', '1048_IWL_HAP_XX.wav', '1059_ITH_DIS_XX.wav', '1061_IOM_HAP_XX.wav', '1020_TIE_HAP_XX.wav', '1081_ITS_SAD_XX.wav', '1036_ITS_FEA_XX.wav', '1060_IEO_DIS_LO.wav', '1065_WSI_HAP_XX.wav', '1006_TIE_HAP_XX.wav', '1045_IOM_HAP_XX.wav', '1068_TSI_HAP_XX.wav', '1041_IEO_HAP_MD.wav', '1053_TSI_DIS_XX.wav', '1056_IWW_NEU_XX.wav', '1007_MTI_HAP_XX.wav', '1089_ITS_HAP_XX.wav', '1077_TAI_ANG_XX.wav', '1074_ITH_NEU_XX.wav', '1072_MTI_ANG_XX.wav', '1006_DFA_ANG_XX.wav', '1025_IEO_DIS_HI.wav', '1045_IOM_DIS_XX.wav', '1034_TSI_DIS_XX.wav', '1086_TAI_SAD_XX.wav', '1084_TAI_NEU_XX.wav', '1054_IEO_SAD_MD.wav', '1083_DFA_HAP_XX.wav', '1087_DFA_HAP_XX.wav', '1052_TIE_NEU_XX.wav', '1019_DFA_DIS_XX.wav', '1049_TIE_FEA_XX.wav', '1088_IWL_ANG_XX.wav', '1089_ITH_DIS_XX.wav', '1052_MTI_HAP_XX.wav', '1078_IEO_DIS_LO.wav', '1029_ITS_HAP_XX.wav', '1073_DFA_ANG_XX.wav', '1068_ITS_NEU_XX.wav', '1059_IWL_FEA_XX.wav', '1001_ITS_DIS_XX.wav', '1015_ITH_ANG_XX.wav', '1026_WSI_DIS_XX.wav', '1057_TSI_ANG_XX.wav', '1022_IEO_SAD_MD.wav', '1024_IEO_SAD_LO.wav', '1022_IOM_FEA_XX.wav', '1040_DFA_SAD_XX.wav', '1001_IEO_DIS_LO.wav', '1044_IEO_NEU_XX.wav', '1046_IOM_DIS_XX.wav', '1028_TAI_ANG_XX.wav', '1052_ITH_HAP_XX.wav', '1024_IWW_NEU_XX.wav', '1009_DFA_DIS_XX.wav', '1055_IWL_NEU_XX.wav', '1087_IOM_FEA_XX.wav', '1038_MTI_SAD_XX.wav', '1054_ITH_DIS_XX.wav', '1024_TAI_SAD_XX.wav', '1061_MTI_NEU_XX.wav', '1035_ITS_NEU_XX.wav', '1002_IEO_ANG_LO.wav', '1090_TSI_DIS_XX.wav', '1031_TAI_NEU_XX.wav', '1087_TAI_NEU_XX.wav', '1008_TSI_ANG_XX.wav', '1003_IEO_DIS_LO.wav', '1030_TIE_FEA_XX.wav', '1072_IOM_DIS_XX.wav', '1038_IEO_HAP_LO.wav', '1089_TIE_NEU_XX.wav', '1071_IWL_ANG_XX.wav', '1069_IEO_NEU_XX.wav', '1067_IWL_SAD_XX.wav', '1054_WSI_ANG_XX.wav', '1017_IWL_ANG_XX.wav', '1002_IWW_NEU_XX.wav', '1080_TSI_NEU_XX.wav', '1040_ITH_SAD_X.wav', '1045_WSI_HAP_XX.wav', '1064_TSI_HAP_XX.wav', '1065_TIE_DIS_XX.wav', '1005_TAI_ANG_XX.wav', '1003_TIE_NEU_XX.wav', '1049_ITH_HAP_XX.wav', '1006_TIE_NEU_XX.wav', '1072_WSI_NEU_XX.wav', '1062_IEO_DIS_HI.wav', '1055_IWL_DIS_XX.wav', '1089_DFA_DIS_XX.wav', '1042_IEO_NEU_XX.wav', '1017_WSI_DIS_XX.wav', '1023_TIE_NEU_XX.wav', '1023_ITS_SAD_XX.wav', '1017_TIE_NEU_XX.wav', '1005_IOM_SAD_XX.wav', '1050_IWW_HAP_XX.wav', '1084_IWL_ANG_XX.wav', '1090_DFA_ANG_XX.wav', '1084_IWL_DIS_XX.wav', '1049_ITS_NEU_XX.wav', '1041_WSI_NEU_XX.wav', '1090_DFA_FEA_XX.wav', '1003_MTI_SAD_XX.wav', '1072_TAI_SAD_XX.wav', '1019_DFA_SAD_XX.wav', '1006_IWW_DIS_XX.wav', '1063_ITH_ANG_XX.wav', '1039_TAI_SAD_XX.wav', '1017_IOM_FEA_XX.wav', '1030_WSI_HAP_XX.wav', '1037_IWL_SAD_XX.wav', '1047_ITH_NEU_XX.wav', '1027_IWW_ANG_XX.wav', '1040_ITS_ANG_XX.wav', '1052_IEO_FEA_HI.wav', '1003_DFA_HAP_XX.wav', '1026_WSI_ANG_XX.wav', '1063_TSI_DIS_XX.wav', '1026_IWW_SAD_XX.wav', '1009_DFA_NEU_XX.wav', '1028_WSI_FEA_XX.wav', '1021_TAI_SAD_XX.wav', '1083_MTI_DIS_XX.wav', '1058_TIE_DIS_XX.wav', '1048_ITS_FEA_XX.wav', '1019_IEO_DIS_LO.wav', '1029_TAI_ANG_XX.wav', '1084_TAI_DIS_XX.wav', '1032_IOM_FEA_XX.wav', '1083_IWW_ANG_XX.wav', '1028_WSI_ANG_XX.wav', '1052_TIE_HAP_XX.wav', '1034_TAI_SAD_XX.wav', '1007_IEO_FEA_MD.wav', '1089_TAI_NEU_XX.wav', '1070_DFA_NEU_XX.wav', '1028_IEO_HAP_LO.wav', '1015_IOM_NEU_XX.wav', '1025_IOM_SAD_XX.wav', '1057_DFA_HAP_XX.wav', '1023_IWL_HAP_XX.wav', '1030_IWL_NEU_XX.wav', '1042_DFA_DIS_XX.wav', '1091_ITS_FEA_XX.wav', '1079_IWW_DIS_XX.wav', '1054_WSI_DIS_XX.wav', '1014_MTI_FEA_XX.wav', '1079_ITS_FEA_XX.wav', '1013_WSI_HAP_XX.wav', '1001_MTI_ANG_XX.wav', '1031_IEO_DIS_HI.wav', '1089_MTI_SAD_XX.wav', '1008_IWW_NEU_XX.wav', '1067_IWW_DIS_XX.wav', '1051_IEO_HAP_LO.wav', '1007_IWW_NEU_XX.wav', '1059_IWW_DIS_XX.wav', '1043_IEO_FEA_LO.wav', '1013_TSI_ANG_XX.wav', '1030_WSI_SAD_XX.wav', '1033_TIE_DIS_XX.wav', '1049_ITS_ANG_XX.wav', '1073_DFA_FEA_XX.wav', '1070_IEO_DIS_MD.wav', '1090_TSI_HAP_XX.wav', '1048_IWW_HAP_XX.wav', '1040_IOM_FEA_XX.wav', '1016_DFA_SAD_XX.wav', '1071_DFA_FEA_XX.wav', '1037_MTI_DIS_XX.wav', '1077_IWW_DIS_XX.wav', '1087_TSI_SAD_XX.wav', '1043_TAI_HAP_XX.wav', '1015_TIE_SAD_XX.wav', '1086_IEO_SAD_HI.wav', '1071_IEO_HAP_MD.wav', '1042_IEO_DIS_MD.wav', '1077_IEO_SAD_MD.wav', '1074_ITS_SAD_XX.wav', '1033_DFA_HAP_XX.wav', '1076_ITS_HAP_XX.wav', '1065_TIE_ANG_XX.wav', '1006_ITS_HAP_XX.wav', '1073_DFA_HAP_XX.wav', '1024_ITH_NEU_XX.wav', '1078_MTI_HAP_XX.wav', '1084_DFA_SAD_XX.wav', '1005_IWW_ANG_XX.wav', '1052_MTI_NEU_XX.wav', '1015_IWW_SAD_XX.wav', '1083_IWW_FEA_XX.wav', '1091_TIE_FEA_XX.wav', '1067_IEO_HAP_MD.wav', '1062_IWW_NEU_XX.wav', '1016_TIE_FEA_XX.wav', '1075_IWL_FEA_XX.wav', '1004_IEO_SAD_HI.wav', '1008_IOM_DIS_XX.wav', '1009_TSI_DIS_XX.wav', '1052_IOM_FEA_XX.wav', '1060_IWL_ANG_XX.wav', '1036_DFA_ANG_XX.wav', '1065_IEO_SAD_LO.wav', '1065_IWW_ANG_XX.wav', '1033_IEO_FEA_MD.wav', '1052_TSI_NEU_XX.wav', '1077_IWL_NEU_XX.wav', '1017_MTI_DIS_XX.wav', '1085_WSI_FEA_XX.wav', '1065_IEO_FEA_HI.wav', '1086_IEO_NEU_XX.wav', '1029_ITH_FEA_XX.wav', '1084_IWW_DIS_XX.wav', '1022_IWL_HAP_XX.wav', '1035_MTI_SAD_XX.wav', '1019_IWW_DIS_XX.wav', '1003_MTI_NEU_XX.wav', '1089_IEO_DIS_LO.wav', '1064_TSI_FEA_XX.wav', '1067_TAI_DIS_XX.wav', '1081_TIE_ANG_XX.wav', '1051_MTI_FEA_XX.wav', '1017_TAI_FEA_XX.wav', '1035_MTI_NEU_XX.wav', '1090_WSI_DIS_XX.wav', '1013_IEO_HAP_HI.wav', '1067_TSI_FEA_XX.wav', '1059_ITH_FEA_XX.wav', '1078_IWW_NEU_XX.wav', '1056_TSI_HAP_XX.wav', '1054_IWW_FEA_XX.wav', '1029_IWL_ANG_XX.wav', '1007_ITS_SAD_XX.wav', '1014_TAI_HAP_XX.wav', '1067_IEO_SAD_LO.wav', '1010_TIE_ANG_XX.wav', '1006_MTI_ANG_XX.wav', '1042_DFA_ANG_XX.wav', '1005_ITH_NEU_XX.wav', '1023_TSI_ANG_XX.wav', '1057_IOM_FEA_XX.wav', '1047_TAI_FEA_XX.wav', '1053_IEO_SAD_HI.wav', '1056_ITS_HAP_XX.wav', '1077_TIE_NEU_XX.wav', '1027_TAI_HAP_XX.wav', '1073_IWW_DIS_XX.wav', '1085_ITS_SAD_XX.wav', '1025_TIE_DIS_XX.wav', '1003_ITS_DIS_XX.wav', '1077_MTI_HAP_XX.wav', '1045_IEO_ANG_MD.wav', '1010_IEO_FEA_LO.wav', '1010_WSI_HAP_XX.wav', '1040_MTI_HAP_XX.wav', '1063_ITS_DIS_XX.wav', '1021_TAI_ANG_XX.wav', '1089_DFA_FEA_XX.wav', '1087_ITH_ANG_XX.wav', '1061_TAI_SAD_XX.wav', '1038_IEO_FEA_HI.wav', '1061_IEO_ANG_LO.wav', '1059_ITS_HAP_XX.wav', '1015_ITH_SAD_XX.wav', '1018_IWL_DIS_XX.wav', '1034_WSI_DIS_XX.wav', '1060_DFA_DIS_XX.wav', '1075_IEO_SAD_MD.wav', '1008_IEO_HAP_HI.wav', '1064_TSI_DIS_XX.wav', '1010_TSI_NEU_XX.wav', '1054_IEO_HAP_HI.wav', '1087_TAI_HAP_XX.wav', '1012_WSI_FEA_XX.wav', '1077_IOM_DIS_XX.wav', '1066_IWW_NEU_XX.wav', '1017_IEO_HAP_HI.wav', '1060_IEO_FEA_MD.wav', '1016_DFA_DIS_XX.wav', '1016_IEO_NEU_XX.wav', '1027_TIE_HAP_XX.wav', '1019_TAI_NEU_XX.wav', '1059_WSI_ANG_XX.wav', '1003_IWW_HAP_XX.wav', '1033_TIE_NEU_XX.wav', '1051_IEO_SAD_LO.wav', '1069_ITS_FEA_XX.wav', '1021_IWL_SAD_XX.wav', '1004_IOM_ANG_XX.wav', '1064_ITS_HAP_XX.wav', '1039_IEO_SAD_HI.wav', '1007_IEO_HAP_LO.wav', '1081_IEO_HAP_HI.wav', '1011_ITH_SAD_XX.wav', '1011_IWW_ANG_XX.wav', '1013_ITS_DIS_XX.wav', '1075_IEO_ANG_MD.wav', '1048_MTI_HAP_XX.wav', '1087_IEO_FEA_HI.wav', '1067_TSI_DIS_XX.wav', '1066_TSI_HAP_XX.wav', '1079_IEO_FEA_MD.wav', '1067_DFA_FEA_XX.wav', '1041_TAI_DIS_XX.wav', '1083_DFA_DIS_XX.wav', '1046_IWW_SAD_XX.wav', '1011_ITH_DIS_XX.wav', '1045_TIE_ANG_XX.wav', '1014_DFA_NEU_XX.wav', '1081_IOM_HAP_XX.wav', '1001_TSI_SAD_XX.wav', '1084_TSI_ANG_XX.wav', '1025_ITH_NEU_XX.wav', '1036_IWW_DIS_XX.wav', '1025_IWL_HAP_XX.wav', '1023_TIE_ANG_XX.wav', '1002_TAI_SAD_XX.wav', '1056_IEO_FEA_MD.wav', '1067_IWW_ANG_XX.wav', '1070_WSI_SAD_XX.wav', '1003_TIE_ANG_XX.wav', '1047_IWW_SAD_XX.wav', '1089_ITH_NEU_XX.wav', '1009_TAI_DIS_XX.wav', '1083_IOM_SAD_XX.wav', '1030_IEO_DIS_MD.wav', '1002_IEO_ANG_HI.wav', '1086_TAI_ANG_XX.wav', '1008_MTI_HAP_XX.wav', '1055_IWL_SAD_XX.wav', '1011_MTI_HAP_XX.wav', '1038_TSI_ANG_XX.wav', '1022_TSI_SAD_XX.wav', '1007_IEO_NEU_XX.wav', '1085_IWW_FEA_XX.wav', '1009_TAI_FEA_XX.wav', '1082_MTI_ANG_XX.wav', '1063_IOM_DIS_XX.wav', '1063_WSI_DIS_XX.wav', '1064_TIE_HAP_XX.wav', '1073_TAI_SAD_XX.wav', '1041_TIE_ANG_XX.wav', '1015_IWW_DIS_XX.wav', '1088_ITS_SAD_XX.wav', '1001_ITH_NEU_XX.wav', '1085_TAI_FEA_XX.wav', '1007_TSI_FEA_XX.wav', '1087_IOM_ANG_XX.wav', '1059_TSI_HAP_XX.wav', '1017_WSI_ANG_XX.wav', '1056_ITH_SAD_XX.wav', '1079_MTI_ANG_XX.wav', '1025_MTI_FEA_XX.wav', '1017_IOM_DIS_XX.wav', '1014_TAI_ANG_XX.wav', '1074_IEO_FEA_LO.wav', '1091_WSI_DIS_XX.wav', '1037_IOM_SAD_XX.wav', '1046_MTI_DIS_XX.wav', '1037_ITS_HAP_XX.wav', '1032_MTI_HAP_XX.wav', '1059_IWL_HAP_XX.wav', '1026_TIE_FEA_XX.wav', '1012_ITH_SAD_XX.wav', '1040_WSI_SAD_XX.wav', '1060_IOM_HAP_XX.wav', '1023_DFA_ANG_XX.wav', '1031_IOM_DIS_XX.wav', '1005_IWL_ANG_XX.wav', '1006_IWW_HAP_XX.wav', '1082_MTI_SAD_XX.wav', '1002_ITS_ANG_XX.wav', '1041_IWL_SAD_XX.wav', '1007_TAI_HAP_XX.wav', '1075_ITH_NEU_XX.wav', '1038_DFA_SAD_XX.wav', '1015_DFA_SAD_XX.wav', '1053_WSI_SAD_XX.wav', '1030_TIE_DIS_XX.wav', '1022_ITH_SAD_XX.wav', '1028_MTI_ANG_XX.wav', '1061_IWL_ANG_XX.wav', '1067_IEO_DIS_HI.wav', '1013_TAI_HAP_XX.wav', '1016_DFA_NEU_XX.wav', '1051_TSI_SAD_XX.wav', '1040_IEO_HAP_LO.wav', '1067_ITS_DIS_XX.wav', '1038_IWL_SAD_XX.wav', '1014_IEO_FEA_HI.wav', '1071_TSI_SAD_XX.wav', '1014_IEO_FEA_MD.wav', '1046_WSI_FEA_XX.wav', '1031_IEO_SAD_LO.wav', '1025_WSI_NEU_XX.wav', '1006_ITH_ANG_XX.wav', '1046_WSI_NEU_XX.wav', '1052_IEO_ANG_MD.wav', '1027_IWL_DIS_XX.wav', '1065_DFA_FEA_XX.wav', '1027_IOM_HAP_XX.wav', '1052_IWL_ANG_XX.wav', '1028_IEO_SAD_HI.wav', '1066_DFA_NEU_XX.wav', '1009_IWW_NEU_XX.wav', '1053_ITS_HAP_XX.wav', '1077_IEO_NEU_XX.wav', '1090_TSI_SAD_XX.wav', '1020_IEO_ANG_LO.wav', '1029_TAI_DIS_XX.wav', '1063_IEO_DIS_HI.wav', '1045_TIE_SAD_XX.wav', '1056_DFA_NEU_XX.wav', '1028_ITH_FEA_XX.wav', '1004_IEO_DIS_HI.wav', '1060_IEO_FEA_HI.wav', '1045_IEO_DIS_HI.wav', '1034_ITH_FEA_XX.wav', '1018_ITS_HAP_XX.wav', '1058_IOM_NEU_XX.wav', '1090_TAI_NEU_XX.wav', '1002_DFA_FEA_XX.wav', '1037_DFA_ANG_XX.wav', '1075_WSI_SAD_XX.wav', '1064_IWL_FEA_XX.wav', '1084_IEO_SAD_LO.wav', '1071_IOM_DIS_XX.wav', '1088_MTI_DIS_XX.wav', '1028_TAI_NEU_XX.wav', '1065_TIE_HAP_XX.wav', '1001_WSI_NEU_XX.wav', '1004_IOM_SAD_XX.wav', '1083_IWW_DIS_XX.wav', '1054_DFA_ANG_XX.wav', '1058_TSI_FEA_XX.wav', '1020_TAI_ANG_XX.wav', '1003_IEO_SAD_MD.wav', '1062_DFA_DIS_XX.wav', '1069_IWW_ANG_XX.wav', '1008_IOM_HAP_XX.wav', '1015_IEO_ANG_MD.wav', '1048_ITS_SAD_XX.wav', '1068_TIE_NEU_XX.wav', '1066_ITS_NEU_XX.wav', '1032_IEO_ANG_MD.wav', '1066_TIE_HAP_XX.wav', '1071_IEO_DIS_MD.wav', '1044_IWL_HAP_XX.wav', '1012_ITS_ANG_XX.wav', '1038_TIE_HAP_XX.wav', '1036_WSI_FEA_XX.wav', '1046_IEO_HAP_MD.wav', '1042_IEO_HAP_MD.wav', '1027_IEO_HAP_LO.wav', '1039_TSI_SAD_XX.wav', '1041_ITH_HAP_XX.wav', '1024_ITS_HAP_XX.wav', '1053_IEO_ANG_MD.wav', '1065_IWL_ANG_XX.wav', '1061_ITS_SAD_XX.wav', '1033_IEO_ANG_HI.wav', '1072_WSI_ANG_XX.wav', '1091_IEO_DIS_LO.wav', '1091_WSI_FEA_XX.wav', '1010_MTI_NEU_XX.wav', '1035_DFA_HAP_XX.wav', '1041_IWL_HAP_XX.wav', '1043_IWL_HAP_XX.wav', '1038_TSI_HAP_XX.wav', '1035_ITH_DIS_XX.wav', '1044_IEO_SAD_MD.wav', '1075_IEO_HAP_HI.wav', '1046_IEO_SAD_HI.wav', '1023_TIE_HAP_XX.wav', '1031_IEO_DIS_LO.wav', '1069_ITH_HAP_XX.wav', '1085_DFA_FEA_XX.wav', '1073_TAI_FEA_XX.wav', '1016_TSI_NEU_XX.wav', '1075_WSI_HAP_XX.wav', '1051_WSI_ANG_XX.wav', '1085_IWW_SAD_XX.wav', '1069_IEO_SAD_HI.wav', '1015_IOM_ANG_XX.wav', '1064_IOM_FEA_XX.wav', '1024_WSI_NEU_XX.wav', '1025_ITH_FEA_XX.wav', '1023_IOM_HAP_XX.wav', '1064_IWL_NEU_XX.wav', '1071_IEO_ANG_LO.wav', '1049_IOM_HAP_XX.wav', '1039_IEO_SAD_LO.wav', '1078_IEO_ANG_HI.wav', '1089_MTI_HAP_XX.wav', '1059_TAI_HAP_XX.wav', '1047_TAI_SAD_XX.wav', '1057_DFA_FEA_XX.wav', '1030_TIE_SAD_XX.wav', '1018_IEO_SAD_MD.wav', '1075_IEO_ANG_LO.wav', '1063_TAI_NEU_XX.wav', '1004_IEO_DIS_LO.wav', '1073_MTI_SAD_XX.wav', '1012_ITH_HAP_XX.wav', '1005_IEO_SAD_MD.wav', '1040_DFA_ANG_XX.wav', '1054_MTI_FEA_XX.wav', '1077_ITH_FEA_XX.wav', '1070_TSI_FEA_XX.wav', '1043_IWL_NEU_XX.wav', '1001_WSI_FEA_XX.wav', '1086_TIE_ANG_XX.wav', '1037_TAI_FEA_XX.wav', '1066_WSI_NEU_XX.wav', '1039_MTI_SAD_XX.wav', '1015_IEO_HAP_LO.wav', '1048_TSI_HAP_XX.wav', '1056_IEO_SAD_LO.wav', '1013_IOM_HAP_XX.wav', '1086_DFA_SAD_XX.wav', '1064_WSI_FEA_XX.wav', '1057_TIE_FEA_XX.wav', '1051_IWL_FEA_XX.wav', '1003_IEO_HAP_LO.wav', '1067_MTI_ANG_XX.wav', '1089_IWL_DIS_XX.wav', '1043_ITH_FEA_XX.wav', '1073_IEO_DIS_MD.wav', '1072_TAI_FEA_XX.wav', '1045_ITS_FEA_XX.wav', '1008_IEO_ANG_MD.wav', '1019_WSI_SAD_XX.wav', '1057_IWW_DIS_XX.wav', '1080_ITS_SAD_XX.wav', '1009_IEO_FEA_MD.wav', '1057_DFA_DIS_XX.wav', '1049_IOM_FEA_XX.wav', '1033_TSI_SAD_XX.wav', '1010_ITS_NEU_XX.wav', '1054_IEO_ANG_HI.wav', '1078_IOM_ANG_XX.wav', '1069_TSI_FEA_XX.wav', '1031_ITS_NEU_XX.wav', '1030_TAI_FEA_XX.wav', '1005_TSI_DIS_XX.wav', '1083_ITH_HAP_XX.wav', '1047_IWL_SAD_XX.wav', '1004_WSI_DIS_XX.wav', '1057_IWL_FEA_XX.wav', '1069_TIE_SAD_XX.wav', '1047_IWW_NEU_XX.wav', '1030_IWL_ANG_XX.wav', '1058_DFA_SAD_XX.wav', '1088_TIE_DIS_XX.wav', '1027_IEO_DIS_HI.wav', '1055_ITH_NEU_XX.wav', '1087_IWL_NEU_XX.wav', '1032_ITH_NEU_XX.wav', '1038_IEO_FEA_MD.wav', '1085_TAI_SAD_XX.wav', '1073_ITH_FEA_XX.wav', '1003_TSI_HAP_XX.wav', '1081_TIE_DIS_XX.wav', '1082_IWL_SAD_XX.wav', '1035_DFA_NEU_XX.wav', '1065_IOM_DIS_XX.wav', '1040_WSI_ANG_XX.wav', '1075_DFA_FEA_XX.wav', '1048_IOM_FEA_XX.wav', '1082_IWL_FEA_XX.wav', '1061_IEO_ANG_HI.wav', '1086_TSI_FEA_XX.wav', '1039_TSI_ANG_XX.wav', '1020_IEO_DIS_MD.wav', '1016_IWL_SAD_XX.wav', '1066_DFA_ANG_XX.wav', '1066_IWW_FEA_XX.wav', '1012_TIE_FEA_XX.wav', '1025_IWL_FEA_XX.wav', '1070_IOM_DIS_XX.wav', '1091_IOM_NEU_XX.wav', '1016_MTI_SAD_XX.wav', '1064_ITH_DIS_XX.wav', '1034_WSI_HAP_XX.wav', '1043_IEO_SAD_MD.wav', '1083_DFA_FEA_XX.wav', '1015_WSI_NEU_XX.wav', '1010_WSI_NEU_XX.wav', '1006_WSI_HAP_XX.wav', '1086_IWL_SAD_XX.wav', '1068_IWW_HAP_XX.wav', '1019_TAI_FEA_XX.wav', '1005_IEO_FEA_HI.wav', '1014_TAI_DIS_XX.wav', '1001_TAI_DIS_XX.wav', '1087_IWW_FEA_XX.wav', '1027_MTI_HAP_XX.wav', '1042_IWW_ANG_XX.wav', '1087_ITS_NEU_XX.wav', '1039_IWW_NEU_XX.wav', '1025_IEO_FEA_MD.wav', '1018_ITH_HAP_XX.wav', '1044_IWW_DIS_XX.wav', '1036_IWL_FEA_XX.wav', '1032_IEO_FEA_MD.wav', '1016_TIE_NEU_XX.wav', '1071_TAI_SAD_XX.wav', '1042_IWL_DIS_XX.wav', '1010_ITS_HAP_XX.wav', '1074_IEO_HAP_MD.wav', '1082_TIE_ANG_XX.wav', '1005_TSI_SAD_XX.wav', '1024_MTI_NEU_XX.wav', '1053_WSI_ANG_XX.wav', '1078_DFA_ANG_XX.wav', '1089_ITS_ANG_XX.wav', '1080_IOM_HAP_XX.wav', '1073_WSI_FEA_XX.wav', '1009_IOM_ANG_XX.wav', '1084_IWW_FEA_XX.wav', '1069_TSI_SAD_XX.wav', '1034_IEO_DIS_HI.wav', '1089_TAI_FEA_XX.wav', '1078_IWL_FEA_XX.wav', '1001_IWL_DIS_XX.wav', '1003_IEO_HAP_HI.wav', '1041_DFA_ANG_XX.wav', '1081_IWL_SAD_XX.wav', '1047_WSI_HAP_XX.wav', '1079_DFA_ANG_XX.wav', '1026_DFA_SAD_XX.wav', '1083_ITH_DIS_XX.wav', '1062_IEO_HAP_MD.wav', '1053_IEO_SAD_LO.wav', '1087_TSI_DIS_XX.wav', '1006_TSI_HAP_XX.wav', '1047_IEO_SAD_MD.wav', '1085_IEO_ANG_MD.wav', '1062_IWW_ANG_XX.wav', '1043_IWW_ANG_XX.wav', '1090_ITH_ANG_XX.wav', '1091_TIE_HAP_XX.wav', '1084_IWL_NEU_XX.wav', '1024_IWW_ANG_XX.wav', '1009_IEO_HAP_MD.wav', '1015_MTI_ANG_XX.wav', '1004_TAI_FEA_XX.wav', '1088_DFA_ANG_XX.wav', '1078_TAI_SAD_XX.wav', '1028_WSI_SAD_XX.wav', '1050_WSI_ANG_XX.wav', '1053_WSI_HAP_XX.wav', '1068_DFA_HAP_XX.wav', '1037_IWW_HAP_XX.wav', '1023_IOM_ANG_XX.wav', '1014_IOM_SAD_XX.wav', '1088_TSI_ANG_XX.wav', '1072_TIE_DIS_XX.wav', '1034_DFA_NEU_XX.wav', '1007_IEO_DIS_MD.wav', '1050_IEO_ANG_MD.wav', '1013_IWL_HAP_XX.wav', '1060_WSI_FEA_XX.wav', '1030_TAI_ANG_XX.wav', '1020_DFA_ANG_XX.wav', '1008_IEO_SAD_HI.wav', '1028_ITH_ANG_XX.wav', '1090_IEO_HAP_HI.wav', '1034_IEO_FEA_LO.wav', '1085_TSI_SAD_XX.wav', '1065_MTI_SAD_XX.wav', '1058_IOM_DIS_XX.wav', '1087_IWW_SAD_XX.wav', '1028_WSI_DIS_XX.wav', '1080_DFA_SAD_XX.wav', '1021_IOM_FEA_XX.wav', '1051_WSI_HAP_XX.wav', '1036_IWL_NEU_XX.wav', '1077_WSI_ANG_XX.wav', '1066_MTI_SAD_XX.wav', '1048_IEO_ANG_MD.wav', '1046_TAI_DIS_XX.wav', '1077_MTI_SAD_XX.wav', '1050_IEO_SAD_MD.wav', '1003_IOM_SAD_XX.wav', '1034_TSI_ANG_XX.wav', '1049_TIE_DIS_XX.wav', '1081_MTI_NEU_XX.wav', '1083_TSI_DIS_XX.wav', '1055_TSI_SAD_XX.wav', '1069_ITH_FEA_XX.wav', '1076_MTI_NEU_XX.wav', '1037_ITS_SAD_XX.wav', '1061_WSI_FEA_XX.wav', '1017_ITH_NEU_XX.wav', '1063_WSI_SAD_XX.wav', '1038_WSI_HAP_XX.wav', '1031_WSI_DIS_XX.wav', '1042_IEO_FEA_MD.wav', '1080_IEO_ANG_HI.wav', '1028_IWL_FEA_XX.wav', '1019_DFA_HAP_XX.wav', '1066_DFA_FEA_XX.wav', '1025_TAI_DIS_XX.wav', '1063_ITH_HAP_XX.wav', '1039_TIE_NEU_XX.wav', '1078_MTI_FEA_XX.wav', '1061_IWL_NEU_XX.wav', '1012_MTI_NEU_XX.wav', '1031_ITH_ANG_XX.wav', '1064_ITS_SAD_XX.wav', '1025_WSI_FEA_XX.wav', '1012_IEO_DIS_LO.wav', '1011_TSI_FEA_XX.wav', '1039_TAI_NEU_XX.wav', '1075_DFA_ANG_XX.wav', '1051_IWW_HAP_XX.wav', '1023_IEO_DIS_HI.wav', '1089_IEO_SAD_HI.wav', '1002_IOM_HAP_XX.wav', '1091_IEO_HAP_MD.wav', '1049_IEO_SAD_HI.wav', '1008_ITS_DIS_XX.wav', '1016_ITH_NEU_XX.wav', '1050_IOM_FEA_XX.wav', '1070_TIE_NEU_XX.wav', '1091_IEO_SAD_MD.wav', '1072_WSI_FEA_XX.wav', '1059_DFA_DIS_XX.wav', '1076_IWW_DIS_XX.wav', '1050_ITH_DIS_XX.wav', '1007_IOM_DIS_XX.wav', '1030_ITS_DIS_XX.wav', '1072_MTI_DIS_XX.wav', '1027_IWW_NEU_XX.wav', '1021_IEO_DIS_LO.wav', '1004_WSI_NEU_XX.wav', '1082_MTI_DIS_XX.wav', '1018_DFA_SAD_XX.wav', '1012_TAI_ANG_XX.wav', '1028_DFA_NEU_XX.wav', '1060_IEO_ANG_MD.wav', '1038_WSI_ANG_XX.wav', '1012_IOM_SAD_XX.wav', '1004_TIE_HAP_XX.wav', '1072_IWW_FEA_XX.wav', '1027_TIE_SAD_XX.wav', '1073_TSI_FEA_XX.wav', '1083_IWL_DIS_XX.wav', '1080_TAI_NEU_XX.wav', '1037_ITH_FEA_XX.wav', '1049_WSI_FEA_XX.wav', '1069_ITH_SAD_XX.wav', '1058_ITH_FEA_XX.wav', '1016_IEO_DIS_HI.wav', '1058_TAI_NEU_XX.wav', '1065_IEO_ANG_LO.wav', '1001_ITS_FEA_XX.wav', '1048_ITH_SAD_XX.wav', '1074_TAI_DIS_XX.wav', '1076_IWL_HAP_XX.wav', '1058_IWW_SAD_XX.wav', '1028_IOM_HAP_XX.wav', '1020_IEO_ANG_MD.wav', '1039_IWW_FEA_XX.wav', '1056_IWW_DIS_XX.wav', '1074_WSI_DIS_XX.wav', '1074_IOM_FEA_XX.wav', '1064_MTI_HAP_XX.wav', '1005_ITH_DIS_XX.wav', '1081_IEO_HAP_MD.wav', '1071_IOM_FEA_XX.wav', '1087_IOM_HAP_XX.wav', '1079_IEO_DIS_MD.wav', '1023_IOM_FEA_XX.wav', '1053_IEO_ANG_LO.wav', '1048_IEO_DIS_LO.wav', '1059_IEO_DIS_MD.wav', '1062_WSI_DIS_XX.wav', '1049_IEO_HAP_HI.wav', '1068_IEO_HAP_MD.wav', '1081_IOM_NEU_XX.wav', '1077_IEO_HAP_MD.wav', '1036_ITH_DIS_XX.wav', '1089_TIE_ANG_XX.wav', '1024_TAI_FEA_XX.wav', '1020_DFA_NEU_XX.wav', '1046_TIE_DIS_XX.wav', '1054_IEO_FEA_LO.wav', '1025_IEO_ANG_LO.wav', '1068_TIE_HAP_XX.wav', '1032_IEO_HAP_MD.wav', '1039_IOM_DIS_XX.wav', '1080_TSI_DIS_XX.wav', '1008_MTI_ANG_XX.wav', '1068_TIE_DIS_XX.wav', '1058_IEO_DIS_MD.wav', '1020_TIE_SAD_XX.wav', '1017_ITS_SAD_XX.wav', '1076_TSI_NEU_XX.wav', '1021_IWL_ANG_XX.wav', '1027_IOM_FEA_XX.wav', '1005_WSI_ANG_XX.wav', '1075_TIE_DIS_XX.wav', '1062_TAI_NEU_XX.wav', '1003_TSI_DIS_XX.wav', '1005_DFA_DIS_XX.wav', '1062_IOM_DIS_XX.wav', '1013_TSI_HAP_XX.wav', '1002_IOM_ANG_XX.wav', '1004_ITH_DIS_XX.wav', '1063_ITS_ANG_XX.wav', '1081_IEO_ANG_MD.wav', '1090_DFA_HAP_XX.wav', '1053_DFA_NEU_XX.wav', '1008_TAI_ANG_XX.wav', '1046_DFA_DIS_XX.wav', '1014_TIE_FEA_XX.wav', '1084_IEO_FEA_MD.wav', '1054_IEO_DIS_HI.wav', '1046_DFA_HAP_XX.wav', '1012_IOM_FEA_XX.wav', '1074_DFA_SAD_XX.wav', '1029_IEO_FEA_MD.wav', '1022_IEO_DIS_HI.wav', '1081_IEO_DIS_MD.wav', '1027_MTI_ANG_XX.wav', '1005_WSI_NEU_XX.wav', '1088_IEO_NEU_XX.wav', '1005_IWL_DIS_XX.wav', '1060_TSI_DIS_XX.wav', '1059_IEO_ANG_HI.wav', '1064_IWW_SAD_XX.wav', '1022_IOM_SAD_XX.wav', '1082_IWW_FEA_XX.wav', '1061_IOM_NEU_XX.wav', '1013_TAI_NEU_XX.wav', '1082_TSI_ANG_XX.wav', '1014_DFA_SAD_XX.wav', '1085_DFA_DIS_XX.wav', '1033_ITH_DIS_XX.wav', '1048_IEO_DIS_MD.wav', '1081_TIE_SAD_XX.wav', '1079_WSI_DIS_XX.wav', '1065_DFA_HAP_XX.wav', '1049_IWW_HAP_XX.wav', '1089_TSI_ANG_XX.wav', '1073_MTI_DIS_XX.wav', '1047_IEO_ANG_HI.wav', '1023_IWW_HAP_XX.wav', '1017_IEO_ANG_HI.wav', '1062_TAI_FEA_XX.wav', '1068_IWL_SAD_XX.wav', '1085_IWW_DIS_XX.wav', '1051_TIE_SAD_XX.wav', '1050_IOM_SAD_XX.wav', '1015_TIE_FEA_XX.wav', '1040_IEO_SAD_MD.wav', '1007_IWL_DIS_XX.wav', '1064_TIE_ANG_XX.wav', '1088_TSI_HAP_XX.wav', '1018_IEO_SAD_LO.wav', '1026_IWL_FEA_XX.wav', '1011_TIE_HAP_XX.wav', '1037_IWW_DIS_XX.wav', '1077_IWL_ANG_XX.wav', '1073_WSI_NEU_XX.wav', '1051_MTI_ANG_XX.wav', '1022_TIE_SAD_XX.wav', '1049_MTI_FEA_XX.wav', '1027_IOM_SAD_XX.wav', '1069_IWW_HAP_XX.wav', '1070_TIE_FEA_XX.wav', '1038_ITH_ANG_XX.wav', '1044_WSI_DIS_XX.wav', '1083_ITS_SAD_XX.wav', '1029_MTI_FEA_XX.wav', '1035_IEO_NEU_XX.wav', '1086_IOM_ANG_XX.wav', '1085_TAI_HAP_XX.wav', '1035_WSI_ANG_XX.wav', '1032_WSI_FEA_XX.wav', '1049_DFA_FEA_XX.wav', '1032_TAI_HAP_XX.wav', '1010_IEO_HAP_LO.wav', '1081_WSI_NEU_XX.wav', '1051_IEO_FEA_HI.wav', '1057_IEO_NEU_XX.wav', '1077_IWL_DIS_XX.wav', '1012_IWL_HAP_XX.wav', '1012_TIE_ANG_XX.wav', '1003_TSI_ANG_XX.wav', '1079_TIE_SAD_XX.wav', '1023_WSI_ANG_XX.wav', '1041_MTI_ANG_XX.wav', '1062_ITS_SAD_XX.wav', '1066_IEO_ANG_HI.wav', '1033_IWL_NEU_XX.wav', '1066_ITS_ANG_XX.wav', '1058_IEO_ANG_HI.wav', '1026_IEO_HAP_LO.wav', '1079_IOM_SAD_XX.wav', '1063_IWL_DIS_XX.wav', '1029_TIE_DIS_XX.wav', '1047_DFA_DIS_XX.wav', '1053_TSI_FEA_XX.wav', '1088_TSI_FEA_XX.wav', '1029_IWW_SAD_XX.wav', '1080_IEO_ANG_LO.wav', '1006_IEO_DIS_LO.wav', '1001_IEO_SAD_MD.wav', '1088_IEO_FEA_MD.wav', '1030_MTI_NEU_XX.wav', '1024_MTI_FEA_XX.wav', '1090_MTI_HAP_XX.wav', '1091_IWW_DIS_XX.wav', '1069_IEO_ANG_LO.wav', '1017_TSI_NEU_XX.wav', '1024_ITH_FEA_XX.wav', '1046_DFA_SAD_XX.wav', '1008_DFA_HAP_XX.wav', '1041_IEO_ANG_LO.wav', '1060_IWW_ANG_XX.wav', '1020_IEO_SAD_MD.wav', '1015_TSI_SAD_XX.wav', '1009_TSI_HAP_XX.wav', '1030_TIE_HAP_XX.wav', '1027_IOM_DIS_XX.wav', '1070_IWW_FEA_XX.wav', '1043_DFA_DIS_XX.wav', '1030_TAI_SAD_XX.wav', '1083_TIE_HAP_XX.wav', '1084_TAI_FEA_XX.wav', '1039_DFA_SAD_XX.wav', '1016_IWW_DIS_XX.wav', '1053_ITH_NEU_XX.wav', '1022_DFA_NEU_XX.wav', '1080_ITH_FEA_XX.wav', '1048_IWL_ANG_XX.wav', '1021_TSI_DIS_XX.wav', '1004_IWL_ANG_XX.wav', '1008_ITH_NEU_XX.wav', '1058_IEO_FEA_LO.wav', '1032_IEO_SAD_HI.wav', '1005_MTI_HAP_XX.wav', '1076_WSI_DIS_XX.wav', '1025_DFA_DIS_XX.wav', '1058_IWL_HAP_XX.wav', '1062_IWL_NEU_XX.wav', '1070_MTI_ANG_XX.wav', '1046_ITH_FEA_XX.wav', '1077_IEO_ANG_MD.wav', '1012_ITH_ANG_XX.wav', '1055_IWW_SAD_XX.wav', '1031_IWW_SAD_XX.wav', '1077_IEO_HAP_HI.wav', '1025_WSI_DIS_XX.wav', '1069_ITS_ANG_XX.wav', '1042_ITS_FEA_XX.wav', '1082_IEO_FEA_HI.wav', '1053_TAI_SAD_XX.wav', '1058_TIE_FEA_XX.wav', '1026_IWW_HAP_XX.wav', '1060_TAI_SAD_XX.wav', '1071_IWW_HAP_XX.wav', '1086_IWL_ANG_XX.wav', '1091_IEO_ANG_MD.wav', '1073_TSI_DIS_XX.wav', '1012_IOM_ANG_XX.wav', '1008_IWW_HAP_XX.wav', '1064_WSI_HAP_XX.wav', '1017_TAI_NEU_XX.wav', '1021_DFA_SAD_XX.wav', '1088_ITS_DIS_XX.wav', '1069_DFA_ANG_XX.wav', '1053_IOM_ANG_XX.wav', '1050_TAI_FEA_XX.wav', '1084_ITS_FEA_XX.wav', '1078_IEO_HAP_MD.wav', '1068_MTI_FEA_XX.wav', '1074_IWW_HAP_XX.wav', '1081_TSI_NEU_XX.wav', '1060_MTI_ANG_XX.wav', '1002_MTI_FEA_XX.wav', '1035_DFA_ANG_XX.wav', '1023_TSI_DIS_XX.wav', '1009_ITS_FEA_XX.wav', '1058_IWW_NEU_XX.wav', '1009_ITS_HAP_XX.wav', '1013_TIE_DIS_XX.wav', '1035_TAI_ANG_XX.wav', '1020_IWW_DIS_XX.wav', '1053_ITH_HAP_XX.wav', '1020_IWW_FEA_XX.wav', '1033_DFA_SAD_XX.wav', '1048_MTI_ANG_XX.wav', '1082_IWW_HAP_XX.wav', '1013_TSI_NEU_XX.wav', '1004_IWL_DIS_XX.wav', '1044_IWW_NEU_XX.wav', '1004_IEO_FEA_MD.wav', '1040_IWL_SAD_XX.wav', '1029_TSI_NEU_XX.wav', '1010_TAI_SAD_XX.wav', '1080_TSI_SAD_XX.wav', '1055_IWL_HAP_XX.wav', '1073_ITS_NEU_XX.wav', '1030_MTI_ANG_XX.wav', '1089_IOM_DIS_XX.wav', '1010_IWW_NEU_XX.wav', '1031_TAI_FEA_XX.wav', '1051_IWL_HAP_XX.wav', '1007_TIE_SAD_XX.wav', '1005_DFA_FEA_XX.wav', '1070_IEO_NEU_XX.wav', '1072_IWW_DIS_XX.wav', '1088_IEO_FEA_HI.wav', '1046_ITH_HAP_XX.wav', '1009_IWW_HAP_XX.wav', '1038_TAI_SAD_XX.wav', '1019_MTI_ANG_XX.wav', '1033_ITS_HAP_XX.wav', '1068_IOM_HAP_XX.wav', '1073_ITH_HAP_XX.wav', '1046_WSI_DIS_XX.wav', '1077_TSI_FEA_XX.wav', '1041_DFA_NEU_XX.wav', '1044_IWW_HAP_XX.wav', '1049_ITS_SAD_XX.wav', '1017_MTI_SAD_XX.wav', '1040_IWW_NEU_XX.wav', '1002_TIE_ANG_XX.wav', '1071_IWL_NEU_XX.wav', '1001_IEO_ANG_LO.wav', '1079_MTI_NEU_XX.wav', '1019_ITS_SAD_XX.wav', '1086_WSI_DIS_XX.wav', '1088_ITS_HAP_XX.wav', '1007_TIE_DIS_XX.wav', '1048_MTI_SAD_XX.wav', '1017_ITS_FEA_XX.wav', '1034_IEO_SAD_MD.wav', '1015_DFA_ANG_XX.wav', '1030_IOM_NEU_XX.wav', '1009_IOM_SAD_XX.wav', '1042_TIE_NEU_XX.wav', '1073_IEO_NEU_XX.wav', '1034_TSI_SAD_XX.wav', '1043_TAI_FEA_XX.wav', '1004_MTI_NEU_XX.wav', '1086_ITS_NEU_XX.wav', '1042_TAI_SAD_XX.wav', '1064_IWL_HAP_XX.wav', '1008_IEO_FEA_MD.wav', '1089_MTI_FEA_XX.wav', '1003_TSI_NEU_XX.wav', '1080_IWW_ANG_XX.wav', '1077_ITS_SAD_XX.wav', '1065_IWL_HAP_XX.wav', '1012_IWL_DIS_XX.wav', '1015_WSI_DIS_XX.wav', '1049_IWL_DIS_XX.wav', '1031_DFA_HAP_XX.wav', '1070_TSI_HAP_XX.wav', '1062_DFA_SAD_XX.wav', '1056_ITS_DIS_XX.wav', '1082_IWL_HAP_XX.wav', '1005_IEO_DIS_LO.wav', '1087_ITS_SAD_XX.wav', '1065_IEO_ANG_MD.wav', '1083_ITS_HAP_XX.wav', '1013_IWL_DIS_XX.wav', '1058_TSI_NEU_XX.wav', '1011_WSI_DIS_XX.wav', '1035_IEO_HAP_HI.wav', '1017_DFA_FEA_XX.wav', '1001_MTI_HAP_XX.wav', '1034_IEO_HAP_MD.wav', '1004_MTI_FEA_XX.wav', '1085_DFA_NEU_XX.wav', '1079_TIE_DIS_XX.wav', '1082_IEO_NEU_XX.wav', '1087_MTI_HAP_XX.wav', '1074_ITH_DIS_XX.wav', '1071_IEO_FEA_LO.wav', '1026_IOM_DIS_XX.wav', '1015_IWW_FEA_XX.wav', '1090_IEO_DIS_MD.wav', '1003_IEO_FEA_MD.wav', '1074_IWL_DIS_XX.wav', '1044_TAI_NEU_XX.wav', '1084_IEO_HAP_LO.wav', '1079_TAI_DIS_XX.wav', '1069_IEO_SAD_MD.wav', '1050_IEO_SAD_LO.wav', '1029_IEO_DIS_LO.wav', '1047_IWW_ANG_XX.wav', '1083_IWL_NEU_XX.wav', '1060_DFA_FEA_XX.wav', '1039_TIE_FEA_XX.wav', '1038_MTI_HAP_XX.wav', '1017_DFA_DIS_XX.wav', '1032_WSI_DIS_XX.wav', '1054_IEO_DIS_MD.wav', '1048_ITH_HAP_XX.wav', '1024_ITS_ANG_XX.wav', '1037_IEO_ANG_LO.wav', '1002_TIE_SAD_XX.wav', '1055_IEO_NEU_XX.wav', '1051_ITS_SAD_XX.wav', '1042_TAI_NEU_XX.wav', '1057_TAI_DIS_XX.wav', '1022_IWW_FEA_XX.wav', '1008_TIE_NEU_XX.wav', '1063_DFA_SAD_XX.wav', '1048_WSI_NEU_XX.wav', '1053_IWL_HAP_XX.wav', '1028_TAI_SAD_XX.wav', '1058_ITS_HAP_XX.wav', '1024_TIE_ANG_XX.wav', '1088_IWL_SAD_XX.wav', '1055_MTI_HAP_XX.wav', '1055_IEO_ANG_LO.wav', '1010_IOM_FEA_XX.wav', '1044_DFA_FEA_XX.wav', '1029_MTI_HAP_XX.wav', '1053_TIE_NEU_XX.wav', '1057_IWL_DIS_XX.wav', '1072_TSI_SAD_XX.wav', '1077_TAI_DIS_XX.wav', '1036_TIE_HAP_XX.wav', '1027_ITH_SAD_XX.wav', '1017_IEO_SAD_LO.wav', '1051_IEO_FEA_LO.wav', '1056_IWW_HAP_XX.wav', '1053_TAI_NEU_XX.wav', '1052_IEO_SAD_MD.wav', '1027_WSI_ANG_XX.wav', '1069_IWL_ANG_XX.wav', '1026_IEO_ANG_LO.wav', '1051_ITH_HAP_XX.wav', '1082_WSI_DIS_XX.wav', '1063_IEO_FEA_LO.wav', '1079_MTI_FEA_XX.wav', '1016_TSI_FEA_XX.wav', '1058_TSI_ANG_XX.wav', '1066_ITS_HAP_XX.wav', '1013_MTI_DIS_XX.wav', '1078_IEO_SAD_MD.wav', '1033_ITS_FEA_XX.wav', '1025_DFA_SAD_XX.wav', '1071_TAI_HAP_XX.wav', '1066_IWL_HAP_XX.wav', '1002_WSI_DIS_XX.wav', '1082_DFA_NEU_XX.wav', '1045_ITS_DIS_XX.wav', '1082_TAI_NEU_XX.wav', '1002_TSI_HAP_XX.wav', '1056_IOM_FEA_XX.wav', '1021_IWW_ANG_XX.wav', '1067_IWW_HAP_XX.wav', '1018_WSI_DIS_XX.wav', '1039_TSI_NEU_XX.wav', '1078_DFA_SAD_XX.wav', '1082_ITS_DIS_XX.wav', '1087_IWW_HAP_XX.wav', '1064_MTI_NEU_XX.wav', '1074_TSI_FEA_XX.wav', '1024_WSI_FEA_XX.wav', '1061_IEO_HAP_LO.wav', '1083_IEO_FEA_LO.wav', '1034_IWW_NEU_XX.wav', '1081_DFA_NEU_XX.wav', '1050_IEO_HAP_HI.wav', '1074_TAI_NEU_XX.wav', '1052_IWL_SAD_XX.wav', '1085_IEO_NEU_XX.wav', '1061_ITH_SAD_XX.wav', '1013_TSI_FEA_XX.wav', '1035_ITS_DIS_XX.wav', '1071_ITH_NEU_XX.wav', '1074_ITS_DIS_XX.wav', '1050_IOM_ANG_XX.wav', '1086_IOM_DIS_XX.wav', '1011_IOM_FEA_XX.wav', '1072_IOM_FEA_XX.wav', '1007_IWW_FEA_XX.wav', '1063_IEO_HAP_LO.wav', '1057_MTI_NEU_XX.wav', '1082_IEO_HAP_LO.wav', '1071_TSI_NEU_XX.wav', '1035_IEO_HAP_MD.wav', '1058_ITS_FEA_XX.wav', '1012_ITS_FEA_XX.wav', '1084_IOM_HAP_XX.wav', '1056_IWL_FEA_XX.wav', '1017_TAI_DIS_XX.wav', '1007_TIE_ANG_XX.wav', '1060_ITH_NEU_XX.wav', '1048_IWW_SAD_XX.wav', '1061_TAI_DIS_XX.wav', '1086_IEO_HAP_HI.wav', '1066_IWW_DIS_XX.wav', '1001_IOM_ANG_XX.wav', '1042_TSI_FEA_XX.wav', '1062_ITH_HAP_XX.wav', '1045_IEO_FEA_HI.wav', '1022_IEO_NEU_XX.wav', '1067_TIE_FEA_XX.wav', '1051_TAI_SAD_XX.wav', '1083_IEO_ANG_HI.wav', '1050_IWL_SAD_XX.wav', '1016_IWL_ANG_XX.wav', '1037_IEO_ANG_HI.wav', '1052_DFA_ANG_XX.wav', '1070_IEO_HAP_LO.wav', '1082_DFA_ANG_XX.wav', '1010_DFA_HAP_XX.wav', '1021_IEO_SAD_HI.wav', '1030_IWW_ANG_XX.wav', '1004_TIE_ANG_XX.wav', '1081_MTI_DIS_XX.wav', '1013_WSI_NEU_XX.wav', '1076_DFA_FEA_XX.wav', '1021_DFA_HAP_XX.wav', '1048_IEO_SAD_MD.wav', '1028_IEO_SAD_LO.wav', '1041_IEO_FEA_HI.wav', '1059_IOM_NEU_XX.wav', '1058_WSI_ANG_XX.wav', '1051_TAI_DIS_XX.wav', '1037_IWW_NEU_XX.wav', '1009_ITH_SAD_XX.wav', '1082_IOM_FEA_XX.wav', '1091_IOM_DIS_XX.wav', '1089_DFA_HAP_XX.wav', '1064_IEO_SAD_LO.wav', '1090_TAI_FEA_XX.wav', '1045_IWL_NEU_XX.wav', '1082_WSI_SAD_XX.wav', '1018_IOM_HAP_XX.wav', '1091_ITH_NEU_XX.wav', '1076_TSI_ANG_XX.wav', '1088_ITH_DIS_XX.wav', '1026_ITS_HAP_XX.wav', '1090_WSI_ANG_XX.wav', '1087_ITS_FEA_XX.wav', '1019_TAI_DIS_XX.wav', '1004_IOM_NEU_XX.wav', '1077_IWW_NEU_XX.wav', '1062_ITH_NEU_XX.wav', '1049_TAI_FEA_XX.wav', '1073_IWL_ANG_XX.wav', '1037_ITH_NEU_XX.wav', '1051_TSI_DIS_XX.wav', '1013_DFA_ANG_XX.wav', '1007_TSI_HAP_XX.wav', '1066_IWW_SAD_XX.wav', '1041_TAI_ANG_XX.wav', '1088_TSI_DIS_XX.wav', '1056_ITH_DIS_XX.wav', '1046_IEO_ANG_LO.wav', '1065_TAI_FEA_XX.wav', '1080_IOM_FEA_XX.wav', '1039_IOM_ANG_XX.wav', '1022_ITS_HAP_XX.wav', '1030_TIE_ANG_XX.wav', '1059_MTI_SAD_XX.wav', '1027_ITH_ANG_XX.wav', '1034_MTI_FEA_XX.wav', '1091_TAI_HAP_XX.wav', '1029_IWW_HAP_XX.wav', '1075_TAI_ANG_XX.wav', '1016_DFA_ANG_XX.wav', '1009_DFA_FEA_XX.wav', '1065_TAI_HAP_XX.wav', '1006_IEO_FEA_MD.wav', '1033_TIE_FEA_XX.wav', '1064_IWW_NEU_XX.wav', '1079_IEO_HAP_MD.wav', '1002_TAI_FEA_XX.wav', '1009_DFA_HAP_XX.wav', '1022_ITH_HAP_XX.wav', '1032_DFA_FEA_XX.wav', '1074_IEO_FEA_HI.wav', '1070_IWL_HAP_XX.wav', '1076_IOM_HAP_XX.wav', '1077_MTI_NEU_XX.wav', '1026_IEO_ANG_MD.wav', '1026_TAI_NEU_XX.wav', '1075_IWW_NEU_XX.wav', '1041_TAI_SAD_XX.wav', '1047_TIE_HAP_XX.wav', '1084_IEO_DIS_MD.wav', '1027_DFA_HAP_XX.wav', '1072_MTI_HAP_XX.wav', '1040_DFA_HAP_XX.wav', '1051_ITH_ANG_XX.wav', '1055_IEO_SAD_HI.wav', '1083_IWL_SAD_XX.wav', '1009_IEO_DIS_HI.wav', '1040_IEO_DIS_HI.wav', '1023_IEO_FEA_MD.wav', '1070_MTI_NEU_XX.wav', '1044_MTI_DIS_XX.wav', '1029_IOM_HAP_XX.wav', '1045_TAI_HAP_XX.wav', '1049_MTI_ANG_XX.wav', '1020_ITH_DIS_XX.wav', '1053_ITS_DIS_XX.wav', '1091_DFA_FEA_XX.wav', '1012_WSI_HAP_XX.wav', '1002_IEO_DIS_HI.wav', '1004_TSI_HAP_XX.wav', '1036_TIE_SAD_XX.wav', '1079_DFA_SAD_XX.wav', '1041_IWL_DIS_XX.wav', '1011_IOM_DIS_XX.wav', '1070_IEO_ANG_LO.wav', '1038_ITS_HAP_XX.wav', '1001_IEO_DIS_MD.wav', '1010_IWL_HAP_XX.wav', '1069_IEO_HAP_HI.wav', '1068_IEO_ANG_HI.wav', '1011_DFA_NEU_XX.wav', '1012_MTI_HAP_XX.wav', '1021_WSI_DIS_XX.wav', '1058_IEO_ANG_LO.wav', '1041_IEO_FEA_LO.wav', '1051_DFA_FEA_XX.wav', '1069_DFA_NEU_XX.wav', '1085_IOM_ANG_XX.wav', '1022_TAI_ANG_XX.wav', '1069_IWL_FEA_XX.wav', '1057_IWW_FEA_XX.wav', '1003_IEO_NEU_XX.wav', '1016_IWW_FEA_XX.wav', '1037_ITH_ANG_XX.wav', '1068_ITH_HAP_XX.wav', '1026_IEO_SAD_HI.wav', '1030_IEO_FEA_MD.wav', '1025_TIE_NEU_XX.wav', '1088_IWL_HAP_XX.wav', '1087_DFA_SAD_XX.wav', '1022_IEO_DIS_MD.wav', '1012_TSI_FEA_XX.wav', '1073_MTI_ANG_XX.wav', '1089_IEO_SAD_MD.wav', '1022_MTI_ANG_XX.wav', '1045_ITS_NEU_XX.wav', '1034_MTI_SAD_XX.wav', '1075_TSI_DIS_XX.wav', '1048_IEO_HAP_LO.wav', '1034_IEO_HAP_HI.wav', '1034_ITH_ANG_XX.wav', '1038_IOM_FEA_XX.wav', '1039_IWW_HAP_XX.wav', '1081_IWL_HAP_XX.wav', '1055_TSI_DIS_XX.wav', '1011_ITS_ANG_XX.wav', '1008_TAI_NEU_XX.wav', '1050_MTI_HAP_XX.wav', '1069_DFA_HAP_XX.wav', '1013_IEO_DIS_HI.wav', '1088_TIE_ANG_XX.wav', '1018_IEO_HAP_MD.wav', '1005_ITS_FEA_XX.wav', '1002_TIE_DIS_XX.wav', '1063_IWL_FEA_XX.wav', '1016_ITS_DIS_XX.wav', '1003_IEO_HAP_MD.wav', '1050_TAI_NEU_XX.wav', '1061_TAI_FEA_XX.wav', '1029_WSI_FEA_XX.wav', '1013_IWW_SAD_XX.wav', '1086_ITH_SAD_XX.wav', '1042_DFA_SAD_XX.wav', '1032_IOM_NEU_XX.wav', '1071_TAI_ANG_XX.wav', '1043_TIE_ANG_XX.wav', '1024_IEO_HAP_LO.wav', '1001_DFA_HAP_XX.wav', '1011_IWL_FEA_XX.wav', '1015_TAI_FEA_XX.wav', '1012_TSI_HAP_XX.wav', '1078_TSI_SAD_XX.wav', '1046_DFA_NEU_XX.wav', '1038_IEO_HAP_MD.wav', '1026_TAI_FEA_XX.wav', '1072_IEO_FEA_MD.wav', '1010_IEO_FEA_MD.wav', '1024_IWL_FEA_XX.wav', '1081_TSI_SAD_XX.wav', '1073_IWL_HAP_XX.wav', '1046_ITS_HAP_XX.wav', '1066_IEO_DIS_MD.wav', '1028_IWL_HAP_XX.wav', '1026_IEO_SAD_LO.wav', '1079_ITS_HAP_XX.wav', '1082_ITS_FEA_XX.wav', '1049_TSI_FEA_XX.wav', '1064_IEO_NEU_XX.wav', '1042_IEO_HAP_HI.wav', '1044_IWW_ANG_XX.wav', '1060_ITH_HAP_XX.wav', '1005_TSI_NEU_XX.wav', '1032_TIE_HAP_XX.wav', '1032_ITS_NEU_XX.wav', '1051_DFA_ANG_XX.wav', '1002_WSI_NEU_XX.wav', '1075_IOM_HAP_XX.wav', '1077_TSI_DIS_XX.wav', '1027_ITH_HAP_XX.wav', '1027_ITH_FEA_XX.wav', '1060_IOM_DIS_XX.wav', '1048_TAI_NEU_XX.wav', '1066_IEO_FEA_HI.wav', '1088_ITH_NEU_XX.wav', '1051_IOM_SAD_XX.wav', '1087_MTI_NEU_XX.wav', '1088_MTI_NEU_XX.wav', '1079_IEO_NEU_XX.wav', '1075_IWL_HAP_XX.wav', '1059_ITH_ANG_XX.wav', '1014_IWL_ANG_XX.wav', '1023_DFA_DIS_XX.wav', '1043_IWL_DIS_XX.wav', '1033_IWL_DIS_XX.wav', '1047_IEO_FEA_HI.wav', '1051_ITH_NEU_XX.wav', '1018_IWL_ANG_XX.wav', '1045_IWW_FEA_XX.wav', '1014_IWL_HAP_XX.wav', '1030_WSI_DIS_XX.wav', '1036_TSI_ANG_XX.wav', '1024_WSI_DIS_XX.wav', '1015_TAI_ANG_XX.wav', '1016_MTI_HAP_XX.wav', '1067_IEO_HAP_LO.wav', '1039_DFA_FEA_XX.wav', '1065_ITS_FEA_XX.wav', '1057_IEO_SAD_MD.wav', '1020_DFA_HAP_XX.wav', '1065_ITH_DIS_XX.wav', '1054_IEO_FEA_MD.wav', '1047_DFA_SAD_XX.wav', '1068_IWW_DIS_XX.wav', '1020_ITS_HAP_XX.wav', '1091_IOM_SAD_XX.wav', '1043_IWW_DIS_XX.wav', '1068_IEO_ANG_MD.wav', '1020_TSI_ANG_XX.wav', '1040_ITS_SAD_XX.wav', '1048_IEO_ANG_HI.wav', '1038_ITH_HAP_XX.wav', '1022_MTI_SAD_XX.wav', '1055_TAI_SAD_XX.wav', '1031_TAI_ANG_XX.wav', '1057_ITS_NEU_XX.wav', '1016_IEO_FEA_LO.wav', '1090_IWL_NEU_XX.wav', '1021_TSI_HAP_XX.wav', '1011_MTI_NEU_XX.wav', '1022_IEO_SAD_HI.wav', '1085_WSI_HAP_XX.wav', '1029_DFA_HAP_XX.wav', '1005_TIE_SAD_XX.wav', '1008_TSI_DIS_XX.wav', '1080_IOM_SAD_XX.wav', '1019_IEO_HAP_HI.wav', '1018_MTI_HAP_XX.wav', '1066_IEO_FEA_MD.wav', '1032_DFA_SAD_XX.wav', '1015_DFA_NEU_XX.wav', '1009_WSI_SAD_XX.wav', '1034_IWW_ANG_XX.wav', '1045_IOM_NEU_XX.wav', '1079_ITH_HAP_XX.wav', '1086_IEO_SAD_LO.wav', '1036_IEO_FEA_LO.wav', '1051_IWL_NEU_XX.wav', '1045_IWW_ANG_XX.wav', '1040_MTI_NEU_XX.wav', '1017_TSI_ANG_XX.wav', '1078_WSI_ANG_XX.wav', '1029_IEO_ANG_HI.wav', '1033_MTI_DIS_XX.wav', '1012_TAI_NEU_XX.wav', '1017_ITS_ANG_XX.wav', '1013_ITS_SAD_XX.wav', '1066_ITH_ANG_XX.wav', '1010_WSI_SAD_XX.wav', '1018_IEO_DIS_LO.wav', '1062_TAI_DIS_XX.wav', '1079_IOM_DIS_XX.wav', '1004_ITH_ANG_XX.wav', '1044_DFA_DIS_XX.wav', '1082_TSI_FEA_XX.wav', '1048_WSI_SAD_XX.wav', '1002_MTI_ANG_XX.wav', '1076_MTI_HAP_XX.wav', '1024_IEO_ANG_MD.wav', '1061_IEO_HAP_HI.wav', '1004_IEO_DIS_MD.wav', '1056_DFA_FEA_XX.wav', '1059_ITS_FEA_XX.wav', '1087_ITH_FEA_XX.wav', '1002_ITH_SAD_XX.wav', '1056_TAI_HAP_XX.wav', '1049_IWW_ANG_XX.wav', '1066_IEO_SAD_HI.wav', '1007_WSI_HAP_XX.wav', '1035_ITH_HAP_XX.wav', '1017_IEO_ANG_LO.wav', '1024_TIE_DIS_XX.wav', '1026_IWL_SAD_XX.wav', '1017_ITH_SAD_XX.wav', '1079_IEO_ANG_HI.wav', '1040_WSI_FEA_XX.wav', '1020_DFA_SAD_XX.wav', '1040_WSI_NEU_XX.wav', '1046_IWL_DIS_XX.wav', '1076_IWW_HAP_XX.wav', '1021_IOM_HAP_XX.wav', '1001_WSI_HAP_XX.wav', '1062_IEO_DIS_LO.wav', '1073_MTI_HAP_XX.wav', '1060_DFA_ANG_XX.wav', '1021_TAI_HAP_XX.wav', '1055_IEO_FEA_MD.wav', '1035_IEO_SAD_MD.wav', '1025_IOM_ANG_XX.wav', '1050_IEO_FEA_MD.wav', '1006_ITH_FEA_XX.wav', '1019_IEO_SAD_HI.wav', '1048_TAI_FEA_XX.wav', '1059_MTI_ANG_XX.wav', '1031_TIE_DIS_XX.wav', '1079_ITH_NEU_XX.wav', '1052_IOM_DIS_XX.wav', '1036_MTI_NEU_XX.wav', '1011_TSI_ANG_XX.wav', '1082_IEO_SAD_HI.wav', '1067_MTI_FEA_XX.wav', '1059_WSI_DIS_XX.wav', '1037_TIE_FEA_XX.wav', '1022_DFA_SAD_XX.wav', '1064_WSI_ANG_XX.wav', '1042_ITS_SAD_XX.wav', '1089_TAI_ANG_XX.wav', '1004_WSI_HAP_XX.wav', '1021_ITH_NEU_XX.wav', '1039_IEO_ANG_LO.wav', '1081_ITH_FEA_XX.wav', '1070_MTI_FEA_XX.wav', '1010_DFA_ANG_XX.wav', '1056_DFA_ANG_XX.wav', '1065_MTI_HAP_XX.wav', '1074_IWW_SAD_XX.wav', '1074_MTI_FEA_XX.wav', '1055_IWL_ANG_XX.wav', '1034_TIE_FEA_XX.wav', '1048_IWW_NEU_XX.wav', '1086_DFA_NEU_XX.wav', '1028_ITS_FEA_XX.wav', '1045_MTI_NEU_XX.wav', '1060_IOM_SAD_XX.wav', '1004_TAI_HAP_XX.wav', '1038_WSI_DIS_XX.wav', '1080_TIE_HAP_XX.wav', '1082_IWW_ANG_XX.wav', '1050_TIE_HAP_XX.wav', '1031_MTI_DIS_XX.wav', '1018_IEO_FEA_MD.wav', '1055_IOM_ANG_XX.wav', '1089_ITS_FEA_XX.wav', '1070_ITS_SAD_XX.wav', '1003_ITH_HAP_XX.wav', '1089_IWW_NEU_XX.wav', '1057_MTI_FEA_XX.wav', '1014_WSI_FEA_XX.wav', '1040_DFA_FEA_XX.wav', '1005_IEO_HAP_MD.wav', '1047_ITS_NEU_XX.wav', '1058_TIE_SAD_XX.wav', '1018_ITS_ANG_XX.wav', '1064_ITH_ANG_XX.wav', '1064_DFA_ANG_XX.wav', '1022_IEO_SAD_LO.wav', '1034_TIE_ANG_XX.wav', '1078_MTI_SAD_XX.wav', '1007_TAI_ANG_XX.wav', '1009_IWW_SAD_XX.wav', '1071_IOM_NEU_XX.wav', '1046_TIE_NEU_XX.wav', '1020_ITH_NEU_XX.wav', '1020_TIE_ANG_XX.wav', '1082_IOM_ANG_XX.wav', '1002_MTI_DIS_XX.wav', '1066_TSI_SAD_XX.wav', '1056_ITS_FEA_XX.wav', '1009_TIE_FEA_XX.wav', '1003_WSI_NEU_XX.wav', '1020_WSI_NEU_XX.wav', '1062_WSI_SAD_XX.wav', '1052_ITH_FEA_XX.wav', '1021_TSI_ANG_XX.wav', '1038_MTI_FEA_XX.wav', '1010_IEO_DIS_LO.wav', '1013_IEO_FEA_MD.wav', '1059_TSI_DIS_XX.wav', '1052_IOM_SAD_XX.wav', '1061_MTI_ANG_XX.wav', '1021_DFA_ANG_XX.wav', '1001_TAI_HAP_XX.wav', '1050_IWW_ANG_XX.wav', '1025_DFA_FEA_XX.wav', '1072_IOM_SAD_XX.wav', '1026_MTI_FEA_XX.wav', '1028_IWL_ANG_XX.wav', '1050_IWW_SAD_XX.wav', '1067_ITH_NEU_XX.wav', '1084_IOM_ANG_XX.wav', '1040_IEO_SAD_HI.wav', '1032_TSI_SAD_XX.wav', '1062_MTI_NEU_XX.wav', '1037_IWL_HAP_XX.wav', '1049_IEO_DIS_MD.wav', '1091_TAI_FEA_XX.wav', '1076_TIE_ANG_XX.wav', '1031_IWL_ANG_XX.wav', '1052_TSI_FEA_XX.wav', '1050_ITH_FEA_XX.wav', '1084_TSI_NEU_XX.wav', '1062_TSI_HAP_XX.wav', '1077_DFA_ANG_XX.wav', '1085_MTI_NEU_XX.wav', '1041_IEO_DIS_HI.wav', '1070_DFA_ANG_XX.wav', '1012_IWL_SAD_XX.wav', '1026_MTI_HAP_XX.wav', '1026_ITS_DIS_XX.wav', '1072_IWW_SAD_XX.wav', '1022_IOM_NEU_XX.wav', '1074_ITS_NEU_XX.wav', '1026_ITS_FEA_XX.wav', '1026_TSI_SAD_XX.wav', '1014_TAI_SAD_XX.wav', '1044_ITH_HAP_XX.wav', '1074_IEO_DIS_HI.wav', '1075_TSI_NEU_XX.wav', '1058_TIE_NEU_XX.wav', '1004_DFA_HAP_XX.wav', '1087_IEO_HAP_HI.wav', '1084_IEO_FEA_HI.wav', '1011_WSI_ANG_XX.wav', '1068_ITS_ANG_XX.wav', '1047_IEO_ANG_MD.wav', '1002_IOM_DIS_XX.wav', '1009_TAI_NEU_XX.wav', '1075_IEO_FEA_HI.wav', '1055_DFA_DIS_XX.wav', '1081_IEO_ANG_LO.wav', '1076_TAI_SAD_XX.wav', '1049_IEO_SAD_MD.wav', '1028_TIE_DIS_XX.wav', '1067_IEO_ANG_HI.wav', '1010_IWL_SAD_XX.wav', '1081_TIE_HAP_XX.wav', '1034_DFA_DIS_XX.wav', '1013_IWL_NEU_XX.wav', '1082_TIE_HAP_XX.wav', '1050_IEO_DIS_LO.wav', '1054_IWL_FEA_XX.wav', '1059_IEO_SAD_MD.wav', '1058_IEO_SAD_HI.wav', '1090_MTI_SAD_XX.wav', '1063_WSI_ANG_XX.wav', '1026_IEO_SAD_MD.wav', '1087_ITS_DIS_XX.wav', '1054_ITS_DIS_XX.wav', '1038_IWW_FEA_XX.wav', '1068_TAI_DIS_XX.wav', '1077_TIE_HAP_XX.wav', '1032_IOM_HAP_XX.wav', '1050_IEO_SAD_HI.wav', '1089_DFA_NEU_XX.wav', '1063_IOM_FEA_XX.wav', '1055_WSI_ANG_XX.wav', '1071_TIE_ANG_XX.wav', '1080_IEO_SAD_HI.wav', '1091_IEO_SAD_LO.wav', '1085_ITS_HAP_XX.wav', '1063_IEO_NEU_XX.wav', '1060_IEO_DIS_HI.wav', '1049_ITH_DIS_XX.wav', '1058_TAI_FEA_XX.wav', '1087_TSI_FEA_XX.wav', '1047_IWL_DIS_XX.wav', '1066_ITS_DIS_XX.wav', '1016_IWL_FEA_XX.wav', '1059_ITH_HAP_XX.wav', '1068_MTI_DIS_XX.wav', '1078_DFA_NEU_XX.wav', '1061_ITS_ANG_XX.wav', '1016_MTI_ANG_XX.wav', '1058_IEO_FEA_MD.wav', '1074_IWL_FEA_XX.wav', '1081_WSI_FEA_XX.wav', '1066_WSI_HAP_XX.wav', '1078_IOM_NEU_XX.wav', '1012_DFA_NEU_XX.wav', '1020_WSI_ANG_XX.wav', '1085_TSI_ANG_XX.wav', '1006_TAI_FEA_XX.wav', '1066_IWL_FEA_XX.wav', '1009_IOM_DIS_XX.wav', '1046_ITS_ANG_XX.wav', '1036_TAI_NEU_XX.wav', '1051_TAI_FEA_XX.wav', '1038_IWL_DIS_XX.wav', '1062_MTI_ANG_XX.wav', '1060_IEO_SAD_MD.wav', '1076_TIE_NEU_XX.wav', '1056_IEO_HAP_LO.wav', '1064_TAI_NEU_XX.wav', '1066_IOM_NEU_XX.wav', '1029_IEO_HAP_HI.wav', '1062_IWW_HAP_XX.wav', '1005_DFA_ANG_XX.wav', '1032_IEO_ANG_HI.wav', '1026_WSI_SAD_XX.wav', '1004_IWL_HAP_XX.wav', '1003_TAI_ANG_XX.wav', '1075_WSI_ANG_XX.wav', '1040_IEO_HAP_MD.wav', '1057_IWW_ANG_XX.wav', '1089_ITH_FEA_XX.wav', '1049_DFA_ANG_XX.wav', '1015_IOM_FEA_XX.wav', '1018_TIE_NEU_XX.wav', '1007_IEO_DIS_HI.wav', '1008_TIE_ANG_XX.wav', '1075_MTI_HAP_XX.wav', '1061_TSI_FEA_XX.wav', '1060_IWL_HAP_XX.wav', '1087_WSI_DIS_XX.wav', '1006_ITH_HAP_XX.wav', '1023_TIE_DIS_XX.wav', '1019_DFA_NEU_XX.wav', '1038_ITS_SAD_XX.wav', '1019_TSI_SAD_XX.wav', '1032_ITH_ANG_XX.wav', '1071_IWW_NEU_XX.wav', '1058_IWL_DIS_XX.wav', '1088_IWW_ANG_XX.wav', '1024_MTI_SAD_XX.wav', '1033_IEO_DIS_HI.wav', '1010_TAI_FEA_XX.wav', '1085_IOM_HAP_XX.wav', '1009_IEO_SAD_MD.wav', '1022_TIE_DIS_XX.wav', '1034_IOM_FEA_XX.wav', '1074_DFA_DIS_XX.wav', '1003_TAI_HAP_XX.wav', '1081_WSI_SAD_XX.wav', '1049_TIE_HAP_XX.wav', '1071_IEO_DIS_HI.wav', '1019_IEO_HAP_LO.wav', '1074_MTI_SAD_XX.wav', '1027_ITH_DIS_XX.wav', '1053_MTI_NEU_XX.wav', '1074_TIE_NEU_XX.wav', '1019_TSI_HAP_XX.wav', '1069_IOM_NEU_XX.wav', '1038_IEO_DIS_HI.wav', '1054_TSI_NEU_XX.wav', '1020_ITS_FEA_XX.wav', '1074_IEO_DIS_MD.wav', '1052_ITS_DIS_XX.wav', '1083_IOM_DIS_XX.wav', '1004_TAI_SAD_XX.wav', '1017_DFA_HAP_XX.wav', '1054_ITS_NEU_XX.wav', '1018_TIE_ANG_XX.wav', '1057_IOM_DIS_XX.wav', '1033_WSI_SAD_XX.wav', '1077_IEO_DIS_LO.wav', '1021_TAI_DIS_XX.wav', '1049_IWW_DIS_XX.wav', '1015_ITS_FEA_XX.wav', '1062_IWL_ANG_XX.wav', '1078_IEO_FEA_HI.wav', '1085_MTI_HAP_XX.wav', '1034_IOM_HAP_XX.wav', '1008_ITS_NEU_XX.wav', '1091_IWW_NEU_XX.wav', '1025_TAI_SAD_XX.wav', '1007_ITS_NEU_XX.wav', '1031_ITH_HAP_XX.wav', '1056_IWW_FEA_XX.wav', '1005_TSI_ANG_XX.wav', '1084_IOM_SAD_XX.wav', '1012_TAI_FEA_XX.wav', '1077_ITH_NEU_XX.wav', '1013_IEO_NEU_XX.wav', '1082_IOM_NEU_XX.wav', '1042_ITH_ANG_XX.wav', '1036_MTI_ANG_XX.wav', '1017_IEO_HAP_MD.wav', '1083_ITH_ANG_XX.wav', '1015_IWW_HAP_XX.wav', '1070_ITS_HAP_XX.wav', '1012_IEO_HAP_LO.wav', '1035_TAI_NEU_XX.wav', '1073_TIE_DIS_XX.wav', '1014_WSI_HAP_XX.wav', '1041_TSI_HAP_XX.wav', '1083_IEO_SAD_MD.wav', '1061_TSI_DIS_XX.wav', '1053_TIE_ANG_XX.wav', '1028_ITS_HAP_XX.wav', '1018_TSI_DIS_XX.wav', '1053_IOM_FEA_XX.wav', '1024_IEO_FEA_LO.wav', '1059_ITH_NEU_XX.wav', '1052_IEO_HAP_HI.wav', '1010_IEO_ANG_MD.wav', '1019_IWL_FEA_XX.wav', '1089_DFA_ANG_XX.wav', '1053_ITH_DIS_XX.wav', '1010_DFA_SAD_XX.wav', '1036_ITH_ANG_XX.wav', '1059_ITS_DIS_XX.wav', '1031_TSI_FEA_XX.wav', '1080_MTI_DIS_XX.wav', '1049_TAI_HAP_XX.wav', '1007_ITH_ANG_XX.wav', '1085_IWL_FEA_XX.wav', '1054_IEO_DIS_LO.wav', '1054_IEO_FEA_HI.wav', '1062_WSI_FEA_XX.wav', '1071_WSI_HAP_XX.wav', '1085_IWL_ANG_XX.wav', '1036_WSI_SAD_XX.wav', '1044_IEO_HAP_LO.wav', '1091_ITS_SAD_XX.wav', '1025_TSI_HAP_XX.wav', '1033_MTI_SAD_XX.wav', '1048_ITS_ANG_XX.wav', '1055_IOM_FEA_XX.wav', '1020_IWW_ANG_XX.wav', '1041_WSI_DIS_XX.wav', '1073_ITS_HAP_XX.wav', '1091_IOM_ANG_XX.wav', '1041_TSI_NEU_XX.wav', '1015_MTI_NEU_XX.wav', '1001_IEO_ANG_MD.wav', '1076_DFA_SAD_XX.wav', '1056_IOM_NEU_XX.wav', '1065_MTI_NEU_XX.wav', '1016_IEO_DIS_MD.wav', '1004_TSI_NEU_XX.wav', '1011_TAI_DIS_XX.wav', '1085_IEO_HAP_HI.wav', '1045_IWL_SAD_XX.wav', '1067_IEO_FEA_MD.wav', '1089_WSI_ANG_XX.wav', '1075_ITH_FEA_XX.wav', '1038_TSI_FEA_XX.wav', '1057_IWL_ANG_XX.wav', '1014_IOM_HAP_XX.wav', '1087_TSI_NEU_XX.wav', '1086_DFA_FEA_XX.wav', '1023_WSI_SAD_XX.wav', '1046_ITH_ANG_XX.wav', '1053_TIE_SAD_XX.wav', '1026_TIE_DIS_XX.wav', '1018_DFA_HAP_XX.wav', '1090_WSI_FEA_XX.wav', '1026_IWL_HAP_XX.wav', '1084_MTI_NEU_XX.wav', '1033_TIE_HAP_XX.wav', '1044_WSI_SAD_XX.wav', '1032_IWW_SAD_XX.wav', '1003_DFA_SAD_XX.wav', '1077_DFA_DIS_XX.wav', '1077_TSI_ANG_XX.wav', '1047_ITS_SAD_XX.wav', '1082_ITS_HAP_XX.wav', '1004_ITH_SAD_XX.wav', '1066_TAI_DIS_XX.wav', '1037_IWW_SAD_XX.wav', '1001_IOM_DIS_XX.wav', '1072_TSI_ANG_XX.wav', '1032_IWL_NEU_XX.wav', '1040_TAI_SAD_XX.wav', '1017_IWW_FEA_XX.wav', '1028_DFA_DIS_XX.wav', '1018_TSI_SAD_XX.wav', '1060_WSI_SAD_XX.wav', '1088_IWL_FEA_XX.wav', '1031_IWW_ANG_XX.wav', '1044_IEO_DIS_LO.wav', '1080_IWW_SAD_XX.wav', '1057_ITH_HAP_XX.wav', '1058_TAI_DIS_XX.wav', '1012_IWW_SAD_XX.wav', '1001_TAI_ANG_XX.wav', '1054_ITH_FEA_XX.wav', '1090_TIE_FEA_XX.wav', '1039_WSI_ANG_XX.wav', '1078_IOM_HAP_XX.wav', '1091_DFA_NEU_XX.wav', '1031_IEO_NEU_XX.wav', '1025_ITS_SAD_XX.wav', '1082_ITS_SAD_XX.wav', '1081_DFA_HAP_XX.wav', '1052_TAI_FEA_XX.wav', '1045_WSI_NEU_XX.wav', '1013_IEO_ANG_LO.wav', '1036_ITH_HAP_XX.wav', '1028_TAI_DIS_XX.wav', '1023_TSI_HAP_XX.wav', '1067_TSI_ANG_XX.wav', '1038_IWW_HAP_XX.wav', '1090_TIE_NEU_XX.wav', '1001_IEO_FEA_MD.wav', '1043_MTI_FEA_XX.wav', '1004_IWW_HAP_XX.wav', '1013_TIE_SAD_XX.wav', '1003_ITH_DIS_XX.wav', '1069_TAI_NEU_XX.wav', '1009_ITH_HAP_XX.wav', '1001_IEO_HAP_LO.wav', '1007_TIE_HAP_XX.wav', '1051_IEO_SAD_MD.wav', '1020_TSI_FEA_XX.wav', '1038_ITH_FEA_XX.wav', '1041_IEO_DIS_MD.wav', '1072_TIE_NEU_XX.wav', '1060_DFA_NEU_XX.wav', '1035_IWL_DIS_XX.wav', '1041_MTI_DIS_XX.wav', '1045_IWW_DIS_XX.wav', '1038_IWW_DIS_XX.wav', '1024_IWL_SAD_XX.wav', '1005_IOM_ANG_XX.wav', '1009_IEO_ANG_LO.wav', '1059_TAI_SAD_XX.wav', '1031_IEO_FEA_HI.wav', '1049_IWW_FEA_XX.wav', '1002_TSI_NEU_XX.wav', '1051_TSI_NEU_XX.wav', '1047_IWL_FEA_XX.wav', '1027_ITS_DIS_XX.wav', '1091_IEO_HAP_LO.wav', '1022_ITH_ANG_XX.wav', '1071_IWL_SAD_XX.wav', '1073_IEO_SAD_HI.wav', '1076_ITS_SAD_XX.wav', '1023_IWW_DIS_XX.wav', '1017_TSI_DIS_XX.wav', '1085_IWL_NEU_XX.wav', '1030_ITH_ANG_XX.wav', '1007_WSI_FEA_XX.wav', '1081_TAI_SAD_XX.wav', '1028_IEO_DIS_MD.wav', '1063_TIE_DIS_XX.wav', '1085_MTI_ANG_XX.wav', '1063_ITH_FEA_XX.wav', '1047_IOM_HAP_XX.wav', '1025_TIE_SAD_XX.wav', '1076_IWL_DIS_XX.wav', '1004_IEO_NEU_XX.wav', '1071_IEO_SAD_MD.wav', '1071_IOM_ANG_XX.wav', '1073_TAI_NEU_XX.wav', '1076_IEO_FEA_MD.wav', '1062_TAI_ANG_XX.wav', '1029_IWW_DIS_XX.wav', '1079_IEO_HAP_LO.wav', '1072_IOM_ANG_XX.wav', '1079_ITS_DIS_XX.wav', '1076_IOM_FEA_XX.wav', '1075_WSI_DIS_XX.wav', '1012_DFA_DIS_XX.wav', '1041_ITS_HAP_XX.wav', '1041_ITH_SAD_XX.wav', '1053_IOM_NEU_XX.wav', '1086_IEO_ANG_HI.wav', '1044_TSI_SAD_XX.wav', '1013_ITH_DIS_XX.wav', '1036_TSI_DIS_XX.wav', '1088_MTI_ANG_XX.wav', '1065_TSI_HAP_XX.wav', '1042_IEO_ANG_MD.wav', '1066_IEO_DIS_HI.wav', '1081_IWW_DIS_XX.wav', '1010_TAI_HAP_XX.wav', '1028_DFA_FEA_XX.wav', '1022_TIE_HAP_XX.wav', '1055_TIE_SAD_XX.wav', '1086_TAI_NEU_XX.wav', '1004_TSI_DIS_XX.wav', '1017_IEO_DIS_HI.wav', '1035_IWW_ANG_XX.wav', '1006_ITS_ANG_XX.wav', '1017_IWW_HAP_XX.wav', '1074_IEO_HAP_LO.wav', '1025_IEO_NEU_XX.wav', '1022_IWW_SAD_XX.wav', '1072_ITH_NEU_XX.wav', '1080_TIE_NEU_XX.wav', '1010_IWW_DIS_XX.wav', '1086_ITH_DIS_XX.wav', '1025_MTI_NEU_XX.wav', '1022_WSI_ANG_XX.wav', '1047_TSI_NEU_XX.wav', '1030_TAI_HAP_XX.wav', '1038_DFA_NEU_XX.wav', '1045_TIE_NEU_XX.wav', '1057_IEO_DIS_HI.wav', '1070_MTI_SAD_XX.wav', '1052_ITS_FEA_XX.wav', '1001_IWL_NEU_XX.wav', '1029_IOM_NEU_XX.wav', '1087_IWW_NEU_XX.wav', '1055_WSI_FEA_XX.wav', '1074_TSI_NEU_XX.wav', '1010_WSI_FEA_XX.wav', '1062_IEO_SAD_MD.wav', '1070_IEO_ANG_MD.wav', '1047_TAI_HAP_XX.wav', '1067_WSI_FEA_XX.wav', '1035_TSI_HAP_XX.wav', '1027_IEO_DIS_MD.wav', '1077_WSI_DIS_XX.wav', '1075_ITS_FEA_XX.wav', '1058_DFA_FEA_XX.wav', '1081_DFA_SAD_XX.wav', '1070_WSI_FEA_XX.wav', '1035_TAI_FEA_XX.wav', '1091_IEO_NEU_XX.wav', '1043_IWL_ANG_XX.wav', '1048_TSI_FEA_XX.wav', '1091_IWL_HAP_XX.wav', '1078_TAI_DIS_XX.wav', '1027_IEO_SAD_HI.wav', '1077_IOM_HAP_XX.wav', '1012_MTI_FEA_XX.wav', '1023_MTI_HAP_XX.wav', '1008_IWW_SAD_XX.wav', '1011_WSI_FEA_XX.wav', '1004_IEO_HAP_MD.wav', '1038_IEO_DIS_LO.wav', '1079_IWL_SAD_XX.wav', '1057_WSI_DIS_XX.wav', '1058_WSI_NEU_XX.wav', '1049_ITH_ANG_XX.wav', '1064_IWW_FEA_XX.wav', '1057_IEO_DIS_LO.wav', '1076_WSI_NEU_XX.wav', '1030_ITS_ANG_XX.wav', '1077_IWW_FEA_XX.wav', '1086_WSI_FEA_XX.wav', '1036_DFA_NEU_XX.wav', '1027_DFA_DIS_XX.wav', '1090_IEO_FEA_MD.wav', '1078_IEO_FEA_LO.wav', '1061_TAI_NEU_XX.wav', '1022_IEO_HAP_MD.wav', '1016_IEO_SAD_LO.wav', '1025_TSI_NEU_XX.wav', '1072_IEO_ANG_MD.wav', '1081_IEO_ANG_HI.wav', '1015_IWL_FEA_XX.wav', '1053_ITH_FEA_XX.wav', '1059_IWL_ANG_XX.wav', '1028_IOM_DIS_XX.wav', '1041_IWL_NEU_XX.wav', '1056_ITH_NEU_XX.wav', '1034_ITS_FEA_XX.wav', '1002_IEO_SAD_HI.wav', '1057_TAI_FEA_XX.wav', '1001_DFA_ANG_XX.wav', '1033_IOM_ANG_XX.wav', '1009_IWW_FEA_XX.wav', '1033_IOM_FEA_XX.wav', '1041_MTI_NEU_XX.wav', '1085_ITH_ANG_XX.wav', '1009_TAI_SAD_XX.wav', '1047_IOM_DIS_XX.wav', '1036_IEO_DIS_MD.wav', '1076_TIE_FEA_XX.wav', '1041_IWL_FEA_XX.wav', '1074_TSI_ANG_XX.wav', '1078_IEO_SAD_LO.wav', '1019_IEO_DIS_HI.wav', '1075_TSI_ANG_XX.wav', '1077_TAI_SAD_XX.wav', '1001_ITS_SAD_XX.wav', '1034_TAI_DIS_XX.wav', '1086_IEO_ANG_LO.wav', '1043_ITS_DIS_XX.wav', '1068_ITS_SAD_XX.wav', '1041_IEO_HAP_LO.wav', '1061_IWW_ANG_XX.wav', '1041_IWW_DIS_XX.wav', '1010_IOM_SAD_XX.wav', '1015_MTI_FEA_XX.wav', '1089_IEO_HAP_MD.wav', '1001_MTI_SAD_XX.wav', '1008_IEO_ANG_HI.wav', '1082_WSI_HAP_XX.wav', '1051_IOM_ANG_XX.wav', '1047_IOM_NEU_XX.wav', '1019_IOM_SAD_XX.wav', '1084_MTI_SAD_XX.wav', '1088_TIE_SAD_XX.wav', '1044_ITH_DIS_XX.wav', '1048_IWL_NEU_XX.wav', '1032_ITS_DIS_XX.wav', '1050_DFA_SAD_XX.wav', '1076_TSI_HAP_XX.wav', '1072_TIE_SAD_XX.wav', '1014_TIE_DIS_XX.wav', '1021_IEO_NEU_XX.wav', '1051_MTI_HAP_XX.wav', '1070_IEO_FEA_MD.wav', '1063_TIE_ANG_XX.wav', '1054_IWL_NEU_XX.wav', '1054_TSI_ANG_XX.wav', '1021_IEO_HAP_HI.wav', '1046_WSI_ANG_XX.wav', '1039_IWW_ANG_XX.wav', '1021_MTI_HAP_XX.wav', '1030_IEO_HAP_HI.wav', '1007_TSI_NEU_XX.wav', '1029_IEO_ANG_MD.wav', '1043_ITH_NEU_XX.wav', '1068_TAI_ANG_XX.wav', '1063_TAI_HAP_XX.wav', '1046_WSI_HAP_XX.wav', '1056_TIE_NEU_XX.wav', '1059_IEO_NEU_XX.wav', '1013_IOM_SAD_XX.wav', '1041_IOM_NEU_XX.wav', '1062_ITS_ANG_XX.wav', '1075_TAI_FEA_XX.wav', '1044_TSI_HAP_XX.wav', '1007_IEO_SAD_HI.wav', '1069_MTI_FEA_XX.wav', '1066_WSI_FEA_XX.wav', '1081_IWL_ANG_XX.wav', '1059_IEO_FEA_HI.wav', '1064_TIE_SAD_XX.wav', '1081_IWL_NEU_XX.wav', '1002_ITS_SAD_XX.wav', '1036_IWL_ANG_XX.wav', '1010_IEO_SAD_LO.wav', '1051_DFA_HAP_XX.wav', '1025_WSI_SAD_XX.wav', '1074_IWL_ANG_XX.wav', '1077_IOM_FEA_XX.wav', '1079_TSI_NEU_XX.wav', '1015_IOM_HAP_XX.wav', '1066_TIE_DIS_XX.wav', '1001_ITS_ANG_XX.wav', '1006_MTI_HAP_XX.wav', '1089_TIE_SAD_XX.wav', '1010_MTI_DIS_XX.wav', '1050_TAI_DIS_XX.wav', '1028_DFA_SAD_XX.wav', '1081_IOM_SAD_XX.wav', '1023_IWL_DIS_XX.wav', '1059_ITS_ANG_XX.wav', '1043_ITS_NEU_XX.wav', '1012_IEO_SAD_HI.wav', '1081_ITS_DIS_XX.wav', '1013_TAI_DIS_XX.wav', '1038_IWL_NEU_XX.wav', '1053_DFA_DIS_XX.wav', '1063_TIE_HAP_XX.wav', '1017_IWL_SAD_XX.wav', '1054_WSI_HAP_XX.wav', '1055_MTI_DIS_XX.wav', '1060_IEO_SAD_HI.wav', '1081_DFA_DIS_XX.wav', '1048_DFA_DIS_XX.wav', '1045_IOM_FEA_XX.wav', '1038_TAI_NEU_XX.wav', '1049_ITH_FEA_XX.wav', '1056_ITS_ANG_XX.wav', '1014_IEO_HAP_MD.wav', '1040_TSI_NEU_XX.wav', '1066_WSI_ANG_XX.wav', '1015_ITH_HAP_XX.wav', '1054_TSI_HAP_XX.wav', '1029_IEO_SAD_MD.wav', '1061_IOM_SAD_XX.wav', '1014_MTI_NEU_XX.wav', '1019_TAI_SAD_XX.wav', '1086_MTI_SAD_XX.wav', '1028_TIE_HAP_XX.wav', '1014_ITS_FEA_XX.wav', '1037_ITS_DIS_XX.wav', '1085_IEO_DIS_MD.wav', '1030_ITH_HAP_XX.wav', '1020_IOM_ANG_XX.wav', '1080_DFA_ANG_XX.wav', '1054_IOM_SAD_XX.wav', '1064_TSI_ANG_XX.wav', '1035_ITS_SAD_XX.wav', '1033_IOM_SAD_XX.wav', '1058_TSI_HAP_XX.wav', '1090_DFA_DIS_XX.wav', '1007_IEO_SAD_LO.wav', '1023_IEO_ANG_HI.wav', '1061_DFA_NEU_XX.wav', '1029_DFA_NEU_XX.wav', '1038_WSI_NEU_XX.wav', '1038_TAI_ANG_XX.wav', '1054_TIE_NEU_XX.wav', '1057_IOM_HAP_XX.wav', '1015_IEO_DIS_HI.wav', '1058_MTI_NEU_XX.wav', '1061_TSI_SAD_XX.wav', '1023_IEO_DIS_MD.wav', '1060_IWL_FEA_XX.wav', '1031_TAI_DIS_XX.wav', '1076_IEO_HAP_HI.wav', '1037_IOM_ANG_XX.wav', '1058_TAI_SAD_XX.wav', '1070_IWL_NEU_XX.wav', '1035_IEO_FEA_HI.wav', '1019_ITS_FEA_XX.wav', '1046_TIE_ANG_XX.wav', '1036_IEO_HAP_HI.wav', '1040_IEO_ANG_LO.wav', '1007_MTI_FEA_XX.wav', '1016_ITS_HAP_XX.wav', '1091_ITS_DIS_XX.wav', '1060_TIE_NEU_XX.wav', '1079_IEO_FEA_LO.wav', '1058_IWW_FEA_XX.wav', '1056_IEO_NEU_XX.wav', '1082_IEO_ANG_MD.wav', '1047_IEO_DIS_HI.wav', '1073_ITH_SAD_XX.wav', '1011_TAI_FEA_XX.wav', '1053_IOM_DIS_XX.wav', '1012_IWW_HAP_XX.wav', '1042_MTI_NEU_XX.wav', '1071_TSI_FEA_XX.wav', '1035_ITS_ANG_XX.wav', '1007_ITH_DIS_XX.wav', '1046_WSI_SAD_XX.wav', '1064_MTI_DIS_XX.wav', '1078_TSI_FEA_XX.wav', '1037_TAI_NEU_XX.wav', '1024_MTI_DIS_XX.wav', '1015_WSI_ANG_XX.wav', '1008_DFA_FEA_XX.wav', '1030_MTI_HAP_XX.wav', '1022_DFA_DIS_XX.wav', '1028_IWW_ANG_XX.wav', '1024_IOM_FEA_XX.wav', '1029_TIE_SAD_XX.wav', '1010_IEO_DIS_HI.wav', '1022_TAI_SAD_XX.wav', '1031_WSI_SAD_XX.wav', '1073_ITH_DIS_XX.wav', '1035_TSI_SAD_XX.wav', '1001_IWL_SAD_XX.wav', '1079_MTI_HAP_XX.wav', '1079_DFA_DIS_XX.wav', '1036_IEO_FEA_MD.wav', '1051_TSI_ANG_XX.wav', '1050_MTI_DIS_XX.wav', '1020_TAI_SAD_XX.wav', '1058_WSI_DIS_XX.wav', '1081_ITS_FEA_XX.wav', '1089_DFA_SAD_XX.wav', '1075_IEO_HAP_LO.wav', '1053_TSI_NEU_XX.wav', '1049_IWL_NEU_XX.wav', '1071_TIE_FEA_XX.wav', '1087_DFA_ANG_XX.wav', '1080_TIE_FEA_XX.wav', '1018_TSI_FEA_XX.wav', '1032_IOM_ANG_XX.wav', '1087_IWL_SAD_XX.wav', '1037_ITH_HAP_XX.wav', '1013_IWW_HAP_XX.wav', '1033_IEO_SAD_HI.wav', '1073_TSI_ANG_XX.wav', '1019_IWW_FEA_XX.wav', '1020_ITS_NEU_XX.wav', '1006_IWW_FEA_XX.wav', '1067_IOM_SAD_XX.wav', '1036_IEO_ANG_LO.wav', '1019_TIE_FEA_XX.wav', '1040_IWW_HAP_XX.wav', '1081_ITS_NEU_XX.wav', '1051_ITH_SAD_XX.wav', '1035_IWW_SAD_XX.wav', '1020_MTI_HAP_XX.wav', '1026_IEO_DIS_LO.wav', '1017_MTI_FEA_XX.wav', '1045_TAI_SAD_XX.wav', '1018_IWW_NEU_XX.wav', '1068_IEO_FEA_LO.wav', '1026_IOM_FEA_XX.wav', '1075_IWL_ANG_XX.wav', '1038_ITS_NEU_XX.wav', '1001_TSI_NEU_XX.wav', '1065_IOM_ANG_XX.wav', '1074_IEO_SAD_MD.wav', '1035_IWW_FEA_XX.wav', '1082_TSI_DIS_XX.wav', '1086_IOM_FEA_XX.wav', '1049_IWW_NEU_XX.wav', '1045_TAI_FEA_XX.wav', '1074_TIE_ANG_XX.wav', '1045_TAI_NEU_XX.wav', '1050_MTI_SAD_XX.wav', '1010_ITH_SAD_XX.wav', '1087_IOM_SAD_XX.wav', '1031_IEO_FEA_LO.wav', '1030_ITS_SAD_XX.wav', '1017_ITS_NEU_XX.wav', '1014_TSI_DIS_XX.wav', '1076_WSI_ANG_XX.wav', '1010_IEO_NEU_XX.wav', '1075_IWW_ANG_XX.wav', '1046_IEO_DIS_LO.wav', '1004_IEO_ANG_MD.wav', '1081_ITS_HAP_XX.wav', '1042_IOM_ANG_XX.wav', '1051_IWW_FEA_XX.wav', '1083_MTI_HAP_XX.wav', '1072_IEO_ANG_HI.wav', '1086_MTI_HAP_XX.wav', '1078_MTI_ANG_XX.wav', '1066_IEO_ANG_LO.wav', '1080_TAI_FEA_XX.wav', '1024_DFA_DIS_XX.wav', '1011_IEO_DIS_HI.wav', '1079_IEO_SAD_LO.wav', '1021_IWL_NEU_XX.wav', '1053_IWL_NEU_XX.wav', '1024_ITH_HAP_XX.wav', '1022_TAI_FEA_XX.wav', '1085_TIE_FEA_XX.wav', '1014_IWL_NEU_XX.wav', '1013_IEO_SAD_MD.wav', '1047_IOM_ANG_XX.wav', '1036_TIE_NEU_XX.wav', '1036_IEO_SAD_LO.wav', '1085_IWW_ANG_XX.wav', '1056_TAI_NEU_XX.wav', '1083_MTI_SAD_XX.wav', '1030_IWW_SAD_XX.wav', '1025_ITH_SAD_XX.wav', '1013_TSI_SAD_XX.wav', '1005_IEO_ANG_MD.wav', '1078_WSI_HAP_XX.wav', '1008_ITH_DIS_XX.wav', '1063_MTI_NEU_XX.wav', '1046_TAI_FEA_XX.wav', '1047_WSI_ANG_XX.wav', '1023_DFA_NEU_XX.wav', '1070_IWW_NEU_XX.wav', '1017_TIE_ANG_XX.wav', '1061_DFA_SAD_XX.wav', '1002_MTI_HAP_XX.wav', '1080_TAI_SAD_XX.wav', '1052_WSI_NEU_XX.wav', '1058_IWW_DIS_XX.wav', '1084_IEO_HAP_MD.wav', '1012_IOM_NEU_XX.wav', '1062_ITS_FEA_XX.wav', '1032_TSI_NEU_XX.wav', '1056_MTI_DIS_XX.wav', '1069_MTI_SAD_XX.wav', '1086_TIE_SAD_XX.wav', '1060_IEO_DIS_MD.wav', '1009_IWL_SAD_XX.wav', '1081_TAI_DIS_XX.wav', '1048_IEO_FEA_MD.wav', '1022_ITH_DIS_XX.wav', '1046_IEO_NEU_XX.wav', '1029_TAI_SAD_XX.wav', '1015_TAI_DIS_XX.wav', '1074_TIE_SAD_XX.wav', '1029_IWW_NEU_XX.wav', '1034_IEO_FEA_HI.wav', '1012_ITH_NEU_XX.wav', '1057_ITH_SAD_XX.wav', '1014_IWW_ANG_XX.wav', '1054_ITS_FEA_XX.wav', '1068_IEO_FEA_HI.wav', '1007_TIE_NEU_XX.wav', '1026_DFA_HAP_XX.wav', '1008_DFA_DIS_XX.wav', '1047_IWW_HAP_XX.wav', '1040_ITH_ANG_XX.wav', '1091_IWL_SAD_XX.wav', '1026_IEO_FEA_LO.wav', '1007_IWW_HAP_XX.wav', '1036_TSI_HAP_XX.wav', '1021_IEO_HAP_LO.wav', '1031_WSI_HAP_XX.wav', '1052_DFA_NEU_XX.wav', '1002_TIE_FEA_XX.wav', '1080_MTI_NEU_XX.wav', '1083_IEO_SAD_HI.wav', '1065_MTI_ANG_XX.wav', '1057_IWL_SAD_XX.wav', '1023_WSI_NEU_XX.wav', '1005_IWL_NEU_XX.wav', '1048_IWW_DIS_XX.wav', '1079_IWW_FEA_XX.wav', '1028_IWW_SAD_XX.wav', '1031_IWL_DIS_XX.wav', '1062_TSI_ANG_XX.wav', '1079_WSI_NEU_XX.wav', '1064_IEO_HAP_MD.wav', '1083_IWW_NEU_XX.wav', '1044_TSI_DIS_XX.wav', '1051_WSI_SAD_XX.wav', '1050_WSI_DIS_XX.wav', '1017_IEO_NEU_XX.wav', '1075_IOM_NEU_XX.wav', '1090_MTI_FEA_XX.wav', '1059_TSI_FEA_XX.wav', '1068_DFA_SAD_XX.wav', '1082_WSI_NEU_XX.wav', '1052_IEO_HAP_MD.wav', '1059_IEO_HAP_MD.wav', '1083_ITH_NEU_XX.wav', '1091_DFA_HAP_XX.wav', '1031_DFA_ANG_XX.wav', '1044_TIE_NEU_XX.wav', '1062_DFA_FEA_XX.wav', '1066_TIE_ANG_XX.wav', '1002_TAI_HAP_XX.wav', '1090_DFA_SAD_XX.wav', '1076_DFA_HAP_XX.wav', '1049_ITH_SAD_XX.wav', '1047_MTI_NEU_XX.wav', '1078_TSI_NEU_XX.wav', '1038_TSI_DIS_XX.wav', '1073_IWL_DIS_XX.wav', '1014_TSI_FEA_XX.wav', '1090_IEO_DIS_LO.wav', '1008_ITH_SAD_XX.wav', '1022_IOM_ANG_XX.wav', '1039_IOM_NEU_XX.wav', '1021_IWW_FEA_XX.wav', '1057_IEO_HAP_LO.wav', '1012_IEO_ANG_LO.wav', '1087_ITS_ANG_XX.wav', '1009_TSI_NEU_XX.wav', '1058_MTI_HAP_XX.wav', '1037_TSI_HAP_XX.wav', '1054_ITH_ANG_XX.wav', '1035_IWL_ANG_XX.wav', '1076_TAI_NEU_XX.wav', '1007_IEO_FEA_HI.wav', '1075_IOM_SAD_XX.wav', '1052_IWW_ANG_XX.wav', '1017_MTI_ANG_XX.wav', '1045_ITH_HAP_XX.wav', '1057_IWW_SAD_XX.wav', '1035_WSI_SAD_XX.wav', '1046_MTI_NEU_XX.wav', '1061_TSI_ANG_XX.wav', '1079_IEO_ANG_MD.wav', '1031_ITS_SAD_XX.wav', '1019_WSI_HAP_XX.wav', '1073_IOM_NEU_XX.wav', '1021_DFA_FEA_XX.wav', '1025_IWL_ANG_XX.wav', '1074_IOM_DIS_XX.wav', '1088_IEO_SAD_HI.wav', '1078_ITH_SAD_XX.wav', '1025_IEO_ANG_MD.wav', '1027_ITS_FEA_XX.wav', '1082_IOM_HAP_XX.wav', '1073_IWW_FEA_XX.wav', '1009_IWL_FEA_XX.wav', '1073_IWL_FEA_XX.wav', '1002_WSI_FEA_XX.wav', '1033_TAI_HAP_XX.wav', '1015_ITS_NEU_XX.wav', '1034_MTI_ANG_XX.wav', '1084_IWL_FEA_XX.wav', '1030_IEO_ANG_MD.wav', '1062_TSI_NEU_XX.wav', '1041_TSI_DIS_XX.wav', '1060_IEO_FEA_LO.wav', '1089_WSI_DIS_XX.wav', '1070_IOM_SAD_XX.wav', '1019_MTI_DIS_XX.wav', '1069_WSI_FEA_XX.wav', '1037_IWL_DIS_XX.wav', '1083_IEO_DIS_HI.wav', '1048_TIE_NEU_XX.wav', '1016_TSI_HAP_XX.wav', '1073_DFA_NEU_XX.wav', '1055_TAI_ANG_XX.wav', '1038_DFA_ANG_XX.wav', '1085_ITH_DIS_XX.wav', '1026_IEO_FEA_HI.wav', '1084_IEO_DIS_HI.wav', '1009_TAI_ANG_XX.wav', '1088_TIE_HAP_XX.wav', '1069_IEO_SAD_LO.wav', '1063_TSI_HAP_XX.wav', '1051_TIE_NEU_XX.wav', '1023_ITS_HAP_XX.wav', '1080_WSI_HAP_XX.wav', '1011_IWL_HAP_XX.wav', '1055_ITH_ANG_XX.wav', '1047_TAI_NEU_XX.wav', '1001_WSI_SAD_XX.wav', '1084_WSI_NEU_XX.wav', '1054_IOM_HAP_XX.wav', '1076_IWW_NEU_XX.wav', '1022_IWL_ANG_XX.wav', '1077_TIE_FEA_XX.wav', '1002_TAI_DIS_XX.wav', '1015_MTI_DIS_XX.wav', '1064_MTI_FEA_XX.wav', '1070_DFA_SAD_XX.wav', '1045_IWW_NEU_XX.wav', '1044_ITH_FEA_XX.wav', '1034_WSI_NEU_XX.wav', '1034_DFA_ANG_XX.wav', '1071_IEO_NEU_XX.wav', '1042_IEO_ANG_LO.wav', '1022_IEO_HAP_LO.wav', '1057_IEO_DIS_MD.wav', '1067_IWL_ANG_XX.wav', '1061_MTI_HAP_XX.wav', '1042_IEO_FEA_LO.wav', '1063_ITS_NEU_XX.wav', '1021_ITS_FEA_XX.wav', '1009_WSI_FEA_XX.wav', '1073_IEO_DIS_LO.wav', '1040_IOM_ANG_XX.wav', '1004_IEO_HAP_LO.wav', '1064_TAI_HAP_XX.wav', '1008_IWL_ANG_XX.wav', '1079_WSI_FEA_XX.wav', '1020_IEO_FEA_HI.wav', '1034_TSI_HAP_XX.wav', '1081_IEO_SAD_LO.wav', '1043_IWL_FEA_XX.wav', '1067_TIE_SAD_XX.wav', '1039_IEO_HAP_MD.wav', '1013_ITH_HAP_XX.wav', '1037_DFA_DIS_XX.wav', '1069_WSI_ANG_XX.wav', '1052_TAI_HAP_XX.wav', '1064_IWL_ANG_XX.wav', '1028_MTI_HAP_XX.wav', '1091_TSI_NEU_XX.wav', '1017_IWW_DIS_XX.wav', '1061_IOM_ANG_XX.wav', '1045_ITS_HAP_XX.wav', '1050_IWW_NEU_XX.wav', '1053_IEO_FEA_MD.wav', '1047_IWL_HAP_XX.wav', '1033_IWW_DIS_XX.wav', '1042_IOM_NEU_XX.wav', '1089_TSI_FEA_XX.wav', '1084_DFA_HAP_XX.wav', '1011_TIE_FEA_XX.wav', '1028_IEO_HAP_MD.wav', '1087_DFA_DIS_XX.wav', '1006_IOM_SAD_XX.wav', '1088_IWW_SAD_XX.wav', '1055_IEO_SAD_MD.wav', '1003_IWW_NEU_XX.wav', '1086_WSI_HAP_XX.wav', '1039_ITH_ANG_XX.wav', '1053_IWW_NEU_XX.wav', '1058_ITH_SAD_XX.wav', '1060_DFA_HAP_XX.wav', '1068_IEO_NEU_XX.wav', '1060_IWL_DIS_XX.wav', '1009_IEO_ANG_MD.wav', '1071_ITS_HAP_XX.wav', '1007_TAI_DIS_XX.wav', '1032_IEO_DIS_LO.wav', '1045_DFA_FEA_XX.wav', '1063_IEO_ANG_LO.wav', '1062_TIE_NEU_XX.wav', '1051_ITS_NEU_XX.wav', '1034_IWL_FEA_XX.wav', '1024_TAI_HAP_XX.wav', '1044_MTI_FEA_XX.wav', '1006_ITS_FEA_XX.wav', '1064_ITH_FEA_XX.wav', '1077_WSI_HAP_XX.wav', '1020_IWW_SAD_XX.wav', '1049_IEO_NEU_XX.wav', '1067_IOM_ANG_XX.wav', '1034_IWL_HAP_XX.wav', '1006_ITS_DIS_XX.wav', '1091_IOM_HAP_XX.wav', '1041_IEO_SAD_MD.wav', '1084_WSI_SAD_XX.wav', '1090_ITS_ANG_XX.wav', '1029_IWW_ANG_XX.wav', '1043_IEO_DIS_HI.wav', '1090_ITS_SAD_XX.wav', '1014_IWW_NEU_XX.wav', '1010_IEO_HAP_HI.wav', '1067_WSI_SAD_XX.wav', '1054_TAI_DIS_XX.wav', '1010_IOM_DIS_XX.wav', '1055_ITH_SAD_XX.wav', '1029_ITS_DIS_XX.wav', '1013_TIE_NEU_XX.wav', '1001_IOM_HAP_XX.wav', '1072_IWL_FEA_XX.wav', '1041_ITH_FEA_XX.wav', '1064_DFA_HAP_XX.wav', '1018_TAI_HAP_XX.wav', '1011_IEO_ANG_LO.wav', '1072_IEO_HAP_LO.wav', '1011_TIE_NEU_XX.wav', '1056_ITH_ANG_XX.wav', '1019_IWL_SAD_XX.wav', '1089_IEO_DIS_HI.wav', '1037_IWW_FEA_XX.wav', '1067_WSI_ANG_XX.wav', '1078_ITS_FEA_XX.wav', '1073_IEO_HAP_MD.wav', '1091_ITH_FEA_XX.wav', '1038_IEO_SAD_MD.wav', '1031_ITH_SAD_XX.wav', '1001_ITS_NEU_XX.wav', '1090_ITH_DIS_XX.wav', '1056_DFA_SAD_XX.wav', '1072_TAI_NEU_XX.wav', '1035_WSI_FEA_XX.wav', '1069_ITS_DIS_XX.wav', '1047_IWW_DIS_XX.wav', '1003_IWW_SAD_XX.wav', '1063_DFA_DIS_XX.wav', '1060_TAI_DIS_XX.wav', '1090_IWW_SAD_XX.wav', '1034_IEO_ANG_MD.wav', '1008_IWL_HAP_XX.wav', '1002_ITH_ANG_XX.wav', '1046_TIE_FEA_XX.wav', '1046_ITH_SAD_XX.wav', '1052_TSI_ANG_XX.wav', '1076_IWW_SAD_XX.wav', '1089_IOM_SAD_XX.wav', '1041_IEO_NEU_XX.wav', '1024_IEO_HAP_HI.wav', '1051_WSI_DIS_XX.wav', '1070_TSI_ANG_XX.wav', '1026_TAI_SAD_XX.wav', '1009_IWW_DIS_XX.wav', '1041_IEO_SAD_HI.wav', '1029_IWL_FEA_XX.wav', '1057_IEO_FEA_HI.wav', '1068_TAI_HAP_XX.wav', '1037_MTI_ANG_XX.wav', '1071_ITH_SAD_XX.wav', '1086_MTI_ANG_XX.wav', '1089_IEO_HAP_HI.wav', '1049_IEO_FEA_LO.wav', '1037_WSI_NEU_XX.wav', '1056_ITS_NEU_XX.wav', '1087_TAI_DIS_XX.wav', '1050_TSI_FEA_XX.wav', '1042_TIE_FEA_XX.wav', '1006_IEO_FEA_HI.wav', '1083_TSI_ANG_XX.wav', '1088_IEO_HAP_LO.wav', '1078_ITH_HAP_XX.wav', '1031_MTI_ANG_XX.wav', '1077_IWW_ANG_XX.wav', '1080_MTI_FEA_XX.wav', '1060_ITS_FEA_XX.wav', '1008_IEO_NEU_XX.wav', '1013_MTI_ANG_XX.wav', '1069_IEO_HAP_MD.wav', '1077_WSI_NEU_XX.wav', '1015_ITS_SAD_XX.wav', '1001_DFA_SAD_XX.wav', '1003_IEO_SAD_HI.wav', '1051_IWL_SAD_XX.wav', '1006_IOM_NEU_XX.wav', '1061_MTI_SAD_XX.wav', '1046_IWW_HAP_XX.wav', '1039_TSI_HAP_XX.wav', '1029_DFA_FEA_XX.wav', '1035_WSI_DIS_XX.wav', '1086_MTI_NEU_XX.wav', '1077_TSI_SAD_XX.wav', '1073_TAI_DIS_XX.wav', '1009_IWL_DIS_XX.wav', '1018_DFA_ANG_XX.wav', '1007_IWL_HAP_XX.wav', '1081_IEO_NEU_XX.wav', '1081_IEO_SAD_HI.wav', '1047_IEO_FEA_MD.wav', '1011_IEO_HAP_LO.wav', '1041_IOM_ANG_XX.wav', '1067_TSI_HAP_XX.wav', '1037_IOM_DIS_XX.wav', '1059_ITH_SAD_XX.wav', '1035_TIE_ANG_XX.wav', '1022_IWW_HAP_XX.wav', '1038_MTI_DIS_XX.wav', '1077_IEO_FEA_MD.wav', '1074_DFA_HAP_XX.wav', '1085_MTI_FEA_XX.wav', '1049_MTI_HAP_XX.wav', '1024_IOM_SAD_XX.wav', '1081_WSI_HAP_XX.wav', '1043_IEO_FEA_MD.wav', '1006_IOM_FEA_XX.wav', '1075_ITS_SAD_XX.wav', '1067_IEO_DIS_LO.wav', '1057_TAI_ANG_XX.wav', '1084_TAI_HAP_XX.wav', '1054_TAI_ANG_XX.wav', '1049_IWL_ANG_XX.wav', '1065_TAI_SAD_XX.wav', '1052_DFA_HAP_XX.wav', '1051_ITH_DIS_XX.wav', '1023_WSI_FEA_XX.wav', '1011_IOM_ANG_XX.wav', '1028_MTI_NEU_XX.wav', '1023_IEO_ANG_LO.wav', '1065_IEO_HAP_MD.wav', '1018_IEO_ANG_LO.wav', '1077_IWL_SAD_XX.wav', '1079_TAI_HAP_XX.wav', '1047_IWW_FEA_XX.wav', '1013_MTI_SAD_XX.wav', '1027_IEO_FEA_LO.wav', '1043_ITS_FEA_XX.wav', '1032_IWL_DIS_XX.wav', '1071_MTI_DIS_XX.wav', '1082_IEO_FEA_MD.wav', '1077_DFA_NEU_XX.wav', '1076_TSI_FEA_XX.wav', '1023_IWL_NEU_XX.wav', '1006_DFA_DIS_XX.wav', '1019_IEO_SAD_MD.wav', '1020_MTI_SAD_XX.wav', '1018_IWL_HAP_XX.wav', '1054_MTI_SAD_XX.wav', '1056_TIE_HAP_XX.wav', '1019_IOM_DIS_XX.wav', '1026_MTI_ANG_XX.wav', '1028_IEO_DIS_HI.wav', '1079_IWL_DIS_XX.wav', '1013_DFA_DIS_XX.wav', '1046_TAI_HAP_XX.wav', '1014_IEO_NEU_XX.wav', '1014_IEO_ANG_LO.wav', '1059_IWW_FEA_XX.wav', '1070_DFA_HAP_XX.wav', '1060_ITS_ANG_XX.wav', '1068_ITS_HAP_XX.wav', '1002_TSI_DIS_XX.wav', '1081_DFA_FEA_XX.wav', '1053_DFA_HAP_XX.wav', '1043_WSI_HAP_XX.wav', '1067_TAI_HAP_XX.wav', '1016_ITH_FEA_XX.wav', '1059_IWW_ANG_XX.wav', '1057_WSI_FEA_XX.wav', '1005_ITS_SAD_XX.wav', '1034_TIE_NEU_XX.wav', '1072_IEO_DIS_HI.wav', '1065_TSI_NEU_XX.wav', '1028_WSI_HAP_XX.wav', '1041_TIE_FEA_XX.wav', '1072_IEO_FEA_HI.wav', '1032_ITS_HAP_XX.wav', '1043_TSI_ANG_XX.wav', '1042_TIE_HAP_XX.wav', '1029_IOM_ANG_XX.wav', '1034_IEO_ANG_HI.wav', '1056_TIE_ANG_XX.wav', '1067_IEO_HAP_HI.wav', '1033_TSI_ANG_XX.wav', '1014_IEO_HAP_HI.wav', '1023_TIE_FEA_XX.wav', '1057_DFA_NEU_XX.wav', '1074_WSI_SAD_XX.wav', '1023_IWL_SAD_XX.wav', '1084_ITH_SAD_XX.wav', '1040_IEO_ANG_MD.wav', '1046_IEO_ANG_HI.wav', '1048_IEO_FEA_HI.wav', '1081_IEO_FEA_MD.wav', '1074_TIE_FEA_XX.wav', '1038_IEO_ANG_LO.wav', '1062_IOM_SAD_XX.wav', '1012_IWW_DIS_XX.wav', '1045_IOM_SAD_XX.wav', '1046_TSI_NEU_XX.wav', '1026_TSI_ANG_XX.wav', '1075_IOM_FEA_XX.wav', '1089_IWW_DIS_XX.wav', '1027_IOM_NEU_XX.wav', '1042_IWL_FEA_XX.wav', '1061_IEO_SAD_MD.wav', '1045_IWL_FEA_XX.wav', '1023_TSI_FEA_XX.wav', '1023_ITH_FEA_XX.wav', '1066_TSI_FEA_XX.wav', '1045_WSI_ANG_XX.wav', '1057_ITS_ANG_XX.wav', '1051_IEO_ANG_HI.wav', '1073_ITH_ANG_XX.wav', '1057_IWW_HAP_XX.wav', '1046_TSI_ANG_XX.wav', '1070_ITH_NEU_XX.wav', '1060_IWW_FEA_XX.wav', '1085_DFA_SAD_XX.wav', '1060_ITS_NEU_XX.wav', '1044_TAI_FEA_XX.wav', '1079_WSI_HAP_XX.wav', '1030_IWW_HAP_XX.wav', '1009_TAI_HAP_XX.wav', '1080_IWW_FEA_XX.wav', '1024_IOM_NEU_XX.wav', '1034_ITH_DIS_XX.wav', '1091_TIE_ANG_XX.wav', '1058_IWW_ANG_XX.wav', '1011_IWL_ANG_XX.wav', '1038_DFA_FEA_XX.wav', '1001_IWW_NEU_XX.wav', '1033_TIE_ANG_XX.wav', '1045_TAI_DIS_XX.wav', '1005_DFA_SAD_XX.wav', '1010_ITH_DIS_XX.wav', '1059_TIE_SAD_XX.wav', '1025_ITS_ANG_XX.wav', '1029_IEO_SAD_HI.wav', '1073_IEO_SAD_MD.wav', '1056_DFA_HAP_XX.wav', '1055_IWL_FEA_XX.wav', '1064_IEO_SAD_MD.wav', '1041_DFA_FEA_XX.wav', '1080_IWL_HAP_XX.wav', '1048_IOM_HAP_XX.wav', '1052_ITS_NEU_XX.wav', '1067_DFA_DIS_XX.wav', '1039_IEO_DIS_HI.wav', '1060_TAI_HAP_XX.wav', '1067_IOM_FEA_XX.wav', '1025_ITS_FEA_XX.wav', '1078_ITS_HAP_XX.wav', '1022_IWW_ANG_XX.wav', '1050_IEO_DIS_MD.wav', '1068_MTI_SAD_XX.wav', '1045_WSI_SAD_XX.wav', '1024_TAI_DIS_XX.wav', '1073_IWW_SAD_XX.wav', '1039_IEO_NEU_XX.wav', '1088_IOM_DIS_XX.wav', '1076_TAI_HAP_XX.wav', '1091_IWW_FEA_XX.wav', '1061_DFA_FEA_XX.wav', '1013_ITH_SAD_XX.wav', '1083_WSI_SAD_XX.wav', '1015_IWL_ANG_XX.wav', '1079_IOM_NEU_XX.wav', '1075_ITS_ANG_XX.wav', '1031_MTI_FEA_XX.wav', '1061_ITS_FEA_XX.wav', '1027_TSI_HAP_XX.wav', '1016_IEO_SAD_MD.wav', '1056_IWL_SAD_XX.wav', '1036_TAI_ANG_XX.wav', '1020_IWL_FEA_XX.wav', '1011_IOM_NEU_XX.wav', '1003_IEO_DIS_MD.wav', '1057_MTI_DIS_XX.wav', '1059_MTI_HAP_XX.wav', '1047_IOM_SAD_XX.wav', '1091_IEO_FEA_HI.wav', '1023_ITH_HAP_XX.wav', '1061_IWW_DIS_XX.wav', '1067_MTI_SAD_XX.wav', '1032_TAI_DIS_XX.wav', '1038_DFA_DIS_XX.wav', '1025_IEO_FEA_LO.wav', '1050_IOM_NEU_XX.wav', '1004_IWL_FEA_XX.wav', '1006_TAI_SAD_XX.wav', '1020_IEO_SAD_HI.wav', '1078_IWL_SAD_XX.wav', '1061_IEO_DIS_LO.wav', '1091_MTI_ANG_XX.wav', '1021_MTI_SAD_XX.wav', '1032_TAI_SAD_XX.wav', '1030_WSI_NEU_XX.wav', '1080_DFA_DIS_XX.wav', '1003_MTI_DIS_XX.wav', '1080_TSI_FEA_XX.wav', '1007_ITS_FEA_XX.wav', '1087_TAI_ANG_XX.wav', '1011_IWL_SAD_XX.wav', '1041_ITH_ANG_XX.wav', '1084_IEO_ANG_MD.wav', '1006_DFA_NEU_XX.wav', '1041_IWW_HAP_XX.wav', '1007_TAI_NEU_XX.wav', '1064_IEO_HAP_LO.wav', '1062_TAI_SAD_XX.wav', '1027_WSI_FEA_XX.wav', '1041_WSI_SAD_XX.wav', '1045_TIE_FEA_XX.wav', '1060_TIE_ANG_XX.wav', '1014_TAI_NEU_XX.wav', '1085_IOM_NEU_XX.wav', '1019_IEO_SAD_LO.wav', '1074_TSI_SAD_XX.wav', '1085_WSI_NEU_XX.wav', '1045_MTI_DIS_XX.wav', '1050_DFA_HAP_XX.wav', '1091_IEO_ANG_LO.wav', '1046_IEO_DIS_HI.wav', '1064_ITH_HAP_XX.wav', '1032_IOM_SAD_XX.wav', '1034_ITS_SAD_XX.wav', '1015_TSI_FEA_XX.wav', '1005_IEO_FEA_LO.wav', '1059_IEO_FEA_LO.wav', '1060_TAI_NEU_XX.wav', '1076_DFA_DIS_XX.wav', '1059_DFA_HAP_XX.wav', '1022_ITS_NEU_XX.wav', '1071_IEO_FEA_MD.wav', '1002_IWW_ANG_XX.wav', '1050_DFA_ANG_XX.wav', '1071_IEO_SAD_LO.wav', '1014_ITH_DIS_XX.wav', '1091_IWW_SAD_XX.wav', '1065_IWL_DIS_XX.wav', '1039_IOM_FEA_XX.wav', '1071_WSI_DIS_XX.wav', '1078_TIE_HAP_XX.wav', '1004_ITS_DIS_XX.wav', '1051_IEO_DIS_MD.wav', '1053_ITS_ANG_XX.wav', '1039_IWL_DIS_XX.wav', '1003_IOM_NEU_XX.wav', '1032_IWW_NEU_XX.wav', '1091_TSI_DIS_XX.wav', '1082_IWW_SAD_XX.wav', '1049_IOM_SAD_XX.wav', '1012_WSI_ANG_XX.wav', '1079_ITH_FEA_XX.wav', '1005_ITS_DIS_XX.wav', '1087_IWL_FEA_XX.wav', '1003_IEO_FEA_LO.wav', '1003_IEO_ANG_MD.wav', '1083_MTI_NEU_XX.wav', '1067_IWW_SAD_XX.wav', '1014_IWW_FEA_XX.wav', '1002_IWW_HAP_XX.wav', '1036_DFA_SAD_XX.wav', '1088_IOM_HAP_XX.wav', '1049_IEO_FEA_MD.wav', '1085_TAI_ANG_XX.wav', '1077_MTI_FEA_XX.wav', '1070_DFA_FEA_XX.wav', '1072_IWW_ANG_XX.wav', '1051_IEO_ANG_MD.wav', '1056_IWW_ANG_XX.wav', '1062_ITS_DIS_XX.wav', '1064_IEO_HAP_HI.wav', '1091_IEO_HAP_HI.wav', '1090_IEO_SAD_HI.wav', '1087_MTI_ANG_XX.wav', '1029_IEO_FEA_LO.wav', '1090_IEO_DIS_HI.wav', '1019_IOM_NEU_XX.wav', '1008_IWL_DIS_XX.wav', '1043_IEO_HAP_MD.wav', '1013_ITS_NEU_XX.wav', '1058_IEO_DIS_LO.wav', '1055_ITS_DIS_XX.wav', '1017_MTI_NEU_XX.wav', '1030_IWL_FEA_XX.wav', '1069_TAI_ANG_XX.wav', '1089_ITH_HAP_XX.wav', '1010_TIE_DIS_XX.wav', '1072_IEO_ANG_LO.wav', '1090_IEO_SAD_MD.wav', '1039_ITH_SAD_XX.wav', '1027_WSI_SAD_XX.wav', '1090_TIE_ANG_XX.wav', '1020_IEO_HAP_HI.wav', '1033_TAI_ANG_XX.wav', '1005_TIE_HAP_XX.wav', '1025_TIE_HAP_XX.wav', '1007_DFA_HAP_XX.wav', '1065_ITH_HAP_XX.wav', '1079_IOM_HAP_XX.wav', '1066_IWL_ANG_XX.wav', '1047_DFA_ANG_XX.wav', '1019_IEO_ANG_MD.wav', '1074_ITH_SAD_XX.wav', '1053_IWL_ANG_XX.wav', '1032_TIE_SAD_XX.wav', '1039_IEO_ANG_HI.wav', '1063_TAI_DIS_XX.wav', '1042_WSI_FEA_XX.wav', '1029_WSI_DIS_XX.wav', '1021_TAI_FEA_XX.wav', '1054_TAI_SAD_XX.wav', '1049_IWL_HAP_XX.wav', '1050_IEO_ANG_HI.wav', '1079_ITS_ANG_XX.wav', '1045_IEO_SAD_HI.wav', '1018_IWW_FEA_XX.wav', '1025_TSI_SAD_XX.wav', '1063_DFA_FEA_XX.wav', '1058_TAI_HAP_XX.wav', '1043_TAI_SAD_XX.wav', '1012_IEO_FEA_MD.wav', '1052_TAI_ANG_XX.wav', '1037_MTI_HAP_XX.wav', '1054_TSI_DIS_XX.wav', '1001_IWL_HAP_XX.wav', '1030_DFA_DIS_XX.wav', '1004_IWW_ANG_XX.wav', '1027_IWL_SAD_XX.wav', '1007_ITS_ANG_XX.wav', '1007_DFA_FEA_XX.wav', '1001_IEO_NEU_XX.wav', '1077_IOM_ANG_XX.wav', '1035_MTI_HAP_XX.wav', '1082_TIE_NEU_XX.wav', '1007_TAI_FEA_XX.wav', '1081_MTI_SAD_XX.wav', '1046_IWW_DIS_XX.wav', '1051_DFA_DIS_XX.wav', '1028_IEO_NEU_XX.wav', '1072_IWL_SAD_XX.wav', '1015_TIE_HAP_XX.wav', '1042_IWW_HAP_XX.wav', '1062_MTI_DIS_XX.wav', '1063_IEO_FEA_HI.wav', '1023_IEO_HAP_LO.wav', '1053_ITH_ANG_XX.wav', '1069_ITS_NEU_XX.wav', '1030_IWL_SAD_XX.wav', '1036_DFA_FEA_XX.wav', '1012_WSI_DIS_XX.wav', '1044_WSI_ANG_XX.wav', '1027_MTI_DIS_XX.wav', '1052_IEO_DIS_HI.wav', '1043_TSI_FEA_XX.wav', '1013_TAI_FEA_XX.wav', '1016_IEO_ANG_HI.wav', '1024_TSI_FEA_XX.wav', '1064_TSI_SAD_XX.wav', '1057_WSI_NEU_XX.wav', '1078_WSI_FEA_XX.wav', '1026_ITH_FEA_XX.wav', '1051_MTI_SAD_XX.wav', '1035_IEO_SAD_LO.wav', '1069_IEO_DIS_LO.wav', '1013_ITS_HAP_XX.wav', '1041_IOM_FEA_XX.wav', '1021_IOM_NEU_XX.wav', '1018_TAI_ANG_XX.wav', '1063_IOM_ANG_XX.wav', '1027_IEO_HAP_HI.wav', '1084_TIE_FEA_XX.wav', '1080_ITH_NEU_XX.wav', '1019_WSI_NEU_XX.wav', '1057_WSI_HAP_XX.wav', '1025_MTI_SAD_XX.wav', '1044_MTI_ANG_XX.wav', '1004_MTI_HAP_XX.wav', '1005_TAI_HAP_XX.wav', '1005_IEO_SAD_HI.wav', '1078_TAI_NEU_XX.wav', '1026_IEO_FEA_MD.wav', '1038_TIE_NEU_XX.wav', '1027_IWW_HAP_XX.wav', '1024_DFA_ANG_XX.wav', '1036_IEO_DIS_HI.wav', '1083_ITS_FEA_XX.wav', '1083_ITH_FEA_XX.wav', '1088_IWW_NEU_XX.wav', '1079_TSI_ANG_XX.wav', '1082_IEO_ANG_HI.wav', '1014_IWL_DIS_XX.wav', '1008_IWL_SAD_XX.wav', '1085_IEO_DIS_HI.wav', '1055_TIE_NEU_XX.wav', '1038_IEO_SAD_HI.wav', '1050_IOM_DIS_XX.wav', '1086_IOM_HAP_XX.wav', '1061_TIE_ANG_XX.wav', '1003_IWL_SAD_XX.wav', '1009_ITS_SAD_XX.wav', '1039_DFA_ANG_XX.wav', '1089_WSI_FEA_XX.wav', '1086_ITS_ANG_XX.wav', '1028_ITH_DIS_XX.wav', '1062_ITH_FEA_XX.wav', '1075_IWL_NEU_XX.wav', '1001_IEO_FEA_HI.wav', '1008_IWW_ANG_XX.wav', '1010_WSI_DIS_XX.wav', '1078_ITH_FEA_XX.wav', '1058_WSI_HAP_XX.wav', '1078_MTI_DIS_XX.wav', '1024_IWW_FEA_XX.wav', '1031_IEO_ANG_LO.wav', '1030_ITH_NEU_XX.wav', '1053_TIE_HAP_XX.wav', '1045_ITH_DIS_XX.wav', '1003_IEO_SAD_LO.wav', '1010_IOM_HAP_XX.wav', '1054_IEO_ANG_LO.wav', '1083_IEO_DIS_LO.wav', '1027_DFA_ANG_XX.wav', '1066_ITS_SAD_XX.wav', '1060_IOM_ANG_XX.wav', '1049_IEO_ANG_MD.wav', '1058_IEO_HAP_HI.wav', '1021_ITH_DIS_XX.wav', '1057_IEO_SAD_LO.wav', '1063_DFA_HAP_XX.wav', '1065_IEO_HAP_LO.wav', '1021_ITS_ANG_XX.wav', '1068_IWW_ANG_XX.wav', '1080_IWL_ANG_XX.wav', '1070_TAI_DIS_XX.wav', '1078_TAI_ANG_XX.wav', '1040_TAI_HAP_XX.wav', '1075_IWW_FEA_XX.wav', '1090_IEO_HAP_LO.wav', '1083_TIE_NEU_XX.wav', '1078_IEO_DIS_HI.wav', '1042_WSI_SAD_XX.wav', '1061_IEO_DIS_MD.wav', '1024_IEO_NEU_XX.wav', '1049_MTI_DIS_XX.wav', '1086_IOM_SAD_XX.wav', '1079_TSI_DIS_XX.wav', '1074_IOM_SAD_XX.wav', '1014_IWW_SAD_XX.wav', '1090_IOM_FEA_XX.wav', '1031_IEO_DIS_MD.wav', '1074_WSI_HAP_XX.wav', '1081_IWW_FEA_XX.wav', '1082_IWW_DIS_XX.wav', '1003_TAI_FEA_XX.wav', '1051_IWW_NEU_XX.wav', '1051_IOM_FEA_XX.wav', '1012_ITH_DIS_XX.wav', '1089_MTI_ANG_XX.wav', '1049_ITS_DIS_XX.wav', '1052_IWW_FEA_XX.wav', '1085_IEO_ANG_LO.wav', '1077_TAI_NEU_XX.wav', '1083_TAI_FEA_XX.wav', '1003_ITH_SAD_XX.wav', '1004_IWL_SAD_XX.wav', '1033_IEO_HAP_MD.wav', '1011_ITH_NEU_XX.wav', '1055_IEO_DIS_LO.wav', '1033_WSI_ANG_XX.wav', '1044_IEO_ANG_MD.wav', '1018_IWL_SAD_XX.wav', '1081_ITS_ANG_XX.wav', '1082_TAI_FEA_XX.wav', '1019_TIE_SAD_XX.wav', '1027_ITS_SAD_XX.wav', '1072_IOM_NEU_XX.wav', '1059_IWW_NEU_XX.wav', '1080_MTI_HAP_XX.wav', '1037_WSI_FEA_XX.wav', '1080_IEO_FEA_MD.wav', '1055_IEO_FEA_HI.wav', '1086_ITH_FEA_XX.wav', '1059_IEO_DIS_LO.wav', '1082_ITH_ANG_XX.wav', '1016_IOM_SAD_XX.wav', '1075_IWW_DIS_XX.wav', '1036_IOM_DIS_XX.wav', '1040_TSI_ANG_XX.wav', '1029_TIE_HAP_XX.wav', '1007_IWW_DIS_XX.wav', '1073_IWW_ANG_XX.wav', '1014_IEO_SAD_HI.wav', '1026_WSI_HAP_XX.wav', '1068_IEO_DIS_HI.wav', '1074_IWW_ANG_XX.wav', '1067_ITS_NEU_XX.wav', '1074_ITH_HAP_XX.wav', '1058_ITH_NEU_XX.wav', '1063_TSI_SAD_XX.wav', '1059_IOM_SAD_XX.wav', '1088_IEO_DIS_MD.wav', '1001_TAI_FEA_XX.wav', '1052_IWW_SAD_XX.wav', '1078_TSI_DIS_XX.wav', '1070_TAI_HAP_XX.wav', '1087_MTI_DIS_XX.wav', '1030_IWW_FEA_XX.wav', '1006_ITH_DIS_XX.wav', '1067_DFA_SAD_XX.wav', '1088_WSI_SAD_XX.wav', '1073_IEO_HAP_HI.wav', '1037_IOM_HAP_XX.wav', '1088_ITH_SAD_XX.wav', '1013_IEO_HAP_LO.wav', '1066_IEO_FEA_LO.wav', '1039_ITH_HAP_XX.wav', '1030_IEO_SAD_LO.wav', '1071_ITH_ANG_XX.wav', '1016_IEO_ANG_LO.wav', '1027_TSI_SAD_XX.wav', '1003_TIE_FEA_XX.wav', '1035_ITS_FEA_XX.wav', '1008_IWW_DIS_XX.wav', '1061_IWW_FEA_XX.wav', '1012_IEO_ANG_MD.wav', '1050_IEO_NEU_XX.wav', '1058_IEO_FEA_HI.wav', '1070_IEO_FEA_HI.wav', '1083_IEO_HAP_LO.wav', '1012_TAI_SAD_XX.wav', '1036_IWW_SAD_XX.wav', '1039_TSI_DIS_XX.wav', '1050_MTI_FEA_XX.wav', '1006_TSI_NEU_XX.wav', '1035_WSI_HAP_XX.wav', '1020_MTI_NEU_XX.wav', '1091_IEO_FEA_MD.wav', '1033_IEO_ANG_MD.wav', '1073_WSI_DIS_XX.wav', '1008_IOM_ANG_XX.wav', '1002_IEO_HAP_HI.wav', '1021_MTI_NEU_XX.wav', '1060_ITS_HAP_XX.wav', '1064_IEO_DIS_LO.wav', '1081_IWW_NEU_XX.wav', '1061_IEO_FEA_LO.wav', '1079_IWL_FEA_XX.wav', '1073_IWL_SAD_XX.wav', '1070_ITH_SAD_XX.wav', '1059_IOM_ANG_XX.wav', '1033_DFA_NEU_XX.wav', '1067_ITS_SAD_XX.wav', '1060_IWW_SAD_XX.wav', '1048_IWW_ANG_XX.wav', '1053_WSI_DIS_XX.wav', '1039_MTI_DIS_XX.wav', '1066_IEO_DIS_LO.wav', '1043_TSI_NEU_XX.wav', '1031_DFA_NEU_XX.wav', '1022_IEO_HAP_HI.wav', '1087_ITH_HAP_XX.wav', '1010_TSI_DIS_XX.wav', '1047_IEO_SAD_LO.wav', '1022_MTI_DIS_XX.wav', '1031_ITS_ANG_XX.wav', '1010_TIE_NEU_XX.wav', '1086_IWL_DIS_XX.wav', '1031_DFA_FEA_XX.wav', '1033_DFA_DIS_XX.wav', '1077_TSI_NEU_XX.wav', '1052_IOM_NEU_XX.wav', '1073_DFA_SAD_XX.wav', '1015_TSI_HAP_XX.wav', '1073_TIE_HAP_XX.wav', '1090_IOM_SAD_XX.wav', '1086_IWW_ANG_XX.wav', '1025_MTI_DIS_XX.wav', '1078_IEO_HAP_HI.wav', '1036_IEO_FEA_HI.wav', '1040_ITS_HAP_XX.wav', '1017_IEO_DIS_MD.wav', '1064_IOM_ANG_XX.wav', '1042_MTI_ANG_XX.wav', '1021_IWL_FEA_XX.wav', '1060_TSI_HAP_XX.wav', '1014_TSI_ANG_XX.wav', '1013_IOM_FEA_XX.wav', '1087_WSI_SAD_XX.wav', '1002_ITS_DIS_XX.wav', '1078_IOM_FEA_XX.wav', '1083_TSI_FEA_XX.wav']\n"
     ]
    }
   ],
   "source": [
    "crema_directory_list = os.listdir(Crema)\n",
    "\n",
    "print(crema_directory_list)"
   ]
  },
  {
   "cell_type": "code",
   "execution_count": null,
   "metadata": {
    "colab": {
     "base_uri": "https://localhost:8080/",
     "height": 206
    },
    "id": "JwALfYZdhfQB",
    "outputId": "e3dcfb12-eb3f-40ef-c77a-cd60f94943ea",
    "pycharm": {
     "name": "#%%\n"
    }
   },
   "outputs": [
    {
     "data": {
      "text/html": [
       "\n",
       "  <div id=\"df-6f4a8146-1538-47bd-a4de-493ba6a23932\">\n",
       "    <div class=\"colab-df-container\">\n",
       "      <div>\n",
       "<style scoped>\n",
       "    .dataframe tbody tr th:only-of-type {\n",
       "        vertical-align: middle;\n",
       "    }\n",
       "\n",
       "    .dataframe tbody tr th {\n",
       "        vertical-align: top;\n",
       "    }\n",
       "\n",
       "    .dataframe thead th {\n",
       "        text-align: right;\n",
       "    }\n",
       "</style>\n",
       "<table border=\"1\" class=\"dataframe\">\n",
       "  <thead>\n",
       "    <tr style=\"text-align: right;\">\n",
       "      <th></th>\n",
       "      <th>Emotions</th>\n",
       "      <th>Path</th>\n",
       "    </tr>\n",
       "  </thead>\n",
       "  <tbody>\n",
       "    <tr>\n",
       "      <th>0</th>\n",
       "      <td>sad</td>\n",
       "      <td>/content/cremad/AudioWAV/1010_MTI_SAD_XX.wav</td>\n",
       "    </tr>\n",
       "    <tr>\n",
       "      <th>1</th>\n",
       "      <td>happy</td>\n",
       "      <td>/content/cremad/AudioWAV/1012_TIE_HAP_XX.wav</td>\n",
       "    </tr>\n",
       "    <tr>\n",
       "      <th>2</th>\n",
       "      <td>happy</td>\n",
       "      <td>/content/cremad/AudioWAV/1067_MTI_HAP_XX.wav</td>\n",
       "    </tr>\n",
       "    <tr>\n",
       "      <th>3</th>\n",
       "      <td>sad</td>\n",
       "      <td>/content/cremad/AudioWAV/1002_WSI_SAD_XX.wav</td>\n",
       "    </tr>\n",
       "    <tr>\n",
       "      <th>4</th>\n",
       "      <td>disgust</td>\n",
       "      <td>/content/cremad/AudioWAV/1027_TAI_DIS_XX.wav</td>\n",
       "    </tr>\n",
       "  </tbody>\n",
       "</table>\n",
       "</div>\n",
       "      <button class=\"colab-df-convert\" onclick=\"convertToInteractive('df-6f4a8146-1538-47bd-a4de-493ba6a23932')\"\n",
       "              title=\"Convert this dataframe to an interactive table.\"\n",
       "              style=\"display:none;\">\n",
       "        \n",
       "  <svg xmlns=\"http://www.w3.org/2000/svg\" height=\"24px\"viewBox=\"0 0 24 24\"\n",
       "       width=\"24px\">\n",
       "    <path d=\"M0 0h24v24H0V0z\" fill=\"none\"/>\n",
       "    <path d=\"M18.56 5.44l.94 2.06.94-2.06 2.06-.94-2.06-.94-.94-2.06-.94 2.06-2.06.94zm-11 1L8.5 8.5l.94-2.06 2.06-.94-2.06-.94L8.5 2.5l-.94 2.06-2.06.94zm10 10l.94 2.06.94-2.06 2.06-.94-2.06-.94-.94-2.06-.94 2.06-2.06.94z\"/><path d=\"M17.41 7.96l-1.37-1.37c-.4-.4-.92-.59-1.43-.59-.52 0-1.04.2-1.43.59L10.3 9.45l-7.72 7.72c-.78.78-.78 2.05 0 2.83L4 21.41c.39.39.9.59 1.41.59.51 0 1.02-.2 1.41-.59l7.78-7.78 2.81-2.81c.8-.78.8-2.07 0-2.86zM5.41 20L4 18.59l7.72-7.72 1.47 1.35L5.41 20z\"/>\n",
       "  </svg>\n",
       "      </button>\n",
       "      \n",
       "  <style>\n",
       "    .colab-df-container {\n",
       "      display:flex;\n",
       "      flex-wrap:wrap;\n",
       "      gap: 12px;\n",
       "    }\n",
       "\n",
       "    .colab-df-convert {\n",
       "      background-color: #E8F0FE;\n",
       "      border: none;\n",
       "      border-radius: 50%;\n",
       "      cursor: pointer;\n",
       "      display: none;\n",
       "      fill: #1967D2;\n",
       "      height: 32px;\n",
       "      padding: 0 0 0 0;\n",
       "      width: 32px;\n",
       "    }\n",
       "\n",
       "    .colab-df-convert:hover {\n",
       "      background-color: #E2EBFA;\n",
       "      box-shadow: 0px 1px 2px rgba(60, 64, 67, 0.3), 0px 1px 3px 1px rgba(60, 64, 67, 0.15);\n",
       "      fill: #174EA6;\n",
       "    }\n",
       "\n",
       "    [theme=dark] .colab-df-convert {\n",
       "      background-color: #3B4455;\n",
       "      fill: #D2E3FC;\n",
       "    }\n",
       "\n",
       "    [theme=dark] .colab-df-convert:hover {\n",
       "      background-color: #434B5C;\n",
       "      box-shadow: 0px 1px 3px 1px rgba(0, 0, 0, 0.15);\n",
       "      filter: drop-shadow(0px 1px 2px rgba(0, 0, 0, 0.3));\n",
       "      fill: #FFFFFF;\n",
       "    }\n",
       "  </style>\n",
       "\n",
       "      <script>\n",
       "        const buttonEl =\n",
       "          document.querySelector('#df-6f4a8146-1538-47bd-a4de-493ba6a23932 button.colab-df-convert');\n",
       "        buttonEl.style.display =\n",
       "          google.colab.kernel.accessAllowed ? 'block' : 'none';\n",
       "\n",
       "        async function convertToInteractive(key) {\n",
       "          const element = document.querySelector('#df-6f4a8146-1538-47bd-a4de-493ba6a23932');\n",
       "          const dataTable =\n",
       "            await google.colab.kernel.invokeFunction('convertToInteractive',\n",
       "                                                     [key], {});\n",
       "          if (!dataTable) return;\n",
       "\n",
       "          const docLinkHtml = 'Like what you see? Visit the ' +\n",
       "            '<a target=\"_blank\" href=https://colab.research.google.com/notebooks/data_table.ipynb>data table notebook</a>'\n",
       "            + ' to learn more about interactive tables.';\n",
       "          element.innerHTML = '';\n",
       "          dataTable['output_type'] = 'display_data';\n",
       "          await google.colab.output.renderOutput(dataTable, element);\n",
       "          const docLink = document.createElement('div');\n",
       "          docLink.innerHTML = docLinkHtml;\n",
       "          element.appendChild(docLink);\n",
       "        }\n",
       "      </script>\n",
       "    </div>\n",
       "  </div>\n",
       "  "
      ],
      "text/plain": [
       "  Emotions                                          Path\n",
       "0      sad  /content/cremad/AudioWAV/1010_MTI_SAD_XX.wav\n",
       "1    happy  /content/cremad/AudioWAV/1012_TIE_HAP_XX.wav\n",
       "2    happy  /content/cremad/AudioWAV/1067_MTI_HAP_XX.wav\n",
       "3      sad  /content/cremad/AudioWAV/1002_WSI_SAD_XX.wav\n",
       "4  disgust  /content/cremad/AudioWAV/1027_TAI_DIS_XX.wav"
      ]
     },
     "execution_count": 18,
     "metadata": {},
     "output_type": "execute_result"
    }
   ],
   "source": [
    "crema_directory_list = os.listdir(Crema)\n",
    "\n",
    "file_emotion = []\n",
    "file_path = []\n",
    "\n",
    "for file in crema_directory_list:\n",
    "    # storing file paths\n",
    "    file_path.append(Crema + file)\n",
    "    # storing file emotions\n",
    "    part=file.split('_')\n",
    "    if part[2] == 'SAD':\n",
    "        file_emotion.append('sad')\n",
    "    elif part[2] == 'ANG':\n",
    "        file_emotion.append('angry')\n",
    "    elif part[2] == 'DIS':\n",
    "        file_emotion.append('disgust')\n",
    "    elif part[2] == 'FEA':\n",
    "        file_emotion.append('fear')\n",
    "    elif part[2] == 'HAP':\n",
    "        file_emotion.append('happy')\n",
    "    elif part[2] == 'NEU':\n",
    "        file_emotion.append('neutral')\n",
    "    else:\n",
    "        file_emotion.append('Unknown')\n",
    "        \n",
    "# dataframe for emotion of files\n",
    "emotion_df = pd.DataFrame(file_emotion, columns=['Emotions'])\n",
    "\n",
    "# dataframe for path of files.\n",
    "path_df = pd.DataFrame(file_path, columns=['Path'])\n",
    "Crema_df = pd.concat([emotion_df, path_df], axis=1)\n",
    "Crema_df.head()"
   ]
  },
  {
   "cell_type": "markdown",
   "metadata": {
    "id": "9k34iac3kM0X",
    "pycharm": {
     "name": "#%% md\n"
    }
   },
   "source": [
    "## TESS dataset "
   ]
  },
  {
   "cell_type": "code",
   "execution_count": null,
   "metadata": {
    "colab": {
     "base_uri": "https://localhost:8080/"
    },
    "id": "6e2MdCmykOS_",
    "outputId": "7242d73d-31dc-430a-bc94-c075806e5b22",
    "pycharm": {
     "name": "#%%\n"
    }
   },
   "outputs": [
    {
     "name": "stdout",
     "output_type": "stream",
     "text": [
      "toronto-emotional-speech-set-tess\n",
      "/content/toronto-emotional-speech-set-tess\n",
      "Please provide your Kaggle credentials to download this dataset. Learn more: http://bit.ly/kaggle-creds\n",
      "Your Kaggle username: dhanushaperera07\n",
      "Your Kaggle Key: ··········\n",
      "Downloading toronto-emotional-speech-set-tess.zip to ./toronto-emotional-speech-set-tess\n"
     ]
    },
    {
     "name": "stderr",
     "output_type": "stream",
     "text": [
      "100%|██████████| 428M/428M [00:01<00:00, 266MB/s]\n"
     ]
    },
    {
     "name": "stdout",
     "output_type": "stream",
     "text": [
      "\n"
     ]
    }
   ],
   "source": [
    "dataset_url = 'https://www.kaggle.com/ejlok1/toronto-emotional-speech-set-tess'\n",
    "download(dataset_url)"
   ]
  },
  {
   "cell_type": "code",
   "execution_count": null,
   "metadata": {
    "id": "2x210N8mk14n",
    "pycharm": {
     "name": "#%%\n"
    }
   },
   "outputs": [],
   "source": [
    "Tess = \"/content/toronto-emotional-speech-set-tess/tess toronto emotional speech set data/TESS Toronto emotional speech set data/\""
   ]
  },
  {
   "cell_type": "code",
   "execution_count": null,
   "metadata": {
    "colab": {
     "base_uri": "https://localhost:8080/"
    },
    "id": "Gt6EK-e6lGYv",
    "outputId": "971a740c-35dc-473c-9b75-aec51c28c71d",
    "pycharm": {
     "name": "#%%\n"
    }
   },
   "outputs": [
    {
     "name": "stdout",
     "output_type": "stream",
     "text": [
      "['YAF_neutral', 'YAF_sad', 'YAF_disgust', 'YAF_pleasant_surprised', 'OAF_neutral', 'YAF_happy', 'OAF_angry', 'YAF_fear', 'OAF_disgust', 'YAF_angry', 'OAF_Fear', 'OAF_happy', 'OAF_Sad', 'OAF_Pleasant_surprise']\n"
     ]
    }
   ],
   "source": [
    "tess_directory_list = os.listdir(Tess)\n",
    "\n",
    "print(tess_directory_list)"
   ]
  },
  {
   "cell_type": "code",
   "execution_count": null,
   "metadata": {
    "colab": {
     "base_uri": "https://localhost:8080/",
     "height": 206
    },
    "id": "dAn6tQh7lS0W",
    "outputId": "167736dc-5a2e-47ad-891e-3feb4029942c",
    "pycharm": {
     "name": "#%%\n"
    }
   },
   "outputs": [
    {
     "data": {
      "text/html": [
       "\n",
       "  <div id=\"df-31119993-9ca2-4040-8d4e-200fe47cf351\">\n",
       "    <div class=\"colab-df-container\">\n",
       "      <div>\n",
       "<style scoped>\n",
       "    .dataframe tbody tr th:only-of-type {\n",
       "        vertical-align: middle;\n",
       "    }\n",
       "\n",
       "    .dataframe tbody tr th {\n",
       "        vertical-align: top;\n",
       "    }\n",
       "\n",
       "    .dataframe thead th {\n",
       "        text-align: right;\n",
       "    }\n",
       "</style>\n",
       "<table border=\"1\" class=\"dataframe\">\n",
       "  <thead>\n",
       "    <tr style=\"text-align: right;\">\n",
       "      <th></th>\n",
       "      <th>Emotions</th>\n",
       "      <th>Path</th>\n",
       "    </tr>\n",
       "  </thead>\n",
       "  <tbody>\n",
       "    <tr>\n",
       "      <th>0</th>\n",
       "      <td>neutral</td>\n",
       "      <td>/content/toronto-emotional-speech-set-tess/tes...</td>\n",
       "    </tr>\n",
       "    <tr>\n",
       "      <th>1</th>\n",
       "      <td>neutral</td>\n",
       "      <td>/content/toronto-emotional-speech-set-tess/tes...</td>\n",
       "    </tr>\n",
       "    <tr>\n",
       "      <th>2</th>\n",
       "      <td>neutral</td>\n",
       "      <td>/content/toronto-emotional-speech-set-tess/tes...</td>\n",
       "    </tr>\n",
       "    <tr>\n",
       "      <th>3</th>\n",
       "      <td>neutral</td>\n",
       "      <td>/content/toronto-emotional-speech-set-tess/tes...</td>\n",
       "    </tr>\n",
       "    <tr>\n",
       "      <th>4</th>\n",
       "      <td>neutral</td>\n",
       "      <td>/content/toronto-emotional-speech-set-tess/tes...</td>\n",
       "    </tr>\n",
       "  </tbody>\n",
       "</table>\n",
       "</div>\n",
       "      <button class=\"colab-df-convert\" onclick=\"convertToInteractive('df-31119993-9ca2-4040-8d4e-200fe47cf351')\"\n",
       "              title=\"Convert this dataframe to an interactive table.\"\n",
       "              style=\"display:none;\">\n",
       "        \n",
       "  <svg xmlns=\"http://www.w3.org/2000/svg\" height=\"24px\"viewBox=\"0 0 24 24\"\n",
       "       width=\"24px\">\n",
       "    <path d=\"M0 0h24v24H0V0z\" fill=\"none\"/>\n",
       "    <path d=\"M18.56 5.44l.94 2.06.94-2.06 2.06-.94-2.06-.94-.94-2.06-.94 2.06-2.06.94zm-11 1L8.5 8.5l.94-2.06 2.06-.94-2.06-.94L8.5 2.5l-.94 2.06-2.06.94zm10 10l.94 2.06.94-2.06 2.06-.94-2.06-.94-.94-2.06-.94 2.06-2.06.94z\"/><path d=\"M17.41 7.96l-1.37-1.37c-.4-.4-.92-.59-1.43-.59-.52 0-1.04.2-1.43.59L10.3 9.45l-7.72 7.72c-.78.78-.78 2.05 0 2.83L4 21.41c.39.39.9.59 1.41.59.51 0 1.02-.2 1.41-.59l7.78-7.78 2.81-2.81c.8-.78.8-2.07 0-2.86zM5.41 20L4 18.59l7.72-7.72 1.47 1.35L5.41 20z\"/>\n",
       "  </svg>\n",
       "      </button>\n",
       "      \n",
       "  <style>\n",
       "    .colab-df-container {\n",
       "      display:flex;\n",
       "      flex-wrap:wrap;\n",
       "      gap: 12px;\n",
       "    }\n",
       "\n",
       "    .colab-df-convert {\n",
       "      background-color: #E8F0FE;\n",
       "      border: none;\n",
       "      border-radius: 50%;\n",
       "      cursor: pointer;\n",
       "      display: none;\n",
       "      fill: #1967D2;\n",
       "      height: 32px;\n",
       "      padding: 0 0 0 0;\n",
       "      width: 32px;\n",
       "    }\n",
       "\n",
       "    .colab-df-convert:hover {\n",
       "      background-color: #E2EBFA;\n",
       "      box-shadow: 0px 1px 2px rgba(60, 64, 67, 0.3), 0px 1px 3px 1px rgba(60, 64, 67, 0.15);\n",
       "      fill: #174EA6;\n",
       "    }\n",
       "\n",
       "    [theme=dark] .colab-df-convert {\n",
       "      background-color: #3B4455;\n",
       "      fill: #D2E3FC;\n",
       "    }\n",
       "\n",
       "    [theme=dark] .colab-df-convert:hover {\n",
       "      background-color: #434B5C;\n",
       "      box-shadow: 0px 1px 3px 1px rgba(0, 0, 0, 0.15);\n",
       "      filter: drop-shadow(0px 1px 2px rgba(0, 0, 0, 0.3));\n",
       "      fill: #FFFFFF;\n",
       "    }\n",
       "  </style>\n",
       "\n",
       "      <script>\n",
       "        const buttonEl =\n",
       "          document.querySelector('#df-31119993-9ca2-4040-8d4e-200fe47cf351 button.colab-df-convert');\n",
       "        buttonEl.style.display =\n",
       "          google.colab.kernel.accessAllowed ? 'block' : 'none';\n",
       "\n",
       "        async function convertToInteractive(key) {\n",
       "          const element = document.querySelector('#df-31119993-9ca2-4040-8d4e-200fe47cf351');\n",
       "          const dataTable =\n",
       "            await google.colab.kernel.invokeFunction('convertToInteractive',\n",
       "                                                     [key], {});\n",
       "          if (!dataTable) return;\n",
       "\n",
       "          const docLinkHtml = 'Like what you see? Visit the ' +\n",
       "            '<a target=\"_blank\" href=https://colab.research.google.com/notebooks/data_table.ipynb>data table notebook</a>'\n",
       "            + ' to learn more about interactive tables.';\n",
       "          element.innerHTML = '';\n",
       "          dataTable['output_type'] = 'display_data';\n",
       "          await google.colab.output.renderOutput(dataTable, element);\n",
       "          const docLink = document.createElement('div');\n",
       "          docLink.innerHTML = docLinkHtml;\n",
       "          element.appendChild(docLink);\n",
       "        }\n",
       "      </script>\n",
       "    </div>\n",
       "  </div>\n",
       "  "
      ],
      "text/plain": [
       "  Emotions                                               Path\n",
       "0  neutral  /content/toronto-emotional-speech-set-tess/tes...\n",
       "1  neutral  /content/toronto-emotional-speech-set-tess/tes...\n",
       "2  neutral  /content/toronto-emotional-speech-set-tess/tes...\n",
       "3  neutral  /content/toronto-emotional-speech-set-tess/tes...\n",
       "4  neutral  /content/toronto-emotional-speech-set-tess/tes..."
      ]
     },
     "execution_count": 22,
     "metadata": {},
     "output_type": "execute_result"
    }
   ],
   "source": [
    "tess_directory_list = os.listdir(Tess)\n",
    "\n",
    "file_emotion = []\n",
    "file_path = []\n",
    "\n",
    "for dir in tess_directory_list:\n",
    "    directories = os.listdir(Tess + dir)\n",
    "    for file in directories:\n",
    "        part = file.split('.')[0]\n",
    "        part = part.split('_')[2]\n",
    "        if part=='ps':\n",
    "            file_emotion.append('surprise')\n",
    "        else:\n",
    "            file_emotion.append(part)\n",
    "        file_path.append(Tess + dir + '/' + file)\n",
    "        \n",
    "# dataframe for emotion of files\n",
    "emotion_df = pd.DataFrame(file_emotion, columns=['Emotions'])\n",
    "\n",
    "# dataframe for path of files.\n",
    "path_df = pd.DataFrame(file_path, columns=['Path'])\n",
    "Tess_df = pd.concat([emotion_df, path_df], axis=1)\n",
    "Tess_df.head()"
   ]
  },
  {
   "cell_type": "markdown",
   "metadata": {
    "id": "6KYmDMjLmiPA",
    "pycharm": {
     "name": "#%% md\n"
    }
   },
   "source": [
    "## SAVEE Dataset"
   ]
  },
  {
   "cell_type": "code",
   "execution_count": null,
   "metadata": {
    "colab": {
     "base_uri": "https://localhost:8080/"
    },
    "id": "XEu59c5AmpYo",
    "outputId": "1a7910b4-fc57-4d6f-c536-82aaac42a524",
    "pycharm": {
     "name": "#%%\n"
    }
   },
   "outputs": [
    {
     "name": "stdout",
     "output_type": "stream",
     "text": [
      "surrey-audiovisual-expressed-emotion-savee\n",
      "/content/surrey-audiovisual-expressed-emotion-savee\n",
      "Please provide your Kaggle credentials to download this dataset. Learn more: http://bit.ly/kaggle-creds\n",
      "Your Kaggle username: dhanushaperera07\n",
      "Your Kaggle Key: ··········\n",
      "Downloading surrey-audiovisual-expressed-emotion-savee.zip to ./surrey-audiovisual-expressed-emotion-savee\n"
     ]
    },
    {
     "name": "stderr",
     "output_type": "stream",
     "text": [
      "100%|██████████| 107M/107M [00:00<00:00, 129MB/s] \n"
     ]
    },
    {
     "name": "stdout",
     "output_type": "stream",
     "text": [
      "\n"
     ]
    }
   ],
   "source": [
    "dataset_url = 'https://www.kaggle.com/ejlok1/surrey-audiovisual-expressed-emotion-savee'\n",
    "download(dataset_url)"
   ]
  },
  {
   "cell_type": "code",
   "execution_count": null,
   "metadata": {
    "id": "1HM0iyTqm2z_",
    "pycharm": {
     "name": "#%%\n"
    }
   },
   "outputs": [],
   "source": [
    "Savee = \"/content/surrey-audiovisual-expressed-emotion-savee/ALL/\""
   ]
  },
  {
   "cell_type": "code",
   "execution_count": null,
   "metadata": {
    "colab": {
     "base_uri": "https://localhost:8080/"
    },
    "id": "fFBrdvLCm-Ff",
    "outputId": "cce69ec4-dfff-493b-d673-b74d3445f190",
    "pycharm": {
     "name": "#%%\n"
    }
   },
   "outputs": [
    {
     "name": "stdout",
     "output_type": "stream",
     "text": [
      "['JK_n12.wav', 'DC_n21.wav', 'DC_a02.wav', 'DC_d01.wav', 'JE_f10.wav', 'JK_a15.wav', 'DC_h11.wav', 'KL_sa14.wav', 'JE_sa02.wav', 'KL_a04.wav', 'JE_d04.wav', 'JK_h04.wav', 'JE_n04.wav', 'DC_f14.wav', 'DC_h08.wav', 'JK_f04.wav', 'KL_f07.wav', 'DC_d07.wav', 'JE_n28.wav', 'DC_su08.wav', 'KL_f12.wav', 'DC_h05.wav', 'DC_n01.wav', 'DC_sa11.wav', 'DC_a01.wav', 'JE_h12.wav', 'DC_n15.wav', 'JE_n25.wav', 'KL_a11.wav', 'JE_f09.wav', 'KL_n24.wav', 'JK_sa06.wav', 'JE_n30.wav', 'JE_sa12.wav', 'KL_a03.wav', 'KL_d13.wav', 'JE_su05.wav', 'DC_su15.wav', 'DC_f03.wav', 'DC_d10.wav', 'JK_n17.wav', 'KL_n07.wav', 'JK_n27.wav', 'JK_d03.wav', 'JK_h02.wav', 'KL_a06.wav', 'JK_sa08.wav', 'KL_sa11.wav', 'JK_n06.wav', 'JE_su10.wav', 'KL_d11.wav', 'JK_f09.wav', 'JE_a07.wav', 'DC_n11.wav', 'DC_d11.wav', 'JK_d01.wav', 'JK_h15.wav', 'JE_sa05.wav', 'JE_h07.wav', 'KL_n21.wav', 'JE_a15.wav', 'DC_a13.wav', 'DC_d02.wav', 'JE_n14.wav', 'DC_n22.wav', 'JK_n13.wav', 'JE_f13.wav', 'JE_su08.wav', 'JE_f02.wav', 'KL_d15.wav', 'JE_a12.wav', 'JK_sa07.wav', 'KL_su01.wav', 'JK_a01.wav', 'DC_h02.wav', 'DC_sa04.wav', 'DC_n27.wav', 'JE_su15.wav', 'DC_su14.wav', 'KL_su06.wav', 'JE_n19.wav', 'JK_n25.wav', 'DC_f04.wav', 'JE_su03.wav', 'DC_d06.wav', 'JK_sa13.wav', 'DC_n20.wav', 'JK_sa11.wav', 'DC_f06.wav', 'JK_sa02.wav', 'DC_sa13.wav', 'DC_a10.wav', 'JE_d07.wav', 'KL_n13.wav', 'KL_d12.wav', 'JK_su12.wav', 'KL_n04.wav', 'JE_n27.wav', 'JE_d10.wav', 'DC_a06.wav', 'JE_su04.wav', 'DC_n13.wav', 'DC_n26.wav', 'DC_su01.wav', 'JK_d04.wav', 'JK_sa15.wav', 'KL_sa04.wav', 'JE_sa03.wav', 'KL_n14.wav', 'JK_a10.wav', 'DC_f10.wav', 'JK_a08.wav', 'KL_a14.wav', 'KL_h07.wav', 'DC_sa05.wav', 'DC_a03.wav', 'DC_d12.wav', 'KL_d05.wav', 'KL_f04.wav', 'DC_a07.wav', 'JE_d06.wav', 'JK_d14.wav', 'KL_d10.wav', 'DC_sa12.wav', 'DC_a15.wav', 'DC_f12.wav', 'KL_sa08.wav', 'KL_a13.wav', 'KL_h08.wav', 'JE_sa07.wav', 'KL_sa10.wav', 'KL_d08.wav', 'JE_f15.wav', 'KL_f09.wav', 'DC_d03.wav', 'JE_a03.wav', 'JK_h11.wav', 'JK_h12.wav', 'JE_su06.wav', 'DC_n03.wav', 'DC_d04.wav', 'JK_a13.wav', 'JE_n26.wav', 'JK_a04.wav', 'KL_a10.wav', 'KL_su14.wav', 'DC_n05.wav', 'JK_d15.wav', 'JK_sa14.wav', 'DC_sa02.wav', 'KL_n12.wav', 'DC_su07.wav', 'JE_d12.wav', 'DC_n30.wav', 'DC_h12.wav', 'KL_f01.wav', 'JK_n09.wav', 'JK_f11.wav', 'DC_su12.wav', 'JE_a10.wav', 'DC_f01.wav', 'KL_su03.wav', 'DC_f13.wav', 'JE_n15.wav', 'JE_n07.wav', 'JE_a01.wav', 'KL_d01.wav', 'JK_h10.wav', 'JK_d08.wav', 'KL_n22.wav', 'DC_d14.wav', 'DC_f15.wav', 'JE_d09.wav', 'KL_h05.wav', 'JE_d15.wav', 'JE_n29.wav', 'JK_f05.wav', 'JK_d07.wav', 'DC_d15.wav', 'KL_f06.wav', 'KL_n15.wav', 'KL_sa07.wav', 'JE_n20.wav', 'KL_n23.wav', 'JE_f06.wav', 'JE_n22.wav', 'KL_n10.wav', 'JE_h09.wav', 'JE_f04.wav', 'JK_su03.wav', 'JK_f03.wav', 'JE_a05.wav', 'JE_a04.wav', 'JE_sa14.wav', 'JE_n12.wav', 'JK_su13.wav', 'DC_d08.wav', 'JK_a02.wav', 'JK_su01.wav', 'DC_n23.wav', 'JE_h05.wav', 'KL_sa13.wav', 'DC_sa08.wav', 'JK_h06.wav', 'JK_n05.wav', 'JK_n02.wav', 'JK_h05.wav', 'JK_n20.wav', 'DC_h04.wav', 'JE_h14.wav', 'DC_f02.wav', 'JK_n28.wav', 'JK_f01.wav', 'DC_n24.wav', 'KL_d07.wav', 'KL_su11.wav', 'KL_n09.wav', 'DC_su03.wav', 'KL_h11.wav', 'KL_su07.wav', 'JK_d09.wav', 'KL_n16.wav', 'DC_sa15.wav', 'JE_d03.wav', 'KL_su12.wav', 'JK_a06.wav', 'JE_n24.wav', 'JK_sa10.wav', 'DC_n09.wav', 'KL_h10.wav', 'KL_d14.wav', 'JE_h01.wav', 'JK_n15.wav', 'JE_a09.wav', 'JE_f12.wav', 'JE_d08.wav', 'JK_f15.wav', 'JK_n08.wav', 'JE_su09.wav', 'JK_n23.wav', 'KL_sa03.wav', 'JE_d14.wav', 'JE_f05.wav', 'JK_n14.wav', 'DC_f05.wav', 'JK_h07.wav', 'KL_f05.wav', 'KL_n01.wav', 'KL_n02.wav', 'JK_su15.wav', 'KL_sa12.wav', 'JE_n18.wav', 'DC_n16.wav', 'JK_a14.wav', 'KL_f15.wav', 'KL_a12.wav', 'JE_su12.wav', 'JK_f02.wav', 'JK_f06.wav', 'KL_d03.wav', 'JE_sa04.wav', 'DC_sa09.wav', 'JK_su11.wav', 'KL_f11.wav', 'JK_sa03.wav', 'DC_n08.wav', 'DC_n28.wav', 'JK_n30.wav', 'JK_a09.wav', 'JK_sa05.wav', 'JK_su06.wav', 'JE_sa15.wav', 'DC_h09.wav', 'KL_n03.wav', 'KL_h09.wav', 'KL_d02.wav', 'JE_d05.wav', 'DC_su05.wav', 'DC_n06.wav', 'DC_a14.wav', 'JK_n01.wav', 'JE_a08.wav', 'DC_n02.wav', 'KL_f13.wav', 'JE_n11.wav', 'JK_d02.wav', 'JE_f07.wav', 'DC_d05.wav', 'KL_h01.wav', 'KL_n17.wav', 'DC_n14.wav', 'JK_h09.wav', 'DC_h10.wav', 'KL_sa06.wav', 'JE_n10.wav', 'JK_n16.wav', 'KL_su10.wav', 'JE_h03.wav', 'JK_h01.wav', 'JE_f01.wav', 'DC_f11.wav', 'JE_h10.wav', 'KL_n20.wav', 'DC_n18.wav', 'KL_n28.wav', 'KL_d04.wav', 'KL_d06.wav', 'JK_a07.wav', 'DC_f07.wav', 'JE_a11.wav', 'JK_n22.wav', 'JK_d05.wav', 'JE_h06.wav', 'DC_su11.wav', 'JK_n18.wav', 'JK_h08.wav', 'JK_su02.wav', 'DC_h14.wav', 'JK_f08.wav', 'JE_a06.wav', 'JE_d13.wav', 'JK_n26.wav', 'JE_d11.wav', 'JK_n03.wav', 'JE_sa01.wav', 'DC_sa01.wav', 'KL_a15.wav', 'KL_sa05.wav', 'JK_h14.wav', 'JK_sa09.wav', 'DC_su06.wav', 'JE_su13.wav', 'JE_h15.wav', 'DC_a05.wav', 'JE_n05.wav', 'KL_n19.wav', 'KL_f14.wav', 'DC_d13.wav', 'DC_f09.wav', 'DC_f08.wav', 'JE_h11.wav', 'JE_su01.wav', 'JE_h13.wav', 'DC_h07.wav', 'JE_f08.wav', 'JE_a02.wav', 'DC_n10.wav', 'JK_su09.wav', 'JK_n11.wav', 'KL_n29.wav', 'KL_n18.wav', 'JK_a11.wav', 'JE_su02.wav', 'DC_a11.wav', 'JE_sa09.wav', 'JE_n02.wav', 'KL_sa01.wav', 'JK_su10.wav', 'KL_h15.wav', 'DC_su13.wav', 'JE_su11.wav', 'DC_su09.wav', 'KL_f10.wav', 'JK_n10.wav', 'DC_sa10.wav', 'DC_sa06.wav', 'JE_n09.wav', 'JK_d10.wav', 'KL_su02.wav', 'DC_su10.wav', 'KL_h03.wav', 'JK_n19.wav', 'JE_n13.wav', 'KL_sa15.wav', 'JK_sa01.wav', 'DC_sa14.wav', 'KL_n30.wav', 'KL_n25.wav', 'JE_n01.wav', 'DC_a12.wav', 'JE_sa10.wav', 'JE_n21.wav', 'DC_h06.wav', 'JK_su07.wav', 'JK_a05.wav', 'JK_d06.wav', 'JK_f13.wav', 'JK_n07.wav', 'KL_n08.wav', 'KL_n26.wav', 'JK_f07.wav', 'KL_n27.wav', 'JK_h13.wav', 'KL_su09.wav', 'KL_f03.wav', 'JE_h08.wav', 'KL_h13.wav', 'DC_n12.wav', 'JE_f11.wav', 'KL_a05.wav', 'KL_su04.wav', 'JE_f14.wav', 'DC_a09.wav', 'DC_sa07.wav', 'JE_f03.wav', 'DC_h13.wav', 'KL_su13.wav', 'KL_d09.wav', 'DC_n19.wav', 'JK_d11.wav', 'JE_su14.wav', 'JE_sa06.wav', 'DC_h15.wav', 'JK_n29.wav', 'JK_f10.wav', 'JE_n03.wav', 'JK_h03.wav', 'KL_a09.wav', 'JE_n23.wav', 'DC_n25.wav', 'KL_su08.wav', 'JE_d02.wav', 'KL_n05.wav', 'DC_n17.wav', 'JK_sa12.wav', 'DC_sa03.wav', 'DC_su04.wav', 'JK_sa04.wav', 'JE_h02.wav', 'DC_h03.wav', 'JE_a13.wav', 'JE_sa08.wav', 'KL_sa09.wav', 'DC_n29.wav', 'JK_d13.wav', 'KL_sa02.wav', 'JE_sa11.wav', 'KL_a08.wav', 'JK_n21.wav', 'JK_f14.wav', 'JK_su14.wav', 'DC_n04.wav', 'KL_h02.wav', 'JK_f12.wav', 'JK_n24.wav', 'DC_su02.wav', 'JE_n08.wav', 'KL_su15.wav', 'JE_a14.wav', 'JK_a03.wav', 'KL_a07.wav', 'KL_f02.wav', 'KL_n11.wav', 'JK_n04.wav', 'JK_a12.wav', 'JE_d01.wav', 'DC_h01.wav', 'DC_a04.wav', 'KL_h14.wav', 'KL_a02.wav', 'JE_n16.wav', 'JE_su07.wav', 'DC_n07.wav', 'DC_d09.wav', 'DC_a08.wav', 'KL_h06.wav', 'KL_f08.wav', 'JE_n17.wav', 'KL_a01.wav', 'JE_n06.wav', 'KL_su05.wav', 'JE_h04.wav', 'JE_sa13.wav', 'JK_su05.wav', 'KL_n06.wav', 'JK_su04.wav', 'KL_h12.wav', 'JK_d12.wav', 'JK_su08.wav', 'KL_h04.wav']\n"
     ]
    }
   ],
   "source": [
    "savee_directory_list = os.listdir(Savee)\n",
    "\n",
    "print(savee_directory_list)"
   ]
  },
  {
   "cell_type": "code",
   "execution_count": null,
   "metadata": {
    "colab": {
     "base_uri": "https://localhost:8080/",
     "height": 206
    },
    "id": "XzkQTLSBnNyH",
    "outputId": "e30aaa08-8251-4355-8e52-34d43dd3f6ba",
    "pycharm": {
     "name": "#%%\n"
    }
   },
   "outputs": [
    {
     "data": {
      "text/html": [
       "\n",
       "  <div id=\"df-6501b8e6-1a6e-44d2-9094-e16a7ec68c25\">\n",
       "    <div class=\"colab-df-container\">\n",
       "      <div>\n",
       "<style scoped>\n",
       "    .dataframe tbody tr th:only-of-type {\n",
       "        vertical-align: middle;\n",
       "    }\n",
       "\n",
       "    .dataframe tbody tr th {\n",
       "        vertical-align: top;\n",
       "    }\n",
       "\n",
       "    .dataframe thead th {\n",
       "        text-align: right;\n",
       "    }\n",
       "</style>\n",
       "<table border=\"1\" class=\"dataframe\">\n",
       "  <thead>\n",
       "    <tr style=\"text-align: right;\">\n",
       "      <th></th>\n",
       "      <th>Emotions</th>\n",
       "      <th>Path</th>\n",
       "    </tr>\n",
       "  </thead>\n",
       "  <tbody>\n",
       "    <tr>\n",
       "      <th>0</th>\n",
       "      <td>neutral</td>\n",
       "      <td>/content/surrey-audiovisual-expressed-emotion-...</td>\n",
       "    </tr>\n",
       "    <tr>\n",
       "      <th>1</th>\n",
       "      <td>neutral</td>\n",
       "      <td>/content/surrey-audiovisual-expressed-emotion-...</td>\n",
       "    </tr>\n",
       "    <tr>\n",
       "      <th>2</th>\n",
       "      <td>angry</td>\n",
       "      <td>/content/surrey-audiovisual-expressed-emotion-...</td>\n",
       "    </tr>\n",
       "    <tr>\n",
       "      <th>3</th>\n",
       "      <td>disgust</td>\n",
       "      <td>/content/surrey-audiovisual-expressed-emotion-...</td>\n",
       "    </tr>\n",
       "    <tr>\n",
       "      <th>4</th>\n",
       "      <td>fear</td>\n",
       "      <td>/content/surrey-audiovisual-expressed-emotion-...</td>\n",
       "    </tr>\n",
       "  </tbody>\n",
       "</table>\n",
       "</div>\n",
       "      <button class=\"colab-df-convert\" onclick=\"convertToInteractive('df-6501b8e6-1a6e-44d2-9094-e16a7ec68c25')\"\n",
       "              title=\"Convert this dataframe to an interactive table.\"\n",
       "              style=\"display:none;\">\n",
       "        \n",
       "  <svg xmlns=\"http://www.w3.org/2000/svg\" height=\"24px\"viewBox=\"0 0 24 24\"\n",
       "       width=\"24px\">\n",
       "    <path d=\"M0 0h24v24H0V0z\" fill=\"none\"/>\n",
       "    <path d=\"M18.56 5.44l.94 2.06.94-2.06 2.06-.94-2.06-.94-.94-2.06-.94 2.06-2.06.94zm-11 1L8.5 8.5l.94-2.06 2.06-.94-2.06-.94L8.5 2.5l-.94 2.06-2.06.94zm10 10l.94 2.06.94-2.06 2.06-.94-2.06-.94-.94-2.06-.94 2.06-2.06.94z\"/><path d=\"M17.41 7.96l-1.37-1.37c-.4-.4-.92-.59-1.43-.59-.52 0-1.04.2-1.43.59L10.3 9.45l-7.72 7.72c-.78.78-.78 2.05 0 2.83L4 21.41c.39.39.9.59 1.41.59.51 0 1.02-.2 1.41-.59l7.78-7.78 2.81-2.81c.8-.78.8-2.07 0-2.86zM5.41 20L4 18.59l7.72-7.72 1.47 1.35L5.41 20z\"/>\n",
       "  </svg>\n",
       "      </button>\n",
       "      \n",
       "  <style>\n",
       "    .colab-df-container {\n",
       "      display:flex;\n",
       "      flex-wrap:wrap;\n",
       "      gap: 12px;\n",
       "    }\n",
       "\n",
       "    .colab-df-convert {\n",
       "      background-color: #E8F0FE;\n",
       "      border: none;\n",
       "      border-radius: 50%;\n",
       "      cursor: pointer;\n",
       "      display: none;\n",
       "      fill: #1967D2;\n",
       "      height: 32px;\n",
       "      padding: 0 0 0 0;\n",
       "      width: 32px;\n",
       "    }\n",
       "\n",
       "    .colab-df-convert:hover {\n",
       "      background-color: #E2EBFA;\n",
       "      box-shadow: 0px 1px 2px rgba(60, 64, 67, 0.3), 0px 1px 3px 1px rgba(60, 64, 67, 0.15);\n",
       "      fill: #174EA6;\n",
       "    }\n",
       "\n",
       "    [theme=dark] .colab-df-convert {\n",
       "      background-color: #3B4455;\n",
       "      fill: #D2E3FC;\n",
       "    }\n",
       "\n",
       "    [theme=dark] .colab-df-convert:hover {\n",
       "      background-color: #434B5C;\n",
       "      box-shadow: 0px 1px 3px 1px rgba(0, 0, 0, 0.15);\n",
       "      filter: drop-shadow(0px 1px 2px rgba(0, 0, 0, 0.3));\n",
       "      fill: #FFFFFF;\n",
       "    }\n",
       "  </style>\n",
       "\n",
       "      <script>\n",
       "        const buttonEl =\n",
       "          document.querySelector('#df-6501b8e6-1a6e-44d2-9094-e16a7ec68c25 button.colab-df-convert');\n",
       "        buttonEl.style.display =\n",
       "          google.colab.kernel.accessAllowed ? 'block' : 'none';\n",
       "\n",
       "        async function convertToInteractive(key) {\n",
       "          const element = document.querySelector('#df-6501b8e6-1a6e-44d2-9094-e16a7ec68c25');\n",
       "          const dataTable =\n",
       "            await google.colab.kernel.invokeFunction('convertToInteractive',\n",
       "                                                     [key], {});\n",
       "          if (!dataTable) return;\n",
       "\n",
       "          const docLinkHtml = 'Like what you see? Visit the ' +\n",
       "            '<a target=\"_blank\" href=https://colab.research.google.com/notebooks/data_table.ipynb>data table notebook</a>'\n",
       "            + ' to learn more about interactive tables.';\n",
       "          element.innerHTML = '';\n",
       "          dataTable['output_type'] = 'display_data';\n",
       "          await google.colab.output.renderOutput(dataTable, element);\n",
       "          const docLink = document.createElement('div');\n",
       "          docLink.innerHTML = docLinkHtml;\n",
       "          element.appendChild(docLink);\n",
       "        }\n",
       "      </script>\n",
       "    </div>\n",
       "  </div>\n",
       "  "
      ],
      "text/plain": [
       "  Emotions                                               Path\n",
       "0  neutral  /content/surrey-audiovisual-expressed-emotion-...\n",
       "1  neutral  /content/surrey-audiovisual-expressed-emotion-...\n",
       "2    angry  /content/surrey-audiovisual-expressed-emotion-...\n",
       "3  disgust  /content/surrey-audiovisual-expressed-emotion-...\n",
       "4     fear  /content/surrey-audiovisual-expressed-emotion-..."
      ]
     },
     "execution_count": 26,
     "metadata": {},
     "output_type": "execute_result"
    }
   ],
   "source": [
    "savee_directory_list = os.listdir(Savee)\n",
    "\n",
    "file_emotion = []\n",
    "file_path = []\n",
    "\n",
    "for file in savee_directory_list:\n",
    "    file_path.append(Savee + file)\n",
    "    part = file.split('_')[1]\n",
    "    ele = part[:-6]\n",
    "    if ele=='a':\n",
    "        file_emotion.append('angry')\n",
    "    elif ele=='d':\n",
    "        file_emotion.append('disgust')\n",
    "    elif ele=='f':\n",
    "        file_emotion.append('fear')\n",
    "    elif ele=='h':\n",
    "        file_emotion.append('happy')\n",
    "    elif ele=='n':\n",
    "        file_emotion.append('neutral')\n",
    "    elif ele=='sa':\n",
    "        file_emotion.append('sad')\n",
    "    else:\n",
    "        file_emotion.append('surprise')\n",
    "        \n",
    "# dataframe for emotion of files\n",
    "emotion_df = pd.DataFrame(file_emotion, columns=['Emotions'])\n",
    "\n",
    "# dataframe for path of files.\n",
    "path_df = pd.DataFrame(file_path, columns=['Path'])\n",
    "Savee_df = pd.concat([emotion_df, path_df], axis=1)\n",
    "Savee_df.head()"
   ]
  },
  {
   "cell_type": "markdown",
   "metadata": {
    "id": "_dlzw1xAnhAg",
    "pycharm": {
     "name": "#%% md\n"
    }
   },
   "source": [
    "## Concat all DataFrames"
   ]
  },
  {
   "cell_type": "code",
   "execution_count": null,
   "metadata": {
    "colab": {
     "base_uri": "https://localhost:8080/",
     "height": 206
    },
    "id": "zGIKs5vAnhue",
    "outputId": "16527d52-e1b1-4d25-e81d-e55fac07e010",
    "pycharm": {
     "name": "#%%\n"
    }
   },
   "outputs": [
    {
     "data": {
      "text/html": [
       "\n",
       "  <div id=\"df-8a34a63f-0343-4706-8e75-83ada31e0597\">\n",
       "    <div class=\"colab-df-container\">\n",
       "      <div>\n",
       "<style scoped>\n",
       "    .dataframe tbody tr th:only-of-type {\n",
       "        vertical-align: middle;\n",
       "    }\n",
       "\n",
       "    .dataframe tbody tr th {\n",
       "        vertical-align: top;\n",
       "    }\n",
       "\n",
       "    .dataframe thead th {\n",
       "        text-align: right;\n",
       "    }\n",
       "</style>\n",
       "<table border=\"1\" class=\"dataframe\">\n",
       "  <thead>\n",
       "    <tr style=\"text-align: right;\">\n",
       "      <th></th>\n",
       "      <th>Emotions</th>\n",
       "      <th>Path</th>\n",
       "    </tr>\n",
       "  </thead>\n",
       "  <tbody>\n",
       "    <tr>\n",
       "      <th>0</th>\n",
       "      <td>calm</td>\n",
       "      <td>/content/ravdess-emotional-speech-audio/audio_...</td>\n",
       "    </tr>\n",
       "    <tr>\n",
       "      <th>1</th>\n",
       "      <td>happy</td>\n",
       "      <td>/content/ravdess-emotional-speech-audio/audio_...</td>\n",
       "    </tr>\n",
       "    <tr>\n",
       "      <th>2</th>\n",
       "      <td>angry</td>\n",
       "      <td>/content/ravdess-emotional-speech-audio/audio_...</td>\n",
       "    </tr>\n",
       "    <tr>\n",
       "      <th>3</th>\n",
       "      <td>happy</td>\n",
       "      <td>/content/ravdess-emotional-speech-audio/audio_...</td>\n",
       "    </tr>\n",
       "    <tr>\n",
       "      <th>4</th>\n",
       "      <td>disgust</td>\n",
       "      <td>/content/ravdess-emotional-speech-audio/audio_...</td>\n",
       "    </tr>\n",
       "  </tbody>\n",
       "</table>\n",
       "</div>\n",
       "      <button class=\"colab-df-convert\" onclick=\"convertToInteractive('df-8a34a63f-0343-4706-8e75-83ada31e0597')\"\n",
       "              title=\"Convert this dataframe to an interactive table.\"\n",
       "              style=\"display:none;\">\n",
       "        \n",
       "  <svg xmlns=\"http://www.w3.org/2000/svg\" height=\"24px\"viewBox=\"0 0 24 24\"\n",
       "       width=\"24px\">\n",
       "    <path d=\"M0 0h24v24H0V0z\" fill=\"none\"/>\n",
       "    <path d=\"M18.56 5.44l.94 2.06.94-2.06 2.06-.94-2.06-.94-.94-2.06-.94 2.06-2.06.94zm-11 1L8.5 8.5l.94-2.06 2.06-.94-2.06-.94L8.5 2.5l-.94 2.06-2.06.94zm10 10l.94 2.06.94-2.06 2.06-.94-2.06-.94-.94-2.06-.94 2.06-2.06.94z\"/><path d=\"M17.41 7.96l-1.37-1.37c-.4-.4-.92-.59-1.43-.59-.52 0-1.04.2-1.43.59L10.3 9.45l-7.72 7.72c-.78.78-.78 2.05 0 2.83L4 21.41c.39.39.9.59 1.41.59.51 0 1.02-.2 1.41-.59l7.78-7.78 2.81-2.81c.8-.78.8-2.07 0-2.86zM5.41 20L4 18.59l7.72-7.72 1.47 1.35L5.41 20z\"/>\n",
       "  </svg>\n",
       "      </button>\n",
       "      \n",
       "  <style>\n",
       "    .colab-df-container {\n",
       "      display:flex;\n",
       "      flex-wrap:wrap;\n",
       "      gap: 12px;\n",
       "    }\n",
       "\n",
       "    .colab-df-convert {\n",
       "      background-color: #E8F0FE;\n",
       "      border: none;\n",
       "      border-radius: 50%;\n",
       "      cursor: pointer;\n",
       "      display: none;\n",
       "      fill: #1967D2;\n",
       "      height: 32px;\n",
       "      padding: 0 0 0 0;\n",
       "      width: 32px;\n",
       "    }\n",
       "\n",
       "    .colab-df-convert:hover {\n",
       "      background-color: #E2EBFA;\n",
       "      box-shadow: 0px 1px 2px rgba(60, 64, 67, 0.3), 0px 1px 3px 1px rgba(60, 64, 67, 0.15);\n",
       "      fill: #174EA6;\n",
       "    }\n",
       "\n",
       "    [theme=dark] .colab-df-convert {\n",
       "      background-color: #3B4455;\n",
       "      fill: #D2E3FC;\n",
       "    }\n",
       "\n",
       "    [theme=dark] .colab-df-convert:hover {\n",
       "      background-color: #434B5C;\n",
       "      box-shadow: 0px 1px 3px 1px rgba(0, 0, 0, 0.15);\n",
       "      filter: drop-shadow(0px 1px 2px rgba(0, 0, 0, 0.3));\n",
       "      fill: #FFFFFF;\n",
       "    }\n",
       "  </style>\n",
       "\n",
       "      <script>\n",
       "        const buttonEl =\n",
       "          document.querySelector('#df-8a34a63f-0343-4706-8e75-83ada31e0597 button.colab-df-convert');\n",
       "        buttonEl.style.display =\n",
       "          google.colab.kernel.accessAllowed ? 'block' : 'none';\n",
       "\n",
       "        async function convertToInteractive(key) {\n",
       "          const element = document.querySelector('#df-8a34a63f-0343-4706-8e75-83ada31e0597');\n",
       "          const dataTable =\n",
       "            await google.colab.kernel.invokeFunction('convertToInteractive',\n",
       "                                                     [key], {});\n",
       "          if (!dataTable) return;\n",
       "\n",
       "          const docLinkHtml = 'Like what you see? Visit the ' +\n",
       "            '<a target=\"_blank\" href=https://colab.research.google.com/notebooks/data_table.ipynb>data table notebook</a>'\n",
       "            + ' to learn more about interactive tables.';\n",
       "          element.innerHTML = '';\n",
       "          dataTable['output_type'] = 'display_data';\n",
       "          await google.colab.output.renderOutput(dataTable, element);\n",
       "          const docLink = document.createElement('div');\n",
       "          docLink.innerHTML = docLinkHtml;\n",
       "          element.appendChild(docLink);\n",
       "        }\n",
       "      </script>\n",
       "    </div>\n",
       "  </div>\n",
       "  "
      ],
      "text/plain": [
       "  Emotions                                               Path\n",
       "0     calm  /content/ravdess-emotional-speech-audio/audio_...\n",
       "1    happy  /content/ravdess-emotional-speech-audio/audio_...\n",
       "2    angry  /content/ravdess-emotional-speech-audio/audio_...\n",
       "3    happy  /content/ravdess-emotional-speech-audio/audio_...\n",
       "4  disgust  /content/ravdess-emotional-speech-audio/audio_..."
      ]
     },
     "execution_count": 27,
     "metadata": {},
     "output_type": "execute_result"
    }
   ],
   "source": [
    "# creating Dataframe using all the 4 dataframes we created so far.\n",
    "data_path = pd.concat([Ravdess_df, Crema_df, Tess_df, Savee_df], axis = 0)\n",
    "data_path.to_csv(\"data_path.csv\",index=False)\n",
    "data_path.head()\n",
    "\n"
   ]
  },
  {
   "cell_type": "markdown",
   "metadata": {
    "id": "iODJS6dbn8d_",
    "pycharm": {
     "name": "#%% md\n"
    }
   },
   "source": [
    "## Data Visualization."
   ]
  },
  {
   "cell_type": "code",
   "execution_count": null,
   "metadata": {
    "colab": {
     "base_uri": "https://localhost:8080/",
     "height": 357
    },
    "id": "7xsP_4c5nzD4",
    "outputId": "528c3c1a-4be1-4f59-c9c4-3150ce35cab7",
    "pycharm": {
     "name": "#%%\n"
    }
   },
   "outputs": [
    {
     "name": "stderr",
     "output_type": "stream",
     "text": [
      "/usr/local/lib/python3.7/dist-packages/seaborn/_decorators.py:43: FutureWarning: Pass the following variable as a keyword arg: x. From version 0.12, the only valid positional argument will be `data`, and passing other arguments without an explicit keyword will result in an error or misinterpretation.\n",
      "  FutureWarning\n"
     ]
    },
    {
     "data": {
      "image/png": "[encoded data removed]",
      "text/plain": [
       "<Figure size 432x288 with 1 Axes>"
      ]
     },
     "metadata": {
      "needs_background": "light"
     },
     "output_type": "display_data"
    }
   ],
   "source": [
    "plt.title('Count of Emotions', size=16)\n",
    "sns.countplot(data_path.Emotions)\n",
    "plt.ylabel('Count', size=12)\n",
    "plt.xlabel('Emotions', size=12)\n",
    "sns.despine(top=True, right=True, left=False, bottom=False)\n",
    "plt.show()"
   ]
  },
  {
   "cell_type": "markdown",
   "metadata": {
    "id": "lm4x4-dhqMhX",
    "pycharm": {
     "name": "#%% md\n"
    }
   },
   "source": [
    "## Data Augmentation"
   ]
  },
  {
   "cell_type": "code",
   "execution_count": null,
   "metadata": {
    "id": "EsRg0UvDqLOW",
    "pycharm": {
     "name": "#%%\n"
    }
   },
   "outputs": [],
   "source": [
    "def noise(data):\n",
    "    noise_amp = 0.035*np.random.uniform()*np.amax(data)\n",
    "    data = data + noise_amp*np.random.normal(size=data.shape[0])\n",
    "    return data\n",
    "\n",
    "def stretch(data, rate=0.8):\n",
    "    return librosa.effects.time_stretch(data, rate)\n",
    "\n",
    "def shift(data):\n",
    "    shift_range = int(np.random.uniform(low=-5, high = 5)*1000)\n",
    "    return np.roll(data, shift_range)\n",
    "\n",
    "def pitch(data, sampling_rate, pitch_factor=0.7):\n",
    "    return librosa.effects.pitch_shift(data, sampling_rate, pitch_factor)\n",
    "\n"
   ]
  },
  {
   "cell_type": "code",
   "execution_count": null,
   "metadata": {
    "id": "OPwnz3iU9H87",
    "pycharm": {
     "name": "#%%\n"
    }
   },
   "outputs": [],
   "source": [
    "# taking any example and checking for techniques.\n",
    "path = np.array(data_path.Path)[1]\n",
    "data, sample_rate = librosa.load(path)"
   ]
  },
  {
   "cell_type": "markdown",
   "metadata": {
    "id": "4LtCxzc8qfUY",
    "pycharm": {
     "name": "#%% md\n"
    }
   },
   "source": [
    "## Feature Extraction Part"
   ]
  },
  {
   "cell_type": "code",
   "execution_count": null,
   "metadata": {
    "id": "NAzf89G9qf5e",
    "pycharm": {
     "name": "#%%\n"
    }
   },
   "outputs": [],
   "source": [
    "def extract_features(data):\n",
    "    # ZCR\n",
    "    result = np.array([])\n",
    "    zcr = np.mean(librosa.feature.zero_crossing_rate(y=data).T, axis=0)\n",
    "    result=np.hstack((result, zcr)) # stacking horizontally\n",
    "\n",
    "    # Chroma_stft\n",
    "    stft = np.abs(librosa.stft(data))\n",
    "    chroma_stft = np.mean(librosa.feature.chroma_stft(S=stft, sr=sample_rate).T, axis=0)\n",
    "    result = np.hstack((result, chroma_stft)) # stacking horizontally\n",
    "\n",
    "    # MFCC\n",
    "    mfcc = np.mean(librosa.feature.mfcc(y=data, sr=sample_rate).T, axis=0)\n",
    "    result = np.hstack((result, mfcc)) # stacking horizontally\n",
    "\n",
    "    # Root Mean Square Value\n",
    "    rms = np.mean(librosa.feature.rms(y=data).T, axis=0)\n",
    "    result = np.hstack((result, rms)) # stacking horizontally\n",
    "\n",
    "    # MelSpectogram\n",
    "    mel = np.mean(librosa.feature.melspectrogram(y=data, sr=sample_rate).T, axis=0)\n",
    "    result = np.hstack((result, mel)) # stacking horizontally\n",
    "    \n",
    "    return result\n",
    "\n",
    "def get_features(path):\n",
    "    # duration and offset are used to take care of the no audio in start and the ending of each audio files as seen above.\n",
    "    data, sample_rate = librosa.load(path, duration=2.5, offset=0.6)\n",
    "    \n",
    "    # without augmentation\n",
    "    res1 = extract_features(data)\n",
    "    result = np.array(res1)\n",
    "    \n",
    "    # data with noise\n",
    "    noise_data = noise(data)\n",
    "    res2 = extract_features(noise_data)\n",
    "    result = np.vstack((result, res2)) # stacking vertically\n",
    "    \n",
    "    # data with stretching and pitching\n",
    "    new_data = stretch(data)\n",
    "    data_stretch_pitch = pitch(new_data, sample_rate)\n",
    "    res3 = extract_features(data_stretch_pitch)\n",
    "    result = np.vstack((result, res3)) # stacking vertically\n",
    "    \n",
    "    return result"
   ]
  },
  {
   "cell_type": "code",
   "execution_count": null,
   "metadata": {
    "colab": {
     "base_uri": "https://localhost:8080/"
    },
    "id": "RPKd4BBeqtEP",
    "outputId": "98dc2362-4be6-4bf1-f4cc-dcbef23d9e13",
    "pycharm": {
     "name": "#%%\n"
    }
   },
   "outputs": [
    {
     "name": "stderr",
     "output_type": "stream",
     "text": [
      "/usr/local/lib/python3.7/dist-packages/librosa/core/pitch.py:153: UserWarning: Trying to estimate tuning from empty frequency set.\n",
      "  warnings.warn(\"Trying to estimate tuning from empty frequency set.\")\n"
     ]
    }
   ],
   "source": [
    "X, Y = [], []\n",
    "for path, emotion in zip(data_path.Path, data_path.Emotions):\n",
    "    feature = get_features(path)\n",
    "    for ele in feature:\n",
    "        X.append(ele)\n",
    "        # appending emotion 3 times as we have made 3 augmentation techniques on each audio file.\n",
    "        Y.append(emotion)\n",
    "\n"
   ]
  },
  {
   "cell_type": "code",
   "execution_count": null,
   "metadata": {
    "colab": {
     "base_uri": "https://localhost:8080/"
    },
    "id": "aVZOpuwcqwHf",
    "outputId": "2119016e-384d-441e-d2f1-115bdafd9d84",
    "pycharm": {
     "name": "#%%\n"
    }
   },
   "outputs": [
    {
     "data": {
      "text/plain": [
       "(36486, 36486, (12162,))"
      ]
     },
     "execution_count": 33,
     "metadata": {},
     "output_type": "execute_result"
    }
   ],
   "source": [
    "len(X), len(Y), data_path.Path.shape"
   ]
  },
  {
   "cell_type": "code",
   "execution_count": null,
   "metadata": {
    "colab": {
     "base_uri": "https://localhost:8080/",
     "height": 300
    },
    "id": "vMpNsISJq2I3",
    "outputId": "094c8d1a-eb7e-4641-c6a4-a97d022eda49",
    "pycharm": {
     "name": "#%%\n"
    }
   },
   "outputs": [
    {
     "data": {
      "text/html": [
       "\n",
       "  <div id=\"df-92c956de-58ba-40e7-a51c-6b35e1fe5056\">\n",
       "    <div class=\"colab-df-container\">\n",
       "      <div>\n",
       "<style scoped>\n",
       "    .dataframe tbody tr th:only-of-type {\n",
       "        vertical-align: middle;\n",
       "    }\n",
       "\n",
       "    .dataframe tbody tr th {\n",
       "        vertical-align: top;\n",
       "    }\n",
       "\n",
       "    .dataframe thead th {\n",
       "        text-align: right;\n",
       "    }\n",
       "</style>\n",
       "<table border=\"1\" class=\"dataframe\">\n",
       "  <thead>\n",
       "    <tr style=\"text-align: right;\">\n",
       "      <th></th>\n",
       "      <th>0</th>\n",
       "      <th>1</th>\n",
       "      <th>2</th>\n",
       "      <th>3</th>\n",
       "      <th>4</th>\n",
       "      <th>5</th>\n",
       "      <th>6</th>\n",
       "      <th>7</th>\n",
       "      <th>8</th>\n",
       "      <th>9</th>\n",
       "      <th>10</th>\n",
       "      <th>11</th>\n",
       "      <th>12</th>\n",
       "      <th>13</th>\n",
       "      <th>14</th>\n",
       "      <th>15</th>\n",
       "      <th>16</th>\n",
       "      <th>17</th>\n",
       "      <th>18</th>\n",
       "      <th>19</th>\n",
       "      <th>20</th>\n",
       "      <th>21</th>\n",
       "      <th>22</th>\n",
       "      <th>23</th>\n",
       "      <th>24</th>\n",
       "      <th>25</th>\n",
       "      <th>26</th>\n",
       "      <th>27</th>\n",
       "      <th>28</th>\n",
       "      <th>29</th>\n",
       "      <th>30</th>\n",
       "      <th>31</th>\n",
       "      <th>32</th>\n",
       "      <th>33</th>\n",
       "      <th>34</th>\n",
       "      <th>35</th>\n",
       "      <th>36</th>\n",
       "      <th>37</th>\n",
       "      <th>38</th>\n",
       "      <th>39</th>\n",
       "      <th>...</th>\n",
       "      <th>123</th>\n",
       "      <th>124</th>\n",
       "      <th>125</th>\n",
       "      <th>126</th>\n",
       "      <th>127</th>\n",
       "      <th>128</th>\n",
       "      <th>129</th>\n",
       "      <th>130</th>\n",
       "      <th>131</th>\n",
       "      <th>132</th>\n",
       "      <th>133</th>\n",
       "      <th>134</th>\n",
       "      <th>135</th>\n",
       "      <th>136</th>\n",
       "      <th>137</th>\n",
       "      <th>138</th>\n",
       "      <th>139</th>\n",
       "      <th>140</th>\n",
       "      <th>141</th>\n",
       "      <th>142</th>\n",
       "      <th>143</th>\n",
       "      <th>144</th>\n",
       "      <th>145</th>\n",
       "      <th>146</th>\n",
       "      <th>147</th>\n",
       "      <th>148</th>\n",
       "      <th>149</th>\n",
       "      <th>150</th>\n",
       "      <th>151</th>\n",
       "      <th>152</th>\n",
       "      <th>153</th>\n",
       "      <th>154</th>\n",
       "      <th>155</th>\n",
       "      <th>156</th>\n",
       "      <th>157</th>\n",
       "      <th>158</th>\n",
       "      <th>159</th>\n",
       "      <th>160</th>\n",
       "      <th>161</th>\n",
       "      <th>labels</th>\n",
       "    </tr>\n",
       "  </thead>\n",
       "  <tbody>\n",
       "    <tr>\n",
       "      <th>0</th>\n",
       "      <td>0.242273</td>\n",
       "      <td>0.511502</td>\n",
       "      <td>0.514671</td>\n",
       "      <td>0.535456</td>\n",
       "      <td>0.479251</td>\n",
       "      <td>0.457345</td>\n",
       "      <td>0.464548</td>\n",
       "      <td>0.569587</td>\n",
       "      <td>0.655120</td>\n",
       "      <td>0.593717</td>\n",
       "      <td>0.537237</td>\n",
       "      <td>0.517025</td>\n",
       "      <td>0.529022</td>\n",
       "      <td>-724.245605</td>\n",
       "      <td>45.396709</td>\n",
       "      <td>-11.103415</td>\n",
       "      <td>9.705283</td>\n",
       "      <td>-7.752767</td>\n",
       "      <td>-7.905915</td>\n",
       "      <td>-13.661086</td>\n",
       "      <td>-15.092793</td>\n",
       "      <td>-10.026347</td>\n",
       "      <td>-5.383527</td>\n",
       "      <td>-7.736581</td>\n",
       "      <td>-11.926711</td>\n",
       "      <td>-6.380772</td>\n",
       "      <td>-1.499521</td>\n",
       "      <td>-10.812358</td>\n",
       "      <td>-6.913947</td>\n",
       "      <td>-8.130037</td>\n",
       "      <td>-3.894538</td>\n",
       "      <td>-8.202288</td>\n",
       "      <td>-6.691195</td>\n",
       "      <td>0.001052</td>\n",
       "      <td>4.209509e-07</td>\n",
       "      <td>2.800735e-07</td>\n",
       "      <td>5.150155e-07</td>\n",
       "      <td>2.314963e-07</td>\n",
       "      <td>1.495632e-06</td>\n",
       "      <td>0.000118</td>\n",
       "      <td>...</td>\n",
       "      <td>0.000014</td>\n",
       "      <td>0.000017</td>\n",
       "      <td>0.000027</td>\n",
       "      <td>0.000016</td>\n",
       "      <td>0.000004</td>\n",
       "      <td>0.000004</td>\n",
       "      <td>8.473862e-06</td>\n",
       "      <td>0.000010</td>\n",
       "      <td>0.000012</td>\n",
       "      <td>0.000011</td>\n",
       "      <td>0.000011</td>\n",
       "      <td>0.000012</td>\n",
       "      <td>0.000009</td>\n",
       "      <td>0.000007</td>\n",
       "      <td>0.000005</td>\n",
       "      <td>0.000005</td>\n",
       "      <td>0.000004</td>\n",
       "      <td>0.000006</td>\n",
       "      <td>0.000006</td>\n",
       "      <td>0.000004</td>\n",
       "      <td>0.000004</td>\n",
       "      <td>5.442612e-06</td>\n",
       "      <td>0.000006</td>\n",
       "      <td>0.000003</td>\n",
       "      <td>2.421934e-06</td>\n",
       "      <td>3.131076e-06</td>\n",
       "      <td>3.790445e-06</td>\n",
       "      <td>3.141869e-06</td>\n",
       "      <td>3.696873e-06</td>\n",
       "      <td>3.569399e-06</td>\n",
       "      <td>6.047585e-06</td>\n",
       "      <td>4.240112e-06</td>\n",
       "      <td>0.000003</td>\n",
       "      <td>3.933498e-06</td>\n",
       "      <td>2.398466e-06</td>\n",
       "      <td>4.654767e-06</td>\n",
       "      <td>3.590509e-06</td>\n",
       "      <td>1.269939e-06</td>\n",
       "      <td>1.018426e-07</td>\n",
       "      <td>calm</td>\n",
       "    </tr>\n",
       "    <tr>\n",
       "      <th>1</th>\n",
       "      <td>0.316872</td>\n",
       "      <td>0.680895</td>\n",
       "      <td>0.715519</td>\n",
       "      <td>0.736780</td>\n",
       "      <td>0.689539</td>\n",
       "      <td>0.689802</td>\n",
       "      <td>0.624243</td>\n",
       "      <td>0.694157</td>\n",
       "      <td>0.749247</td>\n",
       "      <td>0.696319</td>\n",
       "      <td>0.661817</td>\n",
       "      <td>0.659041</td>\n",
       "      <td>0.678376</td>\n",
       "      <td>-535.304248</td>\n",
       "      <td>19.660478</td>\n",
       "      <td>2.860171</td>\n",
       "      <td>2.735041</td>\n",
       "      <td>-1.406830</td>\n",
       "      <td>-3.542589</td>\n",
       "      <td>-5.989962</td>\n",
       "      <td>-7.754974</td>\n",
       "      <td>-5.318214</td>\n",
       "      <td>-2.303972</td>\n",
       "      <td>-3.045526</td>\n",
       "      <td>-5.480265</td>\n",
       "      <td>-2.416678</td>\n",
       "      <td>-1.246536</td>\n",
       "      <td>-4.516643</td>\n",
       "      <td>-4.678095</td>\n",
       "      <td>-3.678752</td>\n",
       "      <td>-3.382822</td>\n",
       "      <td>-4.766979</td>\n",
       "      <td>-4.131207</td>\n",
       "      <td>0.001222</td>\n",
       "      <td>1.095063e-05</td>\n",
       "      <td>1.008632e-05</td>\n",
       "      <td>1.242284e-05</td>\n",
       "      <td>1.153533e-05</td>\n",
       "      <td>1.108834e-05</td>\n",
       "      <td>0.000125</td>\n",
       "      <td>...</td>\n",
       "      <td>0.000024</td>\n",
       "      <td>0.000027</td>\n",
       "      <td>0.000037</td>\n",
       "      <td>0.000026</td>\n",
       "      <td>0.000014</td>\n",
       "      <td>0.000014</td>\n",
       "      <td>1.895662e-05</td>\n",
       "      <td>0.000020</td>\n",
       "      <td>0.000022</td>\n",
       "      <td>0.000021</td>\n",
       "      <td>0.000021</td>\n",
       "      <td>0.000022</td>\n",
       "      <td>0.000019</td>\n",
       "      <td>0.000016</td>\n",
       "      <td>0.000015</td>\n",
       "      <td>0.000015</td>\n",
       "      <td>0.000014</td>\n",
       "      <td>0.000016</td>\n",
       "      <td>0.000016</td>\n",
       "      <td>0.000014</td>\n",
       "      <td>0.000014</td>\n",
       "      <td>1.503114e-05</td>\n",
       "      <td>0.000016</td>\n",
       "      <td>0.000013</td>\n",
       "      <td>1.247601e-05</td>\n",
       "      <td>1.289764e-05</td>\n",
       "      <td>1.274668e-05</td>\n",
       "      <td>1.298923e-05</td>\n",
       "      <td>1.276575e-05</td>\n",
       "      <td>1.287789e-05</td>\n",
       "      <td>1.638138e-05</td>\n",
       "      <td>1.421599e-05</td>\n",
       "      <td>0.000013</td>\n",
       "      <td>1.384984e-05</td>\n",
       "      <td>1.227650e-05</td>\n",
       "      <td>1.417436e-05</td>\n",
       "      <td>1.327867e-05</td>\n",
       "      <td>1.122782e-05</td>\n",
       "      <td>9.807750e-06</td>\n",
       "      <td>calm</td>\n",
       "    </tr>\n",
       "    <tr>\n",
       "      <th>2</th>\n",
       "      <td>0.174219</td>\n",
       "      <td>0.554633</td>\n",
       "      <td>0.536451</td>\n",
       "      <td>0.544772</td>\n",
       "      <td>0.534651</td>\n",
       "      <td>0.454636</td>\n",
       "      <td>0.441257</td>\n",
       "      <td>0.487072</td>\n",
       "      <td>0.631173</td>\n",
       "      <td>0.685730</td>\n",
       "      <td>0.611109</td>\n",
       "      <td>0.555840</td>\n",
       "      <td>0.555429</td>\n",
       "      <td>-788.042969</td>\n",
       "      <td>44.059246</td>\n",
       "      <td>-13.022401</td>\n",
       "      <td>8.864052</td>\n",
       "      <td>-11.372404</td>\n",
       "      <td>-7.826353</td>\n",
       "      <td>-16.902880</td>\n",
       "      <td>-15.760712</td>\n",
       "      <td>-11.067672</td>\n",
       "      <td>-5.400486</td>\n",
       "      <td>-11.562859</td>\n",
       "      <td>-11.837321</td>\n",
       "      <td>-4.859106</td>\n",
       "      <td>-3.754759</td>\n",
       "      <td>-13.165998</td>\n",
       "      <td>-6.426666</td>\n",
       "      <td>-9.295454</td>\n",
       "      <td>-5.406544</td>\n",
       "      <td>-10.526425</td>\n",
       "      <td>-4.424126</td>\n",
       "      <td>0.000532</td>\n",
       "      <td>5.000554e-08</td>\n",
       "      <td>4.118638e-08</td>\n",
       "      <td>6.494830e-08</td>\n",
       "      <td>5.641844e-08</td>\n",
       "      <td>2.458681e-07</td>\n",
       "      <td>0.000004</td>\n",
       "      <td>...</td>\n",
       "      <td>0.000003</td>\n",
       "      <td>0.000003</td>\n",
       "      <td>0.000003</td>\n",
       "      <td>0.000004</td>\n",
       "      <td>0.000006</td>\n",
       "      <td>0.000002</td>\n",
       "      <td>9.013091e-07</td>\n",
       "      <td>0.000002</td>\n",
       "      <td>0.000003</td>\n",
       "      <td>0.000002</td>\n",
       "      <td>0.000002</td>\n",
       "      <td>0.000003</td>\n",
       "      <td>0.000003</td>\n",
       "      <td>0.000002</td>\n",
       "      <td>0.000002</td>\n",
       "      <td>0.000001</td>\n",
       "      <td>0.000001</td>\n",
       "      <td>0.000001</td>\n",
       "      <td>0.000001</td>\n",
       "      <td>0.000001</td>\n",
       "      <td>0.000002</td>\n",
       "      <td>8.580265e-07</td>\n",
       "      <td>0.000001</td>\n",
       "      <td>0.000001</td>\n",
       "      <td>7.809056e-07</td>\n",
       "      <td>5.185665e-07</td>\n",
       "      <td>4.775875e-07</td>\n",
       "      <td>9.519105e-07</td>\n",
       "      <td>8.898314e-07</td>\n",
       "      <td>7.675743e-07</td>\n",
       "      <td>7.171692e-07</td>\n",
       "      <td>9.401352e-07</td>\n",
       "      <td>0.000001</td>\n",
       "      <td>8.210750e-07</td>\n",
       "      <td>7.067217e-07</td>\n",
       "      <td>6.329745e-07</td>\n",
       "      <td>5.456509e-07</td>\n",
       "      <td>3.293764e-07</td>\n",
       "      <td>1.509085e-08</td>\n",
       "      <td>calm</td>\n",
       "    </tr>\n",
       "    <tr>\n",
       "      <th>3</th>\n",
       "      <td>0.249693</td>\n",
       "      <td>0.467618</td>\n",
       "      <td>0.516189</td>\n",
       "      <td>0.625808</td>\n",
       "      <td>0.623878</td>\n",
       "      <td>0.588423</td>\n",
       "      <td>0.578139</td>\n",
       "      <td>0.470084</td>\n",
       "      <td>0.369011</td>\n",
       "      <td>0.412300</td>\n",
       "      <td>0.477156</td>\n",
       "      <td>0.590986</td>\n",
       "      <td>0.539554</td>\n",
       "      <td>-354.297302</td>\n",
       "      <td>15.759007</td>\n",
       "      <td>-47.172291</td>\n",
       "      <td>-20.197212</td>\n",
       "      <td>-25.359724</td>\n",
       "      <td>-26.587732</td>\n",
       "      <td>-18.613363</td>\n",
       "      <td>-23.424046</td>\n",
       "      <td>-11.533126</td>\n",
       "      <td>2.670619</td>\n",
       "      <td>5.288334</td>\n",
       "      <td>19.661110</td>\n",
       "      <td>8.130602</td>\n",
       "      <td>11.165944</td>\n",
       "      <td>-11.670353</td>\n",
       "      <td>-9.048133</td>\n",
       "      <td>-0.527577</td>\n",
       "      <td>-7.454526</td>\n",
       "      <td>-4.821998</td>\n",
       "      <td>-1.301414</td>\n",
       "      <td>0.048443</td>\n",
       "      <td>2.989254e-05</td>\n",
       "      <td>1.274869e-05</td>\n",
       "      <td>3.674294e-05</td>\n",
       "      <td>4.500718e-05</td>\n",
       "      <td>3.751091e-05</td>\n",
       "      <td>0.000049</td>\n",
       "      <td>...</td>\n",
       "      <td>0.022741</td>\n",
       "      <td>0.015032</td>\n",
       "      <td>0.024810</td>\n",
       "      <td>0.023599</td>\n",
       "      <td>0.018442</td>\n",
       "      <td>0.013832</td>\n",
       "      <td>1.444636e-02</td>\n",
       "      <td>0.036469</td>\n",
       "      <td>0.031264</td>\n",
       "      <td>0.017076</td>\n",
       "      <td>0.012880</td>\n",
       "      <td>0.009261</td>\n",
       "      <td>0.004236</td>\n",
       "      <td>0.002490</td>\n",
       "      <td>0.001453</td>\n",
       "      <td>0.001571</td>\n",
       "      <td>0.001610</td>\n",
       "      <td>0.001437</td>\n",
       "      <td>0.001035</td>\n",
       "      <td>0.000847</td>\n",
       "      <td>0.000815</td>\n",
       "      <td>1.073915e-03</td>\n",
       "      <td>0.001942</td>\n",
       "      <td>0.003405</td>\n",
       "      <td>5.044174e-03</td>\n",
       "      <td>5.479167e-03</td>\n",
       "      <td>3.502152e-03</td>\n",
       "      <td>3.817743e-03</td>\n",
       "      <td>3.169982e-03</td>\n",
       "      <td>2.622025e-03</td>\n",
       "      <td>3.615391e-03</td>\n",
       "      <td>2.920009e-03</td>\n",
       "      <td>0.003699</td>\n",
       "      <td>3.510075e-03</td>\n",
       "      <td>3.156328e-03</td>\n",
       "      <td>3.603583e-03</td>\n",
       "      <td>3.125067e-03</td>\n",
       "      <td>9.288634e-04</td>\n",
       "      <td>6.842436e-05</td>\n",
       "      <td>happy</td>\n",
       "    </tr>\n",
       "    <tr>\n",
       "      <th>4</th>\n",
       "      <td>0.323012</td>\n",
       "      <td>0.645727</td>\n",
       "      <td>0.625971</td>\n",
       "      <td>0.677457</td>\n",
       "      <td>0.743309</td>\n",
       "      <td>0.757251</td>\n",
       "      <td>0.721201</td>\n",
       "      <td>0.632649</td>\n",
       "      <td>0.558068</td>\n",
       "      <td>0.493183</td>\n",
       "      <td>0.517448</td>\n",
       "      <td>0.559238</td>\n",
       "      <td>0.655971</td>\n",
       "      <td>-170.287167</td>\n",
       "      <td>11.417744</td>\n",
       "      <td>-11.181241</td>\n",
       "      <td>-10.119650</td>\n",
       "      <td>-9.132142</td>\n",
       "      <td>-7.630348</td>\n",
       "      <td>-5.870827</td>\n",
       "      <td>-7.265841</td>\n",
       "      <td>-2.696838</td>\n",
       "      <td>2.782795</td>\n",
       "      <td>6.278203</td>\n",
       "      <td>8.616637</td>\n",
       "      <td>6.218167</td>\n",
       "      <td>3.830104</td>\n",
       "      <td>-3.844735</td>\n",
       "      <td>-5.317791</td>\n",
       "      <td>-2.843046</td>\n",
       "      <td>-4.884391</td>\n",
       "      <td>-4.152274</td>\n",
       "      <td>1.227777</td>\n",
       "      <td>0.054941</td>\n",
       "      <td>1.834352e-02</td>\n",
       "      <td>2.117010e-02</td>\n",
       "      <td>1.959132e-02</td>\n",
       "      <td>1.837408e-02</td>\n",
       "      <td>1.926036e-02</td>\n",
       "      <td>0.015445</td>\n",
       "      <td>...</td>\n",
       "      <td>0.041677</td>\n",
       "      <td>0.034976</td>\n",
       "      <td>0.043850</td>\n",
       "      <td>0.041208</td>\n",
       "      <td>0.038048</td>\n",
       "      <td>0.031541</td>\n",
       "      <td>3.496063e-02</td>\n",
       "      <td>0.057762</td>\n",
       "      <td>0.050458</td>\n",
       "      <td>0.034980</td>\n",
       "      <td>0.029836</td>\n",
       "      <td>0.027569</td>\n",
       "      <td>0.021706</td>\n",
       "      <td>0.021137</td>\n",
       "      <td>0.018967</td>\n",
       "      <td>0.019876</td>\n",
       "      <td>0.020331</td>\n",
       "      <td>0.019434</td>\n",
       "      <td>0.018418</td>\n",
       "      <td>0.019053</td>\n",
       "      <td>0.017996</td>\n",
       "      <td>1.890718e-02</td>\n",
       "      <td>0.020597</td>\n",
       "      <td>0.022124</td>\n",
       "      <td>2.297871e-02</td>\n",
       "      <td>2.387392e-02</td>\n",
       "      <td>2.178141e-02</td>\n",
       "      <td>2.245662e-02</td>\n",
       "      <td>2.112030e-02</td>\n",
       "      <td>2.090920e-02</td>\n",
       "      <td>2.262070e-02</td>\n",
       "      <td>2.148164e-02</td>\n",
       "      <td>0.022146</td>\n",
       "      <td>2.095409e-02</td>\n",
       "      <td>2.060768e-02</td>\n",
       "      <td>2.116030e-02</td>\n",
       "      <td>2.114285e-02</td>\n",
       "      <td>1.860124e-02</td>\n",
       "      <td>1.881345e-02</td>\n",
       "      <td>happy</td>\n",
       "    </tr>\n",
       "  </tbody>\n",
       "</table>\n",
       "<p>5 rows × 163 columns</p>\n",
       "</div>\n",
       "      <button class=\"colab-df-convert\" onclick=\"convertToInteractive('df-92c956de-58ba-40e7-a51c-6b35e1fe5056')\"\n",
       "              title=\"Convert this dataframe to an interactive table.\"\n",
       "              style=\"display:none;\">\n",
       "        \n",
       "  <svg xmlns=\"http://www.w3.org/2000/svg\" height=\"24px\"viewBox=\"0 0 24 24\"\n",
       "       width=\"24px\">\n",
       "    <path d=\"M0 0h24v24H0V0z\" fill=\"none\"/>\n",
       "    <path d=\"M18.56 5.44l.94 2.06.94-2.06 2.06-.94-2.06-.94-.94-2.06-.94 2.06-2.06.94zm-11 1L8.5 8.5l.94-2.06 2.06-.94-2.06-.94L8.5 2.5l-.94 2.06-2.06.94zm10 10l.94 2.06.94-2.06 2.06-.94-2.06-.94-.94-2.06-.94 2.06-2.06.94z\"/><path d=\"M17.41 7.96l-1.37-1.37c-.4-.4-.92-.59-1.43-.59-.52 0-1.04.2-1.43.59L10.3 9.45l-7.72 7.72c-.78.78-.78 2.05 0 2.83L4 21.41c.39.39.9.59 1.41.59.51 0 1.02-.2 1.41-.59l7.78-7.78 2.81-2.81c.8-.78.8-2.07 0-2.86zM5.41 20L4 18.59l7.72-7.72 1.47 1.35L5.41 20z\"/>\n",
       "  </svg>\n",
       "      </button>\n",
       "      \n",
       "  <style>\n",
       "    .colab-df-container {\n",
       "      display:flex;\n",
       "      flex-wrap:wrap;\n",
       "      gap: 12px;\n",
       "    }\n",
       "\n",
       "    .colab-df-convert {\n",
       "      background-color: #E8F0FE;\n",
       "      border: none;\n",
       "      border-radius: 50%;\n",
       "      cursor: pointer;\n",
       "      display: none;\n",
       "      fill: #1967D2;\n",
       "      height: 32px;\n",
       "      padding: 0 0 0 0;\n",
       "      width: 32px;\n",
       "    }\n",
       "\n",
       "    .colab-df-convert:hover {\n",
       "      background-color: #E2EBFA;\n",
       "      box-shadow: 0px 1px 2px rgba(60, 64, 67, 0.3), 0px 1px 3px 1px rgba(60, 64, 67, 0.15);\n",
       "      fill: #174EA6;\n",
       "    }\n",
       "\n",
       "    [theme=dark] .colab-df-convert {\n",
       "      background-color: #3B4455;\n",
       "      fill: #D2E3FC;\n",
       "    }\n",
       "\n",
       "    [theme=dark] .colab-df-convert:hover {\n",
       "      background-color: #434B5C;\n",
       "      box-shadow: 0px 1px 3px 1px rgba(0, 0, 0, 0.15);\n",
       "      filter: drop-shadow(0px 1px 2px rgba(0, 0, 0, 0.3));\n",
       "      fill: #FFFFFF;\n",
       "    }\n",
       "  </style>\n",
       "\n",
       "      <script>\n",
       "        const buttonEl =\n",
       "          document.querySelector('#df-92c956de-58ba-40e7-a51c-6b35e1fe5056 button.colab-df-convert');\n",
       "        buttonEl.style.display =\n",
       "          google.colab.kernel.accessAllowed ? 'block' : 'none';\n",
       "\n",
       "        async function convertToInteractive(key) {\n",
       "          const element = document.querySelector('#df-92c956de-58ba-40e7-a51c-6b35e1fe5056');\n",
       "          const dataTable =\n",
       "            await google.colab.kernel.invokeFunction('convertToInteractive',\n",
       "                                                     [key], {});\n",
       "          if (!dataTable) return;\n",
       "\n",
       "          const docLinkHtml = 'Like what you see? Visit the ' +\n",
       "            '<a target=\"_blank\" href=https://colab.research.google.com/notebooks/data_table.ipynb>data table notebook</a>'\n",
       "            + ' to learn more about interactive tables.';\n",
       "          element.innerHTML = '';\n",
       "          dataTable['output_type'] = 'display_data';\n",
       "          await google.colab.output.renderOutput(dataTable, element);\n",
       "          const docLink = document.createElement('div');\n",
       "          docLink.innerHTML = docLinkHtml;\n",
       "          element.appendChild(docLink);\n",
       "        }\n",
       "      </script>\n",
       "    </div>\n",
       "  </div>\n",
       "  "
      ],
      "text/plain": [
       "          0         1         2  ...           160           161  labels\n",
       "0  0.242273  0.511502  0.514671  ...  1.269939e-06  1.018426e-07    calm\n",
       "1  0.316872  0.680895  0.715519  ...  1.122782e-05  9.807750e-06    calm\n",
       "2  0.174219  0.554633  0.536451  ...  3.293764e-07  1.509085e-08    calm\n",
       "3  0.249693  0.467618  0.516189  ...  9.288634e-04  6.842436e-05   happy\n",
       "4  0.323012  0.645727  0.625971  ...  1.860124e-02  1.881345e-02   happy\n",
       "\n",
       "[5 rows x 163 columns]"
      ]
     },
     "execution_count": 34,
     "metadata": {},
     "output_type": "execute_result"
    }
   ],
   "source": [
    "Features = pd.DataFrame(X)\n",
    "Features['labels'] = Y\n",
    "Features.to_csv('features.csv', index=False)\n",
    "Features.head()\n",
    "\n"
   ]
  },
  {
   "cell_type": "code",
   "execution_count": null,
   "metadata": {
    "id": "CBC7I6WHq8bw",
    "pycharm": {
     "name": "#%%\n"
    }
   },
   "outputs": [],
   "source": [
    "## Data Preparation"
   ]
  },
  {
   "cell_type": "code",
   "execution_count": null,
   "metadata": {
    "id": "dF1Q7JRl-ngi",
    "pycharm": {
     "name": "#%%\n"
    }
   },
   "outputs": [],
   "source": [
    "X = Features.iloc[: ,:-1].values\n",
    "Y = Features['labels'].values"
   ]
  },
  {
   "cell_type": "code",
   "execution_count": null,
   "metadata": {
    "id": "TP2fUcgs_Du9",
    "pycharm": {
     "name": "#%%\n"
    }
   },
   "outputs": [],
   "source": [
    "# As this is a multiclass classification problem onehotencoding our Y.\n",
    "encoder = OneHotEncoder()\n",
    "Y = encoder.fit_transform(np.array(Y).reshape(-1,1)).toarray()"
   ]
  },
  {
   "cell_type": "code",
   "execution_count": null,
   "metadata": {
    "colab": {
     "base_uri": "https://localhost:8080/"
    },
    "id": "t4Hp6T5S_EOL",
    "outputId": "2480e7e0-792e-40cf-a269-7488d94c37dc",
    "pycharm": {
     "name": "#%%\n"
    }
   },
   "outputs": [
    {
     "data": {
      "text/plain": [
       "((27364, 162), (27364, 8), (9122, 162), (9122, 8))"
      ]
     },
     "execution_count": 38,
     "metadata": {},
     "output_type": "execute_result"
    }
   ],
   "source": [
    "# splitting data\n",
    "x_train, x_test, y_train, y_test = train_test_split(X, Y, random_state=0, shuffle=True)\n",
    "x_train.shape, y_train.shape, x_test.shape, y_test.shape"
   ]
  },
  {
   "cell_type": "code",
   "execution_count": null,
   "metadata": {
    "colab": {
     "base_uri": "https://localhost:8080/"
    },
    "id": "W2ZgBTyx_LAj",
    "outputId": "0e310b61-81cb-4e7d-f1d1-517fbb2a4d32",
    "pycharm": {
     "name": "#%%\n"
    }
   },
   "outputs": [
    {
     "data": {
      "text/plain": [
       "((27364, 162), (27364, 8), (9122, 162), (9122, 8))"
      ]
     },
     "execution_count": 39,
     "metadata": {},
     "output_type": "execute_result"
    }
   ],
   "source": [
    "# scaling our data with sklearn's Standard scaler\n",
    "scaler = StandardScaler()\n",
    "x_train = scaler.fit_transform(x_train)\n",
    "x_test = scaler.transform(x_test)\n",
    "x_train.shape, y_train.shape, x_test.shape, y_test.shape\n",
    "\n"
   ]
  },
  {
   "cell_type": "code",
   "execution_count": null,
   "metadata": {
    "colab": {
     "base_uri": "https://localhost:8080/"
    },
    "id": "ZPdNZyHr_TdL",
    "outputId": "fa54f870-5630-4715-fcda-df5e9777ecfc",
    "pycharm": {
     "name": "#%%\n"
    }
   },
   "outputs": [
    {
     "data": {
      "text/plain": [
       "((27364, 162, 1), (27364, 8), (9122, 162, 1), (9122, 8))"
      ]
     },
     "execution_count": 40,
     "metadata": {},
     "output_type": "execute_result"
    }
   ],
   "source": [
    "# making our data compatible to model.\n",
    "x_train = np.expand_dims(x_train, axis=2)\n",
    "x_test = np.expand_dims(x_test, axis=2)\n",
    "x_train.shape, y_train.shape, x_test.shape, y_test.shape"
   ]
  },
  {
   "cell_type": "code",
   "execution_count": null,
   "metadata": {
    "colab": {
     "base_uri": "https://localhost:8080/"
    },
    "id": "wx0Xk3Tz_Xkb",
    "outputId": "a44cf9b9-0ccb-4777-ec31-e68b7fdfec4f",
    "pycharm": {
     "name": "#%%\n"
    }
   },
   "outputs": [
    {
     "name": "stdout",
     "output_type": "stream",
     "text": [
      "Model: \"sequential\"\n",
      "_________________________________________________________________\n",
      " Layer (type)                Output Shape              Param #   \n",
      "=================================================================\n",
      " conv1d (Conv1D)             (None, 162, 256)          1536      \n",
      "                                                                 \n",
      " max_pooling1d (MaxPooling1D  (None, 81, 256)          0         \n",
      " )                                                               \n",
      "                                                                 \n",
      " conv1d_1 (Conv1D)           (None, 81, 256)           327936    \n",
      "                                                                 \n",
      " max_pooling1d_1 (MaxPooling  (None, 41, 256)          0         \n",
      " 1D)                                                             \n",
      "                                                                 \n",
      " conv1d_2 (Conv1D)           (None, 41, 128)           163968    \n",
      "                                                                 \n",
      " max_pooling1d_2 (MaxPooling  (None, 21, 128)          0         \n",
      " 1D)                                                             \n",
      "                                                                 \n",
      " dropout (Dropout)           (None, 21, 128)           0         \n",
      "                                                                 \n",
      " conv1d_3 (Conv1D)           (None, 21, 64)            41024     \n",
      "                                                                 \n",
      " max_pooling1d_3 (MaxPooling  (None, 11, 64)           0         \n",
      " 1D)                                                             \n",
      "                                                                 \n",
      " flatten (Flatten)           (None, 704)               0         \n",
      "                                                                 \n",
      " dense (Dense)               (None, 32)                22560     \n",
      "                                                                 \n",
      " dropout_1 (Dropout)         (None, 32)                0         \n",
      "                                                                 \n",
      " dense_1 (Dense)             (None, 8)                 264       \n",
      "                                                                 \n",
      "=================================================================\n",
      "Total params: 557,288\n",
      "Trainable params: 557,288\n",
      "Non-trainable params: 0\n",
      "_________________________________________________________________\n"
     ]
    }
   ],
   "source": [
    "model=Sequential()\n",
    "model.add(Conv1D(256, kernel_size=5, strides=1, padding='same', activation='relu', input_shape=(x_train.shape[1], 1)))\n",
    "model.add(MaxPooling1D(pool_size=5, strides = 2, padding = 'same'))\n",
    "\n",
    "model.add(Conv1D(256, kernel_size=5, strides=1, padding='same', activation='relu'))\n",
    "model.add(MaxPooling1D(pool_size=5, strides = 2, padding = 'same'))\n",
    "\n",
    "model.add(Conv1D(128, kernel_size=5, strides=1, padding='same', activation='relu'))\n",
    "model.add(MaxPooling1D(pool_size=5, strides = 2, padding = 'same'))\n",
    "model.add(Dropout(0.2))\n",
    "\n",
    "model.add(Conv1D(64, kernel_size=5, strides=1, padding='same', activation='relu'))\n",
    "model.add(MaxPooling1D(pool_size=5, strides = 2, padding = 'same'))\n",
    "\n",
    "model.add(Flatten())\n",
    "model.add(Dense(units=32, activation='relu'))\n",
    "model.add(Dropout(0.3))\n",
    "\n",
    "model.add(Dense(units=8, activation='softmax'))\n",
    "model.compile(optimizer = 'adam' , loss = 'categorical_crossentropy' , metrics = ['accuracy'])\n",
    "\n",
    "model.summary()"
   ]
  },
  {
   "cell_type": "code",
   "execution_count": null,
   "metadata": {
    "colab": {
     "base_uri": "https://localhost:8080/"
    },
    "id": "I3UU7psV_eXz",
    "outputId": "ea218574-b43c-46ce-d9bf-b44439fd53c6",
    "pycharm": {
     "name": "#%%\n"
    }
   },
   "outputs": [
    {
     "name": "stdout",
     "output_type": "stream",
     "text": [
      "Epoch 1/50\n",
      "428/428 [==============================] - 21s 12ms/step - loss: 1.6808 - accuracy: 0.3203 - val_loss: 1.4481 - val_accuracy: 0.4246 - lr: 0.0010\n",
      "Epoch 2/50\n",
      "428/428 [==============================] - 4s 10ms/step - loss: 1.4410 - accuracy: 0.4234 - val_loss: 1.3082 - val_accuracy: 0.4878 - lr: 0.0010\n",
      "Epoch 3/50\n",
      "428/428 [==============================] - 4s 10ms/step - loss: 1.3413 - accuracy: 0.4651 - val_loss: 1.2613 - val_accuracy: 0.4927 - lr: 0.0010\n",
      "Epoch 4/50\n",
      "428/428 [==============================] - 4s 10ms/step - loss: 1.2893 - accuracy: 0.4901 - val_loss: 1.2411 - val_accuracy: 0.5078 - lr: 0.0010\n",
      "Epoch 5/50\n",
      "428/428 [==============================] - 4s 10ms/step - loss: 1.2456 - accuracy: 0.5028 - val_loss: 1.2133 - val_accuracy: 0.5168 - lr: 0.0010\n",
      "Epoch 6/50\n",
      "428/428 [==============================] - 4s 10ms/step - loss: 1.2199 - accuracy: 0.5109 - val_loss: 1.1490 - val_accuracy: 0.5335 - lr: 0.0010\n",
      "Epoch 7/50\n",
      "428/428 [==============================] - 4s 10ms/step - loss: 1.1901 - accuracy: 0.5250 - val_loss: 1.1671 - val_accuracy: 0.5330 - lr: 0.0010\n",
      "Epoch 8/50\n",
      "428/428 [==============================] - 4s 10ms/step - loss: 1.1720 - accuracy: 0.5337 - val_loss: 1.1130 - val_accuracy: 0.5521 - lr: 0.0010\n",
      "Epoch 9/50\n",
      "428/428 [==============================] - 4s 10ms/step - loss: 1.1580 - accuracy: 0.5407 - val_loss: 1.1326 - val_accuracy: 0.5516 - lr: 0.0010\n",
      "Epoch 10/50\n",
      "428/428 [==============================] - 4s 10ms/step - loss: 1.1333 - accuracy: 0.5510 - val_loss: 1.1160 - val_accuracy: 0.5540 - lr: 0.0010\n",
      "Epoch 11/50\n",
      "428/428 [==============================] - 4s 10ms/step - loss: 1.1286 - accuracy: 0.5481 - val_loss: 1.1003 - val_accuracy: 0.5591 - lr: 0.0010\n",
      "Epoch 12/50\n",
      "428/428 [==============================] - 4s 10ms/step - loss: 1.1124 - accuracy: 0.5564 - val_loss: 1.0943 - val_accuracy: 0.5674 - lr: 0.0010\n",
      "Epoch 13/50\n",
      "428/428 [==============================] - 4s 10ms/step - loss: 1.0947 - accuracy: 0.5646 - val_loss: 1.0835 - val_accuracy: 0.5714 - lr: 0.0010\n",
      "Epoch 14/50\n",
      "428/428 [==============================] - 4s 10ms/step - loss: 1.0798 - accuracy: 0.5674 - val_loss: 1.1001 - val_accuracy: 0.5738 - lr: 0.0010\n",
      "Epoch 15/50\n",
      "428/428 [==============================] - 4s 10ms/step - loss: 1.0725 - accuracy: 0.5731 - val_loss: 1.0724 - val_accuracy: 0.5781 - lr: 0.0010\n",
      "Epoch 16/50\n",
      "428/428 [==============================] - 4s 10ms/step - loss: 1.0600 - accuracy: 0.5786 - val_loss: 1.0692 - val_accuracy: 0.5706 - lr: 0.0010\n",
      "Epoch 17/50\n",
      "428/428 [==============================] - 4s 10ms/step - loss: 1.0431 - accuracy: 0.5824 - val_loss: 1.0744 - val_accuracy: 0.5782 - lr: 0.0010\n",
      "Epoch 18/50\n",
      "428/428 [==============================] - 4s 10ms/step - loss: 1.0333 - accuracy: 0.5851 - val_loss: 1.0711 - val_accuracy: 0.5658 - lr: 0.0010\n",
      "Epoch 19/50\n",
      "428/428 [==============================] - 4s 10ms/step - loss: 1.0250 - accuracy: 0.5947 - val_loss: 1.0532 - val_accuracy: 0.5817 - lr: 0.0010\n",
      "Epoch 20/50\n",
      "428/428 [==============================] - 4s 10ms/step - loss: 1.0083 - accuracy: 0.5986 - val_loss: 1.0435 - val_accuracy: 0.5840 - lr: 0.0010\n",
      "Epoch 21/50\n",
      "428/428 [==============================] - 5s 11ms/step - loss: 1.0014 - accuracy: 0.6037 - val_loss: 1.0737 - val_accuracy: 0.5783 - lr: 0.0010\n",
      "Epoch 22/50\n",
      "428/428 [==============================] - 4s 10ms/step - loss: 0.9964 - accuracy: 0.6010 - val_loss: 1.0574 - val_accuracy: 0.5863 - lr: 0.0010\n",
      "Epoch 23/50\n",
      "428/428 [==============================] - 4s 10ms/step - loss: 0.9830 - accuracy: 0.6112 - val_loss: 1.0354 - val_accuracy: 0.5964 - lr: 0.0010\n",
      "Epoch 24/50\n",
      "428/428 [==============================] - 4s 10ms/step - loss: 0.9713 - accuracy: 0.6177 - val_loss: 1.0466 - val_accuracy: 0.5892 - lr: 0.0010\n",
      "Epoch 25/50\n",
      "428/428 [==============================] - 4s 10ms/step - loss: 0.9608 - accuracy: 0.6157 - val_loss: 1.0455 - val_accuracy: 0.5906 - lr: 0.0010\n",
      "Epoch 26/50\n",
      "428/428 [==============================] - 5s 11ms/step - loss: 0.9610 - accuracy: 0.6196 - val_loss: 1.0515 - val_accuracy: 0.5882 - lr: 0.0010\n",
      "Epoch 27/50\n",
      "428/428 [==============================] - 5s 11ms/step - loss: 0.9455 - accuracy: 0.6272 - val_loss: 1.0574 - val_accuracy: 0.5859 - lr: 0.0010\n",
      "Epoch 28/50\n",
      "428/428 [==============================] - 5s 11ms/step - loss: 0.9387 - accuracy: 0.6313 - val_loss: 1.0446 - val_accuracy: 0.5929 - lr: 0.0010\n",
      "Epoch 29/50\n",
      "428/428 [==============================] - 5s 11ms/step - loss: 0.9247 - accuracy: 0.6337 - val_loss: 1.0432 - val_accuracy: 0.5921 - lr: 0.0010\n",
      "Epoch 30/50\n",
      "428/428 [==============================] - 4s 10ms/step - loss: 0.9129 - accuracy: 0.6429 - val_loss: 1.0336 - val_accuracy: 0.5992 - lr: 0.0010\n",
      "Epoch 31/50\n",
      "428/428 [==============================] - 4s 10ms/step - loss: 0.9052 - accuracy: 0.6457 - val_loss: 1.0575 - val_accuracy: 0.5882 - lr: 0.0010\n",
      "Epoch 32/50\n",
      "428/428 [==============================] - 4s 10ms/step - loss: 0.9033 - accuracy: 0.6453 - val_loss: 1.0326 - val_accuracy: 0.5912 - lr: 0.0010\n",
      "Epoch 33/50\n",
      "428/428 [==============================] - 4s 10ms/step - loss: 0.8919 - accuracy: 0.6479 - val_loss: 1.0389 - val_accuracy: 0.5957 - lr: 0.0010\n",
      "Epoch 34/50\n",
      "428/428 [==============================] - 4s 10ms/step - loss: 0.8766 - accuracy: 0.6557 - val_loss: 1.0312 - val_accuracy: 0.5981 - lr: 0.0010\n",
      "Epoch 35/50\n",
      "428/428 [==============================] - 4s 10ms/step - loss: 0.8673 - accuracy: 0.6584 - val_loss: 1.0310 - val_accuracy: 0.5968 - lr: 0.0010\n",
      "Epoch 36/50\n",
      "428/428 [==============================] - 4s 10ms/step - loss: 0.8656 - accuracy: 0.6600 - val_loss: 1.0548 - val_accuracy: 0.5990 - lr: 0.0010\n",
      "Epoch 37/50\n",
      "428/428 [==============================] - 4s 10ms/step - loss: 0.8806 - accuracy: 0.6545 - val_loss: 1.0662 - val_accuracy: 0.5897 - lr: 0.0010\n",
      "Epoch 38/50\n",
      "428/428 [==============================] - 4s 10ms/step - loss: 0.8621 - accuracy: 0.6637 - val_loss: 1.0353 - val_accuracy: 0.6049 - lr: 0.0010\n",
      "Epoch 39/50\n",
      "428/428 [==============================] - 4s 10ms/step - loss: 0.8412 - accuracy: 0.6717 - val_loss: 1.0523 - val_accuracy: 0.6035 - lr: 0.0010\n",
      "Epoch 40/50\n",
      "428/428 [==============================] - 4s 10ms/step - loss: 0.8409 - accuracy: 0.6723 - val_loss: 1.0567 - val_accuracy: 0.5971 - lr: 0.0010\n",
      "Epoch 41/50\n",
      "428/428 [==============================] - 4s 10ms/step - loss: 0.8203 - accuracy: 0.6787 - val_loss: 1.0482 - val_accuracy: 0.5998 - lr: 0.0010\n",
      "Epoch 42/50\n",
      "428/428 [==============================] - 4s 10ms/step - loss: 0.8172 - accuracy: 0.6779 - val_loss: 1.0416 - val_accuracy: 0.6022 - lr: 0.0010\n",
      "Epoch 43/50\n",
      "428/428 [==============================] - 4s 10ms/step - loss: 0.8095 - accuracy: 0.6833 - val_loss: 1.0495 - val_accuracy: 0.6060 - lr: 0.0010\n",
      "Epoch 44/50\n",
      "428/428 [==============================] - 5s 11ms/step - loss: 0.8009 - accuracy: 0.6863 - val_loss: 1.0658 - val_accuracy: 0.6025 - lr: 0.0010\n",
      "Epoch 45/50\n",
      "428/428 [==============================] - 5s 11ms/step - loss: 0.7893 - accuracy: 0.6931 - val_loss: 1.0580 - val_accuracy: 0.6017 - lr: 0.0010\n",
      "Epoch 46/50\n",
      "428/428 [==============================] - 4s 11ms/step - loss: 0.7969 - accuracy: 0.6911 - val_loss: 1.0784 - val_accuracy: 0.6029 - lr: 0.0010\n",
      "Epoch 47/50\n",
      "428/428 [==============================] - 5s 11ms/step - loss: 0.7817 - accuracy: 0.6938 - val_loss: 1.0726 - val_accuracy: 0.6087 - lr: 0.0010\n",
      "Epoch 48/50\n",
      "428/428 [==============================] - 5s 11ms/step - loss: 0.7731 - accuracy: 0.6975 - val_loss: 1.0650 - val_accuracy: 0.6064 - lr: 0.0010\n",
      "Epoch 49/50\n",
      "428/428 [==============================] - 4s 10ms/step - loss: 0.7707 - accuracy: 0.6985 - val_loss: 1.0949 - val_accuracy: 0.5967 - lr: 0.0010\n",
      "Epoch 50/50\n",
      "428/428 [==============================] - 5s 11ms/step - loss: 0.7744 - accuracy: 0.7005 - val_loss: 1.0561 - val_accuracy: 0.6039 - lr: 0.0010\n"
     ]
    }
   ],
   "source": [
    "rlrp = ReduceLROnPlateau(monitor='loss', factor=0.4, verbose=0, patience=2, min_lr=0.0000001)\n",
    "history=model.fit(x_train, y_train, batch_size=64, epochs=50, validation_data=(x_test, y_test), callbacks=[rlrp])"
   ]
  },
  {
   "cell_type": "markdown",
   "metadata": {
    "id": "OwEAUD74_o5t",
    "pycharm": {
     "name": "#%% md\n"
    }
   },
   "source": [
    "### Print Accuracy of the model"
   ]
  },
  {
   "cell_type": "code",
   "execution_count": null,
   "metadata": {
    "colab": {
     "base_uri": "https://localhost:8080/"
    },
    "id": "fnGqXDqR_n7z",
    "outputId": "d25ab181-d1ca-4348-b80b-278c67a7507d",
    "pycharm": {
     "name": "#%%\n"
    }
   },
   "outputs": [
    {
     "name": "stdout",
     "output_type": "stream",
     "text": [
      "286/286 [==============================] - 1s 4ms/step - loss: 1.0561 - accuracy: 0.6039\n",
      "Accuracy of our model on test data :  60.392457246780396 %\n"
     ]
    }
   ],
   "source": [
    "print(\"Accuracy of our model on test data : \" , model.evaluate(x_test,y_test)[1]*100 , \"%\")"
   ]
  },
  {
   "cell_type": "code",
   "execution_count": null,
   "metadata": {
    "colab": {
     "base_uri": "https://localhost:8080/",
     "height": 404
    },
    "id": "kxSPlaip_2Gi",
    "outputId": "764b63f3-4390-4e80-a0f1-a115c33fe280",
    "pycharm": {
     "name": "#%%\n"
    }
   },
   "outputs": [
    {
     "data": {
      "image/png": "[encoded data removed]",
      "text/plain": [
       "<Figure size 1440x432 with 2 Axes>"
      ]
     },
     "metadata": {
      "needs_background": "light"
     },
     "output_type": "display_data"
    }
   ],
   "source": [
    "epochs = [i for i in range(50)]\n",
    "fig , ax = plt.subplots(1,2)\n",
    "train_acc = history.history['accuracy']\n",
    "train_loss = history.history['loss']\n",
    "test_acc = history.history['val_accuracy']\n",
    "test_loss = history.history['val_loss']\n",
    "\n",
    "fig.set_size_inches(20,6)\n",
    "ax[0].plot(epochs , train_loss , label = 'Training Loss')\n",
    "ax[0].plot(epochs , test_loss , label = 'Testing Loss')\n",
    "ax[0].set_title('Training & Testing Loss')\n",
    "ax[0].legend()\n",
    "ax[0].set_xlabel(\"Epochs\")\n",
    "\n",
    "ax[1].plot(epochs , train_acc , label = 'Training Accuracy')\n",
    "ax[1].plot(epochs , test_acc , label = 'Testing Accuracy')\n",
    "ax[1].set_title('Training & Testing Accuracy')\n",
    "ax[1].legend()\n",
    "ax[1].set_xlabel(\"Epochs\")\n",
    "plt.show()"
   ]
  },
  {
   "cell_type": "code",
   "execution_count": null,
   "metadata": {
    "id": "s_u9UzWQ_6HC",
    "pycharm": {
     "name": "#%%\n"
    }
   },
   "outputs": [],
   "source": [
    "# predicting on test data.\n",
    "pred_test = model.predict(x_test)\n",
    "y_pred = encoder.inverse_transform(pred_test)\n",
    "\n",
    "y_test = encoder.inverse_transform(y_test)"
   ]
  },
  {
   "cell_type": "code",
   "execution_count": null,
   "metadata": {
    "colab": {
     "base_uri": "https://localhost:8080/",
     "height": 363
    },
    "id": "LhGQQLNZ_7s6",
    "outputId": "073e46d9-853f-4ac5-af0a-c3ec5d69fcfb",
    "pycharm": {
     "name": "#%%\n"
    }
   },
   "outputs": [
    {
     "data": {
      "text/html": [
       "\n",
       "  <div id=\"df-22f85a30-75a0-4afe-875d-6673ffea4ae4\">\n",
       "    <div class=\"colab-df-container\">\n",
       "      <div>\n",
       "<style scoped>\n",
       "    .dataframe tbody tr th:only-of-type {\n",
       "        vertical-align: middle;\n",
       "    }\n",
       "\n",
       "    .dataframe tbody tr th {\n",
       "        vertical-align: top;\n",
       "    }\n",
       "\n",
       "    .dataframe thead th {\n",
       "        text-align: right;\n",
       "    }\n",
       "</style>\n",
       "<table border=\"1\" class=\"dataframe\">\n",
       "  <thead>\n",
       "    <tr style=\"text-align: right;\">\n",
       "      <th></th>\n",
       "      <th>Predicted Labels</th>\n",
       "      <th>Actual Labels</th>\n",
       "    </tr>\n",
       "  </thead>\n",
       "  <tbody>\n",
       "    <tr>\n",
       "      <th>0</th>\n",
       "      <td>happy</td>\n",
       "      <td>neutral</td>\n",
       "    </tr>\n",
       "    <tr>\n",
       "      <th>1</th>\n",
       "      <td>disgust</td>\n",
       "      <td>disgust</td>\n",
       "    </tr>\n",
       "    <tr>\n",
       "      <th>2</th>\n",
       "      <td>neutral</td>\n",
       "      <td>neutral</td>\n",
       "    </tr>\n",
       "    <tr>\n",
       "      <th>3</th>\n",
       "      <td>sad</td>\n",
       "      <td>neutral</td>\n",
       "    </tr>\n",
       "    <tr>\n",
       "      <th>4</th>\n",
       "      <td>angry</td>\n",
       "      <td>angry</td>\n",
       "    </tr>\n",
       "    <tr>\n",
       "      <th>5</th>\n",
       "      <td>neutral</td>\n",
       "      <td>neutral</td>\n",
       "    </tr>\n",
       "    <tr>\n",
       "      <th>6</th>\n",
       "      <td>disgust</td>\n",
       "      <td>sad</td>\n",
       "    </tr>\n",
       "    <tr>\n",
       "      <th>7</th>\n",
       "      <td>surprise</td>\n",
       "      <td>surprise</td>\n",
       "    </tr>\n",
       "    <tr>\n",
       "      <th>8</th>\n",
       "      <td>neutral</td>\n",
       "      <td>disgust</td>\n",
       "    </tr>\n",
       "    <tr>\n",
       "      <th>9</th>\n",
       "      <td>fear</td>\n",
       "      <td>fear</td>\n",
       "    </tr>\n",
       "  </tbody>\n",
       "</table>\n",
       "</div>\n",
       "      <button class=\"colab-df-convert\" onclick=\"convertToInteractive('df-22f85a30-75a0-4afe-875d-6673ffea4ae4')\"\n",
       "              title=\"Convert this dataframe to an interactive table.\"\n",
       "              style=\"display:none;\">\n",
       "        \n",
       "  <svg xmlns=\"http://www.w3.org/2000/svg\" height=\"24px\"viewBox=\"0 0 24 24\"\n",
       "       width=\"24px\">\n",
       "    <path d=\"M0 0h24v24H0V0z\" fill=\"none\"/>\n",
       "    <path d=\"M18.56 5.44l.94 2.06.94-2.06 2.06-.94-2.06-.94-.94-2.06-.94 2.06-2.06.94zm-11 1L8.5 8.5l.94-2.06 2.06-.94-2.06-.94L8.5 2.5l-.94 2.06-2.06.94zm10 10l.94 2.06.94-2.06 2.06-.94-2.06-.94-.94-2.06-.94 2.06-2.06.94z\"/><path d=\"M17.41 7.96l-1.37-1.37c-.4-.4-.92-.59-1.43-.59-.52 0-1.04.2-1.43.59L10.3 9.45l-7.72 7.72c-.78.78-.78 2.05 0 2.83L4 21.41c.39.39.9.59 1.41.59.51 0 1.02-.2 1.41-.59l7.78-7.78 2.81-2.81c.8-.78.8-2.07 0-2.86zM5.41 20L4 18.59l7.72-7.72 1.47 1.35L5.41 20z\"/>\n",
       "  </svg>\n",
       "      </button>\n",
       "      \n",
       "  <style>\n",
       "    .colab-df-container {\n",
       "      display:flex;\n",
       "      flex-wrap:wrap;\n",
       "      gap: 12px;\n",
       "    }\n",
       "\n",
       "    .colab-df-convert {\n",
       "      background-color: #E8F0FE;\n",
       "      border: none;\n",
       "      border-radius: 50%;\n",
       "      cursor: pointer;\n",
       "      display: none;\n",
       "      fill: #1967D2;\n",
       "      height: 32px;\n",
       "      padding: 0 0 0 0;\n",
       "      width: 32px;\n",
       "    }\n",
       "\n",
       "    .colab-df-convert:hover {\n",
       "      background-color: #E2EBFA;\n",
       "      box-shadow: 0px 1px 2px rgba(60, 64, 67, 0.3), 0px 1px 3px 1px rgba(60, 64, 67, 0.15);\n",
       "      fill: #174EA6;\n",
       "    }\n",
       "\n",
       "    [theme=dark] .colab-df-convert {\n",
       "      background-color: #3B4455;\n",
       "      fill: #D2E3FC;\n",
       "    }\n",
       "\n",
       "    [theme=dark] .colab-df-convert:hover {\n",
       "      background-color: #434B5C;\n",
       "      box-shadow: 0px 1px 3px 1px rgba(0, 0, 0, 0.15);\n",
       "      filter: drop-shadow(0px 1px 2px rgba(0, 0, 0, 0.3));\n",
       "      fill: #FFFFFF;\n",
       "    }\n",
       "  </style>\n",
       "\n",
       "      <script>\n",
       "        const buttonEl =\n",
       "          document.querySelector('#df-22f85a30-75a0-4afe-875d-6673ffea4ae4 button.colab-df-convert');\n",
       "        buttonEl.style.display =\n",
       "          google.colab.kernel.accessAllowed ? 'block' : 'none';\n",
       "\n",
       "        async function convertToInteractive(key) {\n",
       "          const element = document.querySelector('#df-22f85a30-75a0-4afe-875d-6673ffea4ae4');\n",
       "          const dataTable =\n",
       "            await google.colab.kernel.invokeFunction('convertToInteractive',\n",
       "                                                     [key], {});\n",
       "          if (!dataTable) return;\n",
       "\n",
       "          const docLinkHtml = 'Like what you see? Visit the ' +\n",
       "            '<a target=\"_blank\" href=https://colab.research.google.com/notebooks/data_table.ipynb>data table notebook</a>'\n",
       "            + ' to learn more about interactive tables.';\n",
       "          element.innerHTML = '';\n",
       "          dataTable['output_type'] = 'display_data';\n",
       "          await google.colab.output.renderOutput(dataTable, element);\n",
       "          const docLink = document.createElement('div');\n",
       "          docLink.innerHTML = docLinkHtml;\n",
       "          element.appendChild(docLink);\n",
       "        }\n",
       "      </script>\n",
       "    </div>\n",
       "  </div>\n",
       "  "
      ],
      "text/plain": [
       "  Predicted Labels Actual Labels\n",
       "0            happy       neutral\n",
       "1          disgust       disgust\n",
       "2          neutral       neutral\n",
       "3              sad       neutral\n",
       "4            angry         angry\n",
       "5          neutral       neutral\n",
       "6          disgust           sad\n",
       "7         surprise      surprise\n",
       "8          neutral       disgust\n",
       "9             fear          fear"
      ]
     },
     "execution_count": 46,
     "metadata": {},
     "output_type": "execute_result"
    }
   ],
   "source": [
    "df = pd.DataFrame(columns=['Predicted Labels', 'Actual Labels'])\n",
    "df['Predicted Labels'] = y_pred.flatten()\n",
    "df['Actual Labels'] = y_test.flatten()\n",
    "\n",
    "df.head(10)"
   ]
  }
 ],
 "metadata": {
  "accelerator": "GPU",
  "colab": {
   "collapsed_sections": [],
   "name": "Speech emotion detection model.ipynb",
   "provenance": []
  },
  "kernelspec": {
   "display_name": "Python 3",
   "name": "python3"
  },
  "language_info": {
   "name": "python"
  }
 },
 "nbformat": 4,
 "nbformat_minor": 0
}